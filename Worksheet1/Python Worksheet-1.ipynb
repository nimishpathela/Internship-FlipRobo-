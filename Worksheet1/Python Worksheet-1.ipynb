{
 "cells": [
  {
   "cell_type": "markdown",
   "id": "ecb88c62",
   "metadata": {},
   "source": [
    "# Python Worksheet-1"
   ]
  },
  {
   "cell_type": "markdown",
   "id": "f27daeda",
   "metadata": {},
   "source": [
    "## Q11)"
   ]
  },
  {
   "cell_type": "code",
   "execution_count": 13,
   "id": "df587572",
   "metadata": {},
   "outputs": [
    {
     "name": "stdout",
     "output_type": "stream",
     "text": [
      "Enter a number: -8\n",
      "Factorial of negative numbers are complex\n"
     ]
    }
   ],
   "source": [
    "num = int(input(\"Enter a number: \"))\n",
    "y=1\n",
    "if num < 0:\n",
    "   print(\"Factorial of negative numbers are complex\")\n",
    "elif num == 0:\n",
    "   print(\"The factorial of 0 is 1\")\n",
    "else:\n",
    "   for i in range(1,num+1):\n",
    "       y=y*i\n",
    "   print(\"The factorial of\",num,\"is\",y)"
   ]
  },
  {
   "cell_type": "markdown",
   "id": "9f228af9",
   "metadata": {},
   "source": [
    "## Q12)"
   ]
  },
  {
   "cell_type": "code",
   "execution_count": 7,
   "id": "9e390a09",
   "metadata": {},
   "outputs": [
    {
     "name": "stdout",
     "output_type": "stream",
     "text": [
      "Enter a number: 83\n",
      "83 is a prime number\n"
     ]
    }
   ],
   "source": [
    "num = int(input(\"Enter a number: \"))\n",
    "if num <= 1:\n",
    "    print( num,\"is neither a composite number nor a prime number\")\n",
    "elif num > 1:\n",
    "    for i in range(2, num):\n",
    "        if (num % i) == 0:\n",
    "            print(num,'is a composite number')\n",
    "            break\n",
    "    else:\n",
    "        print(num,'is a prime number')"
   ]
  },
  {
   "cell_type": "markdown",
   "id": "cdebca93",
   "metadata": {},
   "source": [
    "## Q13)\n"
   ]
  },
  {
   "cell_type": "code",
   "execution_count": 11,
   "id": "4a7e015d",
   "metadata": {},
   "outputs": [
    {
     "name": "stdout",
     "output_type": "stream",
     "text": [
      "aabbaabbaa is a palindrome\n"
     ]
    }
   ],
   "source": [
    "def palindrome(x):\n",
    "    if x== (x[::-1]):\n",
    "        print (x,'is a palindrome')\n",
    "    else:\n",
    "        print(x,'is not a palindrome')\n",
    "        \n",
    "palindrome('aabbaabbaa')"
   ]
  },
  {
   "cell_type": "markdown",
   "id": "467fb974",
   "metadata": {},
   "source": [
    "## Q14) "
   ]
  },
  {
   "cell_type": "code",
   "execution_count": 10,
   "id": "74f37372",
   "metadata": {},
   "outputs": [
    {
     "name": "stdout",
     "output_type": "stream",
     "text": [
      "hypotnuse= 5.0\n"
     ]
    }
   ],
   "source": [
    "def pythagoras(height,base,hypotnuse):\n",
    "    if height=='x':\n",
    "        print('height=',(hypotnuse**2-base**2)**0.5)\n",
    "    elif base=='x':\n",
    "        print('base=',(hypotnuse**2-height**2)**0.5)\n",
    "    elif hypotnuse=='x':\n",
    "        print('hypotnuse=',(height**2+base**2)**0.5)\n",
    "\n",
    "pythagoras(3,4,'x')        "
   ]
  },
  {
   "cell_type": "markdown",
   "id": "5c835e7c",
   "metadata": {},
   "source": [
    "## Q15) "
   ]
  },
  {
   "cell_type": "code",
   "execution_count": 17,
   "id": "ef28f70f",
   "metadata": {},
   "outputs": [
    {
     "name": "stdout",
     "output_type": "stream",
     "text": [
      "string value:python\n",
      "p : 1, y : 1, t : 1, h : 1, o : 1, n : 1, "
     ]
    }
   ],
   "source": [
    "string=input('string value:')\n",
    "for i in string:\n",
    "    frequency=string.count(i)\n",
    "    print(str(i),':',frequency, end=', ')"
   ]
  },
  {
   "cell_type": "code",
   "execution_count": null,
   "id": "2b542e0d",
   "metadata": {},
   "outputs": [],
   "source": []
  }
 ],
 "metadata": {
  "kernelspec": {
   "display_name": "Python 3 (ipykernel)",
   "language": "python",
   "name": "python3"
  },
  "language_info": {
   "codemirror_mode": {
    "name": "ipython",
    "version": 3
   },
   "file_extension": ".py",
   "mimetype": "text/x-python",
   "name": "python",
   "nbconvert_exporter": "python",
   "pygments_lexer": "ipython3",
   "version": "3.9.13"
  }
 },
 "nbformat": 4,
 "nbformat_minor": 5
}
