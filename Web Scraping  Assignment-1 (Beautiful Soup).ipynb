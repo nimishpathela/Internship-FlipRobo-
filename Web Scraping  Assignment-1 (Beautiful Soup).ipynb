{
 "cells": [
  {
   "cell_type": "code",
   "execution_count": 231,
   "id": "8927e50f",
   "metadata": {},
   "outputs": [],
   "source": [
    "import requests\n",
    "from bs4 import BeautifulSoup"
   ]
  },
  {
   "cell_type": "code",
   "execution_count": 232,
   "id": "c60d2111",
   "metadata": {},
   "outputs": [
    {
     "data": {
      "text/plain": [
       "<Response [200]>"
      ]
     },
     "execution_count": 232,
     "metadata": {},
     "output_type": "execute_result"
    }
   ],
   "source": [
    "page=requests.get('https://en.wikipedia.org/wiki/Main_Page')\n",
    "page"
   ]
  },
  {
   "cell_type": "code",
   "execution_count": 233,
   "id": "67b0cea3",
   "metadata": {},
   "outputs": [],
   "source": [
    "soup=BeautifulSoup(page.content) "
   ]
  },
  {
   "cell_type": "code",
   "execution_count": 234,
   "id": "ee92e586",
   "metadata": {},
   "outputs": [
    {
     "data": {
      "text/plain": [
       "\"From today's featured article\""
      ]
     },
     "execution_count": 234,
     "metadata": {},
     "output_type": "execute_result"
    }
   ],
   "source": [
    "title=soup.find('h2',class_='mp-h2')\n",
    "title.text"
   ]
  },
  {
   "cell_type": "code",
   "execution_count": 235,
   "id": "30b45ef8",
   "metadata": {},
   "outputs": [
    {
     "data": {
      "text/plain": [
       "[\"From today's featured article\",\n",
       " 'Did you know\\xa0...',\n",
       " 'In the news',\n",
       " 'On this day',\n",
       " \"Today's featured picture\",\n",
       " 'Other areas of Wikipedia',\n",
       " \"Wikipedia's sister projects\",\n",
       " 'Wikipedia languages']"
      ]
     },
     "execution_count": 235,
     "metadata": {},
     "output_type": "execute_result"
    }
   ],
   "source": [
    "titles=[]\n",
    "for i in soup.find_all('h2',class_='mp-h2'):\n",
    "    titles.append(i.text)\n",
    "\n",
    "titles"
   ]
  },
  {
   "cell_type": "code",
   "execution_count": 236,
   "id": "6ae6d3ef",
   "metadata": {},
   "outputs": [
    {
     "data": {
      "text/html": [
       "<div>\n",
       "<style scoped>\n",
       "    .dataframe tbody tr th:only-of-type {\n",
       "        vertical-align: middle;\n",
       "    }\n",
       "\n",
       "    .dataframe tbody tr th {\n",
       "        vertical-align: top;\n",
       "    }\n",
       "\n",
       "    .dataframe thead th {\n",
       "        text-align: right;\n",
       "    }\n",
       "</style>\n",
       "<table border=\"1\" class=\"dataframe\">\n",
       "  <thead>\n",
       "    <tr style=\"text-align: right;\">\n",
       "      <th></th>\n",
       "      <th>Headings</th>\n",
       "    </tr>\n",
       "  </thead>\n",
       "  <tbody>\n",
       "    <tr>\n",
       "      <th>1</th>\n",
       "      <td>From today's featured article</td>\n",
       "    </tr>\n",
       "    <tr>\n",
       "      <th>2</th>\n",
       "      <td>Did you know ...</td>\n",
       "    </tr>\n",
       "    <tr>\n",
       "      <th>3</th>\n",
       "      <td>In the news</td>\n",
       "    </tr>\n",
       "    <tr>\n",
       "      <th>4</th>\n",
       "      <td>On this day</td>\n",
       "    </tr>\n",
       "    <tr>\n",
       "      <th>5</th>\n",
       "      <td>Today's featured picture</td>\n",
       "    </tr>\n",
       "    <tr>\n",
       "      <th>6</th>\n",
       "      <td>Other areas of Wikipedia</td>\n",
       "    </tr>\n",
       "    <tr>\n",
       "      <th>7</th>\n",
       "      <td>Wikipedia's sister projects</td>\n",
       "    </tr>\n",
       "    <tr>\n",
       "      <th>8</th>\n",
       "      <td>Wikipedia languages</td>\n",
       "    </tr>\n",
       "  </tbody>\n",
       "</table>\n",
       "</div>"
      ],
      "text/plain": [
       "                        Headings\n",
       "1  From today's featured article\n",
       "2               Did you know ...\n",
       "3                    In the news\n",
       "4                    On this day\n",
       "5       Today's featured picture\n",
       "6       Other areas of Wikipedia\n",
       "7    Wikipedia's sister projects\n",
       "8            Wikipedia languages"
      ]
     },
     "execution_count": 236,
     "metadata": {},
     "output_type": "execute_result"
    }
   ],
   "source": [
    "import pandas as pd\n",
    "headingsdf=pd.DataFrame(titles,columns=['Headings'],index=[1,2,3,4,5,6,7,8])\n",
    "headingsdf"
   ]
  },
  {
   "cell_type": "code",
   "execution_count": 237,
   "id": "8adc69c1",
   "metadata": {},
   "outputs": [
    {
     "data": {
      "text/plain": [
       "<Response [200]>"
      ]
     },
     "execution_count": 237,
     "metadata": {},
     "output_type": "execute_result"
    }
   ],
   "source": [
    "pmpage=requests.get('https://presidentofindia.nic.in/former-presidents.htm')\n",
    "pmpage"
   ]
  },
  {
   "cell_type": "code",
   "execution_count": 238,
   "id": "faa9d43e",
   "metadata": {},
   "outputs": [],
   "source": [
    "soup=BeautifulSoup(pmpage.content)\n"
   ]
  },
  {
   "cell_type": "code",
   "execution_count": 142,
   "id": "98f50322",
   "metadata": {},
   "outputs": [
    {
     "data": {
      "text/plain": [
       "'Shri Ram Nath Kovind (birth - 1945)'"
      ]
     },
     "execution_count": 142,
     "metadata": {},
     "output_type": "execute_result"
    }
   ],
   "source": [
    "pm1=soup.find('h3')\n",
    "pm1.text"
   ]
  },
  {
   "cell_type": "code",
   "execution_count": 143,
   "id": "0589196d",
   "metadata": {},
   "outputs": [
    {
     "data": {
      "text/plain": [
       "['Shri Ram Nath Kovind (birth - 1945)',\n",
       " 'Shri Pranab Mukherjee (1935-2020)',\n",
       " 'Smt Pratibha Devisingh Patil (birth - 1934)',\n",
       " 'DR. A.P.J. Abdul Kalam (1931-2015)',\n",
       " 'Shri K. R. Narayanan (1920 - 2005)',\n",
       " 'Dr Shankar Dayal Sharma (1918-1999)',\n",
       " 'Shri R Venkataraman (1910-2009)',\n",
       " 'Giani Zail Singh (1916-1994)',\n",
       " 'Shri Neelam Sanjiva Reddy (1913-1996)',\n",
       " 'Dr. Fakhruddin Ali Ahmed (1905-1977)',\n",
       " 'Shri Varahagiri Venkata Giri (1894-1980)',\n",
       " 'Dr. Zakir Husain (1897-1969)',\n",
       " 'Dr. Sarvepalli Radhakrishnan (1888-1975)',\n",
       " 'Dr. Rajendra Prasad (1884-1963) ']"
      ]
     },
     "execution_count": 143,
     "metadata": {},
     "output_type": "execute_result"
    }
   ],
   "source": [
    "pm=[]\n",
    "for i in soup.find_all('h3'):\n",
    "    pm.append(i.text)\n",
    "pm"
   ]
  },
  {
   "cell_type": "code",
   "execution_count": 144,
   "id": "68f86ecd",
   "metadata": {},
   "outputs": [
    {
     "data": {
      "text/plain": [
       "['Term of Office: 25 July, 2017 to 25 July, 2022 ',\n",
       " 'Term of Office: 25 July, 2012 to 25 July, 2017 ',\n",
       " 'Term of Office: 25 July, 2007 to 25 July, 2012 ',\n",
       " 'Term of Office: 25 July, 2002 to 25 July, 2007 ',\n",
       " 'Term of Office: 25 July, 1997 to 25 July, 2002 ',\n",
       " 'Term of Office: 25 July, 1992 to 25 July, 1997 ',\n",
       " 'Term of Office: 25 July, 1987 to 25 July, 1992 ',\n",
       " 'Term of Office: 25 July, 1982 to 25 July, 1987 ',\n",
       " 'Term of Office: 25 July, 1977 to 25 July, 1982 ',\n",
       " 'Term of Office: 24 August, 1974 to 11 February, 1977',\n",
       " 'Term of Office: 3 May, 1969 to 20 July, 1969 and 24 August, 1969 to 24 August, 1974',\n",
       " 'Term of Office: 13 May, 1967 to 3 May, 1969',\n",
       " 'Term of Office: 13 May, 1962 to 13 May, 1967',\n",
       " 'Term of Office: 26 January, 1950 to 13 May, 1962']"
      ]
     },
     "execution_count": 144,
     "metadata": {},
     "output_type": "execute_result"
    }
   ],
   "source": [
    "too=[]\n",
    "for i in soup.find_all('div',class_='presidentListing'):\n",
    "    too.append(i.text.split('\\n')[2])\n",
    "too"
   ]
  },
  {
   "cell_type": "code",
   "execution_count": 145,
   "id": "8a4d6059",
   "metadata": {},
   "outputs": [
    {
     "data": {
      "text/plain": [
       "(14, 14)"
      ]
     },
     "execution_count": 145,
     "metadata": {},
     "output_type": "execute_result"
    }
   ],
   "source": [
    "len(too), len(pm)"
   ]
  },
  {
   "cell_type": "code",
   "execution_count": 146,
   "id": "3b0e6c1a",
   "metadata": {},
   "outputs": [
    {
     "data": {
      "text/html": [
       "<div>\n",
       "<style scoped>\n",
       "    .dataframe tbody tr th:only-of-type {\n",
       "        vertical-align: middle;\n",
       "    }\n",
       "\n",
       "    .dataframe tbody tr th {\n",
       "        vertical-align: top;\n",
       "    }\n",
       "\n",
       "    .dataframe thead th {\n",
       "        text-align: right;\n",
       "    }\n",
       "</style>\n",
       "<table border=\"1\" class=\"dataframe\">\n",
       "  <thead>\n",
       "    <tr style=\"text-align: right;\">\n",
       "      <th></th>\n",
       "      <th>Name</th>\n",
       "      <th>Term Of Office</th>\n",
       "    </tr>\n",
       "  </thead>\n",
       "  <tbody>\n",
       "    <tr>\n",
       "      <th>0</th>\n",
       "      <td>Shri Ram Nath Kovind (birth - 1945)</td>\n",
       "      <td>Term of Office: 25 July, 2017 to 25 July, 2022</td>\n",
       "    </tr>\n",
       "    <tr>\n",
       "      <th>1</th>\n",
       "      <td>Shri Pranab Mukherjee (1935-2020)</td>\n",
       "      <td>Term of Office: 25 July, 2012 to 25 July, 2017</td>\n",
       "    </tr>\n",
       "    <tr>\n",
       "      <th>2</th>\n",
       "      <td>Smt Pratibha Devisingh Patil (birth - 1934)</td>\n",
       "      <td>Term of Office: 25 July, 2007 to 25 July, 2012</td>\n",
       "    </tr>\n",
       "    <tr>\n",
       "      <th>3</th>\n",
       "      <td>DR. A.P.J. Abdul Kalam (1931-2015)</td>\n",
       "      <td>Term of Office: 25 July, 2002 to 25 July, 2007</td>\n",
       "    </tr>\n",
       "    <tr>\n",
       "      <th>4</th>\n",
       "      <td>Shri K. R. Narayanan (1920 - 2005)</td>\n",
       "      <td>Term of Office: 25 July, 1997 to 25 July, 2002</td>\n",
       "    </tr>\n",
       "    <tr>\n",
       "      <th>5</th>\n",
       "      <td>Dr Shankar Dayal Sharma (1918-1999)</td>\n",
       "      <td>Term of Office: 25 July, 1992 to 25 July, 1997</td>\n",
       "    </tr>\n",
       "    <tr>\n",
       "      <th>6</th>\n",
       "      <td>Shri R Venkataraman (1910-2009)</td>\n",
       "      <td>Term of Office: 25 July, 1987 to 25 July, 1992</td>\n",
       "    </tr>\n",
       "    <tr>\n",
       "      <th>7</th>\n",
       "      <td>Giani Zail Singh (1916-1994)</td>\n",
       "      <td>Term of Office: 25 July, 1982 to 25 July, 1987</td>\n",
       "    </tr>\n",
       "    <tr>\n",
       "      <th>8</th>\n",
       "      <td>Shri Neelam Sanjiva Reddy (1913-1996)</td>\n",
       "      <td>Term of Office: 25 July, 1977 to 25 July, 1982</td>\n",
       "    </tr>\n",
       "    <tr>\n",
       "      <th>9</th>\n",
       "      <td>Dr. Fakhruddin Ali Ahmed (1905-1977)</td>\n",
       "      <td>Term of Office: 24 August, 1974 to 11 February...</td>\n",
       "    </tr>\n",
       "    <tr>\n",
       "      <th>10</th>\n",
       "      <td>Shri Varahagiri Venkata Giri (1894-1980)</td>\n",
       "      <td>Term of Office: 3 May, 1969 to 20 July, 1969 a...</td>\n",
       "    </tr>\n",
       "    <tr>\n",
       "      <th>11</th>\n",
       "      <td>Dr. Zakir Husain (1897-1969)</td>\n",
       "      <td>Term of Office: 13 May, 1967 to 3 May, 1969</td>\n",
       "    </tr>\n",
       "    <tr>\n",
       "      <th>12</th>\n",
       "      <td>Dr. Sarvepalli Radhakrishnan (1888-1975)</td>\n",
       "      <td>Term of Office: 13 May, 1962 to 13 May, 1967</td>\n",
       "    </tr>\n",
       "    <tr>\n",
       "      <th>13</th>\n",
       "      <td>Dr. Rajendra Prasad (1884-1963)</td>\n",
       "      <td>Term of Office: 26 January, 1950 to 13 May, 1962</td>\n",
       "    </tr>\n",
       "  </tbody>\n",
       "</table>\n",
       "</div>"
      ],
      "text/plain": [
       "                                           Name  \\\n",
       "0           Shri Ram Nath Kovind (birth - 1945)   \n",
       "1             Shri Pranab Mukherjee (1935-2020)   \n",
       "2   Smt Pratibha Devisingh Patil (birth - 1934)   \n",
       "3            DR. A.P.J. Abdul Kalam (1931-2015)   \n",
       "4            Shri K. R. Narayanan (1920 - 2005)   \n",
       "5           Dr Shankar Dayal Sharma (1918-1999)   \n",
       "6               Shri R Venkataraman (1910-2009)   \n",
       "7                  Giani Zail Singh (1916-1994)   \n",
       "8         Shri Neelam Sanjiva Reddy (1913-1996)   \n",
       "9          Dr. Fakhruddin Ali Ahmed (1905-1977)   \n",
       "10     Shri Varahagiri Venkata Giri (1894-1980)   \n",
       "11                 Dr. Zakir Husain (1897-1969)   \n",
       "12     Dr. Sarvepalli Radhakrishnan (1888-1975)   \n",
       "13             Dr. Rajendra Prasad (1884-1963)    \n",
       "\n",
       "                                       Term Of Office  \n",
       "0     Term of Office: 25 July, 2017 to 25 July, 2022   \n",
       "1     Term of Office: 25 July, 2012 to 25 July, 2017   \n",
       "2     Term of Office: 25 July, 2007 to 25 July, 2012   \n",
       "3     Term of Office: 25 July, 2002 to 25 July, 2007   \n",
       "4     Term of Office: 25 July, 1997 to 25 July, 2002   \n",
       "5     Term of Office: 25 July, 1992 to 25 July, 1997   \n",
       "6     Term of Office: 25 July, 1987 to 25 July, 1992   \n",
       "7     Term of Office: 25 July, 1982 to 25 July, 1987   \n",
       "8     Term of Office: 25 July, 1977 to 25 July, 1982   \n",
       "9   Term of Office: 24 August, 1974 to 11 February...  \n",
       "10  Term of Office: 3 May, 1969 to 20 July, 1969 a...  \n",
       "11        Term of Office: 13 May, 1967 to 3 May, 1969  \n",
       "12       Term of Office: 13 May, 1962 to 13 May, 1967  \n",
       "13   Term of Office: 26 January, 1950 to 13 May, 1962  "
      ]
     },
     "execution_count": 146,
     "metadata": {},
     "output_type": "execute_result"
    }
   ],
   "source": [
    "pm=pd.DataFrame({'Name':pm,'Term Of Office':too})\n",
    "pm"
   ]
  },
  {
   "cell_type": "code",
   "execution_count": 147,
   "id": "9664ed09",
   "metadata": {},
   "outputs": [
    {
     "data": {
      "text/plain": [
       "<Response [200]>"
      ]
     },
     "execution_count": 147,
     "metadata": {},
     "output_type": "execute_result"
    }
   ],
   "source": [
    "odir=requests.get('https://www.icc-cricket.com/rankings/mens/team-rankings/odi')\n",
    "odir"
   ]
  },
  {
   "cell_type": "code",
   "execution_count": 148,
   "id": "376b37ff",
   "metadata": {},
   "outputs": [],
   "source": [
    "odi=BeautifulSoup(odir.content)"
   ]
  },
  {
   "cell_type": "code",
   "execution_count": 149,
   "id": "3e4055aa",
   "metadata": {},
   "outputs": [
    {
     "data": {
      "text/plain": [
       "['Australia']"
      ]
     },
     "execution_count": 149,
     "metadata": {},
     "output_type": "execute_result"
    }
   ],
   "source": [
    "t=odi.find('span',class_='u-hide-phablet')\n",
    "t.text.split('\\n')"
   ]
  },
  {
   "cell_type": "code",
   "execution_count": 150,
   "id": "62134886",
   "metadata": {},
   "outputs": [
    {
     "data": {
      "text/plain": [
       "['Australia',\n",
       " 'Pakistan',\n",
       " 'India',\n",
       " 'New Zealand',\n",
       " 'England',\n",
       " 'South Africa',\n",
       " 'Bangladesh',\n",
       " 'Afghanistan',\n",
       " 'Sri Lanka',\n",
       " 'West Indies']"
      ]
     },
     "execution_count": 150,
     "metadata": {},
     "output_type": "execute_result"
    }
   ],
   "source": [
    "teams=[]\n",
    "for i in odi.find_all('span',class_=\"u-hide-phablet\"):\n",
    "    teams.append(i.text)\n",
    "teams\n",
    "t10=teams[:10]\n",
    "t10"
   ]
  },
  {
   "cell_type": "code",
   "execution_count": 151,
   "id": "c71c7bb9",
   "metadata": {},
   "outputs": [
    {
     "data": {
      "text/plain": [
       "'23'"
      ]
     },
     "execution_count": 151,
     "metadata": {},
     "output_type": "execute_result"
    }
   ],
   "source": [
    "australia=odi.find('td',class_='rankings-block__banner--matches')\n",
    "australia.text"
   ]
  },
  {
   "cell_type": "code",
   "execution_count": 152,
   "id": "fa1e5e66",
   "metadata": {},
   "outputs": [
    {
     "data": {
      "text/plain": [
       "['20', '33', '27', '24', '19', '25', '10', '21', '25']"
      ]
     },
     "execution_count": 152,
     "metadata": {},
     "output_type": "execute_result"
    }
   ],
   "source": [
    "matches=[]\n",
    "for i in odi.find_all('tr',class_='table-body'):\n",
    "    matches.append(i.text.split('\\n')[7])\n",
    "\n",
    "matches9=matches[:9]\n",
    "matches9"
   ]
  },
  {
   "cell_type": "code",
   "execution_count": 153,
   "id": "fec710bd",
   "metadata": {},
   "outputs": [
    {
     "data": {
      "text/plain": [
       "['23', '20', '33', '27', '24', '19', '25', '10', '21', '25']"
      ]
     },
     "execution_count": 153,
     "metadata": {},
     "output_type": "execute_result"
    }
   ],
   "source": [
    "m10=[australia.text]+matches9\n",
    "m10"
   ]
  },
  {
   "cell_type": "code",
   "execution_count": 154,
   "id": "da666a83",
   "metadata": {},
   "outputs": [
    {
     "data": {
      "text/plain": [
       "'2,714'"
      ]
     },
     "execution_count": 154,
     "metadata": {},
     "output_type": "execute_result"
    }
   ],
   "source": [
    "australiap=odi.find('td',class_='rankings-block__banner--points')\n",
    "australiap.text"
   ]
  },
  {
   "cell_type": "code",
   "execution_count": 155,
   "id": "a04a8c3a",
   "metadata": {},
   "outputs": [],
   "source": [
    "points=[]\n",
    "for i in odi.find_all('tr',class_='table-body'):\n",
    "    points.append(i.text.split('\\n')[8])\n",
    "points9=points[:9]"
   ]
  },
  {
   "cell_type": "code",
   "execution_count": 156,
   "id": "fe6c2f21",
   "metadata": {},
   "outputs": [
    {
     "name": "stdout",
     "output_type": "stream",
     "text": [
      "['2,714', '2,316', '3,807', '2,806', '2,426', '1,910', '2,451', '878', '1,682', '1,797']"
     ]
    }
   ],
   "source": [
    "p10=[australiap.text]+points[:9]\n",
    "print(p10,end='')"
   ]
  },
  {
   "cell_type": "code",
   "execution_count": 157,
   "id": "62559b1c",
   "metadata": {},
   "outputs": [
    {
     "data": {
      "text/plain": [
       "'                            118'"
      ]
     },
     "execution_count": 157,
     "metadata": {},
     "output_type": "execute_result"
    }
   ],
   "source": [
    "australiar=odi.find('td',class_='rankings-block__banner--rating')\n",
    "r1=australiar.text.split('\\n')[1]\n",
    "r1"
   ]
  },
  {
   "cell_type": "code",
   "execution_count": 158,
   "id": "9a3053e9",
   "metadata": {},
   "outputs": [
    {
     "name": "stdout",
     "output_type": "stream",
     "text": [
      "['116', '115', '104', '101', '101', '98', '88', '80', '72', '51', '46', '46', '37', '35', '29', '26', '20', '18', '4']"
     ]
    }
   ],
   "source": [
    "ratings=[]\n",
    "for i in odi.find_all('tr',class_='table-body'):\n",
    "    ratings.append(i.text.split('\\n')[9])\n",
    "print(ratings,end='')"
   ]
  },
  {
   "cell_type": "code",
   "execution_count": 159,
   "id": "c212cd85",
   "metadata": {},
   "outputs": [
    {
     "data": {
      "text/plain": [
       "['                            118',\n",
       " '116',\n",
       " '115',\n",
       " '104',\n",
       " '101',\n",
       " '101',\n",
       " '98',\n",
       " '88',\n",
       " '80',\n",
       " '72']"
      ]
     },
     "execution_count": 159,
     "metadata": {},
     "output_type": "execute_result"
    }
   ],
   "source": [
    "r10=[r1]+ratings[:9]\n",
    "r10"
   ]
  },
  {
   "cell_type": "code",
   "execution_count": 160,
   "id": "c6309ba7",
   "metadata": {},
   "outputs": [
    {
     "data": {
      "text/html": [
       "<div>\n",
       "<style scoped>\n",
       "    .dataframe tbody tr th:only-of-type {\n",
       "        vertical-align: middle;\n",
       "    }\n",
       "\n",
       "    .dataframe tbody tr th {\n",
       "        vertical-align: top;\n",
       "    }\n",
       "\n",
       "    .dataframe thead th {\n",
       "        text-align: right;\n",
       "    }\n",
       "</style>\n",
       "<table border=\"1\" class=\"dataframe\">\n",
       "  <thead>\n",
       "    <tr style=\"text-align: right;\">\n",
       "      <th></th>\n",
       "      <th>Teams</th>\n",
       "      <th>Matches</th>\n",
       "      <th>Points</th>\n",
       "      <th>Ratings</th>\n",
       "    </tr>\n",
       "  </thead>\n",
       "  <tbody>\n",
       "    <tr>\n",
       "      <th>0</th>\n",
       "      <td>Australia</td>\n",
       "      <td>23</td>\n",
       "      <td>2,714</td>\n",
       "      <td>118</td>\n",
       "    </tr>\n",
       "    <tr>\n",
       "      <th>1</th>\n",
       "      <td>Pakistan</td>\n",
       "      <td>20</td>\n",
       "      <td>2,316</td>\n",
       "      <td>116</td>\n",
       "    </tr>\n",
       "    <tr>\n",
       "      <th>2</th>\n",
       "      <td>India</td>\n",
       "      <td>33</td>\n",
       "      <td>3,807</td>\n",
       "      <td>115</td>\n",
       "    </tr>\n",
       "    <tr>\n",
       "      <th>3</th>\n",
       "      <td>New Zealand</td>\n",
       "      <td>27</td>\n",
       "      <td>2,806</td>\n",
       "      <td>104</td>\n",
       "    </tr>\n",
       "    <tr>\n",
       "      <th>4</th>\n",
       "      <td>England</td>\n",
       "      <td>24</td>\n",
       "      <td>2,426</td>\n",
       "      <td>101</td>\n",
       "    </tr>\n",
       "    <tr>\n",
       "      <th>5</th>\n",
       "      <td>South Africa</td>\n",
       "      <td>19</td>\n",
       "      <td>1,910</td>\n",
       "      <td>101</td>\n",
       "    </tr>\n",
       "    <tr>\n",
       "      <th>6</th>\n",
       "      <td>Bangladesh</td>\n",
       "      <td>25</td>\n",
       "      <td>2,451</td>\n",
       "      <td>98</td>\n",
       "    </tr>\n",
       "    <tr>\n",
       "      <th>7</th>\n",
       "      <td>Afghanistan</td>\n",
       "      <td>10</td>\n",
       "      <td>878</td>\n",
       "      <td>88</td>\n",
       "    </tr>\n",
       "    <tr>\n",
       "      <th>8</th>\n",
       "      <td>Sri Lanka</td>\n",
       "      <td>21</td>\n",
       "      <td>1,682</td>\n",
       "      <td>80</td>\n",
       "    </tr>\n",
       "    <tr>\n",
       "      <th>9</th>\n",
       "      <td>West Indies</td>\n",
       "      <td>25</td>\n",
       "      <td>1,797</td>\n",
       "      <td>72</td>\n",
       "    </tr>\n",
       "  </tbody>\n",
       "</table>\n",
       "</div>"
      ],
      "text/plain": [
       "          Teams Matches Points                          Ratings\n",
       "0     Australia      23  2,714                              118\n",
       "1      Pakistan      20  2,316                              116\n",
       "2         India      33  3,807                              115\n",
       "3   New Zealand      27  2,806                              104\n",
       "4       England      24  2,426                              101\n",
       "5  South Africa      19  1,910                              101\n",
       "6    Bangladesh      25  2,451                               98\n",
       "7   Afghanistan      10    878                               88\n",
       "8     Sri Lanka      21  1,682                               80\n",
       "9   West Indies      25  1,797                               72"
      ]
     },
     "execution_count": 160,
     "metadata": {},
     "output_type": "execute_result"
    }
   ],
   "source": [
    "ODI_top_10_teams=pd.DataFrame({'Teams':t10, 'Matches':m10, \"Points\":p10,\"Ratings\":r10})\n",
    "ODI_top_10_teams"
   ]
  },
  {
   "cell_type": "code",
   "execution_count": 161,
   "id": "cdaa766d",
   "metadata": {},
   "outputs": [],
   "source": [
    "players=requests.get('https://www.icc-cricket.com/rankings/mens/player-rankings/odi')"
   ]
  },
  {
   "cell_type": "code",
   "execution_count": 162,
   "id": "d888d071",
   "metadata": {},
   "outputs": [],
   "source": [
    "pl=BeautifulSoup(players.content)\n"
   ]
  },
  {
   "cell_type": "code",
   "execution_count": 163,
   "id": "f95be1c6",
   "metadata": {},
   "outputs": [
    {
     "data": {
      "text/plain": [
       "'Babar Azam'"
      ]
     },
     "execution_count": 163,
     "metadata": {},
     "output_type": "execute_result"
    }
   ],
   "source": [
    "pl1=pl.find('div',class_='rankings-block__banner--name')\n",
    "pl1.text"
   ]
  },
  {
   "cell_type": "code",
   "execution_count": 164,
   "id": "fb7247af",
   "metadata": {},
   "outputs": [
    {
     "data": {
      "text/plain": [
       "['Babar Azam',\n",
       " 'Rassie van der Dussen',\n",
       " 'Fakhar Zaman',\n",
       " 'Imam-ul-Haq',\n",
       " 'Shubman Gill',\n",
       " 'David Warner',\n",
       " 'Harry Tector',\n",
       " 'Virat Kohli',\n",
       " 'Quinton de Kock',\n",
       " 'Rohit Sharma']"
      ]
     },
     "execution_count": 164,
     "metadata": {},
     "output_type": "execute_result"
    }
   ],
   "source": [
    "plsa=[]\n",
    "for i in pl.find_all('td',class_='table-body__cell name'):\n",
    "        plsa.append(i.text.split('\\n')[1])\n",
    "pl10=[pl1.text]+plsa[:9]\n",
    "pl10"
   ]
  },
  {
   "cell_type": "code",
   "execution_count": 165,
   "id": "3fbc0458",
   "metadata": {},
   "outputs": [
    {
     "data": {
      "text/plain": [
       "'PAK'"
      ]
     },
     "execution_count": 165,
     "metadata": {},
     "output_type": "execute_result"
    }
   ],
   "source": [
    "pt0=pl.find('div',class_='rankings-block__banner--nationality')\n",
    "pt1=pt0.text.split('\\n')[2]\n",
    "pt1"
   ]
  },
  {
   "cell_type": "code",
   "execution_count": 166,
   "id": "dcafb2c4",
   "metadata": {},
   "outputs": [
    {
     "data": {
      "text/plain": [
       "['PAK', 'SA', 'PAK', 'PAK', 'IND', 'AUS', 'IRE', 'IND', 'SA', 'IND']"
      ]
     },
     "execution_count": 166,
     "metadata": {},
     "output_type": "execute_result"
    }
   ],
   "source": [
    "ptf=[]\n",
    "for i in pl.find_all('span',class_='table-body__logo-text'):\n",
    "    ptf.append(i.text)\n",
    "pt10=[pt1]+ptf[:9]\n",
    "pt10"
   ]
  },
  {
   "cell_type": "code",
   "execution_count": 167,
   "id": "ee6f1c5b",
   "metadata": {},
   "outputs": [
    {
     "data": {
      "text/plain": [
       "['886']"
      ]
     },
     "execution_count": 167,
     "metadata": {},
     "output_type": "execute_result"
    }
   ],
   "source": [
    "pr0=pl.find('div',class_='rankings-block__banner--rating')\n",
    "pr1=pr0.text.split('\\n')\n",
    "pr1"
   ]
  },
  {
   "cell_type": "code",
   "execution_count": 168,
   "id": "0fc25790",
   "metadata": {},
   "outputs": [
    {
     "data": {
      "text/plain": [
       "['886', '777', '755', '745', '738', '726', '722', '719', '718', '707']"
      ]
     },
     "execution_count": 168,
     "metadata": {},
     "output_type": "execute_result"
    }
   ],
   "source": [
    "prf=[]\n",
    "for i in pl.find_all('td',class_='table-body__cell u-text-right rating'):\n",
    "    prf.append(i.text)\n",
    "pr10=pr1+prf[:9]\n",
    "pr10"
   ]
  },
  {
   "cell_type": "code",
   "execution_count": 169,
   "id": "86497f06",
   "metadata": {},
   "outputs": [
    {
     "data": {
      "text/html": [
       "<div>\n",
       "<style scoped>\n",
       "    .dataframe tbody tr th:only-of-type {\n",
       "        vertical-align: middle;\n",
       "    }\n",
       "\n",
       "    .dataframe tbody tr th {\n",
       "        vertical-align: top;\n",
       "    }\n",
       "\n",
       "    .dataframe thead th {\n",
       "        text-align: right;\n",
       "    }\n",
       "</style>\n",
       "<table border=\"1\" class=\"dataframe\">\n",
       "  <thead>\n",
       "    <tr style=\"text-align: right;\">\n",
       "      <th></th>\n",
       "      <th>NAME</th>\n",
       "      <th>TEAM</th>\n",
       "      <th>RATINGS</th>\n",
       "    </tr>\n",
       "  </thead>\n",
       "  <tbody>\n",
       "    <tr>\n",
       "      <th>0</th>\n",
       "      <td>Babar Azam</td>\n",
       "      <td>PAK</td>\n",
       "      <td>886</td>\n",
       "    </tr>\n",
       "    <tr>\n",
       "      <th>1</th>\n",
       "      <td>Rassie van der Dussen</td>\n",
       "      <td>SA</td>\n",
       "      <td>777</td>\n",
       "    </tr>\n",
       "    <tr>\n",
       "      <th>2</th>\n",
       "      <td>Fakhar Zaman</td>\n",
       "      <td>PAK</td>\n",
       "      <td>755</td>\n",
       "    </tr>\n",
       "    <tr>\n",
       "      <th>3</th>\n",
       "      <td>Imam-ul-Haq</td>\n",
       "      <td>PAK</td>\n",
       "      <td>745</td>\n",
       "    </tr>\n",
       "    <tr>\n",
       "      <th>4</th>\n",
       "      <td>Shubman Gill</td>\n",
       "      <td>IND</td>\n",
       "      <td>738</td>\n",
       "    </tr>\n",
       "    <tr>\n",
       "      <th>5</th>\n",
       "      <td>David Warner</td>\n",
       "      <td>AUS</td>\n",
       "      <td>726</td>\n",
       "    </tr>\n",
       "    <tr>\n",
       "      <th>6</th>\n",
       "      <td>Harry Tector</td>\n",
       "      <td>IRE</td>\n",
       "      <td>722</td>\n",
       "    </tr>\n",
       "    <tr>\n",
       "      <th>7</th>\n",
       "      <td>Virat Kohli</td>\n",
       "      <td>IND</td>\n",
       "      <td>719</td>\n",
       "    </tr>\n",
       "    <tr>\n",
       "      <th>8</th>\n",
       "      <td>Quinton de Kock</td>\n",
       "      <td>SA</td>\n",
       "      <td>718</td>\n",
       "    </tr>\n",
       "    <tr>\n",
       "      <th>9</th>\n",
       "      <td>Rohit Sharma</td>\n",
       "      <td>IND</td>\n",
       "      <td>707</td>\n",
       "    </tr>\n",
       "  </tbody>\n",
       "</table>\n",
       "</div>"
      ],
      "text/plain": [
       "                    NAME TEAM RATINGS\n",
       "0             Babar Azam  PAK     886\n",
       "1  Rassie van der Dussen   SA     777\n",
       "2           Fakhar Zaman  PAK     755\n",
       "3            Imam-ul-Haq  PAK     745\n",
       "4           Shubman Gill  IND     738\n",
       "5           David Warner  AUS     726\n",
       "6           Harry Tector  IRE     722\n",
       "7            Virat Kohli  IND     719\n",
       "8        Quinton de Kock   SA     718\n",
       "9           Rohit Sharma  IND     707"
      ]
     },
     "execution_count": 169,
     "metadata": {},
     "output_type": "execute_result"
    }
   ],
   "source": [
    "ODI_top_10_batsmen=pd.DataFrame({'NAME':pl10,'TEAM':pt10,'RATINGS':pr10})\n",
    "ODI_top_10_batsmen"
   ]
  },
  {
   "cell_type": "code",
   "execution_count": 170,
   "id": "912bd80c",
   "metadata": {},
   "outputs": [],
   "source": [
    "bowl=requests.get('https://www.icc-cricket.com/rankings/mens/player-rankings/odi/bowling')"
   ]
  },
  {
   "cell_type": "code",
   "execution_count": 171,
   "id": "6580fe01",
   "metadata": {},
   "outputs": [],
   "source": [
    "b=BeautifulSoup(bowl.content)"
   ]
  },
  {
   "cell_type": "code",
   "execution_count": 172,
   "id": "f950f584",
   "metadata": {},
   "outputs": [
    {
     "data": {
      "text/plain": [
       "'Josh Hazlewood'"
      ]
     },
     "execution_count": 172,
     "metadata": {},
     "output_type": "execute_result"
    }
   ],
   "source": [
    "b1=b.find('div',class_='rankings-block__banner--name-large')\n",
    "b1.text"
   ]
  },
  {
   "cell_type": "code",
   "execution_count": 173,
   "id": "6f1a6a6f",
   "metadata": {},
   "outputs": [
    {
     "data": {
      "text/plain": [
       "['Josh Hazlewood',\n",
       " 'Mohammed Siraj',\n",
       " 'Mitchell Starc',\n",
       " 'Matt Henry',\n",
       " 'Trent Boult',\n",
       " 'Rashid Khan',\n",
       " 'Adam Zampa',\n",
       " 'Mujeeb Ur Rahman',\n",
       " 'Mohammad Nabi',\n",
       " 'Shaheen Afridi']"
      ]
     },
     "execution_count": 173,
     "metadata": {},
     "output_type": "execute_result"
    }
   ],
   "source": [
    "ball=[]\n",
    "for i in b.find_all('td',class_='table-body__cell rankings-table__name name'):\n",
    "    ball.append(i.text.split('\\n')[1])\n",
    "\n",
    "ball10=[b1.text]+ball[:9]\n",
    "ball10"
   ]
  },
  {
   "cell_type": "code",
   "execution_count": 174,
   "id": "2cfcf368",
   "metadata": {},
   "outputs": [],
   "source": [
    "bc0=b.find('div',class_='rankings-block__banner--nationality')\n",
    "bc1=bc0.text.split('\\n')[2]"
   ]
  },
  {
   "cell_type": "code",
   "execution_count": 175,
   "id": "2655f5f8",
   "metadata": {},
   "outputs": [
    {
     "data": {
      "text/plain": [
       "['AUS', 'IND', 'AUS', 'NZ', 'NZ', 'AFG', 'AUS', 'AFG', 'AFG', 'PAK']"
      ]
     },
     "execution_count": 175,
     "metadata": {},
     "output_type": "execute_result"
    }
   ],
   "source": [
    "bc=[]\n",
    "for i in b.find_all('span',class_='table-body__logo-text'):\n",
    "    bc.append(i.text)\n",
    "\n",
    "bc10=[bc1]+bc[:9]\n",
    "bc10"
   ]
  },
  {
   "cell_type": "code",
   "execution_count": 176,
   "id": "8c89bd4f",
   "metadata": {},
   "outputs": [
    {
     "data": {
      "text/plain": [
       "'705'"
      ]
     },
     "execution_count": 176,
     "metadata": {},
     "output_type": "execute_result"
    }
   ],
   "source": [
    "br1=b.find('div',class_='rankings-block__banner--rating')\n",
    "br1.text"
   ]
  },
  {
   "cell_type": "code",
   "execution_count": 177,
   "id": "aef7aaf3",
   "metadata": {},
   "outputs": [
    {
     "data": {
      "text/plain": [
       "['705', '691', '686', '667', '660', '659', '652', '637', '631', '630']"
      ]
     },
     "execution_count": 177,
     "metadata": {},
     "output_type": "execute_result"
    }
   ],
   "source": [
    "br=[]\n",
    "for i in b.find_all('td',class_='table-body__cell rating'):\n",
    "    br.append(i.text)\n",
    "\n",
    "br10=[br1.text]+br[:9]\n",
    "br10"
   ]
  },
  {
   "cell_type": "code",
   "execution_count": 178,
   "id": "5d14f78b",
   "metadata": {},
   "outputs": [
    {
     "data": {
      "text/html": [
       "<div>\n",
       "<style scoped>\n",
       "    .dataframe tbody tr th:only-of-type {\n",
       "        vertical-align: middle;\n",
       "    }\n",
       "\n",
       "    .dataframe tbody tr th {\n",
       "        vertical-align: top;\n",
       "    }\n",
       "\n",
       "    .dataframe thead th {\n",
       "        text-align: right;\n",
       "    }\n",
       "</style>\n",
       "<table border=\"1\" class=\"dataframe\">\n",
       "  <thead>\n",
       "    <tr style=\"text-align: right;\">\n",
       "      <th></th>\n",
       "      <th>NAME</th>\n",
       "      <th>TEAM</th>\n",
       "      <th>RATINGS</th>\n",
       "    </tr>\n",
       "  </thead>\n",
       "  <tbody>\n",
       "    <tr>\n",
       "      <th>0</th>\n",
       "      <td>Josh Hazlewood</td>\n",
       "      <td>AUS</td>\n",
       "      <td>705</td>\n",
       "    </tr>\n",
       "    <tr>\n",
       "      <th>1</th>\n",
       "      <td>Mohammed Siraj</td>\n",
       "      <td>IND</td>\n",
       "      <td>691</td>\n",
       "    </tr>\n",
       "    <tr>\n",
       "      <th>2</th>\n",
       "      <td>Mitchell Starc</td>\n",
       "      <td>AUS</td>\n",
       "      <td>686</td>\n",
       "    </tr>\n",
       "    <tr>\n",
       "      <th>3</th>\n",
       "      <td>Matt Henry</td>\n",
       "      <td>NZ</td>\n",
       "      <td>667</td>\n",
       "    </tr>\n",
       "    <tr>\n",
       "      <th>4</th>\n",
       "      <td>Trent Boult</td>\n",
       "      <td>NZ</td>\n",
       "      <td>660</td>\n",
       "    </tr>\n",
       "    <tr>\n",
       "      <th>5</th>\n",
       "      <td>Rashid Khan</td>\n",
       "      <td>AFG</td>\n",
       "      <td>659</td>\n",
       "    </tr>\n",
       "    <tr>\n",
       "      <th>6</th>\n",
       "      <td>Adam Zampa</td>\n",
       "      <td>AUS</td>\n",
       "      <td>652</td>\n",
       "    </tr>\n",
       "    <tr>\n",
       "      <th>7</th>\n",
       "      <td>Mujeeb Ur Rahman</td>\n",
       "      <td>AFG</td>\n",
       "      <td>637</td>\n",
       "    </tr>\n",
       "    <tr>\n",
       "      <th>8</th>\n",
       "      <td>Mohammad Nabi</td>\n",
       "      <td>AFG</td>\n",
       "      <td>631</td>\n",
       "    </tr>\n",
       "    <tr>\n",
       "      <th>9</th>\n",
       "      <td>Shaheen Afridi</td>\n",
       "      <td>PAK</td>\n",
       "      <td>630</td>\n",
       "    </tr>\n",
       "  </tbody>\n",
       "</table>\n",
       "</div>"
      ],
      "text/plain": [
       "               NAME TEAM RATINGS\n",
       "0    Josh Hazlewood  AUS     705\n",
       "1    Mohammed Siraj  IND     691\n",
       "2    Mitchell Starc  AUS     686\n",
       "3        Matt Henry   NZ     667\n",
       "4       Trent Boult   NZ     660\n",
       "5       Rashid Khan  AFG     659\n",
       "6        Adam Zampa  AUS     652\n",
       "7  Mujeeb Ur Rahman  AFG     637\n",
       "8     Mohammad Nabi  AFG     631\n",
       "9    Shaheen Afridi  PAK     630"
      ]
     },
     "execution_count": 178,
     "metadata": {},
     "output_type": "execute_result"
    }
   ],
   "source": [
    "ODI_top_10_bowlers=pd.DataFrame({'NAME':ball10,\"TEAM\":bc10,\"RATINGS\":br10})\n",
    "ODI_top_10_bowlers"
   ]
  },
  {
   "cell_type": "code",
   "execution_count": 179,
   "id": "f228a8e8",
   "metadata": {},
   "outputs": [
    {
     "data": {
      "text/plain": [
       "<Response [200]>"
      ]
     },
     "execution_count": 179,
     "metadata": {},
     "output_type": "execute_result"
    }
   ],
   "source": [
    "wot=requests.get('https://www.icc-cricket.com/rankings/womens/team-rankings/odi')\n",
    "wot"
   ]
  },
  {
   "cell_type": "code",
   "execution_count": 180,
   "id": "a8997c55",
   "metadata": {},
   "outputs": [],
   "source": [
    "wwt=BeautifulSoup(wot.content) "
   ]
  },
  {
   "cell_type": "code",
   "execution_count": 181,
   "id": "9ab62f00",
   "metadata": {},
   "outputs": [
    {
     "data": {
      "text/plain": [
       "['Australia']"
      ]
     },
     "execution_count": 181,
     "metadata": {},
     "output_type": "execute_result"
    }
   ],
   "source": [
    "wt=wwt.find('span',class_='u-hide-phablet')\n",
    "wt.text.split('\\n')"
   ]
  },
  {
   "cell_type": "code",
   "execution_count": 182,
   "id": "3fd45791",
   "metadata": {},
   "outputs": [
    {
     "data": {
      "text/plain": [
       "['Australia',\n",
       " 'Australia',\n",
       " 'England',\n",
       " 'South Africa',\n",
       " 'India',\n",
       " 'New Zealand',\n",
       " 'West Indies',\n",
       " 'Thailand',\n",
       " 'Bangladesh',\n",
       " 'Pakistan']"
      ]
     },
     "execution_count": 182,
     "metadata": {},
     "output_type": "execute_result"
    }
   ],
   "source": [
    "wteams=[]\n",
    "for i in wwt.find_all('span',class_=\"u-hide-phablet\"):\n",
    "    wteams.append(i.text)\n",
    "\n",
    "wt10=wt.text.split('\\n')+wteams[:9]\n",
    "wt10"
   ]
  },
  {
   "cell_type": "code",
   "execution_count": 183,
   "id": "fb2eba19",
   "metadata": {},
   "outputs": [
    {
     "data": {
      "text/plain": [
       "'21'"
      ]
     },
     "execution_count": 183,
     "metadata": {},
     "output_type": "execute_result"
    }
   ],
   "source": [
    "waustralia=wwt.find('td',class_='rankings-block__banner--matches')\n",
    "waustralia.text"
   ]
  },
  {
   "cell_type": "code",
   "execution_count": 184,
   "id": "f8170270",
   "metadata": {},
   "outputs": [
    {
     "data": {
      "text/plain": [
       "['21', '28', '26', '27', '25', '27', '11', '14', '27', '9']"
      ]
     },
     "execution_count": 184,
     "metadata": {},
     "output_type": "execute_result"
    }
   ],
   "source": [
    "wmatches=[]\n",
    "for i in wwt.find_all('tr',class_='table-body'):\n",
    "    wmatches.append(i.text.split('\\n')[7])\n",
    "\n",
    "wm10=[waustralia.text]+wmatches[:9]\n",
    "wm10"
   ]
  },
  {
   "cell_type": "code",
   "execution_count": 185,
   "id": "49db341f",
   "metadata": {},
   "outputs": [
    {
     "data": {
      "text/plain": [
       "'3,603'"
      ]
     },
     "execution_count": 185,
     "metadata": {},
     "output_type": "execute_result"
    }
   ],
   "source": [
    "waustraliap=wwt.find('td',class_='rankings-block__banner--points')\n",
    "waustraliap.text"
   ]
  },
  {
   "cell_type": "code",
   "execution_count": 186,
   "id": "004402b8",
   "metadata": {},
   "outputs": [
    {
     "name": "stdout",
     "output_type": "stream",
     "text": [
      "['3,603', '3,342', '3,098', '2,820', '2,553', '2,535', '821', '977', '1,678', '479'] "
     ]
    }
   ],
   "source": [
    "wpoints=[]\n",
    "for i in wwt.find_all('tr',class_='table-body'):\n",
    "    wpoints.append(i.text.split('\\n')[8])\n",
    "wp10=[waustraliap.text]+wpoints[:9]\n",
    "print(wp10,end=' ')"
   ]
  },
  {
   "cell_type": "code",
   "execution_count": 187,
   "id": "3d84c770",
   "metadata": {},
   "outputs": [
    {
     "data": {
      "text/plain": [
       "'                            172'"
      ]
     },
     "execution_count": 187,
     "metadata": {},
     "output_type": "execute_result"
    }
   ],
   "source": [
    "waustraliar=wwt.find('td',class_='rankings-block__banner--rating')\n",
    "wr1=waustraliar.text.split('\\n')[1]\n",
    "wr1"
   ]
  },
  {
   "cell_type": "code",
   "execution_count": 188,
   "id": "dc5087b5",
   "metadata": {},
   "outputs": [
    {
     "data": {
      "text/plain": [
       "['                            172',\n",
       " '119',\n",
       " '119',\n",
       " '104',\n",
       " '102',\n",
       " '94',\n",
       " '75',\n",
       " '70',\n",
       " '62',\n",
       " '53']"
      ]
     },
     "execution_count": 188,
     "metadata": {},
     "output_type": "execute_result"
    }
   ],
   "source": [
    "wratings=[]\n",
    "for i in wwt.find_all('tr',class_='table-body'):\n",
    "    wratings.append(i.text.split('\\n')[9])\n",
    "\n",
    "wr10=[wr1]+wratings[:9]\n",
    "wr10"
   ]
  },
  {
   "cell_type": "code",
   "execution_count": 189,
   "id": "5e07b377",
   "metadata": {},
   "outputs": [
    {
     "data": {
      "text/html": [
       "<div>\n",
       "<style scoped>\n",
       "    .dataframe tbody tr th:only-of-type {\n",
       "        vertical-align: middle;\n",
       "    }\n",
       "\n",
       "    .dataframe tbody tr th {\n",
       "        vertical-align: top;\n",
       "    }\n",
       "\n",
       "    .dataframe thead th {\n",
       "        text-align: right;\n",
       "    }\n",
       "</style>\n",
       "<table border=\"1\" class=\"dataframe\">\n",
       "  <thead>\n",
       "    <tr style=\"text-align: right;\">\n",
       "      <th></th>\n",
       "      <th>Teams</th>\n",
       "      <th>Matches</th>\n",
       "      <th>Points</th>\n",
       "      <th>Ratings</th>\n",
       "    </tr>\n",
       "  </thead>\n",
       "  <tbody>\n",
       "    <tr>\n",
       "      <th>0</th>\n",
       "      <td>Australia</td>\n",
       "      <td>21</td>\n",
       "      <td>3,603</td>\n",
       "      <td>172</td>\n",
       "    </tr>\n",
       "    <tr>\n",
       "      <th>1</th>\n",
       "      <td>Australia</td>\n",
       "      <td>28</td>\n",
       "      <td>3,342</td>\n",
       "      <td>119</td>\n",
       "    </tr>\n",
       "    <tr>\n",
       "      <th>2</th>\n",
       "      <td>England</td>\n",
       "      <td>26</td>\n",
       "      <td>3,098</td>\n",
       "      <td>119</td>\n",
       "    </tr>\n",
       "    <tr>\n",
       "      <th>3</th>\n",
       "      <td>South Africa</td>\n",
       "      <td>27</td>\n",
       "      <td>2,820</td>\n",
       "      <td>104</td>\n",
       "    </tr>\n",
       "    <tr>\n",
       "      <th>4</th>\n",
       "      <td>India</td>\n",
       "      <td>25</td>\n",
       "      <td>2,553</td>\n",
       "      <td>102</td>\n",
       "    </tr>\n",
       "    <tr>\n",
       "      <th>5</th>\n",
       "      <td>New Zealand</td>\n",
       "      <td>27</td>\n",
       "      <td>2,535</td>\n",
       "      <td>94</td>\n",
       "    </tr>\n",
       "    <tr>\n",
       "      <th>6</th>\n",
       "      <td>West Indies</td>\n",
       "      <td>11</td>\n",
       "      <td>821</td>\n",
       "      <td>75</td>\n",
       "    </tr>\n",
       "    <tr>\n",
       "      <th>7</th>\n",
       "      <td>Thailand</td>\n",
       "      <td>14</td>\n",
       "      <td>977</td>\n",
       "      <td>70</td>\n",
       "    </tr>\n",
       "    <tr>\n",
       "      <th>8</th>\n",
       "      <td>Bangladesh</td>\n",
       "      <td>27</td>\n",
       "      <td>1,678</td>\n",
       "      <td>62</td>\n",
       "    </tr>\n",
       "    <tr>\n",
       "      <th>9</th>\n",
       "      <td>Pakistan</td>\n",
       "      <td>9</td>\n",
       "      <td>479</td>\n",
       "      <td>53</td>\n",
       "    </tr>\n",
       "  </tbody>\n",
       "</table>\n",
       "</div>"
      ],
      "text/plain": [
       "          Teams Matches Points                          Ratings\n",
       "0     Australia      21  3,603                              172\n",
       "1     Australia      28  3,342                              119\n",
       "2       England      26  3,098                              119\n",
       "3  South Africa      27  2,820                              104\n",
       "4         India      25  2,553                              102\n",
       "5   New Zealand      27  2,535                               94\n",
       "6   West Indies      11    821                               75\n",
       "7      Thailand      14    977                               70\n",
       "8    Bangladesh      27  1,678                               62\n",
       "9      Pakistan       9    479                               53"
      ]
     },
     "execution_count": 189,
     "metadata": {},
     "output_type": "execute_result"
    }
   ],
   "source": [
    "ODI_top_10_teams_women=pd.DataFrame({'Teams':wt10, 'Matches':wm10, \"Points\":wp10,\"Ratings\":wr10})\n",
    "ODI_top_10_teams_women"
   ]
  },
  {
   "cell_type": "code",
   "execution_count": 190,
   "id": "9c160248",
   "metadata": {},
   "outputs": [
    {
     "data": {
      "text/plain": [
       "<Response [200]>"
      ]
     },
     "execution_count": 190,
     "metadata": {},
     "output_type": "execute_result"
    }
   ],
   "source": [
    "wplayers=requests.get('https://www.icc-cricket.com/rankings/womens/player-rankings/odi/batting')\n",
    "wplayers"
   ]
  },
  {
   "cell_type": "code",
   "execution_count": 191,
   "id": "c697e305",
   "metadata": {},
   "outputs": [],
   "source": [
    "wbat=BeautifulSoup(wplayers.content)"
   ]
  },
  {
   "cell_type": "code",
   "execution_count": 192,
   "id": "41127902",
   "metadata": {},
   "outputs": [
    {
     "data": {
      "text/plain": [
       "'Beth Mooney'"
      ]
     },
     "execution_count": 192,
     "metadata": {},
     "output_type": "execute_result"
    }
   ],
   "source": [
    "wpl1=wbat.find('div',class_='rankings-block__banner--name-large')\n",
    "wpl1.text"
   ]
  },
  {
   "cell_type": "code",
   "execution_count": 193,
   "id": "81fb28db",
   "metadata": {},
   "outputs": [],
   "source": [
    "wplsa=[]\n",
    "for i in wbat.find_all('td',class_='table-body__cell rankings-table__name name'):\n",
    "        wplsa.append(i.text.split('\\n')[1])\n",
    "\n",
    "wpl10=[wpl1.text]+wplsa[:9]"
   ]
  },
  {
   "cell_type": "code",
   "execution_count": 194,
   "id": "94f2730a",
   "metadata": {},
   "outputs": [],
   "source": [
    "wpt0=wbat.find('div',class_='rankings-block__banner--nationality')\n",
    "wpt1=wpt0.text.split('\\n')[2]"
   ]
  },
  {
   "cell_type": "code",
   "execution_count": 195,
   "id": "2375d9b6",
   "metadata": {},
   "outputs": [],
   "source": [
    "wptf=[]\n",
    "for i in wbat.find_all('span',class_='table-body__logo-text'):\n",
    "    wptf.append(i.text)\n",
    "wpt10=[wpt1]+wptf[:9]"
   ]
  },
  {
   "cell_type": "code",
   "execution_count": 196,
   "id": "1b92636d",
   "metadata": {},
   "outputs": [
    {
     "data": {
      "text/plain": [
       "['754']"
      ]
     },
     "execution_count": 196,
     "metadata": {},
     "output_type": "execute_result"
    }
   ],
   "source": [
    "wpr0=wbat.find('div',class_='rankings-block__banner--rating')\n",
    "wpr1=wpr0.text.split('\\n')\n",
    "wpr1"
   ]
  },
  {
   "cell_type": "code",
   "execution_count": 197,
   "id": "d793af12",
   "metadata": {},
   "outputs": [
    {
     "data": {
      "text/plain": [
       "['754', '732', '731', '717', '716', '714', '673', '626', '595', '588']"
      ]
     },
     "execution_count": 197,
     "metadata": {},
     "output_type": "execute_result"
    }
   ],
   "source": [
    "wprf=[]\n",
    "for i in wbat.find_all('td',class_='table-body__cell rating'):\n",
    "    wprf.append(i.text)\n",
    "wpr9=wprf[:9]\n",
    "wpr9\n",
    "wpr10=wpr1+wpr9\n",
    "wpr10"
   ]
  },
  {
   "cell_type": "code",
   "execution_count": 198,
   "id": "1683212e",
   "metadata": {},
   "outputs": [
    {
     "data": {
      "text/html": [
       "<div>\n",
       "<style scoped>\n",
       "    .dataframe tbody tr th:only-of-type {\n",
       "        vertical-align: middle;\n",
       "    }\n",
       "\n",
       "    .dataframe tbody tr th {\n",
       "        vertical-align: top;\n",
       "    }\n",
       "\n",
       "    .dataframe thead th {\n",
       "        text-align: right;\n",
       "    }\n",
       "</style>\n",
       "<table border=\"1\" class=\"dataframe\">\n",
       "  <thead>\n",
       "    <tr style=\"text-align: right;\">\n",
       "      <th></th>\n",
       "      <th>NAME</th>\n",
       "      <th>TEAM</th>\n",
       "      <th>RATINGS</th>\n",
       "    </tr>\n",
       "  </thead>\n",
       "  <tbody>\n",
       "    <tr>\n",
       "      <th>0</th>\n",
       "      <td>Beth Mooney</td>\n",
       "      <td>AUS</td>\n",
       "      <td>754</td>\n",
       "    </tr>\n",
       "    <tr>\n",
       "      <th>1</th>\n",
       "      <td>Laura Wolvaardt</td>\n",
       "      <td>SA</td>\n",
       "      <td>732</td>\n",
       "    </tr>\n",
       "    <tr>\n",
       "      <th>2</th>\n",
       "      <td>Natalie Sciver</td>\n",
       "      <td>ENG</td>\n",
       "      <td>731</td>\n",
       "    </tr>\n",
       "    <tr>\n",
       "      <th>3</th>\n",
       "      <td>Meg Lanning</td>\n",
       "      <td>AUS</td>\n",
       "      <td>717</td>\n",
       "    </tr>\n",
       "    <tr>\n",
       "      <th>4</th>\n",
       "      <td>Harmanpreet Kaur</td>\n",
       "      <td>IND</td>\n",
       "      <td>716</td>\n",
       "    </tr>\n",
       "    <tr>\n",
       "      <th>5</th>\n",
       "      <td>Smriti Mandhana</td>\n",
       "      <td>IND</td>\n",
       "      <td>714</td>\n",
       "    </tr>\n",
       "    <tr>\n",
       "      <th>6</th>\n",
       "      <td>Chamari Athapaththu</td>\n",
       "      <td>SL</td>\n",
       "      <td>673</td>\n",
       "    </tr>\n",
       "    <tr>\n",
       "      <th>7</th>\n",
       "      <td>Ellyse Perry</td>\n",
       "      <td>AUS</td>\n",
       "      <td>626</td>\n",
       "    </tr>\n",
       "    <tr>\n",
       "      <th>8</th>\n",
       "      <td>Tammy Beaumont</td>\n",
       "      <td>ENG</td>\n",
       "      <td>595</td>\n",
       "    </tr>\n",
       "    <tr>\n",
       "      <th>9</th>\n",
       "      <td>Stafanie Taylor</td>\n",
       "      <td>WI</td>\n",
       "      <td>588</td>\n",
       "    </tr>\n",
       "  </tbody>\n",
       "</table>\n",
       "</div>"
      ],
      "text/plain": [
       "                  NAME TEAM RATINGS\n",
       "0          Beth Mooney  AUS     754\n",
       "1      Laura Wolvaardt   SA     732\n",
       "2       Natalie Sciver  ENG     731\n",
       "3          Meg Lanning  AUS     717\n",
       "4     Harmanpreet Kaur  IND     716\n",
       "5      Smriti Mandhana  IND     714\n",
       "6  Chamari Athapaththu   SL     673\n",
       "7         Ellyse Perry  AUS     626\n",
       "8       Tammy Beaumont  ENG     595\n",
       "9      Stafanie Taylor   WI     588"
      ]
     },
     "execution_count": 198,
     "metadata": {},
     "output_type": "execute_result"
    }
   ],
   "source": [
    "ODI_top_10_Wbatsmen=pd.DataFrame({'NAME':wpl10,'TEAM':wpt10,'RATINGS':wpr10})\n",
    "ODI_top_10_Wbatsmen"
   ]
  },
  {
   "cell_type": "code",
   "execution_count": 199,
   "id": "d03c79a7",
   "metadata": {},
   "outputs": [
    {
     "data": {
      "text/plain": [
       "<Response [200]>"
      ]
     },
     "execution_count": 199,
     "metadata": {},
     "output_type": "execute_result"
    }
   ],
   "source": [
    "wall0=requests.get('https://www.icc-cricket.com/rankings/womens/player-rankings/odi/all-rounder')\n",
    "wall0"
   ]
  },
  {
   "cell_type": "code",
   "execution_count": 200,
   "id": "df05f14b",
   "metadata": {},
   "outputs": [],
   "source": [
    "wall=BeautifulSoup(wall0.content)"
   ]
  },
  {
   "cell_type": "code",
   "execution_count": 201,
   "id": "24561bef",
   "metadata": {},
   "outputs": [
    {
     "data": {
      "text/plain": [
       "'Hayley Matthews'"
      ]
     },
     "execution_count": 201,
     "metadata": {},
     "output_type": "execute_result"
    }
   ],
   "source": [
    "wa1=wall.find('div',class_='rankings-block__banner--name-large')\n",
    "wa1.text"
   ]
  },
  {
   "cell_type": "code",
   "execution_count": 202,
   "id": "9230d803",
   "metadata": {},
   "outputs": [
    {
     "data": {
      "text/plain": [
       "['Hayley Matthews',\n",
       " 'Natalie Sciver',\n",
       " 'Ellyse Perry',\n",
       " 'Marizanne Kapp',\n",
       " 'Amelia Kerr',\n",
       " 'Deepti Sharma',\n",
       " 'Ashleigh Gardner',\n",
       " 'Jess Jonassen',\n",
       " 'Nida Dar',\n",
       " 'Sophie Ecclestone']"
      ]
     },
     "execution_count": 202,
     "metadata": {},
     "output_type": "execute_result"
    }
   ],
   "source": [
    "wa=[]\n",
    "for i in wall.find_all('td',class_='table-body__cell rankings-table__name name'):\n",
    "    wa.append(i.text.split('\\n')[1])\n",
    "wa9=wa[:9]\n",
    "wa9\n",
    "wa10=[wa1.text]+wa9\n",
    "wa10"
   ]
  },
  {
   "cell_type": "code",
   "execution_count": 203,
   "id": "e2547937",
   "metadata": {},
   "outputs": [
    {
     "data": {
      "text/plain": [
       "'WI'"
      ]
     },
     "execution_count": 203,
     "metadata": {},
     "output_type": "execute_result"
    }
   ],
   "source": [
    "wac0=wall.find('div',class_='rankings-block__banner--nationality')\n",
    "wac1=wac0.text.split('\\n')[2]\n",
    "wac1"
   ]
  },
  {
   "cell_type": "code",
   "execution_count": 204,
   "id": "b7ffcd3f",
   "metadata": {},
   "outputs": [
    {
     "data": {
      "text/plain": [
       "['WI', 'ENG', 'AUS', 'SA', 'NZ', 'IND', 'AUS', 'AUS', 'PAK', 'ENG']"
      ]
     },
     "execution_count": 204,
     "metadata": {},
     "output_type": "execute_result"
    }
   ],
   "source": [
    "wac=[]\n",
    "for i in wall.find_all('span',class_='table-body__logo-text'):\n",
    "    wac.append(i.text)\n",
    "wac10=[wac1]+wac[:9]\n",
    "wac10"
   ]
  },
  {
   "cell_type": "code",
   "execution_count": 205,
   "id": "3c45b768",
   "metadata": {},
   "outputs": [
    {
     "data": {
      "text/plain": [
       "'373'"
      ]
     },
     "execution_count": 205,
     "metadata": {},
     "output_type": "execute_result"
    }
   ],
   "source": [
    "war1=wall.find('div',class_='rankings-block__banner--rating')\n",
    "war1.text"
   ]
  },
  {
   "cell_type": "code",
   "execution_count": 206,
   "id": "55f17cd7",
   "metadata": {},
   "outputs": [
    {
     "data": {
      "text/plain": [
       "['373', '371', '366', '349', '336', '322', '292', '250', '232', '205']"
      ]
     },
     "execution_count": 206,
     "metadata": {},
     "output_type": "execute_result"
    }
   ],
   "source": [
    "war=[]\n",
    "for i in wall.find_all('td',class_='table-body__cell rating'):\n",
    "    war.append(i.text)\n",
    "war10=[war1.text]+war[:9]\n",
    "war10"
   ]
  },
  {
   "cell_type": "code",
   "execution_count": 207,
   "id": "4fd4785d",
   "metadata": {},
   "outputs": [
    {
     "data": {
      "text/html": [
       "<div>\n",
       "<style scoped>\n",
       "    .dataframe tbody tr th:only-of-type {\n",
       "        vertical-align: middle;\n",
       "    }\n",
       "\n",
       "    .dataframe tbody tr th {\n",
       "        vertical-align: top;\n",
       "    }\n",
       "\n",
       "    .dataframe thead th {\n",
       "        text-align: right;\n",
       "    }\n",
       "</style>\n",
       "<table border=\"1\" class=\"dataframe\">\n",
       "  <thead>\n",
       "    <tr style=\"text-align: right;\">\n",
       "      <th></th>\n",
       "      <th>NAME</th>\n",
       "      <th>TEAM</th>\n",
       "      <th>RATINGS</th>\n",
       "    </tr>\n",
       "  </thead>\n",
       "  <tbody>\n",
       "    <tr>\n",
       "      <th>0</th>\n",
       "      <td>Hayley Matthews</td>\n",
       "      <td>WI</td>\n",
       "      <td>373</td>\n",
       "    </tr>\n",
       "    <tr>\n",
       "      <th>1</th>\n",
       "      <td>Natalie Sciver</td>\n",
       "      <td>ENG</td>\n",
       "      <td>371</td>\n",
       "    </tr>\n",
       "    <tr>\n",
       "      <th>2</th>\n",
       "      <td>Ellyse Perry</td>\n",
       "      <td>AUS</td>\n",
       "      <td>366</td>\n",
       "    </tr>\n",
       "    <tr>\n",
       "      <th>3</th>\n",
       "      <td>Marizanne Kapp</td>\n",
       "      <td>SA</td>\n",
       "      <td>349</td>\n",
       "    </tr>\n",
       "    <tr>\n",
       "      <th>4</th>\n",
       "      <td>Amelia Kerr</td>\n",
       "      <td>NZ</td>\n",
       "      <td>336</td>\n",
       "    </tr>\n",
       "    <tr>\n",
       "      <th>5</th>\n",
       "      <td>Deepti Sharma</td>\n",
       "      <td>IND</td>\n",
       "      <td>322</td>\n",
       "    </tr>\n",
       "    <tr>\n",
       "      <th>6</th>\n",
       "      <td>Ashleigh Gardner</td>\n",
       "      <td>AUS</td>\n",
       "      <td>292</td>\n",
       "    </tr>\n",
       "    <tr>\n",
       "      <th>7</th>\n",
       "      <td>Jess Jonassen</td>\n",
       "      <td>AUS</td>\n",
       "      <td>250</td>\n",
       "    </tr>\n",
       "    <tr>\n",
       "      <th>8</th>\n",
       "      <td>Nida Dar</td>\n",
       "      <td>PAK</td>\n",
       "      <td>232</td>\n",
       "    </tr>\n",
       "    <tr>\n",
       "      <th>9</th>\n",
       "      <td>Sophie Ecclestone</td>\n",
       "      <td>ENG</td>\n",
       "      <td>205</td>\n",
       "    </tr>\n",
       "  </tbody>\n",
       "</table>\n",
       "</div>"
      ],
      "text/plain": [
       "                NAME TEAM RATINGS\n",
       "0    Hayley Matthews   WI     373\n",
       "1     Natalie Sciver  ENG     371\n",
       "2       Ellyse Perry  AUS     366\n",
       "3     Marizanne Kapp   SA     349\n",
       "4        Amelia Kerr   NZ     336\n",
       "5      Deepti Sharma  IND     322\n",
       "6   Ashleigh Gardner  AUS     292\n",
       "7      Jess Jonassen  AUS     250\n",
       "8           Nida Dar  PAK     232\n",
       "9  Sophie Ecclestone  ENG     205"
      ]
     },
     "execution_count": 207,
     "metadata": {},
     "output_type": "execute_result"
    }
   ],
   "source": [
    "ODI_top_10_Women_AllRounder=pd.DataFrame({'NAME':wa10,\"TEAM\":wac10,\"RATINGS\":war10})\n",
    "ODI_top_10_Women_AllRounder"
   ]
  },
  {
   "cell_type": "code",
   "execution_count": 208,
   "id": "13d8a9bf",
   "metadata": {},
   "outputs": [
    {
     "data": {
      "text/plain": [
       "<Response [200]>"
      ]
     },
     "execution_count": 208,
     "metadata": {},
     "output_type": "execute_result"
    }
   ],
   "source": [
    "cnbcr=requests.get('https://www.cnbc.com/world/?region=world')\n",
    "cnbcr"
   ]
  },
  {
   "cell_type": "code",
   "execution_count": 209,
   "id": "4c9e8d9a",
   "metadata": {},
   "outputs": [],
   "source": [
    "cnbc=BeautifulSoup(cnbcr.content)"
   ]
  },
  {
   "cell_type": "code",
   "execution_count": 210,
   "id": "82ad892c",
   "metadata": {},
   "outputs": [
    {
     "name": "stdout",
     "output_type": "stream",
     "text": [
      "[\"A.I. poses existential risk of people being 'harmed or killed,' ex-Google CEO Eric Schmidt says\", \"Jim Cramer's top 10 things to watch in the stock market Wednesday\", 'Financial coach: Why an HSA is at least 17% better than a 401(k)', \"Wednesday's top analyst calls: Tesla, Amazon, Alphabet, Netflix, Apple & more\", 'Citigroup to spin off its Mexico business after efforts to sell unit collapse', \"Airbnb CEO: Here's 'the best piece of advice I ever got'\", 'Meta has started its latest round of layoffs, focusing on business groups', 'SoftBank hits back at S&P after it cuts credit rating further into junk', 'Abercrombie & Fitch surges 18% after reporting surprise profit', 'Bank of America boosts price target on Eli Lilly to $500 on obesity drug demand', \"Stocks making the biggest moves premarket: Moderna, Kohl's, Intuit & more\", 'Without a hint of irony, Putin rages against countries that meddle in other states', 'Top EU regulator defends mega $1.3 billion privacy fine on Meta', 'Psychology expert: 7 toxic signs of a passive-aggressive co-worker—and how to cope', \"First Astranis internet satellite working ‘perfectly' over Alaska\", 'Chinese Tesla rival shares dive 11% after it forecasts a plunge in car deliveries', \"The U.S. isn't the only country with a debt ceiling. Here's how Denmark avoids the drama\", 'Password sharing crackdown can lead to big gains for Netflix, Oppenheimer says', 'France bans short-haul flights as it looks to cut transport emissions', \"Kohl's shares spike as retailer reports a surprise profit\", 'Mortgage demand drops again as rates cross back over 7%', 'Buy this beat-down regional bank with capital strength, Jefferies says', \"Goldman Sachs backs Japan's biggest taxi app with $1 billion valuation\", '5 things to know before the stock market opens Wednesday', 'Jefferies says this housing cycle bellwether can rally more than 20%', 'The AI-driven rally in big tech stocks is forcing us to consider some trimming', \"Greek stocks have climbed 40% over the last year — as the country shakes off 'problem child of Europe' label\", 'Treasury yields steady as investors watch debt ceiling talks, economic reports', \"Europe is producing more startup 'mafias' than ever despite tech rout\", \"Russia says it'll react 'extremely harshly' to any further border attacks; Kyiv fights back in Bakhmut\"]"
     ]
    }
   ],
   "source": [
    "head=[]\n",
    "for i in cnbc.find_all('a',class_='LatestNews-headline'):\n",
    "    head.append(i.text)\n",
    "print(head,end='')"
   ]
  },
  {
   "cell_type": "code",
   "execution_count": 211,
   "id": "71ff0077",
   "metadata": {},
   "outputs": [
    {
     "name": "stdout",
     "output_type": "stream",
     "text": [
      "['37 Min Ago', '46 Min Ago', '58 Min Ago', '1 Hour Ago', '1 Hour Ago', '1 Hour Ago', '1 Hour Ago', '2 Hours Ago', '2 Hours Ago', '2 Hours Ago', '2 Hours Ago', '2 Hours Ago', '2 Hours Ago', '2 Hours Ago', '2 Hours Ago', '2 Hours Ago', '2 Hours Ago', '2 Hours Ago', '2 Hours Ago', '3 Hours Ago', '3 Hours Ago', '3 Hours Ago', '4 Hours Ago', '4 Hours Ago', '4 Hours Ago', '4 Hours Ago', '5 Hours Ago', '6 Hours Ago', '6 Hours Ago', '7 Hours Ago']"
     ]
    }
   ],
   "source": [
    "time=[]\n",
    "for i in cnbc.find_all('time',class_='LatestNews-timestamp'):\n",
    "    time.append(i.text)\n",
    "print(time,end='')"
   ]
  },
  {
   "cell_type": "code",
   "execution_count": 212,
   "id": "29979414",
   "metadata": {},
   "outputs": [
    {
     "name": "stdout",
     "output_type": "stream",
     "text": [
      "['https://www.cnbc.com/2023/05/24/ai-poses-existential-risk-former-google-ceo-eric-schmidt-says.html', 'https://www.cnbc.com/2023/05/24/jim-cramers-top-10-things-to-watch-in-the-stock-market-wednesday.html', 'https://www.cnbc.com/2023/05/24/financial-coach-why-an-hsa-is-at-least-17percent-better-than-a-401k.html', 'https://www.cnbc.com/2023/05/24/wednesdays-biggest-wall-street-analyst-calls.html', 'https://www.cnbc.com/2023/05/24/citigroup-to-spin-off-its-mexico-business-through-ipo.html', 'https://www.cnbc.com/2023/05/24/airbnb-ceo-brian-chesky-heres-the-best-piece-of-advice-i-ever-got.html', 'https://www.cnbc.com/2023/05/24/meta-layoffs-latest-round-of-cuts-focuses-on-business-groups.html', 'https://www.cnbc.com/2023/05/24/softbank-hits-back-at-sp-after-it-cuts-credit-rating-further-into-junk.html', 'https://www.cnbc.com/2023/05/24/abercrombie-fitch-anf-q1-earnings-report-2023.html', 'https://www.cnbc.com/2023/05/24/bank-of-america-boosts-price-target-on-eli-lilly-to-500-on-obesity-drug-demand.html', 'https://www.cnbc.com/2023/05/24/stocks-making-the-biggest-moves-premarket-moderna-kohls-intuit-analog-devices-more.html', 'https://www.cnbc.com/2023/05/24/having-invaded-ukraine-putin-rages-against-countries-that-meddle.html', 'https://www.cnbc.com/2023/05/24/irish-data-regulator-defends-1point3-billion-meta-fine.html', 'https://www.cnbc.com/2023/05/24/psychology-expert-shares-toxic-signs-of-passive-aggressive-co-worker-and-how-to-cope.html', 'https://www.cnbc.com/2023/05/24/astranis-first-internet-satellite-over-alaska-working-perfectly.html', 'https://www.cnbc.com/2023/05/24/xpeng-xpev-q1-2023-earnings-report-deliveries-forecast-to-fall.html', 'https://www.cnbc.com/2023/05/24/the-us-isnt-the-only-country-with-a-debt-ceiling-heres-how-denmark-avoids-the-drama.html', 'https://www.cnbc.com/2023/05/24/password-sharing-crackdown-in-us-can-lead-to-big-gains-for-netflix-oppenheimer-says.html', 'https://www.cnbc.com/2023/05/24/france-bans-domestic-short-haul-flights.html', 'https://www.cnbc.com/2023/05/24/kohls-kss-earnings-q12023.html', 'https://www.cnbc.com/2023/05/24/mortgage-demand-drops-again-as-rates-cross-back-over-7percent.html', 'https://www.cnbc.com/2023/05/24/buy-this-beat-down-regional-bank-with-capital-strength-jefferies-says.html', 'https://www.cnbc.com/2023/05/24/goldman-sachs-backs-japans-go-inc-taxi-app-valuing-it-at-1-billion.html', 'https://www.cnbc.com/2023/05/24/5-things-to-know-before-the-stock-market-opens-wednesday-may-24.html', 'https://www.cnbc.com/2023/05/24/jefferies-says-this-housing-cycle-bellwether-can-rally-more-than-20percent.html', 'https://www.cnbc.com/2023/05/24/the-ai-driven-rally-in-big-tech-stocks-is-forcing-us-to-consider-some-trimming.html', 'https://www.cnbc.com/2023/05/24/greek-stocks-have-soared-as-it-shakes-off-problem-child-of-europe-tag.html', 'https://www.cnbc.com/2023/05/24/us-treasurys-investors-watch-debt-ceiling-talks-economic-reports.html', 'https://www.cnbc.com/2023/05/24/europe-and-israel-produce-more-startup-mafias-despite-tech-rout-accel.html', 'https://www.cnbc.com/2023/05/24/ukraine-war-live-updates-latest-news-on-russia-and-the-war-in-ukraine.html']"
     ]
    }
   ],
   "source": [
    "links=[]\n",
    "for i in cnbc.find_all('a',class_='LatestNews-headline'):\n",
    "    links.append(i.get('href'))\n",
    "print(links,end='')"
   ]
  },
  {
   "cell_type": "code",
   "execution_count": 213,
   "id": "9dc715e7",
   "metadata": {},
   "outputs": [
    {
     "data": {
      "text/plain": [
       "(30, 30, 30)"
      ]
     },
     "execution_count": 213,
     "metadata": {},
     "output_type": "execute_result"
    }
   ],
   "source": [
    "len(time),len(head),len(links)"
   ]
  },
  {
   "cell_type": "code",
   "execution_count": 214,
   "id": "a9acb080",
   "metadata": {},
   "outputs": [
    {
     "data": {
      "text/html": [
       "<div>\n",
       "<style scoped>\n",
       "    .dataframe tbody tr th:only-of-type {\n",
       "        vertical-align: middle;\n",
       "    }\n",
       "\n",
       "    .dataframe tbody tr th {\n",
       "        vertical-align: top;\n",
       "    }\n",
       "\n",
       "    .dataframe thead th {\n",
       "        text-align: right;\n",
       "    }\n",
       "</style>\n",
       "<table border=\"1\" class=\"dataframe\">\n",
       "  <thead>\n",
       "    <tr style=\"text-align: right;\">\n",
       "      <th></th>\n",
       "      <th>Headings</th>\n",
       "      <th>Time</th>\n",
       "      <th>Links</th>\n",
       "    </tr>\n",
       "  </thead>\n",
       "  <tbody>\n",
       "    <tr>\n",
       "      <th>0</th>\n",
       "      <td>A.I. poses existential risk of people being 'h...</td>\n",
       "      <td>37 Min Ago</td>\n",
       "      <td>https://www.cnbc.com/2023/05/24/ai-poses-exist...</td>\n",
       "    </tr>\n",
       "    <tr>\n",
       "      <th>1</th>\n",
       "      <td>Jim Cramer's top 10 things to watch in the sto...</td>\n",
       "      <td>46 Min Ago</td>\n",
       "      <td>https://www.cnbc.com/2023/05/24/jim-cramers-to...</td>\n",
       "    </tr>\n",
       "    <tr>\n",
       "      <th>2</th>\n",
       "      <td>Financial coach: Why an HSA is at least 17% be...</td>\n",
       "      <td>58 Min Ago</td>\n",
       "      <td>https://www.cnbc.com/2023/05/24/financial-coac...</td>\n",
       "    </tr>\n",
       "    <tr>\n",
       "      <th>3</th>\n",
       "      <td>Wednesday's top analyst calls: Tesla, Amazon, ...</td>\n",
       "      <td>1 Hour Ago</td>\n",
       "      <td>https://www.cnbc.com/2023/05/24/wednesdays-big...</td>\n",
       "    </tr>\n",
       "    <tr>\n",
       "      <th>4</th>\n",
       "      <td>Citigroup to spin off its Mexico business afte...</td>\n",
       "      <td>1 Hour Ago</td>\n",
       "      <td>https://www.cnbc.com/2023/05/24/citigroup-to-s...</td>\n",
       "    </tr>\n",
       "    <tr>\n",
       "      <th>5</th>\n",
       "      <td>Airbnb CEO: Here's 'the best piece of advice I...</td>\n",
       "      <td>1 Hour Ago</td>\n",
       "      <td>https://www.cnbc.com/2023/05/24/airbnb-ceo-bri...</td>\n",
       "    </tr>\n",
       "    <tr>\n",
       "      <th>6</th>\n",
       "      <td>Meta has started its latest round of layoffs, ...</td>\n",
       "      <td>1 Hour Ago</td>\n",
       "      <td>https://www.cnbc.com/2023/05/24/meta-layoffs-l...</td>\n",
       "    </tr>\n",
       "    <tr>\n",
       "      <th>7</th>\n",
       "      <td>SoftBank hits back at S&amp;P after it cuts credit...</td>\n",
       "      <td>2 Hours Ago</td>\n",
       "      <td>https://www.cnbc.com/2023/05/24/softbank-hits-...</td>\n",
       "    </tr>\n",
       "    <tr>\n",
       "      <th>8</th>\n",
       "      <td>Abercrombie &amp; Fitch surges 18% after reporting...</td>\n",
       "      <td>2 Hours Ago</td>\n",
       "      <td>https://www.cnbc.com/2023/05/24/abercrombie-fi...</td>\n",
       "    </tr>\n",
       "    <tr>\n",
       "      <th>9</th>\n",
       "      <td>Bank of America boosts price target on Eli Lil...</td>\n",
       "      <td>2 Hours Ago</td>\n",
       "      <td>https://www.cnbc.com/2023/05/24/bank-of-americ...</td>\n",
       "    </tr>\n",
       "    <tr>\n",
       "      <th>10</th>\n",
       "      <td>Stocks making the biggest moves premarket: Mod...</td>\n",
       "      <td>2 Hours Ago</td>\n",
       "      <td>https://www.cnbc.com/2023/05/24/stocks-making-...</td>\n",
       "    </tr>\n",
       "    <tr>\n",
       "      <th>11</th>\n",
       "      <td>Without a hint of irony, Putin rages against c...</td>\n",
       "      <td>2 Hours Ago</td>\n",
       "      <td>https://www.cnbc.com/2023/05/24/having-invaded...</td>\n",
       "    </tr>\n",
       "    <tr>\n",
       "      <th>12</th>\n",
       "      <td>Top EU regulator defends mega $1.3 billion pri...</td>\n",
       "      <td>2 Hours Ago</td>\n",
       "      <td>https://www.cnbc.com/2023/05/24/irish-data-reg...</td>\n",
       "    </tr>\n",
       "    <tr>\n",
       "      <th>13</th>\n",
       "      <td>Psychology expert: 7 toxic signs of a passive-...</td>\n",
       "      <td>2 Hours Ago</td>\n",
       "      <td>https://www.cnbc.com/2023/05/24/psychology-exp...</td>\n",
       "    </tr>\n",
       "    <tr>\n",
       "      <th>14</th>\n",
       "      <td>First Astranis internet satellite working ‘per...</td>\n",
       "      <td>2 Hours Ago</td>\n",
       "      <td>https://www.cnbc.com/2023/05/24/astranis-first...</td>\n",
       "    </tr>\n",
       "    <tr>\n",
       "      <th>15</th>\n",
       "      <td>Chinese Tesla rival shares dive 11% after it f...</td>\n",
       "      <td>2 Hours Ago</td>\n",
       "      <td>https://www.cnbc.com/2023/05/24/xpeng-xpev-q1-...</td>\n",
       "    </tr>\n",
       "    <tr>\n",
       "      <th>16</th>\n",
       "      <td>The U.S. isn't the only country with a debt ce...</td>\n",
       "      <td>2 Hours Ago</td>\n",
       "      <td>https://www.cnbc.com/2023/05/24/the-us-isnt-th...</td>\n",
       "    </tr>\n",
       "    <tr>\n",
       "      <th>17</th>\n",
       "      <td>Password sharing crackdown can lead to big gai...</td>\n",
       "      <td>2 Hours Ago</td>\n",
       "      <td>https://www.cnbc.com/2023/05/24/password-shari...</td>\n",
       "    </tr>\n",
       "    <tr>\n",
       "      <th>18</th>\n",
       "      <td>France bans short-haul flights as it looks to ...</td>\n",
       "      <td>2 Hours Ago</td>\n",
       "      <td>https://www.cnbc.com/2023/05/24/france-bans-do...</td>\n",
       "    </tr>\n",
       "    <tr>\n",
       "      <th>19</th>\n",
       "      <td>Kohl's shares spike as retailer reports a surp...</td>\n",
       "      <td>3 Hours Ago</td>\n",
       "      <td>https://www.cnbc.com/2023/05/24/kohls-kss-earn...</td>\n",
       "    </tr>\n",
       "    <tr>\n",
       "      <th>20</th>\n",
       "      <td>Mortgage demand drops again as rates cross bac...</td>\n",
       "      <td>3 Hours Ago</td>\n",
       "      <td>https://www.cnbc.com/2023/05/24/mortgage-deman...</td>\n",
       "    </tr>\n",
       "    <tr>\n",
       "      <th>21</th>\n",
       "      <td>Buy this beat-down regional bank with capital ...</td>\n",
       "      <td>3 Hours Ago</td>\n",
       "      <td>https://www.cnbc.com/2023/05/24/buy-this-beat-...</td>\n",
       "    </tr>\n",
       "    <tr>\n",
       "      <th>22</th>\n",
       "      <td>Goldman Sachs backs Japan's biggest taxi app w...</td>\n",
       "      <td>4 Hours Ago</td>\n",
       "      <td>https://www.cnbc.com/2023/05/24/goldman-sachs-...</td>\n",
       "    </tr>\n",
       "    <tr>\n",
       "      <th>23</th>\n",
       "      <td>5 things to know before the stock market opens...</td>\n",
       "      <td>4 Hours Ago</td>\n",
       "      <td>https://www.cnbc.com/2023/05/24/5-things-to-kn...</td>\n",
       "    </tr>\n",
       "    <tr>\n",
       "      <th>24</th>\n",
       "      <td>Jefferies says this housing cycle bellwether c...</td>\n",
       "      <td>4 Hours Ago</td>\n",
       "      <td>https://www.cnbc.com/2023/05/24/jefferies-says...</td>\n",
       "    </tr>\n",
       "    <tr>\n",
       "      <th>25</th>\n",
       "      <td>The AI-driven rally in big tech stocks is forc...</td>\n",
       "      <td>4 Hours Ago</td>\n",
       "      <td>https://www.cnbc.com/2023/05/24/the-ai-driven-...</td>\n",
       "    </tr>\n",
       "    <tr>\n",
       "      <th>26</th>\n",
       "      <td>Greek stocks have climbed 40% over the last ye...</td>\n",
       "      <td>5 Hours Ago</td>\n",
       "      <td>https://www.cnbc.com/2023/05/24/greek-stocks-h...</td>\n",
       "    </tr>\n",
       "    <tr>\n",
       "      <th>27</th>\n",
       "      <td>Treasury yields steady as investors watch debt...</td>\n",
       "      <td>6 Hours Ago</td>\n",
       "      <td>https://www.cnbc.com/2023/05/24/us-treasurys-i...</td>\n",
       "    </tr>\n",
       "    <tr>\n",
       "      <th>28</th>\n",
       "      <td>Europe is producing more startup 'mafias' than...</td>\n",
       "      <td>6 Hours Ago</td>\n",
       "      <td>https://www.cnbc.com/2023/05/24/europe-and-isr...</td>\n",
       "    </tr>\n",
       "    <tr>\n",
       "      <th>29</th>\n",
       "      <td>Russia says it'll react 'extremely harshly' to...</td>\n",
       "      <td>7 Hours Ago</td>\n",
       "      <td>https://www.cnbc.com/2023/05/24/ukraine-war-li...</td>\n",
       "    </tr>\n",
       "  </tbody>\n",
       "</table>\n",
       "</div>"
      ],
      "text/plain": [
       "                                             Headings         Time  \\\n",
       "0   A.I. poses existential risk of people being 'h...   37 Min Ago   \n",
       "1   Jim Cramer's top 10 things to watch in the sto...   46 Min Ago   \n",
       "2   Financial coach: Why an HSA is at least 17% be...   58 Min Ago   \n",
       "3   Wednesday's top analyst calls: Tesla, Amazon, ...   1 Hour Ago   \n",
       "4   Citigroup to spin off its Mexico business afte...   1 Hour Ago   \n",
       "5   Airbnb CEO: Here's 'the best piece of advice I...   1 Hour Ago   \n",
       "6   Meta has started its latest round of layoffs, ...   1 Hour Ago   \n",
       "7   SoftBank hits back at S&P after it cuts credit...  2 Hours Ago   \n",
       "8   Abercrombie & Fitch surges 18% after reporting...  2 Hours Ago   \n",
       "9   Bank of America boosts price target on Eli Lil...  2 Hours Ago   \n",
       "10  Stocks making the biggest moves premarket: Mod...  2 Hours Ago   \n",
       "11  Without a hint of irony, Putin rages against c...  2 Hours Ago   \n",
       "12  Top EU regulator defends mega $1.3 billion pri...  2 Hours Ago   \n",
       "13  Psychology expert: 7 toxic signs of a passive-...  2 Hours Ago   \n",
       "14  First Astranis internet satellite working ‘per...  2 Hours Ago   \n",
       "15  Chinese Tesla rival shares dive 11% after it f...  2 Hours Ago   \n",
       "16  The U.S. isn't the only country with a debt ce...  2 Hours Ago   \n",
       "17  Password sharing crackdown can lead to big gai...  2 Hours Ago   \n",
       "18  France bans short-haul flights as it looks to ...  2 Hours Ago   \n",
       "19  Kohl's shares spike as retailer reports a surp...  3 Hours Ago   \n",
       "20  Mortgage demand drops again as rates cross bac...  3 Hours Ago   \n",
       "21  Buy this beat-down regional bank with capital ...  3 Hours Ago   \n",
       "22  Goldman Sachs backs Japan's biggest taxi app w...  4 Hours Ago   \n",
       "23  5 things to know before the stock market opens...  4 Hours Ago   \n",
       "24  Jefferies says this housing cycle bellwether c...  4 Hours Ago   \n",
       "25  The AI-driven rally in big tech stocks is forc...  4 Hours Ago   \n",
       "26  Greek stocks have climbed 40% over the last ye...  5 Hours Ago   \n",
       "27  Treasury yields steady as investors watch debt...  6 Hours Ago   \n",
       "28  Europe is producing more startup 'mafias' than...  6 Hours Ago   \n",
       "29  Russia says it'll react 'extremely harshly' to...  7 Hours Ago   \n",
       "\n",
       "                                                Links  \n",
       "0   https://www.cnbc.com/2023/05/24/ai-poses-exist...  \n",
       "1   https://www.cnbc.com/2023/05/24/jim-cramers-to...  \n",
       "2   https://www.cnbc.com/2023/05/24/financial-coac...  \n",
       "3   https://www.cnbc.com/2023/05/24/wednesdays-big...  \n",
       "4   https://www.cnbc.com/2023/05/24/citigroup-to-s...  \n",
       "5   https://www.cnbc.com/2023/05/24/airbnb-ceo-bri...  \n",
       "6   https://www.cnbc.com/2023/05/24/meta-layoffs-l...  \n",
       "7   https://www.cnbc.com/2023/05/24/softbank-hits-...  \n",
       "8   https://www.cnbc.com/2023/05/24/abercrombie-fi...  \n",
       "9   https://www.cnbc.com/2023/05/24/bank-of-americ...  \n",
       "10  https://www.cnbc.com/2023/05/24/stocks-making-...  \n",
       "11  https://www.cnbc.com/2023/05/24/having-invaded...  \n",
       "12  https://www.cnbc.com/2023/05/24/irish-data-reg...  \n",
       "13  https://www.cnbc.com/2023/05/24/psychology-exp...  \n",
       "14  https://www.cnbc.com/2023/05/24/astranis-first...  \n",
       "15  https://www.cnbc.com/2023/05/24/xpeng-xpev-q1-...  \n",
       "16  https://www.cnbc.com/2023/05/24/the-us-isnt-th...  \n",
       "17  https://www.cnbc.com/2023/05/24/password-shari...  \n",
       "18  https://www.cnbc.com/2023/05/24/france-bans-do...  \n",
       "19  https://www.cnbc.com/2023/05/24/kohls-kss-earn...  \n",
       "20  https://www.cnbc.com/2023/05/24/mortgage-deman...  \n",
       "21  https://www.cnbc.com/2023/05/24/buy-this-beat-...  \n",
       "22  https://www.cnbc.com/2023/05/24/goldman-sachs-...  \n",
       "23  https://www.cnbc.com/2023/05/24/5-things-to-kn...  \n",
       "24  https://www.cnbc.com/2023/05/24/jefferies-says...  \n",
       "25  https://www.cnbc.com/2023/05/24/the-ai-driven-...  \n",
       "26  https://www.cnbc.com/2023/05/24/greek-stocks-h...  \n",
       "27  https://www.cnbc.com/2023/05/24/us-treasurys-i...  \n",
       "28  https://www.cnbc.com/2023/05/24/europe-and-isr...  \n",
       "29  https://www.cnbc.com/2023/05/24/ukraine-war-li...  "
      ]
     },
     "execution_count": 214,
     "metadata": {},
     "output_type": "execute_result"
    }
   ],
   "source": [
    "News_Details=pd.DataFrame({'Headings':head,'Time':time,\"Links\":links})\n",
    "News_Details"
   ]
  },
  {
   "cell_type": "code",
   "execution_count": 215,
   "id": "3d93262f",
   "metadata": {},
   "outputs": [
    {
     "data": {
      "text/plain": [
       "<Response [200]>"
      ]
     },
     "execution_count": 215,
     "metadata": {},
     "output_type": "execute_result"
    }
   ],
   "source": [
    "mdar=requests.get('https://www.journals.elsevier.com/artificial-intelligence/most-downloaded-articles')\n",
    "mdar"
   ]
  },
  {
   "cell_type": "code",
   "execution_count": 216,
   "id": "22d082f8",
   "metadata": {},
   "outputs": [],
   "source": [
    "mda=BeautifulSoup(mdar.content)"
   ]
  },
  {
   "cell_type": "code",
   "execution_count": 217,
   "id": "54a243a2",
   "metadata": {},
   "outputs": [
    {
     "data": {
      "text/plain": [
       "['Reward is enough',\n",
       " 'Explanation in artificial intelligence: Insights from the social sciences',\n",
       " 'Creativity and artificial intelligence',\n",
       " 'Conflict-based search for optimal multi-agent pathfinding',\n",
       " 'Knowledge graphs as tools for explainable machine learning: A survey',\n",
       " 'Law and logic: A review from an argumentation perspective',\n",
       " 'Between MDPs and semi-MDPs: A framework for temporal abstraction in reinforcement learning',\n",
       " 'Explaining individual predictions when features are dependent: More accurate approximations to Shapley values',\n",
       " 'Multiple object tracking: A literature review',\n",
       " 'A survey of inverse reinforcement learning: Challenges, methods and progress',\n",
       " 'Evaluating XAI: A comparison of rule-based and example-based explanations',\n",
       " 'Explainable AI tools for legal reasoning about cases: A study on the European Court of Human Rights',\n",
       " 'Hard choices in artificial intelligence',\n",
       " 'Assessing the communication gap between AI models and healthcare professionals: Explainability, utility and trust in AI-driven clinical decision-making',\n",
       " 'Explaining black-box classifiers using post-hoc explanations-by-example: The effect of explanations and error-rates in XAI user studies',\n",
       " 'The Hanabi challenge: A new frontier for AI research',\n",
       " 'Wrappers for feature subset selection',\n",
       " 'Artificial cognition for social human–robot interaction: An implementation',\n",
       " 'A review of possible effects of cognitive biases on interpretation of rule-based machine learning models',\n",
       " 'The multifaceted impact of Ada Lovelace in the digital age',\n",
       " 'Robot ethics: Mapping the issues for a mechanized world',\n",
       " 'Reward (Mis)design for autonomous driving',\n",
       " 'Planning and acting in partially observable stochastic domains',\n",
       " 'What do we want from Explainable Artificial Intelligence (XAI)? – A stakeholder perspective on XAI and a conceptual model guiding interdisciplinary XAI research']"
      ]
     },
     "execution_count": 217,
     "metadata": {},
     "output_type": "execute_result"
    }
   ],
   "source": [
    "pt=[]\n",
    "for i in mda.find_all('h2',class_='sc-1qrq3sd-1 gRGSUS sc-1nmom32-0 sc-1nmom32-1 btcbYu goSKRg'):\n",
    "     pt.append(i.text)\n",
    "pt"
   ]
  },
  {
   "cell_type": "code",
   "execution_count": 218,
   "id": "dbce2500",
   "metadata": {},
   "outputs": [],
   "source": [
    "a=[]\n",
    "for i in mda.find_all('span',class_='sc-1w3fpd7-0 dnCnAO'):\n",
    "     a.append(i.text)\n"
   ]
  },
  {
   "cell_type": "code",
   "execution_count": 219,
   "id": "cc3e4833",
   "metadata": {},
   "outputs": [],
   "source": [
    "pda=[]\n",
    "for i in mda.find_all('span',class_='sc-1thf9ly-2 dvggWt'):\n",
    "     pda.append(i.text)"
   ]
  },
  {
   "cell_type": "code",
   "execution_count": 220,
   "id": "8461e5e2",
   "metadata": {},
   "outputs": [],
   "source": [
    "l=[]\n",
    "for i in mda.find_all('a',class_='sc-5smygv-0 fIXTHm'):\n",
    "     l.append(i.get('href'))"
   ]
  },
  {
   "cell_type": "code",
   "execution_count": 221,
   "id": "7a0e0ae7",
   "metadata": {},
   "outputs": [
    {
     "data": {
      "text/plain": [
       "(24, 24, 24, 24)"
      ]
     },
     "execution_count": 221,
     "metadata": {},
     "output_type": "execute_result"
    }
   ],
   "source": [
    "len(pda),len(a),len(pt),len(l)"
   ]
  },
  {
   "cell_type": "code",
   "execution_count": 222,
   "id": "6a6abf11",
   "metadata": {},
   "outputs": [
    {
     "data": {
      "text/html": [
       "<div>\n",
       "<style scoped>\n",
       "    .dataframe tbody tr th:only-of-type {\n",
       "        vertical-align: middle;\n",
       "    }\n",
       "\n",
       "    .dataframe tbody tr th {\n",
       "        vertical-align: top;\n",
       "    }\n",
       "\n",
       "    .dataframe thead th {\n",
       "        text-align: right;\n",
       "    }\n",
       "</style>\n",
       "<table border=\"1\" class=\"dataframe\">\n",
       "  <thead>\n",
       "    <tr style=\"text-align: right;\">\n",
       "      <th></th>\n",
       "      <th>Paper Title</th>\n",
       "      <th>Author</th>\n",
       "      <th>Published Date</th>\n",
       "      <th>Links</th>\n",
       "    </tr>\n",
       "  </thead>\n",
       "  <tbody>\n",
       "    <tr>\n",
       "      <th>0</th>\n",
       "      <td>Reward is enough</td>\n",
       "      <td>David Silver, Satinder Singh, Doina Precup, Ri...</td>\n",
       "      <td>October 2021</td>\n",
       "      <td>https://www.sciencedirect.com/science/article/...</td>\n",
       "    </tr>\n",
       "    <tr>\n",
       "      <th>1</th>\n",
       "      <td>Explanation in artificial intelligence: Insigh...</td>\n",
       "      <td>Tim Miller</td>\n",
       "      <td>February 2019</td>\n",
       "      <td>https://www.sciencedirect.com/science/article/...</td>\n",
       "    </tr>\n",
       "    <tr>\n",
       "      <th>2</th>\n",
       "      <td>Creativity and artificial intelligence</td>\n",
       "      <td>Margaret A. Boden</td>\n",
       "      <td>August 1998</td>\n",
       "      <td>https://www.sciencedirect.com/science/article/...</td>\n",
       "    </tr>\n",
       "    <tr>\n",
       "      <th>3</th>\n",
       "      <td>Conflict-based search for optimal multi-agent ...</td>\n",
       "      <td>Guni Sharon, Roni Stern, Ariel Felner, Nathan ...</td>\n",
       "      <td>February 2015</td>\n",
       "      <td>https://www.sciencedirect.com/science/article/...</td>\n",
       "    </tr>\n",
       "    <tr>\n",
       "      <th>4</th>\n",
       "      <td>Knowledge graphs as tools for explainable mach...</td>\n",
       "      <td>Ilaria Tiddi, Stefan Schlobach</td>\n",
       "      <td>January 2022</td>\n",
       "      <td>https://www.sciencedirect.com/science/article/...</td>\n",
       "    </tr>\n",
       "    <tr>\n",
       "      <th>5</th>\n",
       "      <td>Law and logic: A review from an argumentation ...</td>\n",
       "      <td>Henry Prakken, Giovanni Sartor</td>\n",
       "      <td>October 2015</td>\n",
       "      <td>https://www.sciencedirect.com/science/article/...</td>\n",
       "    </tr>\n",
       "    <tr>\n",
       "      <th>6</th>\n",
       "      <td>Between MDPs and semi-MDPs: A framework for te...</td>\n",
       "      <td>Richard S. Sutton, Doina Precup, Satinder Singh</td>\n",
       "      <td>August 1999</td>\n",
       "      <td>https://www.sciencedirect.com/science/article/...</td>\n",
       "    </tr>\n",
       "    <tr>\n",
       "      <th>7</th>\n",
       "      <td>Explaining individual predictions when feature...</td>\n",
       "      <td>Kjersti Aas, Martin Jullum, Anders Løland</td>\n",
       "      <td>September 2021</td>\n",
       "      <td>https://www.sciencedirect.com/science/article/...</td>\n",
       "    </tr>\n",
       "    <tr>\n",
       "      <th>8</th>\n",
       "      <td>Multiple object tracking: A literature review</td>\n",
       "      <td>Wenhan Luo, Junliang Xing and 4 more</td>\n",
       "      <td>April 2021</td>\n",
       "      <td>https://www.sciencedirect.com/science/article/...</td>\n",
       "    </tr>\n",
       "    <tr>\n",
       "      <th>9</th>\n",
       "      <td>A survey of inverse reinforcement learning: Ch...</td>\n",
       "      <td>Saurabh Arora, Prashant Doshi</td>\n",
       "      <td>August 2021</td>\n",
       "      <td>https://www.sciencedirect.com/science/article/...</td>\n",
       "    </tr>\n",
       "    <tr>\n",
       "      <th>10</th>\n",
       "      <td>Evaluating XAI: A comparison of rule-based and...</td>\n",
       "      <td>Jasper van der Waa, Elisabeth Nieuwburg, Anita...</td>\n",
       "      <td>February 2021</td>\n",
       "      <td>https://www.sciencedirect.com/science/article/...</td>\n",
       "    </tr>\n",
       "    <tr>\n",
       "      <th>11</th>\n",
       "      <td>Explainable AI tools for legal reasoning about...</td>\n",
       "      <td>Joe Collenette, Katie Atkinson, Trevor Bench-C...</td>\n",
       "      <td>April 2023</td>\n",
       "      <td>https://www.sciencedirect.com/science/article/...</td>\n",
       "    </tr>\n",
       "    <tr>\n",
       "      <th>12</th>\n",
       "      <td>Hard choices in artificial intelligence</td>\n",
       "      <td>Roel Dobbe, Thomas Krendl Gilbert, Yonatan Mintz</td>\n",
       "      <td>November 2021</td>\n",
       "      <td>https://www.sciencedirect.com/science/article/...</td>\n",
       "    </tr>\n",
       "    <tr>\n",
       "      <th>13</th>\n",
       "      <td>Assessing the communication gap between AI mod...</td>\n",
       "      <td>Oskar Wysocki, Jessica Katharine Davies and 5 ...</td>\n",
       "      <td>March 2023</td>\n",
       "      <td>https://www.sciencedirect.com/science/article/...</td>\n",
       "    </tr>\n",
       "    <tr>\n",
       "      <th>14</th>\n",
       "      <td>Explaining black-box classifiers using post-ho...</td>\n",
       "      <td>Eoin M. Kenny, Courtney Ford, Molly Quinn, Mar...</td>\n",
       "      <td>May 2021</td>\n",
       "      <td>https://www.sciencedirect.com/science/article/...</td>\n",
       "    </tr>\n",
       "    <tr>\n",
       "      <th>15</th>\n",
       "      <td>The Hanabi challenge: A new frontier for AI re...</td>\n",
       "      <td>Nolan Bard, Jakob N. Foerster and 13 more</td>\n",
       "      <td>March 2020</td>\n",
       "      <td>https://www.sciencedirect.com/science/article/...</td>\n",
       "    </tr>\n",
       "    <tr>\n",
       "      <th>16</th>\n",
       "      <td>Wrappers for feature subset selection</td>\n",
       "      <td>Ron Kohavi, George H. John</td>\n",
       "      <td>December 1997</td>\n",
       "      <td>https://www.sciencedirect.com/science/article/...</td>\n",
       "    </tr>\n",
       "    <tr>\n",
       "      <th>17</th>\n",
       "      <td>Artificial cognition for social human–robot in...</td>\n",
       "      <td>Séverin Lemaignan, Mathieu Warnier and 3 more</td>\n",
       "      <td>June 2017</td>\n",
       "      <td>https://www.sciencedirect.com/science/article/...</td>\n",
       "    </tr>\n",
       "    <tr>\n",
       "      <th>18</th>\n",
       "      <td>A review of possible effects of cognitive bias...</td>\n",
       "      <td>Tomáš Kliegr, Štěpán Bahník, Johannes Fürnkranz</td>\n",
       "      <td>June 2021</td>\n",
       "      <td>https://www.sciencedirect.com/science/article/...</td>\n",
       "    </tr>\n",
       "    <tr>\n",
       "      <th>19</th>\n",
       "      <td>The multifaceted impact of Ada Lovelace in the...</td>\n",
       "      <td>Luigia Carlucci Aiello</td>\n",
       "      <td>June 2016</td>\n",
       "      <td>https://www.sciencedirect.com/science/article/...</td>\n",
       "    </tr>\n",
       "    <tr>\n",
       "      <th>20</th>\n",
       "      <td>Robot ethics: Mapping the issues for a mechani...</td>\n",
       "      <td>Patrick Lin, Keith Abney, George Bekey</td>\n",
       "      <td>April 2011</td>\n",
       "      <td>https://www.sciencedirect.com/science/article/...</td>\n",
       "    </tr>\n",
       "    <tr>\n",
       "      <th>21</th>\n",
       "      <td>Reward (Mis)design for autonomous driving</td>\n",
       "      <td>W. Bradley Knox, Alessandro Allievi and 3 more</td>\n",
       "      <td>March 2023</td>\n",
       "      <td>https://www.sciencedirect.com/science/article/...</td>\n",
       "    </tr>\n",
       "    <tr>\n",
       "      <th>22</th>\n",
       "      <td>Planning and acting in partially observable st...</td>\n",
       "      <td>Leslie Pack Kaelbling, Michael L. Littman, Ant...</td>\n",
       "      <td>May 1998</td>\n",
       "      <td>https://www.sciencedirect.com/science/article/...</td>\n",
       "    </tr>\n",
       "    <tr>\n",
       "      <th>23</th>\n",
       "      <td>What do we want from Explainable Artificial In...</td>\n",
       "      <td>Markus Langer, Daniel Oster and 6 more</td>\n",
       "      <td>July 2021</td>\n",
       "      <td>https://www.sciencedirect.com/science/article/...</td>\n",
       "    </tr>\n",
       "  </tbody>\n",
       "</table>\n",
       "</div>"
      ],
      "text/plain": [
       "                                          Paper Title  \\\n",
       "0                                    Reward is enough   \n",
       "1   Explanation in artificial intelligence: Insigh...   \n",
       "2              Creativity and artificial intelligence   \n",
       "3   Conflict-based search for optimal multi-agent ...   \n",
       "4   Knowledge graphs as tools for explainable mach...   \n",
       "5   Law and logic: A review from an argumentation ...   \n",
       "6   Between MDPs and semi-MDPs: A framework for te...   \n",
       "7   Explaining individual predictions when feature...   \n",
       "8       Multiple object tracking: A literature review   \n",
       "9   A survey of inverse reinforcement learning: Ch...   \n",
       "10  Evaluating XAI: A comparison of rule-based and...   \n",
       "11  Explainable AI tools for legal reasoning about...   \n",
       "12            Hard choices in artificial intelligence   \n",
       "13  Assessing the communication gap between AI mod...   \n",
       "14  Explaining black-box classifiers using post-ho...   \n",
       "15  The Hanabi challenge: A new frontier for AI re...   \n",
       "16              Wrappers for feature subset selection   \n",
       "17  Artificial cognition for social human–robot in...   \n",
       "18  A review of possible effects of cognitive bias...   \n",
       "19  The multifaceted impact of Ada Lovelace in the...   \n",
       "20  Robot ethics: Mapping the issues for a mechani...   \n",
       "21          Reward (Mis)design for autonomous driving   \n",
       "22  Planning and acting in partially observable st...   \n",
       "23  What do we want from Explainable Artificial In...   \n",
       "\n",
       "                                               Author  Published Date  \\\n",
       "0   David Silver, Satinder Singh, Doina Precup, Ri...    October 2021   \n",
       "1                                         Tim Miller    February 2019   \n",
       "2                                  Margaret A. Boden      August 1998   \n",
       "3   Guni Sharon, Roni Stern, Ariel Felner, Nathan ...   February 2015   \n",
       "4                     Ilaria Tiddi, Stefan Schlobach     January 2022   \n",
       "5                     Henry Prakken, Giovanni Sartor     October 2015   \n",
       "6    Richard S. Sutton, Doina Precup, Satinder Singh      August 1999   \n",
       "7          Kjersti Aas, Martin Jullum, Anders Løland   September 2021   \n",
       "8                Wenhan Luo, Junliang Xing and 4 more      April 2021   \n",
       "9                      Saurabh Arora, Prashant Doshi      August 2021   \n",
       "10  Jasper van der Waa, Elisabeth Nieuwburg, Anita...   February 2021   \n",
       "11  Joe Collenette, Katie Atkinson, Trevor Bench-C...      April 2023   \n",
       "12  Roel Dobbe, Thomas Krendl Gilbert, Yonatan Mintz    November 2021   \n",
       "13  Oskar Wysocki, Jessica Katharine Davies and 5 ...      March 2023   \n",
       "14  Eoin M. Kenny, Courtney Ford, Molly Quinn, Mar...        May 2021   \n",
       "15          Nolan Bard, Jakob N. Foerster and 13 more      March 2020   \n",
       "16                        Ron Kohavi, George H. John    December 1997   \n",
       "17      Séverin Lemaignan, Mathieu Warnier and 3 more       June 2017   \n",
       "18   Tomáš Kliegr, Štěpán Bahník, Johannes Fürnkranz        June 2021   \n",
       "19                            Luigia Carlucci Aiello        June 2016   \n",
       "20            Patrick Lin, Keith Abney, George Bekey       April 2011   \n",
       "21     W. Bradley Knox, Alessandro Allievi and 3 more      March 2023   \n",
       "22  Leslie Pack Kaelbling, Michael L. Littman, Ant...        May 1998   \n",
       "23             Markus Langer, Daniel Oster and 6 more       July 2021   \n",
       "\n",
       "                                                Links  \n",
       "0   https://www.sciencedirect.com/science/article/...  \n",
       "1   https://www.sciencedirect.com/science/article/...  \n",
       "2   https://www.sciencedirect.com/science/article/...  \n",
       "3   https://www.sciencedirect.com/science/article/...  \n",
       "4   https://www.sciencedirect.com/science/article/...  \n",
       "5   https://www.sciencedirect.com/science/article/...  \n",
       "6   https://www.sciencedirect.com/science/article/...  \n",
       "7   https://www.sciencedirect.com/science/article/...  \n",
       "8   https://www.sciencedirect.com/science/article/...  \n",
       "9   https://www.sciencedirect.com/science/article/...  \n",
       "10  https://www.sciencedirect.com/science/article/...  \n",
       "11  https://www.sciencedirect.com/science/article/...  \n",
       "12  https://www.sciencedirect.com/science/article/...  \n",
       "13  https://www.sciencedirect.com/science/article/...  \n",
       "14  https://www.sciencedirect.com/science/article/...  \n",
       "15  https://www.sciencedirect.com/science/article/...  \n",
       "16  https://www.sciencedirect.com/science/article/...  \n",
       "17  https://www.sciencedirect.com/science/article/...  \n",
       "18  https://www.sciencedirect.com/science/article/...  \n",
       "19  https://www.sciencedirect.com/science/article/...  \n",
       "20  https://www.sciencedirect.com/science/article/...  \n",
       "21  https://www.sciencedirect.com/science/article/...  \n",
       "22  https://www.sciencedirect.com/science/article/...  \n",
       "23  https://www.sciencedirect.com/science/article/...  "
      ]
     },
     "execution_count": 222,
     "metadata": {},
     "output_type": "execute_result"
    }
   ],
   "source": [
    "Most_Downloaded_Articles=pd.DataFrame({'Paper Title':pt,\"Author\":a,\"Published Date\":pda,\"Links\":l,})\n",
    "Most_Downloaded_Articles"
   ]
  },
  {
   "cell_type": "code",
   "execution_count": 223,
   "id": "2363274a",
   "metadata": {},
   "outputs": [
    {
     "data": {
      "text/plain": [
       "<Response [200]>"
      ]
     },
     "execution_count": 223,
     "metadata": {},
     "output_type": "execute_result"
    }
   ],
   "source": [
    "resr=requests.get('https://www.dineout.co.in/delhi-restaurants/buffet-special')\n",
    "resr"
   ]
  },
  {
   "cell_type": "code",
   "execution_count": 224,
   "id": "0b18fc1d",
   "metadata": {},
   "outputs": [],
   "source": [
    "res=BeautifulSoup(resr.content)"
   ]
  },
  {
   "cell_type": "code",
   "execution_count": 225,
   "id": "429c6c6d",
   "metadata": {},
   "outputs": [
    {
     "data": {
      "text/plain": [
       "['Castle Barbeque',\n",
       " 'Jungle Jamboree',\n",
       " 'Cafe Knosh',\n",
       " \"Castle's Barbeque\",\n",
       " 'The Barbeque Company',\n",
       " 'India Grill',\n",
       " 'Delhi Barbeque',\n",
       " 'The Monarch - Bar Be Que Village',\n",
       " 'Indian Grill Room']"
      ]
     },
     "execution_count": 225,
     "metadata": {},
     "output_type": "execute_result"
    }
   ],
   "source": [
    "rn=[]\n",
    "for i in res.find_all('a',class_='restnt-name ellipsis'):\n",
    "    rn.append(i.text)\n",
    "rn"
   ]
  },
  {
   "cell_type": "code",
   "execution_count": 226,
   "id": "ee0fd73d",
   "metadata": {},
   "outputs": [
    {
     "data": {
      "text/plain": [
       "[' Chinese, North Indian',\n",
       " ' North Indian, Asian, Italian',\n",
       " ' Italian, Continental',\n",
       " ' Chinese, North Indian',\n",
       " ' North Indian, Chinese',\n",
       " ' North Indian, Italian',\n",
       " ' North Indian',\n",
       " ' North Indian',\n",
       " ' North Indian, Mughlai']"
      ]
     },
     "execution_count": 226,
     "metadata": {},
     "output_type": "execute_result"
    }
   ],
   "source": [
    "rc=[]\n",
    "for i in res.find_all('span',class_='double-line-ellipsis'):\n",
    "    rc.append(i.text.split('|')[1])\n",
    "rc"
   ]
  },
  {
   "cell_type": "code",
   "execution_count": 227,
   "id": "5148e0d4",
   "metadata": {},
   "outputs": [
    {
     "data": {
      "text/plain": [
       "['Connaught Place, Central Delhi',\n",
       " '3CS Mall,Lajpat Nagar - 3, South Delhi',\n",
       " 'The Leela Ambience Convention Hotel,Shahdara, East Delhi',\n",
       " 'Pacific Mall,Tagore Garden, West Delhi',\n",
       " 'Gardens Galleria,Sector 38A, Noida',\n",
       " 'Hilton Garden Inn,Saket, South Delhi',\n",
       " 'Taurus Sarovar Portico,Mahipalpur, South Delhi',\n",
       " 'Indirapuram Habitat Centre,Indirapuram, Ghaziabad',\n",
       " 'Suncity Business Tower,Golf Course Road, Gurgaon']"
      ]
     },
     "execution_count": 227,
     "metadata": {},
     "output_type": "execute_result"
    }
   ],
   "source": [
    "rl=[]\n",
    "for i in res.find_all('div',class_='restnt-loc ellipsis'):\n",
    "    rl.append(i.text)\n",
    "rl"
   ]
  },
  {
   "cell_type": "code",
   "execution_count": 228,
   "id": "9e95c686",
   "metadata": {},
   "outputs": [
    {
     "data": {
      "text/plain": [
       "['4', '3.9', '4.3', '3.9', '3.9', '3.9', '3.7', '3.8', '4.3']"
      ]
     },
     "execution_count": 228,
     "metadata": {},
     "output_type": "execute_result"
    }
   ],
   "source": [
    "rr=[]\n",
    "for i in res.find_all('div',class_='restnt-rating rating-4'):\n",
    "    rr.append(i.text)\n",
    "rr"
   ]
  },
  {
   "cell_type": "code",
   "execution_count": 229,
   "id": "d21e82f0",
   "metadata": {},
   "outputs": [],
   "source": [
    "ri=[]\n",
    "for i in res.find_all('img',class_='no-img'):\n",
    "    ri.append(i.get('data-src'))"
   ]
  },
  {
   "cell_type": "code",
   "execution_count": 230,
   "id": "7a02647d",
   "metadata": {},
   "outputs": [
    {
     "data": {
      "text/html": [
       "<div>\n",
       "<style scoped>\n",
       "    .dataframe tbody tr th:only-of-type {\n",
       "        vertical-align: middle;\n",
       "    }\n",
       "\n",
       "    .dataframe tbody tr th {\n",
       "        vertical-align: top;\n",
       "    }\n",
       "\n",
       "    .dataframe thead th {\n",
       "        text-align: right;\n",
       "    }\n",
       "</style>\n",
       "<table border=\"1\" class=\"dataframe\">\n",
       "  <thead>\n",
       "    <tr style=\"text-align: right;\">\n",
       "      <th></th>\n",
       "      <th>Name</th>\n",
       "      <th>Cuisine</th>\n",
       "      <th>Location</th>\n",
       "      <th>Ratings</th>\n",
       "      <th>Images (Link)</th>\n",
       "    </tr>\n",
       "  </thead>\n",
       "  <tbody>\n",
       "    <tr>\n",
       "      <th>0</th>\n",
       "      <td>Castle Barbeque</td>\n",
       "      <td>Chinese, North Indian</td>\n",
       "      <td>Connaught Place, Central Delhi</td>\n",
       "      <td>4</td>\n",
       "      <td>https://im1.dineout.co.in/images/uploads/resta...</td>\n",
       "    </tr>\n",
       "    <tr>\n",
       "      <th>1</th>\n",
       "      <td>Jungle Jamboree</td>\n",
       "      <td>North Indian, Asian, Italian</td>\n",
       "      <td>3CS Mall,Lajpat Nagar - 3, South Delhi</td>\n",
       "      <td>3.9</td>\n",
       "      <td>https://im1.dineout.co.in/images/uploads/resta...</td>\n",
       "    </tr>\n",
       "    <tr>\n",
       "      <th>2</th>\n",
       "      <td>Cafe Knosh</td>\n",
       "      <td>Italian, Continental</td>\n",
       "      <td>The Leela Ambience Convention Hotel,Shahdara, ...</td>\n",
       "      <td>4.3</td>\n",
       "      <td>https://im1.dineout.co.in/images/uploads/resta...</td>\n",
       "    </tr>\n",
       "    <tr>\n",
       "      <th>3</th>\n",
       "      <td>Castle's Barbeque</td>\n",
       "      <td>Chinese, North Indian</td>\n",
       "      <td>Pacific Mall,Tagore Garden, West Delhi</td>\n",
       "      <td>3.9</td>\n",
       "      <td>https://im1.dineout.co.in/images/uploads/resta...</td>\n",
       "    </tr>\n",
       "    <tr>\n",
       "      <th>4</th>\n",
       "      <td>The Barbeque Company</td>\n",
       "      <td>North Indian, Chinese</td>\n",
       "      <td>Gardens Galleria,Sector 38A, Noida</td>\n",
       "      <td>3.9</td>\n",
       "      <td>https://im1.dineout.co.in/images/uploads/resta...</td>\n",
       "    </tr>\n",
       "    <tr>\n",
       "      <th>5</th>\n",
       "      <td>India Grill</td>\n",
       "      <td>North Indian, Italian</td>\n",
       "      <td>Hilton Garden Inn,Saket, South Delhi</td>\n",
       "      <td>3.9</td>\n",
       "      <td>https://im1.dineout.co.in/images/uploads/resta...</td>\n",
       "    </tr>\n",
       "    <tr>\n",
       "      <th>6</th>\n",
       "      <td>Delhi Barbeque</td>\n",
       "      <td>North Indian</td>\n",
       "      <td>Taurus Sarovar Portico,Mahipalpur, South Delhi</td>\n",
       "      <td>3.7</td>\n",
       "      <td>https://im1.dineout.co.in/images/uploads/resta...</td>\n",
       "    </tr>\n",
       "    <tr>\n",
       "      <th>7</th>\n",
       "      <td>The Monarch - Bar Be Que Village</td>\n",
       "      <td>North Indian</td>\n",
       "      <td>Indirapuram Habitat Centre,Indirapuram, Ghaziabad</td>\n",
       "      <td>3.8</td>\n",
       "      <td>https://im1.dineout.co.in/images/uploads/resta...</td>\n",
       "    </tr>\n",
       "    <tr>\n",
       "      <th>8</th>\n",
       "      <td>Indian Grill Room</td>\n",
       "      <td>North Indian, Mughlai</td>\n",
       "      <td>Suncity Business Tower,Golf Course Road, Gurgaon</td>\n",
       "      <td>4.3</td>\n",
       "      <td>https://im1.dineout.co.in/images/uploads/resta...</td>\n",
       "    </tr>\n",
       "  </tbody>\n",
       "</table>\n",
       "</div>"
      ],
      "text/plain": [
       "                               Name                        Cuisine  \\\n",
       "0                   Castle Barbeque          Chinese, North Indian   \n",
       "1                   Jungle Jamboree   North Indian, Asian, Italian   \n",
       "2                        Cafe Knosh           Italian, Continental   \n",
       "3                 Castle's Barbeque          Chinese, North Indian   \n",
       "4              The Barbeque Company          North Indian, Chinese   \n",
       "5                       India Grill          North Indian, Italian   \n",
       "6                    Delhi Barbeque                   North Indian   \n",
       "7  The Monarch - Bar Be Que Village                   North Indian   \n",
       "8                 Indian Grill Room          North Indian, Mughlai   \n",
       "\n",
       "                                            Location Ratings  \\\n",
       "0                     Connaught Place, Central Delhi       4   \n",
       "1             3CS Mall,Lajpat Nagar - 3, South Delhi     3.9   \n",
       "2  The Leela Ambience Convention Hotel,Shahdara, ...     4.3   \n",
       "3             Pacific Mall,Tagore Garden, West Delhi     3.9   \n",
       "4                 Gardens Galleria,Sector 38A, Noida     3.9   \n",
       "5               Hilton Garden Inn,Saket, South Delhi     3.9   \n",
       "6     Taurus Sarovar Portico,Mahipalpur, South Delhi     3.7   \n",
       "7  Indirapuram Habitat Centre,Indirapuram, Ghaziabad     3.8   \n",
       "8   Suncity Business Tower,Golf Course Road, Gurgaon     4.3   \n",
       "\n",
       "                                       Images (Link)  \n",
       "0  https://im1.dineout.co.in/images/uploads/resta...  \n",
       "1  https://im1.dineout.co.in/images/uploads/resta...  \n",
       "2  https://im1.dineout.co.in/images/uploads/resta...  \n",
       "3  https://im1.dineout.co.in/images/uploads/resta...  \n",
       "4  https://im1.dineout.co.in/images/uploads/resta...  \n",
       "5  https://im1.dineout.co.in/images/uploads/resta...  \n",
       "6  https://im1.dineout.co.in/images/uploads/resta...  \n",
       "7  https://im1.dineout.co.in/images/uploads/resta...  \n",
       "8  https://im1.dineout.co.in/images/uploads/resta...  "
      ]
     },
     "execution_count": 230,
     "metadata": {},
     "output_type": "execute_result"
    }
   ],
   "source": [
    "Best_Buffet_Restaurants=pd.DataFrame({\"Name\":rn,'Cuisine':rc,\"Location\":rl,\"Ratings\":rr,\"Images (Link)\":ri})\n",
    "Best_Buffet_Restaurants"
   ]
  },
  {
   "cell_type": "code",
   "execution_count": null,
   "id": "af94a54e",
   "metadata": {},
   "outputs": [],
   "source": []
  }
 ],
 "metadata": {
  "kernelspec": {
   "display_name": "Python 3 (ipykernel)",
   "language": "python",
   "name": "python3"
  },
  "language_info": {
   "codemirror_mode": {
    "name": "ipython",
    "version": 3
   },
   "file_extension": ".py",
   "mimetype": "text/x-python",
   "name": "python",
   "nbconvert_exporter": "python",
   "pygments_lexer": "ipython3",
   "version": "3.9.13"
  }
 },
 "nbformat": 4,
 "nbformat_minor": 5
}
