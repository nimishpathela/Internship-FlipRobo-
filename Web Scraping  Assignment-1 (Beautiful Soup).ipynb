{
 "cells": [
  {
   "cell_type": "code",
   "execution_count": 134,
   "id": "8927e50f",
   "metadata": {},
   "outputs": [],
   "source": [
    "import requests\n",
    "from bs4 import BeautifulSoup"
   ]
  },
  {
   "cell_type": "code",
   "execution_count": 135,
   "id": "c60d2111",
   "metadata": {},
   "outputs": [
    {
     "data": {
      "text/plain": [
       "<Response [200]>"
      ]
     },
     "execution_count": 135,
     "metadata": {},
     "output_type": "execute_result"
    }
   ],
   "source": [
    "page=requests.get('https://en.wikipedia.org/wiki/Main_Page')\n",
    "page"
   ]
  },
  {
   "cell_type": "code",
   "execution_count": 136,
   "id": "67b0cea3",
   "metadata": {},
   "outputs": [],
   "source": [
    "soup=BeautifulSoup(page.content) "
   ]
  },
  {
   "cell_type": "code",
   "execution_count": 137,
   "id": "ee92e586",
   "metadata": {},
   "outputs": [
    {
     "data": {
      "text/plain": [
       "\"From today's featured article\""
      ]
     },
     "execution_count": 137,
     "metadata": {},
     "output_type": "execute_result"
    }
   ],
   "source": [
    "title=soup.find('h2',class_='mp-h2')\n",
    "title.text"
   ]
  },
  {
   "cell_type": "code",
   "execution_count": 138,
   "id": "30b45ef8",
   "metadata": {},
   "outputs": [
    {
     "data": {
      "text/plain": [
       "[\"From today's featured article\",\n",
       " 'Did you know\\xa0...',\n",
       " 'In the news',\n",
       " 'On this day',\n",
       " \"Today's featured picture\",\n",
       " 'Other areas of Wikipedia',\n",
       " \"Wikipedia's sister projects\",\n",
       " 'Wikipedia languages']"
      ]
     },
     "execution_count": 138,
     "metadata": {},
     "output_type": "execute_result"
    }
   ],
   "source": [
    "titles=[]\n",
    "for i in soup.find_all('h2',class_='mp-h2'):\n",
    "    titles.append(i.text)\n",
    "\n",
    "titles"
   ]
  },
  {
   "cell_type": "code",
   "execution_count": 139,
   "id": "6ae6d3ef",
   "metadata": {},
   "outputs": [
    {
     "data": {
      "text/html": [
       "<div>\n",
       "<style scoped>\n",
       "    .dataframe tbody tr th:only-of-type {\n",
       "        vertical-align: middle;\n",
       "    }\n",
       "\n",
       "    .dataframe tbody tr th {\n",
       "        vertical-align: top;\n",
       "    }\n",
       "\n",
       "    .dataframe thead th {\n",
       "        text-align: right;\n",
       "    }\n",
       "</style>\n",
       "<table border=\"1\" class=\"dataframe\">\n",
       "  <thead>\n",
       "    <tr style=\"text-align: right;\">\n",
       "      <th></th>\n",
       "      <th>Headings</th>\n",
       "    </tr>\n",
       "  </thead>\n",
       "  <tbody>\n",
       "    <tr>\n",
       "      <th>1</th>\n",
       "      <td>From today's featured article</td>\n",
       "    </tr>\n",
       "    <tr>\n",
       "      <th>2</th>\n",
       "      <td>Did you know ...</td>\n",
       "    </tr>\n",
       "    <tr>\n",
       "      <th>3</th>\n",
       "      <td>In the news</td>\n",
       "    </tr>\n",
       "    <tr>\n",
       "      <th>4</th>\n",
       "      <td>On this day</td>\n",
       "    </tr>\n",
       "    <tr>\n",
       "      <th>5</th>\n",
       "      <td>Today's featured picture</td>\n",
       "    </tr>\n",
       "    <tr>\n",
       "      <th>6</th>\n",
       "      <td>Other areas of Wikipedia</td>\n",
       "    </tr>\n",
       "    <tr>\n",
       "      <th>7</th>\n",
       "      <td>Wikipedia's sister projects</td>\n",
       "    </tr>\n",
       "    <tr>\n",
       "      <th>8</th>\n",
       "      <td>Wikipedia languages</td>\n",
       "    </tr>\n",
       "  </tbody>\n",
       "</table>\n",
       "</div>"
      ],
      "text/plain": [
       "                        Headings\n",
       "1  From today's featured article\n",
       "2               Did you know ...\n",
       "3                    In the news\n",
       "4                    On this day\n",
       "5       Today's featured picture\n",
       "6       Other areas of Wikipedia\n",
       "7    Wikipedia's sister projects\n",
       "8            Wikipedia languages"
      ]
     },
     "execution_count": 139,
     "metadata": {},
     "output_type": "execute_result"
    }
   ],
   "source": [
    "import pandas as pd\n",
    "headingsdf=pd.DataFrame(titles,columns=['Headings'],index=[1,2,3,4,5,6,7,8])\n",
    "headingsdf"
   ]
  },
  {
   "cell_type": "code",
   "execution_count": 140,
   "id": "8adc69c1",
   "metadata": {},
   "outputs": [
    {
     "data": {
      "text/plain": [
       "<Response [200]>"
      ]
     },
     "execution_count": 140,
     "metadata": {},
     "output_type": "execute_result"
    }
   ],
   "source": [
    "pmpage=requests.get('https://presidentofindia.nic.in/former-presidents.htm')\n",
    "pmpage"
   ]
  },
  {
   "cell_type": "code",
   "execution_count": 141,
   "id": "faa9d43e",
   "metadata": {},
   "outputs": [
    {
     "data": {
      "text/plain": [
       "<!DOCTYPE html>\n",
       "<html lang=\"en\" xml:lang=\"en\" xmlns=\"http://www.w3.org/1999/xhtml\">\n",
       "<head id=\"Head1\"><title>\n",
       "\tFormer Presidents - The President of India\n",
       "</title><meta content=\"text/html; charset=utf-8\" http-equiv=\"Content-Type\"/>\n",
       "<!--<meta http-equiv=\"Content-Style-Type\" content=\"text/css\" /><meta http-equiv=\"Content-Script-Type\" content=\"type\" />-->\n",
       "<meta content=\"telephone=no\" name=\"format-detection\"/><meta content=\"IE=edge\" http-equiv=\"X-UA-Compatible\"/>\n",
       "<!-- Start Favicon -->\n",
       "<link href=\"favicon.ico\" rel=\"shortcut icon\" type=\"image/x-icon\"/><link href=\"js/panorama_viewer.css\" rel=\"stylesheet\" type=\"text/css\"/>\n",
       "<!-- Start Javascript Library -->\n",
       "<script language=\"JavaScript\" type=\"text/javascript\">\n",
       "        if (top != self) top.location.replace(location);\n",
       "        version = \"3.6.0\";\n",
       "        prettyPhoto = \"3.1.6\";\n",
       "\n",
       "    </script>\n",
       "<script src=\"js/jquery.min.js\" type=\"text/javascript\"></script>\n",
       "<script type=\"text/javascript\">\n",
       "\t\t<!--\n",
       "\n",
       "        function detectmob() {\n",
       "            if (navigator.userAgent.match(/Android/i)\n",
       "                || navigator.userAgent.match(/webOS/i)\n",
       "                || navigator.userAgent.match(/iPhone/i)\n",
       "                || navigator.userAgent.match(/iPad/i)\n",
       "                || navigator.userAgent.match(/iPod/i)\n",
       "                || navigator.userAgent.match(/BlackBerry/i)\n",
       "                || navigator.userAgent.match(/Windows Phone/i)\n",
       "                ) {\n",
       "                return true;\n",
       "            }\n",
       "            else {\n",
       "                return false;\n",
       "            }\n",
       "        }\n",
       "\n",
       "        function OfflineOverrideBody() {\n",
       "            if (!navigator.onLine && document.body != null && detectmob() == false) {\n",
       "                document.body.innerHTML = \"Loading...\";\n",
       "            }\n",
       "            setTimeout(OfflineOverrideBody, 100);\n",
       "        }\n",
       "        OfflineOverrideBody();\n",
       "\n",
       "        /*function setMenu(objatagV) {\n",
       "        $('.menuFirstNode').removeClass('active');\n",
       "        $('#' + objatagV).addClass('active');\n",
       "        CreateCookie('_tmpActiveMnu', objatagV);\n",
       "        }*/\t\n",
       "\t\t-->\n",
       "    </script>\n",
       "<script type=\"text/javascript\">\n",
       "        $(document).ready(function () { $(\"input\").attr(\"autocomplete\", \"off\"); });\n",
       "    </script>\n",
       "<style type=\"text/css\">\n",
       "       \n",
       "    .textarea-flex{\n",
       "        display: flex;\n",
       "    }\n",
       "    .facebookForumInn label{\n",
       "        margin-right:10px;\n",
       "    }\n",
       "</style>\n",
       "<link href=\"App_Themes/User/ie9.css\" rel=\"stylesheet\" type=\"text/css\"/><link href=\"App_Themes/User/jquery.ui.autocomplete.css\" rel=\"stylesheet\" type=\"text/css\"/><link href=\"App_Themes/User/jquery.ui.autocomplete.custom.css\" rel=\"stylesheet\" type=\"text/css\"/><link href=\"App_Themes/User/jQueryCalender.css\" rel=\"stylesheet\" type=\"text/css\"/><link href=\"App_Themes/User/User.css\" rel=\"stylesheet\" type=\"text/css\"/><link href=\"/writereaddata/Portal/Design_CSS/2.css\" id=\"css2\" rel=\"stylesheet\" type=\"text/css\"/><meta content=\"Former Presidents - The President of India\" name=\"keyword\"/><meta content=\"Former Presidents - The President of India\" name=\"description\"/><meta content=\"english\" name=\"language\"/><link href=\"/writereaddata/Portal/Design_CSS/7.css\" id=\"css7\" media=\"print\" rel=\"stylesheet\" type=\"text/css\"/></head>\n",
       "<body class=\"noJS\" id=\"bdMainSite\" style=\"font-size:87.5%\">\n",
       "<!--<script type=\"text/javascript\">\t\n",
       "\tfunction AddBodyClass() {\n",
       "\t\t$(\"#\" + \"bdMainSite\").addClass(\"home\");\n",
       "\t}\n",
       "\t\n",
       "</script>\n",
       "<noscript class=\"displayNone\"></noscript>-->\n",
       "<noscript class=\"noscriptDiv\">\n",
       "<div id=\"scriptOffMsg\">\n",
       "            Some of the functionalities will not work if javascript off. Please enable Javascript\n",
       "            for it.\n",
       "        </div>\n",
       "</noscript>\n",
       "<form action=\"/former-presidents.htm\" id=\"form1\" method=\"post\">\n",
       "<div class=\"aspNetHidden\">\n",
       "<input id=\"__VIEWSTATE\" name=\"__VIEWSTATE\" type=\"hidden\" value=\"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\"/>\n",
       "</div>\n",
       "<div class=\"aspNetHidden\">\n",
       "<input id=\"__VIEWSTATEGENERATOR\" name=\"__VIEWSTATEGENERATOR\" type=\"hidden\" value=\"CA0B0334\"/>\n",
       "<input id=\"__EVENTTARGET\" name=\"__EVENTTARGET\" type=\"hidden\" value=\"\"/>\n",
       "<input id=\"__EVENTARGUMENT\" name=\"__EVENTARGUMENT\" type=\"hidden\" value=\"\"/>\n",
       "<input id=\"__VIEWSTATEENCRYPTED\" name=\"__VIEWSTATEENCRYPTED\" type=\"hidden\" value=\"\"/>\n",
       "<input id=\"__EVENTVALIDATION\" name=\"__EVENTVALIDATION\" type=\"hidden\" value=\"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\"/>\n",
       "</div>\n",
       "<input id=\"bodyDefaultTextSizehdn\" name=\"ctl00$bodyDefaultTextSizehdn\" type=\"hidden\" value=\"87.5\"/>\n",
       "<input id=\"hdnSiteName\" name=\"ctl00$hdnSiteName\" type=\"hidden\" value=\"SilverCMSVanila\"/>\n",
       "<input id=\"RootPathInt\" name=\"ctl00$RootPathInt\" type=\"hidden\"/>\n",
       "<div id=\"ContentPlaceHolder1_mainbody\">\n",
       "<div id=\"wrapper\">\n",
       "<div class=\"css3\" id=\"accessbar\">\n",
       "<div class=\"container\">\n",
       "<ul class=\"alignRight\">\n",
       "<li><a class=\"inSkipContent\" href=\"#skipContent\" title=\"Skip to Main Content\">Skip to Main Content</a> /</li><li><a href=\"screen-reader-access.htm\" title=\"Screen Reader Access\">Screen Reader Access</a></li><li class=\"padT0\"><span id=\"ContentPlaceHolder1_ChangeSiteStyle1_lblTitle\"></span>\n",
       "<ul id=\"accessControl\">\n",
       "<li class=\"a padL5\">\n",
       "<input class=\"fontScaler current normal font-normal\" id=\"ContentPlaceHolder1_ChangeSiteStyle1_font_normal\" name=\"ctl00$ContentPlaceHolder1$ChangeSiteStyle1$font_normal\" onclick=\"return validate();\" title=\"Normal Font Size\" type=\"submit\" value=\"A\"/>\n",
       "</li>\n",
       "<li class=\"a a-largeFont\">\n",
       "<input class=\"fontScaler large font-large\" id=\"ContentPlaceHolder1_ChangeSiteStyle1_font_large\" name=\"ctl00$ContentPlaceHolder1$ChangeSiteStyle1$font_large\" onclick=\"return validate();\" title=\"Largest Font Size\" type=\"submit\" value=\"A+\"/>\n",
       "</li>\n",
       "<!--<li class=\"a a-largestFont\">\n",
       "        <input type=\"submit\" name=\"ctl00$ContentPlaceHolder1$ChangeSiteStyle1$font_larger\" value=\"A+\" onclick=\"return validate();\" id=\"ContentPlaceHolder1_ChangeSiteStyle1_font_larger\" title=\"Large Font Size\" class=\"fontScaler larger font-largest\" />\n",
       "    </li>-->\n",
       "<li class=\"marL5 standardContrast\">\n",
       "<input accesskey=\"7\" class=\"contrastChanger normal current sprite\" id=\"ContentPlaceHolder1_ChangeSiteStyle1_contrast_normal\" name=\"ctl00$ContentPlaceHolder1$ChangeSiteStyle1$contrast_normal\" onclick=\"return false;\" title=\"Standard View\" type=\"submit\" value=\"Standard View\"/>\n",
       "</li>\n",
       "<li class=\"marL5 highContrast\">\n",
       "<input accesskey=\"8\" class=\"contrastChanger normal sprite\" id=\"ContentPlaceHolder1_ChangeSiteStyle1_contrast_wob\" name=\"ctl00$ContentPlaceHolder1$ChangeSiteStyle1$contrast_wob\" onclick=\"return false;\" title=\"High Contrast View\" type=\"submit\" value=\"High Contrast View\"/>\n",
       "</li>\n",
       "</ul>\n",
       "</li><li class=\"padT5\">\n",
       "<div class=\"language css3 cf\"><a class=\"english active\" href=\"https://presidentofindia.nic.in/index.htm\">English</a><a class=\"hindi\" href=\"https://presidentofindia.nic.in/index-hi.htm\">Hindi</a></div>\n",
       "</li><li class=\"padT6\">\n",
       "<div class=\"search css3 cf\"><input id=\"ContentPlaceHolder1_KeywordSearch1_hdnLanguageID\" name=\"ctl00$ContentPlaceHolder1$KeywordSearch1$hdnLanguageID\" type=\"hidden\" value=\"1\"/>\n",
       "<input id=\"ContentPlaceHolder1_KeywordSearch1_hdnSiteID\" name=\"ctl00$ContentPlaceHolder1$KeywordSearch1$hdnSiteID\" type=\"hidden\" value=\"1\"/>\n",
       "<input id=\"ContentPlaceHolder1_KeywordSearch1_hdnInternalMEA\" name=\"ctl00$ContentPlaceHolder1$KeywordSearch1$hdnInternalMEA\" type=\"hidden\" value=\"0\"/>\n",
       "<div id=\"ContentPlaceHolder1_KeywordSearch1_pnlKeywordSrch\" onkeypress=\"javascript:return WebForm_FireDefaultButton(event, 'ContentPlaceHolder1_KeywordSearch1_btnSearch')\">\n",
       "<input class=\"alignLeft\" id=\"ContentPlaceHolder1_KeywordSearch1_txtKeyword\" name=\"ctl00$ContentPlaceHolder1$KeywordSearch1$txtKeyword\" onblur=\"if (this.value =='' || this.value=='&lt;%=strEnterKeyWord %&gt;') this.value = this.defaultValue;\" onfocus=\"this.value=''\" title=\"Search\" type=\"text\" value=\"Search\"/>\n",
       "<input class=\"submit sprite alignRight\" id=\"ContentPlaceHolder1_KeywordSearch1_btnSearch\" name=\"ctl00$ContentPlaceHolder1$KeywordSearch1$btnSearch\" title=\"Minimum 3 character required\" type=\"submit\" value=\"Search\"/>\n",
       "</div>\n",
       "<div class=\"searchList\">\n",
       "</div>\n",
       "<script src=\"https://www.google.com/jsapi\" type=\"text/javascript\"></script>\n",
       "<noscript class=\"displayNone\">\n",
       "</noscript>\n",
       "<script type=\"text/javascript\">\n",
       "<!--\n",
       "    function CheckString() {\n",
       "        var Key = document.getElementById('ContentPlaceHolder1_KeywordSearch1_txtKeyword');\n",
       "        if (Key.value.length < 3) {\n",
       "            Key.value = \"Minimum 3 character required\";\n",
       "            return false;\n",
       "\n",
       "        }\n",
       "        if (Key.value == Key.defaultValue) {\n",
       "            Key.value = \"Enter valid search text\";\n",
       "            return false;\n",
       "        }\n",
       "        if (Key.value == \"Minimum 3 character required\" || Key.value == \"Enter valid search text\") {\n",
       "            return false;\n",
       "        }\n",
       "        return true;\n",
       "    }\n",
       "    var hdnLanguageID = document.getElementById('ContentPlaceHolder1_KeywordSearch1_hdnLanguageID');\n",
       "    if (hdnLanguageID.value == '2') {\n",
       "        google.load(\"elements\", \"1\", { packages: \"transliteration\" });\n",
       "        function onLoad() {\n",
       "            var options = { sourceLanguage: 'en', destinationLanguage: ['hi'], shortcutKey: 'ctrl+g', transliterationEnabled: true };\n",
       "            var control = new google.elements.transliteration.TransliterationControl(options);\n",
       "            control.makeTransliteratable(['ContentPlaceHolder1_KeywordSearch1_txtKeyword']);\n",
       "        }\n",
       "        google.setOnLoadCallback(onLoad);\n",
       "    }\n",
       "\n",
       "\n",
       "    /*  Auto Suggestion Script */\n",
       "    $(function () {\n",
       "\n",
       "\n",
       "        //$(\"#ContentPlaceHolder1_KeywordSearch1_txtKeyword\").autocomplete({\n",
       "        //    source:\n",
       "\n",
       "                function (request, response) {\n",
       "                var pID;\n",
       "                var hdnSiteID = document.getElementById('ContentPlaceHolder1_KeywordSearch1_hdnSiteID'); ;\n",
       "                var hdnLanguageID = document.getElementById('ContentPlaceHolder1_KeywordSearch1_hdnLanguageID');\n",
       "                if (hdnSiteID.value == '') pID = 1;\n",
       "                else pID = hdnSiteID.value;\n",
       "                $.ajax({\n",
       "                    url: \"AutoCompleteService.asmx/AutoSugessionSiteSearch\",\n",
       "                    data: \"{ 'SearchText': '\" + escape(request.term) + \"' , 'SiteId':'\" + pID + \"', 'LanguageId':'\" + hdnLanguageID.value + \"', 'TopRecords':'\" + 'top 15' + \"' }\",\n",
       "                    dataType: \"json\",\n",
       "                    type: \"POST\",\n",
       "                    contentType: \"application/json; charset=utf-8\",\n",
       "                    dataFilter: function (data) { return data; },\n",
       "                    success: function (data) {\n",
       "                        response($.map(data.d, function (item) {\n",
       "                            var label1 = item.split(\"::\");\n",
       "                            return {\n",
       "                                value: label1[1] + \"::\" + label1[2],\n",
       "                                label: label1[0]\n",
       "                            }\n",
       "                        }))\n",
       "                    },\n",
       "                    error: function (XMLHttpRequest, textStatus, errorThrown) {\n",
       "                        //alert(textStatus);\n",
       "                    }\n",
       "                });\n",
       "            },\n",
       "            //select: function (event, ui) {\n",
       "            //    $(event.target).val(ui.item.label);\n",
       "            //    var target = ui.item.value.split(\"::\")\n",
       "            //    if (target[1] == \"_blank\") {\n",
       "            //        window.open(target[0], '_blank');\n",
       "            //    }\n",
       "            //    else {\n",
       "            //        //window.location = ui.item.value;\n",
       "            //        window.location = target[0];\n",
       "            //    }\n",
       "            //    return false;\n",
       "            //},\n",
       "            //minLength: 3,\n",
       "            //appendTo: \".searchList\"\n",
       "        });\n",
       "        /*  Auto Suggestion Script */\n",
       "        //-->\n",
       "   /* });  */       \n",
       "</script>\n",
       "<noscript class=\"displayNone\">\n",
       "</noscript>\n",
       "</div>\n",
       "</li></ul>\n",
       "</div>\n",
       "</div>\n",
       "<div class=\"container padB20\" id=\"container\">\n",
       "<div id=\"header\">\n",
       "<div class=\"padT20 cf\">\n",
       "<h1 class=\"alignLeft\" id=\"logo\" title=\"The President of India - Smt. Droupadi Murmu\">\n",
       "<a href=\"index.htm\" title=\"The President of India - Smt. Droupadi Murmu\"><img alt=\"The President of India - Smt. Droupadi Murmu\" height=\"74\" src=\"Images/logo.png\" title=\"The President of India - Smt. Droupadi Murmu\" width=\"439\"/></a></h1>\n",
       "<div class=\"alignRight\">\n",
       "<div class=\"alignLeft\">\n",
       "<ul class=\"subNav alignRight\">\n",
       "<li><a href=\"contact-us.htm\" title=\"Contact\">Contact</a></li><li><a href=\"FeedbackForm.htm\" title=\"Feedback\">Feedback</a></li><li class=\"last\"><a href=\"sitemap.htm\" title=\"Sitemap\">Sitemap</a></li></ul>\n",
       "<div class=\"social\"><a href=\"https://www.facebook.com/presidentofindia\" target=\"_blank\"><img alt=\"facebook\" src=\"Images/fb.png\" title=\"Facebook\"/><img alt=\"External website that opens in a new window\" class=\"extIcon\" src=\"Images/ext-link-icon.gif\" title=\"External website that opens in a new window\"/></a><a href=\"https://www.instagram.com/presidentofindia\" target=\"_blank\"><img alt=\"Instagram\" src=\"Images/inst.png\" title=\"Instagram\"/><img alt=\"External website that opens in a new window\" class=\"extIcon\" src=\"Images/ext-link-icon.gif\" title=\"External website that opens in a new window\"/></a><a href=\"https://twitter.com/rashtrapatibhvn\" target=\"_blank\"><img alt=\"Twitter\" src=\"Images/twitter.png\" title=\"Twitter\"/><img alt=\"External website that opens in a new window\" class=\"extIcon\" src=\"Images/ext-link-icon.gif\" title=\"External website that opens in a new window\"/></a><a href=\"https://www.youtube.com/presidentofindia\" target=\"_blank\"><img alt=\"Youtube\" src=\"Images/youtube.png\" title=\"Youtube\"/><img alt=\"External website that opens in a new window\" class=\"extIcon\" src=\"Images/ext-link-icon.gif\" title=\"External website that opens in a new window\"/></a></div>\n",
       "</div>\n",
       "<img alt=\"India - Flag\" class=\"padR5 alignRight\" height=\"50\" src=\"Images/india-flag.gif\" title=\"India - Flag\" width=\"74\"/></div>\n",
       "</div>\n",
       "</div>\n",
       "<div id=\"skipContent\"><div class=\"menuPart cf\" id=\"ContentPlaceHolder1_UserMenuHorizontal1_divMenu\"><ul id=\"nav\"><li class=\"MenuLi MenuLiFirst MenuLi1\"><a class=\"menuFirstNode\" href=\"/index.htm\" target=\"_self\" title=\"Home\"><span>Home</span></a></li><li class=\"MenuLi MenuLi2\"><a class=\"menuFirstNode\" href=\"/press-release.htm\" target=\"_self\" title=\"Press Releases\"><span>Press Releases</span></a></li><li class=\"MenuLi MenuLi3\"><a class=\"menuFirstNode\" href=\"speeches.htm\" target=\"_self\" title=\"Speeches\"><span>Speeches</span></a></li><li class=\"MenuLi MenuLi4\"><a class=\"menuFirstNode\" href=\"photo-gallery.htm\" target=\"_self\" title=\"Gallery\"><span>Gallery</span></a><ul class=\"menuSubUl\"><li class=\"firstMenuLi\"><a class=\"firstMenuLiA\" href=\"/photo-gallery.htm\" target=\"_self\" title=\"Photo Gallery\">Photo Gallery</a></li><li class=\"lastMenuLi\"><a class=\"lastMenuLiA\" href=\"/video-gallery.htm\" target=\"_self\" title=\"Video Gallery\">Video Gallery</a></li></ul></li><li class=\"MenuLi MenuLi5\"><a class=\"menuFirstNode\" href=\"/rashtrapati-bhavan.htm\" target=\"_self\" title=\"Rashtrapati Bhavan\"><span>Rashtrapati Bhavan</span></a><ul class=\"menuSubUl\"><li class=\"firstMenuLi\"><a class=\"firstMenuLiA\" href=\"/panoramic-view.htm\" target=\"_self\" title=\"Panoramic View\">Panoramic View</a></li><li><a href=\"/presidential-retreats.htm\" target=\"_self\" title=\"Presidential Retreats\">Presidential Retreats</a></li><li><a href=\"/amrit-udyan.htm\" target=\"_self\" title=\"Amrit Udyan\">Amrit Udyan</a></li><li><a href=\"/herbal-gardens.htm\" target=\"_self\" title=\"Herbal Gardens\">Herbal Gardens</a></li><li><a href=\"/visit-to-rashtrapati-bhavan.htm.htm\" target=\"_self\" title=\"Visit to Rashtrapati Bhavan\">Visit to Rashtrapati Bhavan</a></li><li class=\"lastMenuLi\"><a class=\"lastMenuLiA\" href=\"/virtual-tour-of-rashtrapati-bhavan.htm\" target=\"_self\" title=\"Virtual Tour of Rashtrapati Bhavan\">Virtual Tour of Rashtrapati Bhavan</a></li></ul></li><li class=\"MenuLi MenuLi6\"><a class=\"menuFirstNode\" href=\"/former-presidents.htm\" target=\"_self\" title=\"Former Presidents\"><span>Former Presidents</span></a></li><li class=\"MenuLi MenuLiLast MenuLi7\"><a class=\"menuFirstNode\" href=\"/eartcategory.htm\" target=\"_self\" title=\"E- Art Catalogue\"><span>E- Art Catalogue</span></a></li></ul></div>\n",
       "<input id=\"ContentPlaceHolder1_UserMenuHorizontal1_hf1\" name=\"ctl00$ContentPlaceHolder1$UserMenuHorizontal1$hf1\" type=\"hidden\" value=\"&lt;span&gt;\"/>\n",
       "<input id=\"ContentPlaceHolder1_UserMenuHorizontal1_hf2\" name=\"ctl00$ContentPlaceHolder1$UserMenuHorizontal1$hf2\" type=\"hidden\" value=\"&lt;/span&gt;\"/>\n",
       "<div class=\"contentWrap bgdWhite cf\">\n",
       "<div class=\"innerContent alignLeft\"><input id=\"ContentPlaceHolder1_BreadCrumbControl1_hdnLanguageSuffix\" name=\"ctl00$ContentPlaceHolder1$BreadCrumbControl1$hdnLanguageSuffix\" type=\"hidden\"/>\n",
       "<ul class=\"breadcrumb\">\n",
       "<li>\n",
       "<span id=\"ContentPlaceHolder1_BreadCrumbControl1_SiteMapPath1\"><span>\n",
       "<a href=\"/index.htm\" title=\"Home\">\n",
       "                    Home</a>\n",
       "</span><span> › </span><span>\n",
       "<span class=\"currentPage\" id=\"ContentPlaceHolder1_BreadCrumbControl1_SiteMapPath1_txtlabel_1\">Former Presidents</span></span></span>\n",
       "</li>\n",
       "</ul>\n",
       "<h2>Former Presidents</h2>\n",
       "<ul class=\"listing cf\">\n",
       "<li><img alt=\"Shri Ram Nath Kovind\" class=\"alignLeft\" src=\"Images/rnk.jpg\" title=\"Shri Ram Nath Kovind\"/>\n",
       "<div class=\"presidentListing\">\n",
       "<h3>Shri Ram Nath Kovind (birth - 1945)</h3>\n",
       "<p><span class=\"terms\">Term of Office:</span> 25 July, 2017 to 25 July, 2022 </p>\n",
       "<p><a href=\"https://ramnathkovind.nic.in\" target=\"_blank\">https://ramnathkovind.nic.in</a></p>\n",
       "</div>\n",
       "</li><li><img alt=\"Shri Pranab Mukherjee\" class=\"alignLeft\" src=\"Images/pranab.jpg\" title=\"Shri Pranab Mukherjee\"/>\n",
       "<div class=\"presidentListing\">\n",
       "<h3>Shri Pranab Mukherjee (1935-2020)</h3>\n",
       "<p><span class=\"terms\">Term of Office:</span> 25 July, 2012 to 25 July, 2017 </p>\n",
       "<p><a href=\"http://pranabmukherjee.nic.in\" target=\"_blank\">http://pranabmukherjee.nic.in</a></p>\n",
       "</div>\n",
       "</li><li><img alt=\"Smt Pratibha Devisingh Patil\" class=\"alignLeft\" src=\"Images/pratibha-patil.jpg\" title=\"Smt Pratibha Devisingh Patil\"/>\n",
       "<div class=\"presidentListing\">\n",
       "<h3>Smt Pratibha Devisingh Patil (birth - 1934)</h3>\n",
       "<p><span class=\"terms\">Term of Office:</span> 25 July, 2007 to 25 July, 2012 </p>\n",
       "<p><a href=\"http://pratibhapatil.nic.in\" target=\"_blank\">http://pratibhapatil.nic.in</a></p>\n",
       "</div>\n",
       "</li><li><img alt=\"DR. A.P.J. Abdul Kalam\" class=\"alignLeft\" src=\"Images/abdul-kalam.jpg\" title=\"DR. A.P.J. Abdul Kalam\"/>\n",
       "<div class=\"presidentListing\">\n",
       "<h3>DR. A.P.J. Abdul Kalam (1931-2015)</h3>\n",
       "<p><span class=\"terms\">Term of Office:</span> 25 July, 2002 to 25 July, 2007 </p>\n",
       "<p><a href=\"http://abdulkalam.nic.in\" target=\"_blank\">http://abdulkalam.nic.in</a></p>\n",
       "</div>\n",
       "</li><li><img alt=\"Shri K. R. Narayanan\" class=\"alignLeft\" src=\"Images/k-r-narayanan.jpg\" title=\"Shri K. R. Narayanan\"/>\n",
       "<div class=\"presidentListing\">\n",
       "<h3>Shri K. R. Narayanan (1920 - 2005)</h3>\n",
       "<p><span class=\"terms\">Term of Office:</span> 25 July, 1997 to 25 July, 2002 </p>\n",
       "</div>\n",
       "</li><li><img alt=\"Dr Shankar Dayal Sharma\" class=\"alignLeft\" src=\"Images/shankar-dayal-sharma.jpg\" title=\"Dr Shankar Dayal Sharma\"/>\n",
       "<div class=\"presidentListing\">\n",
       "<h3>Dr Shankar Dayal Sharma (1918-1999)</h3>\n",
       "<p><span class=\"terms\">Term of Office:</span> 25 July, 1992 to 25 July, 1997 </p>\n",
       "</div>\n",
       "</li><li><img alt=\"Shri R Venkataraman\" class=\"alignLeft\" src=\"Images/venkataraman.jpg\" title=\"Shri R Venkataraman\"/>\n",
       "<div class=\"presidentListing\">\n",
       "<h3>Shri R Venkataraman (1910-2009)</h3>\n",
       "<p><span class=\"terms\">Term of Office:</span> 25 July, 1987 to 25 July, 1992 </p>\n",
       "</div>\n",
       "</li><li><img alt=\"Giani Zail Singh\" class=\"alignLeft\" src=\"Images/giani-zail-singh.jpg\" title=\"Giani Zail Singh\"/>\n",
       "<div class=\"presidentListing\">\n",
       "<h3>Giani Zail Singh (1916-1994)</h3>\n",
       "<p><span class=\"terms\">Term of Office:</span> 25 July, 1982 to 25 July, 1987 </p>\n",
       "</div>\n",
       "</li><li><img alt=\"Shri Neelam Sanjiva Reddy\" class=\"alignLeft\" src=\"Images/neelam-sanjiva-reddy.jpg\" title=\"Shri Neelam Sanjiva Reddy\"/>\n",
       "<div class=\"presidentListing\">\n",
       "<h3>Shri Neelam Sanjiva Reddy (1913-1996)</h3>\n",
       "<p><span class=\"terms\">Term of Office:</span> 25 July, 1977 to 25 July, 1982 </p>\n",
       "</div>\n",
       "</li><li><img alt=\"Dr. Fakhruddin Ali Ahmed\" class=\"alignLeft\" src=\"Images/fakhruddin-ali-ahmed.jpg\" title=\"Dr. Fakhruddin Ali Ahmed\"/>\n",
       "<div class=\"presidentListing\">\n",
       "<h3>Dr. Fakhruddin Ali Ahmed (1905-1977)</h3>\n",
       "<p><span class=\"terms\">Term of Office:</span> 24 August, 1974 to 11 February, 1977</p>\n",
       "</div>\n",
       "</li><li><img alt=\"Shri Varahagiri Venkata Giri\" class=\"alignLeft\" src=\"Images/varahagiri-venkata-giri.jpg\" title=\"Shri Varahagiri Venkata Giri\"/>\n",
       "<div class=\"presidentListing\">\n",
       "<h3>Shri Varahagiri Venkata Giri (1894-1980)</h3>\n",
       "<p><span class=\"terms\">Term of Office:</span> 3 May, 1969 to 20 July, 1969 and 24 August, 1969 to 24 August, 1974</p>\n",
       "</div>\n",
       "</li><li><img alt=\"Dr. Zakir Husain\" class=\"alignLeft\" src=\"Images/zakir-hussion.jpg\" title=\"Dr. Zakir Husain\"/>\n",
       "<div class=\"presidentListing\">\n",
       "<h3>Dr. Zakir Husain (1897-1969)</h3>\n",
       "<p><span class=\"terms\">Term of Office:</span> 13 May, 1967 to 3 May, 1969</p>\n",
       "</div>\n",
       "</li><li><img alt=\"Dr. Sarvepalli Radhakrishnan\" class=\"alignLeft\" src=\"Images/sarvepalli-radhakrishnan.jpg\" title=\"Dr. Sarvepalli Radhakrishnan\"/>\n",
       "<div class=\"presidentListing\">\n",
       "<h3>Dr. Sarvepalli Radhakrishnan (1888-1975)</h3>\n",
       "<p><span class=\"terms\">Term of Office:</span> 13 May, 1962 to 13 May, 1967</p>\n",
       "</div>\n",
       "</li><li class=\"bordNone\"><img alt=\"Dr. Rajendra Prasad\" class=\"alignLeft\" src=\"Images/rajendra-prasad.jpg\" title=\"Dr. Rajendra Prasad\"/>\n",
       "<div class=\"presidentListing\">\n",
       "<h3>Dr. Rajendra Prasad (1884-1963) </h3>\n",
       "<p><span class=\"terms\">Term of Office:</span> 26 January, 1950 to 13 May, 1962</p>\n",
       "</div>\n",
       "</li></ul>\n",
       "</div>\n",
       "<div class=\"innerSidebar alignRight\">\n",
       "<ul class=\"sitemap cf\">\n",
       "<li><a class=\"menuFirstNode menuParent\" href=\"/index.htm\" target=\"_self\" title=\"Home\">Home</a></li><li><a class=\"menuFirstNode menuParent\" href=\"/press-release.htm\" target=\"_self\" title=\"Press Releases\">Press Releases</a></li><li><a class=\"menuFirstNode menuParent\" href=\"speeches.htm\" target=\"_self\" title=\"Speeches\">Speeches</a></li><li><a class=\"menuFirstNode menuParent\" href=\"photo-gallery.htm\" target=\"_self\" title=\"Gallery\">Gallery</a><ul><li><a class=\"menuFirstNode\" href=\"/photo-gallery.htm\" target=\"_self\" title=\"Photo Gallery\">Photo Gallery</a></li><li><a class=\"menuFirstNode\" href=\"/video-gallery.htm\" target=\"_self\" title=\"Video Gallery\">Video Gallery</a></li></ul></li><li><a class=\"menuFirstNode menuParent\" href=\"/rashtrapati-bhavan.htm\" target=\"_self\" title=\"Rashtrapati Bhavan\">Rashtrapati Bhavan</a><ul><li><a class=\"menuFirstNode\" href=\"/panoramic-view.htm\" target=\"_self\" title=\"Panoramic View\">Panoramic View</a></li><li><a class=\"menuFirstNode\" href=\"/presidential-retreats.htm\" target=\"_self\" title=\"Presidential Retreats\">Presidential Retreats</a></li><li><a class=\"menuFirstNode\" href=\"/amrit-udyan.htm\" target=\"_self\" title=\"Amrit Udyan\">Amrit Udyan</a></li><li><a class=\"menuFirstNode\" href=\"/herbal-gardens.htm\" target=\"_self\" title=\"Herbal Gardens\">Herbal Gardens</a></li><li><a class=\"menuFirstNode\" href=\"/visit-to-rashtrapati-bhavan.htm.htm\" target=\"_self\" title=\"Visit to Rashtrapati Bhavan\">Visit to Rashtrapati Bhavan</a></li><li><a class=\"menuFirstNode\" href=\"/virtual-tour-of-rashtrapati-bhavan.htm\" target=\"_self\" title=\"Virtual Tour of Rashtrapati Bhavan\">Virtual Tour of Rashtrapati Bhavan</a></li></ul></li><li><a class=\"menuFirstNode menuParent\" href=\"/former-presidents.htm\" target=\"_self\" title=\"Former Presidents\">Former Presidents</a></li><li><a class=\"menuFirstNode menuParent\" href=\"/terms-conditions.htm\" target=\"_self\" title=\"Terms &amp; Conditions\">Terms &amp; Conditions</a></li><li><a class=\"menuFirstNode menuParent\" href=\"/eartcategory.htm\" target=\"_self\" title=\"E- Art Catalogue\">E- Art Catalogue</a></li>\n",
       "</ul>\n",
       "</div>\n",
       "</div>\n",
       "</div>\n",
       "<div class=\"padB20 cf\" id=\"footer\">\n",
       "<div class=\"w800 alignLeft\">\n",
       "<p class=\"copyright\">Copyright © 2022 The Rashtrapati Bhavan.</p>\n",
       "<div class=\"footerLinks padB15\"><a href=\"terms-conditions.htm\" title=\"Terms &amp; Conditions\">Terms &amp; Conditions</a><a href=\"privacy-policy.htm\" title=\"Privacy Policy\">Privacy Policy</a><a href=\"copyright-policy.htm\" title=\"Copyright Policy\">Copyright Policy</a><a href=\"hyperlink-policy.htm\" title=\"Hyperlinking Policy\">Hyperlinking\n",
       " Policy</a><a href=\"accessibility-statement.htm\" title=\"Accessibility\">Accessibility</a><a href=\"help.htm\" title=\"Help\">Help</a><a href=\"sitemap.htm\" title=\"Sitemap\">Sitemap</a><a href=\"about_us.htm\" title=\"About Us\">About Us</a><a class=\"last\" href=\"#\" id=\"subscribePopup\" onclick=\"return SubScribeShowHide('1');\" title=\"Subscribe to Website\">Subscribe\n",
       " to Website</a></div>\n",
       "</div>\n",
       "<div class=\"alignRight\"><a href=\"http://india.gov.in/\" target=\"_blank\"><img alt=\"The National Portal of India - india.gov.in - External website that opens in a new window\" height=\"45\" src=\"Images/india-gov-in.gif\" title=\"The National Portal of India - india.gov.in - External website that opens in a new window\" width=\"126\"/></a><br/>\n",
       "<span id=\"ContentPlaceHolder1_UserHitCounter1_lblHitCount\">Visitors: <strong>83905817</strong></span>\n",
       "</div>\n",
       "<p class=\"lastUpdated\"><span id=\"ContentPlaceHolder1_UserPageLastUpdateDate1_lblPageLastUpdateDate\">Page last updated on: <strong>22-July-2022 15:58 PM</strong></span>\n",
       "</p>\n",
       "<p class=\"govNic\"><a href=\"http://www.nic.in/\" target=\"_blank\"><img alt=\"National Informatics Centre - www.nic.in - External website that opens in a new window\" height=\"28\" src=\"Images/nic-logo.gif\" title=\"National Informatics Centre - www.nic.in - External website that opens in a new window\" width=\"28\"/></a>\n",
       " Website hosted by National Informatics Centre. Website Content provided by the President's Secretariat.</p>\n",
       "</div>\n",
       "</div>\n",
       "</div>\n",
       "<script type=\"text/javascript\">\n",
       "    //<![CDATA[\n",
       "\n",
       "    function SubScribeShowHide(obj) {\n",
       "        console.log(document.getElementById(\"DivSubScribe\"));\n",
       "        if (document.getElementById(\"DivSubScribe\") != null) {\n",
       "            if (obj == '1') {\n",
       "                document.getElementById(\"DivSubScribe\").style.display = 'block';\n",
       "                document.getElementById('divfade').style.display = 'block';\n",
       "                document.getElementById('ContentPlaceHolder1_SubScribe1_hdnIspopupOpen').value = '1';\n",
       "            }\n",
       "            else {\n",
       "                document.getElementById(\"DivSubScribe\").style.display = 'none';\n",
       "                document.getElementById('divfade').style.display = 'none';\n",
       "                document.getElementById('ContentPlaceHolder1_SubScribe1_hdnIspopupOpen').value = '0';\n",
       "            }\n",
       "            clearcontrol();\n",
       "        }\n",
       "        return false;\n",
       "    }\n",
       "\n",
       "    function clearcontrol() {\n",
       "        document.getElementById('ContentPlaceHolder1_SubScribe1_ltrlMsg').innerHTML = '';\n",
       "        document.getElementById('ContentPlaceHolder1_SubScribe1_txtSubScribeName').value = '';\n",
       "        document.getElementById('ContentPlaceHolder1_SubScribe1_txtSubScribeEmail').value = '';\n",
       "        document.getElementById('ContentPlaceHolder1_SubScribe1_txtMobileNumber').value = '';\n",
       "        document.getElementById('ContentPlaceHolder1_SubScribe1_txtVerifiCationCode_Subscribe').value = '';\n",
       "        document.getElementById('ContentPlaceHolder1_SubScribe1_ddlCountry_subscribe').value = '-1';\n",
       "\n",
       "\n",
       "        document.getElementById('ContentPlaceHolder1_SubScribe1_chkSpeech').checked = false;\n",
       "        document.getElementById('ContentPlaceHolder1_SubScribe1_chkPressRelease').checked = false;\n",
       "        document.getElementById('ContentPlaceHolder1_SubScribe1_chkPhotoGallery').checked = false;\n",
       "        document.getElementById('ContentPlaceHolder1_SubScribe1_chkVideoGallery').checked = false;\n",
       "\n",
       "        // var elm = document.getElementById(\"<=chkSubScribetype.ClientID %>\");\n",
       "        //var checkBoxes = elm.getElementsByTagName(\"input\");\n",
       "        //        for (var i = 0; i < checkBoxes.length; i++) {\n",
       "        //            checkBoxes[i].checked = false;\n",
       "        //        }\n",
       "\n",
       "       \n",
       "        document.getElementById('ContentPlaceHolder1_SubScribe1_ulSubScribeForm').style.display = '';\n",
       "       \n",
       "\n",
       "        //ulOTP,ulSubScribeForm\n",
       "    }\n",
       "\n",
       "    function subscribe_validation() {\n",
       "\n",
       "        var ltrlMsg = document.getElementById('ContentPlaceHolder1_SubScribe1_ltrlMsg');\n",
       "\n",
       "        var Msg_SubScribeName = 'Please Enter Name';\n",
       "        var Msg_SubScribeEmail = 'Please Enter Email-Id';\n",
       "        var Msg_MobileNumber = 'Please Enter Mobile Number';\n",
       "        var Msg_Country = 'Please Select Country';\n",
       "        var Msg_Captcha = 'Please Enter  Verification Code';\n",
       "\n",
       "        var inputSubScribeName = myTrim(document.getElementById('ContentPlaceHolder1_SubScribe1_txtSubScribeName').value);\n",
       "        var inputSubScribeEmail = myTrim(document.getElementById('ContentPlaceHolder1_SubScribe1_txtSubScribeEmail').value);\n",
       "        var inputSubScribeMobile = myTrim(document.getElementById('ContentPlaceHolder1_SubScribe1_txtMobileNumber').value);\n",
       "        var inputCaptcha = myTrim(document.getElementById('ContentPlaceHolder1_SubScribe1_txtVerifiCationCode_Subscribe').value);\n",
       "\n",
       "        var ddlCountry_subscribe = document.getElementById('ContentPlaceHolder1_SubScribe1_ddlCountry_subscribe');\n",
       "        var CountryId = parseInt(ddlCountry_subscribe.options[ddlCountry_subscribe.selectedIndex].value);\n",
       "\n",
       "        if (inputSubScribeName == '') {\n",
       "            ltrlMsg.innerHTML = Msg_SubScribeName;\n",
       "            document.getElementById('ContentPlaceHolder1_SubScribe1_txtSubScribeName').focus();\n",
       "            return false;\n",
       "        }\n",
       "        else if (inputSubScribeEmail == '') {\n",
       "            ltrlMsg.innerHTML = Msg_SubScribeEmail;\n",
       "            document.getElementById('ContentPlaceHolder1_SubScribe1_txtSubScribeEmail').focus();\n",
       "            return false;\n",
       "        }\n",
       "        else if (inputSubScribeMobile == '') {\n",
       "            ltrlMsg.innerHTML = Msg_MobileNumber;\n",
       "            document.getElementById('ContentPlaceHolder1_SubScribe1_txtMobileNumber').focus();\n",
       "            return false;\n",
       "        }\n",
       "        else if (CountryId == -1) {\n",
       "            ltrlMsg.innerHTML = Msg_Country;\n",
       "            return false;\n",
       "        }\n",
       "        else if (inputCaptcha == '') {\n",
       "            ltrlMsg.innerHTML = Msg_Captcha;\n",
       "            document.getElementById('ContentPlaceHolder1_SubScribe1_txtVerifiCationCode_Subscribe').focus();\n",
       "            return false;\n",
       "        }\n",
       "\n",
       "        return true;\n",
       "    }\n",
       "\n",
       "    function OTPSubScribe_validation() {\n",
       "\n",
       "        var ltrlMsg = document.getElementById('ContentPlaceHolder1_SubScribe1_ltrlMsg');\n",
       "        var Msg_OTP = 'Please Enter OTP';\n",
       "      \n",
       "\n",
       "        if (inputOTP == '') {\n",
       "            ltrlMsg.innerHTML = Msg_OTP;\n",
       "           \n",
       "            return false;\n",
       "        }\n",
       "\n",
       "        return true;\n",
       "    }\n",
       "    //]]>\n",
       "</script>\n",
       "<noscript class=\"displayNone\">\n",
       "</noscript>\n",
       "<input id=\"ContentPlaceHolder1_SubScribe1_hdnLanguageID\" name=\"ctl00$ContentPlaceHolder1$SubScribe1$hdnLanguageID\" type=\"hidden\" value=\"1\"/>\n",
       "<input id=\"ContentPlaceHolder1_SubScribe1_hdnLanguageSuffix\" name=\"ctl00$ContentPlaceHolder1$SubScribe1$hdnLanguageSuffix\" type=\"hidden\"/>\n",
       "<input id=\"ContentPlaceHolder1_SubScribe1_hdnIspopupOpen\" name=\"ctl00$ContentPlaceHolder1$SubScribe1$hdnIspopupOpen\" type=\"hidden\" value=\"0\"/>\n",
       "<div class=\"subscribe-modal\">\n",
       "<div class=\"overlaySubscribe\" id=\"divfade\" style=\"Display:none;\"></div>\n",
       "<div class=\"subscribe\" id=\"DivSubScribe\" style=\"Display:none;\">\n",
       "<input alt=\"Close\" class=\"closePop\" id=\"ContentPlaceHolder1_SubScribe1_imgClose\" name=\"ctl00$ContentPlaceHolder1$SubScribe1$imgClose\" onclick=\"return SubScribeShowHide('0');\" src=\"Images/close-btn.png\" title=\"Close\" type=\"image\"/>\n",
       "<h2>\n",
       "        Subscribe\n",
       "    </h2>\n",
       "<span id=\"ContentPlaceHolder1_SubScribe1_ltrlMsg\"></span>\n",
       "<ul class=\"cf\" id=\"ContentPlaceHolder1_SubScribe1_ulSubScribeForm\">\n",
       "<li>\n",
       "<label for=\"ContentPlaceHolder1_SubScribe1_txtSubScribeName\">\n",
       "                Name\n",
       "                <span class=\"required\">*</span></label>\n",
       "<input class=\"text\" id=\"ContentPlaceHolder1_SubScribe1_txtSubScribeName\" maxlength=\"100\" name=\"ctl00$ContentPlaceHolder1$SubScribe1$txtSubScribeName\" type=\"text\"/>\n",
       "</li>\n",
       "<li>\n",
       "<label for=\"ContentPlaceHolder1_SubScribe1_txtSubScribeEmail\">\n",
       "                Email-Id\n",
       "                <span class=\"required\">*</span></label>\n",
       "<input class=\"text\" id=\"ContentPlaceHolder1_SubScribe1_txtSubScribeEmail\" maxlength=\"50\" name=\"ctl00$ContentPlaceHolder1$SubScribe1$txtSubScribeEmail\" type=\"text\"/>\n",
       "</li>\n",
       "<li>\n",
       "<div class=\"cf\">\n",
       "<label for=\"ContentPlaceHolder1_SubScribe1_txtMobileNumber\">\n",
       "                    Mobile Number\n",
       "                    <span class=\"required\">*</span>\n",
       "</label>\n",
       "<input class=\"text\" id=\"ContentPlaceHolder1_SubScribe1_txtMobileNumber\" maxlength=\"10\" name=\"ctl00$ContentPlaceHolder1$SubScribe1$txtMobileNumber\" type=\"text\"/>\n",
       "</div>\n",
       "<span class=\"digitNo\">\n",
       "                [Note : Enter 10 digit Mobile Number] <br/> [For Ex. 9898464244]\n",
       "            </span></li>\n",
       "<li>\n",
       "<label for=\"ContentPlaceHolder1_SubScribe1_ddlCountry_subscribe\">\n",
       "                Select Country\n",
       "                <span class=\"required\">*</span>\n",
       "</label>\n",
       "<select id=\"ContentPlaceHolder1_SubScribe1_ddlCountry_subscribe\" name=\"ctl00$ContentPlaceHolder1$SubScribe1$ddlCountry_subscribe\">\n",
       "<option value=\"-1\">Select Country</option>\n",
       "<option value=\"1\">Afghanistan</option>\n",
       "<option value=\"2\">Albania</option>\n",
       "<option value=\"3\">Algeria</option>\n",
       "<option value=\"4\">American Samoa</option>\n",
       "<option value=\"5\">Andorra</option>\n",
       "<option value=\"6\">Angola</option>\n",
       "<option value=\"7\">Anguilla</option>\n",
       "<option value=\"8\">Antarctica</option>\n",
       "<option value=\"9\">Antigua and Barbuda</option>\n",
       "<option value=\"10\">Argentina</option>\n",
       "<option value=\"11\">Armenia</option>\n",
       "<option value=\"12\">Aruba</option>\n",
       "<option value=\"13\">Australia</option>\n",
       "<option value=\"14\">Austria</option>\n",
       "<option value=\"15\">Azerbaijan</option>\n",
       "<option value=\"16\">Bahamas</option>\n",
       "<option value=\"17\">Bahrain</option>\n",
       "<option value=\"18\">Bangladesh</option>\n",
       "<option value=\"19\">Barbados</option>\n",
       "<option value=\"20\">Belarus</option>\n",
       "<option value=\"21\">Belgium</option>\n",
       "<option value=\"22\">Belize</option>\n",
       "<option value=\"23\">Benin</option>\n",
       "<option value=\"24\">Bermuda</option>\n",
       "<option value=\"25\">Bhutan</option>\n",
       "<option value=\"26\">Bolivia</option>\n",
       "<option value=\"27\">Bosnia and Herzegovina</option>\n",
       "<option value=\"28\">Botswana</option>\n",
       "<option value=\"29\">Brazil</option>\n",
       "<option value=\"31\">British Virgin Islands</option>\n",
       "<option value=\"32\">Brunei</option>\n",
       "<option value=\"33\">Bulgaria</option>\n",
       "<option value=\"34\">Burkina Faso</option>\n",
       "<option value=\"35\">Burma (Myanmar)</option>\n",
       "<option value=\"36\">Burundi</option>\n",
       "<option value=\"37\">Cambodia</option>\n",
       "<option value=\"38\">Cameroon</option>\n",
       "<option value=\"39\">Canada</option>\n",
       "<option value=\"40\">Cape Verde</option>\n",
       "<option value=\"41\">Cayman Islands</option>\n",
       "<option value=\"42\">Central African Republic</option>\n",
       "<option value=\"43\">Chad</option>\n",
       "<option value=\"44\">Chile</option>\n",
       "<option value=\"45\">China</option>\n",
       "<option value=\"46\">Christmas Island</option>\n",
       "<option value=\"47\">Cocos (Keeling) Islands</option>\n",
       "<option value=\"48\">Colombia</option>\n",
       "<option value=\"49\">Comoros</option>\n",
       "<option value=\"50\">Cook Islands</option>\n",
       "<option value=\"51\">Costa Rica</option>\n",
       "<option value=\"52\">Croatia</option>\n",
       "<option value=\"53\">Cuba</option>\n",
       "<option value=\"54\">Cyprus</option>\n",
       "<option value=\"55\">Czech Republic</option>\n",
       "<option value=\"56\">Democratic Republic of the Congo</option>\n",
       "<option value=\"57\">Denmark</option>\n",
       "<option value=\"58\">Djibouti</option>\n",
       "<option value=\"59\">Dominica</option>\n",
       "<option value=\"60\">Dominican Republic</option>\n",
       "<option value=\"61\">Ecuador</option>\n",
       "<option value=\"62\">Egypt</option>\n",
       "<option value=\"63\">El Salvador</option>\n",
       "<option value=\"64\">Equatorial Guinea</option>\n",
       "<option value=\"65\">Eritrea</option>\n",
       "<option value=\"66\">Estonia</option>\n",
       "<option value=\"67\">Ethiopia</option>\n",
       "<option value=\"68\">Falkland Islands</option>\n",
       "<option value=\"69\">Faroe Islands</option>\n",
       "<option value=\"70\">Fiji</option>\n",
       "<option value=\"71\">Finland</option>\n",
       "<option value=\"72\">France</option>\n",
       "<option value=\"73\">French Polynesia</option>\n",
       "<option value=\"74\">Gabon</option>\n",
       "<option value=\"75\">Gambia</option>\n",
       "<option value=\"76\">Gaza Strip</option>\n",
       "<option value=\"77\">Georgia</option>\n",
       "<option value=\"78\">Germany</option>\n",
       "<option value=\"79\">Ghana</option>\n",
       "<option value=\"80\">Gibraltar</option>\n",
       "<option value=\"81\">Greece</option>\n",
       "<option value=\"82\">Greenland</option>\n",
       "<option value=\"83\">Grenada</option>\n",
       "<option value=\"84\">Guam</option>\n",
       "<option value=\"85\">Guatemala</option>\n",
       "<option value=\"86\">Guinea</option>\n",
       "<option value=\"87\">Guinea-Bissau</option>\n",
       "<option value=\"88\">Guyana</option>\n",
       "<option value=\"89\">Haiti</option>\n",
       "<option value=\"90\">Holy See (Vatican City)</option>\n",
       "<option value=\"91\">Honduras</option>\n",
       "<option value=\"92\">Hong Kong</option>\n",
       "<option value=\"93\">Hungary</option>\n",
       "<option value=\"94\">Iceland</option>\n",
       "<option value=\"95\">India</option>\n",
       "<option value=\"96\">Indonesia</option>\n",
       "<option value=\"97\">Iran</option>\n",
       "<option value=\"98\">Iraq</option>\n",
       "<option value=\"99\">Ireland</option>\n",
       "<option value=\"100\">Isle of Man</option>\n",
       "<option value=\"101\">Israel</option>\n",
       "<option value=\"102\">Italy</option>\n",
       "<option value=\"103\">Ivory Coast</option>\n",
       "<option value=\"104\">Jamaica</option>\n",
       "<option value=\"105\">Japan</option>\n",
       "<option value=\"107\">Jordan</option>\n",
       "<option value=\"108\">Kazakhstan</option>\n",
       "<option value=\"109\">Kenya</option>\n",
       "<option value=\"110\">Kiribati</option>\n",
       "<option value=\"111\">Kosovo</option>\n",
       "<option value=\"112\">Kuwait</option>\n",
       "<option value=\"113\">Kyrgyzstan</option>\n",
       "<option value=\"114\">Laos</option>\n",
       "<option value=\"115\">Latvia</option>\n",
       "<option value=\"116\">Lebanon</option>\n",
       "<option value=\"117\">Lesotho</option>\n",
       "<option value=\"118\">Liberia</option>\n",
       "<option value=\"119\">Libya</option>\n",
       "<option value=\"120\">Liechtenstein</option>\n",
       "<option value=\"121\">Lithuania</option>\n",
       "<option value=\"122\">Luxembourg</option>\n",
       "<option value=\"123\">Macau</option>\n",
       "<option value=\"124\">Macedonia</option>\n",
       "<option value=\"125\">Madagascar</option>\n",
       "<option value=\"126\">Malawi</option>\n",
       "<option value=\"127\">Malaysia</option>\n",
       "<option value=\"128\">Maldives</option>\n",
       "<option value=\"129\">Mali</option>\n",
       "<option value=\"130\">Malta</option>\n",
       "<option value=\"131\">Marshall Islands</option>\n",
       "<option value=\"132\">Mauritania</option>\n",
       "<option value=\"133\">Mauritius</option>\n",
       "<option value=\"134\">Mayotte</option>\n",
       "<option value=\"135\">Mexico</option>\n",
       "<option value=\"136\">Micronesia</option>\n",
       "<option value=\"137\">Moldova</option>\n",
       "<option value=\"138\">Monaco</option>\n",
       "<option value=\"139\">Mongolia</option>\n",
       "<option value=\"140\">Montenegro</option>\n",
       "<option value=\"141\">Montserrat</option>\n",
       "<option value=\"142\">Morocco</option>\n",
       "<option value=\"143\">Mozambique</option>\n",
       "<option value=\"144\">Namibia</option>\n",
       "<option value=\"145\">Nauru</option>\n",
       "<option value=\"146\">Nepal</option>\n",
       "<option value=\"147\">Netherlands</option>\n",
       "<option value=\"148\">Netherlands Antilles</option>\n",
       "<option value=\"149\">New Caledonia</option>\n",
       "<option value=\"150\">New Zealand</option>\n",
       "<option value=\"151\">Nicaragua</option>\n",
       "<option value=\"152\">Niger</option>\n",
       "<option value=\"153\">Nigeria</option>\n",
       "<option value=\"154\">Niue</option>\n",
       "<option value=\"155\">Norfolk Island</option>\n",
       "<option value=\"156\">North Korea</option>\n",
       "<option value=\"157\">Northern Mariana Islands</option>\n",
       "<option value=\"158\">Norway</option>\n",
       "<option value=\"159\">Oman</option>\n",
       "<option value=\"160\">Pakistan</option>\n",
       "<option value=\"161\">Palau</option>\n",
       "<option value=\"162\">Panama</option>\n",
       "<option value=\"163\">Papua New Guinea</option>\n",
       "<option value=\"164\">Paraguay</option>\n",
       "<option value=\"165\">Peru</option>\n",
       "<option value=\"166\">Philippines</option>\n",
       "<option value=\"167\">Pitcairn Islands</option>\n",
       "<option value=\"168\">Poland</option>\n",
       "<option value=\"169\">Portugal</option>\n",
       "<option value=\"170\">Puerto Rico</option>\n",
       "<option value=\"171\">Qatar</option>\n",
       "<option value=\"172\">Republic of the Congo</option>\n",
       "<option value=\"173\">Romania</option>\n",
       "<option value=\"174\">Russia</option>\n",
       "<option value=\"175\">Rwanda</option>\n",
       "<option value=\"176\">Saint Barthelemy</option>\n",
       "<option value=\"177\">Saint Helena</option>\n",
       "<option value=\"178\">Saint Kitts and Nevis</option>\n",
       "<option value=\"179\">Saint Lucia</option>\n",
       "<option value=\"180\">Saint Martin</option>\n",
       "<option value=\"181\">Saint Pierre and Miquelon</option>\n",
       "<option value=\"182\">Saint Vincent and the Grenadines</option>\n",
       "<option value=\"183\">Samoa</option>\n",
       "<option value=\"184\">San Marino</option>\n",
       "<option value=\"185\">Sao Tome and Principe</option>\n",
       "<option value=\"186\">Saudi Arabia</option>\n",
       "<option value=\"187\">Senegal</option>\n",
       "<option value=\"188\">Serbia</option>\n",
       "<option value=\"189\">Seychelles</option>\n",
       "<option value=\"190\">Sierra Leone</option>\n",
       "<option value=\"191\">Singapore</option>\n",
       "<option value=\"192\">Slovakia</option>\n",
       "<option value=\"193\">Slovenia</option>\n",
       "<option value=\"194\">Solomon Islands</option>\n",
       "<option value=\"195\">Somalia</option>\n",
       "<option value=\"196\">South Africa</option>\n",
       "<option value=\"197\">South Korea</option>\n",
       "<option value=\"198\">Spain</option>\n",
       "<option value=\"199\">Sri Lanka</option>\n",
       "<option value=\"200\">Sudan</option>\n",
       "<option value=\"201\">Suriname</option>\n",
       "<option value=\"203\">Swaziland</option>\n",
       "<option value=\"204\">Sweden</option>\n",
       "<option value=\"205\">Switzerland</option>\n",
       "<option value=\"206\">Syria</option>\n",
       "<option value=\"207\">Taiwan</option>\n",
       "<option value=\"208\">Tajikistan</option>\n",
       "<option value=\"209\">Tanzania</option>\n",
       "<option value=\"210\">Thailand</option>\n",
       "<option value=\"211\">Timor-Leste</option>\n",
       "<option value=\"212\">Togo</option>\n",
       "<option value=\"213\">Tokelau</option>\n",
       "<option value=\"214\">Tonga</option>\n",
       "<option value=\"215\">Trinidad and Tobago</option>\n",
       "<option value=\"216\">Tunisia</option>\n",
       "<option value=\"217\">Turkey</option>\n",
       "<option value=\"218\">Turkmenistan</option>\n",
       "<option value=\"219\">Turks and Caicos Islands</option>\n",
       "<option value=\"220\">Tuvalu</option>\n",
       "<option value=\"221\">Uganda</option>\n",
       "<option value=\"222\">Ukraine</option>\n",
       "<option value=\"223\">United Arab Emirates</option>\n",
       "<option value=\"224\">United Kingdom</option>\n",
       "<option value=\"225\">United States</option>\n",
       "<option value=\"226\">Uruguay</option>\n",
       "<option value=\"227\">US Virgin Islands</option>\n",
       "<option value=\"228\">Uzbekistan</option>\n",
       "<option value=\"229\">Vanuatu</option>\n",
       "<option value=\"230\">Venezuela</option>\n",
       "<option value=\"231\">Vietnam</option>\n",
       "<option value=\"232\">Wallis and Futuna</option>\n",
       "<option value=\"233\">West Bank</option>\n",
       "<option value=\"235\">Yemen</option>\n",
       "<option value=\"236\">Zambia</option>\n",
       "<option value=\"237\">Zimbabwe</option>\n",
       "</select>\n",
       "</li>\n",
       "<li>\n",
       "<label for=\"ContentPlaceHolder1_SubScribe1_chkSpeech\">\n",
       "                SubScribe Type\n",
       "                <span class=\"required\">*</span>\n",
       "</label>\n",
       "<div class=\"subscribeType cf\">\n",
       "<label for=\"ContentPlaceHolder1_SubScribe1_chkSpeech\">\n",
       "<input id=\"ContentPlaceHolder1_SubScribe1_chkSpeech\" name=\"ctl00$ContentPlaceHolder1$SubScribe1$chkSpeech\" type=\"checkbox\" value=\"29\"/>\n",
       "                    Speech</label>\n",
       "<label for=\"ContentPlaceHolder1_SubScribe1_chkPressRelease\">\n",
       "<input id=\"ContentPlaceHolder1_SubScribe1_chkPressRelease\" name=\"ctl00$ContentPlaceHolder1$SubScribe1$chkPressRelease\" type=\"checkbox\" value=\"26\"/>\n",
       "                    Press Release</label>\n",
       "<label for=\"ContentPlaceHolder1_SubScribe1_chkPhotoGallery\">\n",
       "<input id=\"ContentPlaceHolder1_SubScribe1_chkPhotoGallery\" name=\"ctl00$ContentPlaceHolder1$SubScribe1$chkPhotoGallery\" type=\"checkbox\" value=\"4\"/>\n",
       "                    Photo Gallery</label>\n",
       "<label for=\"ContentPlaceHolder1_SubScribe1_chkVideoGallery\">\n",
       "<input id=\"ContentPlaceHolder1_SubScribe1_chkVideoGallery\" name=\"ctl00$ContentPlaceHolder1$SubScribe1$chkVideoGallery\" type=\"checkbox\" value=\"5\"/>\n",
       "                    Video Gallery</label>\n",
       "</div>\n",
       "</li>\n",
       "<li>\n",
       "<label for=\"ContentPlaceHolder1_SubScribe1_txtVerifiCationCode_Subscribe\">\n",
       "                Verification Code\n",
       "                <span class=\"required\">*</span>\n",
       "</label>\n",
       "<input class=\"text\" id=\"ContentPlaceHolder1_SubScribe1_txtVerifiCationCode_Subscribe\" name=\"ctl00$ContentPlaceHolder1$SubScribe1$txtVerifiCationCode_Subscribe\" type=\"text\"/>\n",
       "</li>\n",
       "<li style=\"padding-left: 140px;\">\n",
       "<img alt=\"Verification Code\" id=\"ContentPlaceHolder1_SubScribe1_imgCaptcha_Subscribe\" src=\"writereaddata/Portal/Captcha_Image_SubScribe/Random.gif?t=24052023055034\" style=\"height:27px;width:103px;\" title=\"Verification Code\"/>\n",
       "<input alt=\"Refresh\" id=\"ContentPlaceHolder1_SubScribe1_ibtnCaptchaRefresh_Subscribe\" name=\"ctl00$ContentPlaceHolder1$SubScribe1$ibtnCaptchaRefresh_Subscribe\" src=\"Images/verification-code-refresh.gif\" title=\"Refresh Captcha\" type=\"image\"/>\n",
       "</li>\n",
       "<li class=\"last\">\n",
       "<input id=\"ContentPlaceHolder1_SubScribe1_btnSubmit\" name=\"ctl00$ContentPlaceHolder1$SubScribe1$btnSubmit\" onclick=\"return subscribe_validation();\" title=\"Submit\" type=\"submit\" value=\"Submit\"/>\n",
       "<input class=\"submitBtn\" id=\"ContentPlaceHolder1_SubScribe1_btnCancel\" name=\"ctl00$ContentPlaceHolder1$SubScribe1$btnCancel\" title=\"Reset\" type=\"submit\" value=\"Reset\"/>\n",
       "</li>\n",
       "</ul>\n",
       "</div>\n",
       "</div>\n",
       "<script type=\"text/javascript\">\n",
       "\n",
       "    var txtVerifiCationCode_Subscribe = document.getElementById('ContentPlaceHolder1_SubScribe1_txtVerifiCationCode_Subscribe');\n",
       "    if (txtVerifiCationCode_Subscribe != null) {\n",
       "        txtVerifiCationCode_Subscribe.autocomplete = 'off';\n",
       "    }\n",
       "\n",
       "</script>\n",
       "<noscript class=\"displayNone\">\n",
       "</noscript>\n",
       "</div>\n",
       "<script type=\"text/javascript\">\n",
       "//<![CDATA[\n",
       "var theForm = document.forms['form1'];\n",
       "if (!theForm) {\n",
       "    theForm = document.form1;\n",
       "}\n",
       "function __doPostBack(eventTarget, eventArgument) {\n",
       "    if (!theForm.onsubmit || (theForm.onsubmit() != false)) {\n",
       "        theForm.__EVENTTARGET.value = eventTarget;\n",
       "        theForm.__EVENTARGUMENT.value = eventArgument;\n",
       "        theForm.submit();\n",
       "    }\n",
       "}\n",
       "//]]>\n",
       "</script><noscript class=\"displayNone\"> This website uses Javascript </noscript>\n",
       "<script src=\"/WebResource.axd?d=ClADoJHxJ6DojNKv6thdFkttJZFjj6vdHImabsUp8zUQDJnkVZiM8pbi_Sbc4juj9NndNDdKDErTI4sooGtq150unpPHOnGyhpLUrNSB_YQ1&amp;t=637811929220000000\" type=\"text/javascript\"></script><noscript class=\"displayNone\"> This website uses Javascript </noscript>\n",
       "</form>\n",
       "<!-- Start Image Flow -->\n",
       "<script src=\"js/contentflow.js\" type=\"text/javascript\"></script>\n",
       "<noscript class=\"displayNone\">\n",
       "</noscript>\n",
       "<!-- Start Google Map -->\n",
       "<script src=\"https://maps.googleapis.com/maps/api/js?sensor=false&amp;region=IN\" type=\"text/javascript\"></script>\n",
       "<noscript class=\"displayNone\">\n",
       "</noscript>\n",
       "<script src=\"js/gmap3.min.js\" type=\"text/javascript\"></script>\n",
       "<noscript class=\"displayNone\">\n",
       "</noscript>\n",
       "<script src=\"js/jquery.panorama_viewer.js\" type=\"text/javascript\"></script>\n",
       "<!-- Start Functions -->\n",
       "<script src=\"js/functions.js\" type=\"text/javascript\"></script>\n",
       "<noscript class=\"displayNone\">\n",
       "</noscript>\n",
       "<!--<script src=\"Javascript/jquery.prettyPhoto.js\" type=\"text/javascript\"></script><noscript class=\"displayNone\"></noscript>-->\n",
       "<script language=\"javascript\" type=\"text/javascript\">\n",
       "        function validate() {\n",
       "            return false;\n",
       "        }    \n",
       "    </script>\n",
       "<noscript class=\"displayNone\">\n",
       "</noscript>\n",
       "<script src=\"js/general.js\" type=\"text/javascript\"></script>\n",
       "<noscript class=\"displayNone\">\n",
       "</noscript>\n",
       "</body>\n",
       "</html>"
      ]
     },
     "execution_count": 141,
     "metadata": {},
     "output_type": "execute_result"
    }
   ],
   "source": [
    "soup=BeautifulSoup(pmpage.content)\n",
    "soup"
   ]
  },
  {
   "cell_type": "code",
   "execution_count": 142,
   "id": "98f50322",
   "metadata": {},
   "outputs": [
    {
     "data": {
      "text/plain": [
       "'Shri Ram Nath Kovind (birth - 1945)'"
      ]
     },
     "execution_count": 142,
     "metadata": {},
     "output_type": "execute_result"
    }
   ],
   "source": [
    "pm1=soup.find('h3')\n",
    "pm1.text"
   ]
  },
  {
   "cell_type": "code",
   "execution_count": 143,
   "id": "0589196d",
   "metadata": {},
   "outputs": [
    {
     "data": {
      "text/plain": [
       "['Shri Ram Nath Kovind (birth - 1945)',\n",
       " 'Shri Pranab Mukherjee (1935-2020)',\n",
       " 'Smt Pratibha Devisingh Patil (birth - 1934)',\n",
       " 'DR. A.P.J. Abdul Kalam (1931-2015)',\n",
       " 'Shri K. R. Narayanan (1920 - 2005)',\n",
       " 'Dr Shankar Dayal Sharma (1918-1999)',\n",
       " 'Shri R Venkataraman (1910-2009)',\n",
       " 'Giani Zail Singh (1916-1994)',\n",
       " 'Shri Neelam Sanjiva Reddy (1913-1996)',\n",
       " 'Dr. Fakhruddin Ali Ahmed (1905-1977)',\n",
       " 'Shri Varahagiri Venkata Giri (1894-1980)',\n",
       " 'Dr. Zakir Husain (1897-1969)',\n",
       " 'Dr. Sarvepalli Radhakrishnan (1888-1975)',\n",
       " 'Dr. Rajendra Prasad (1884-1963) ']"
      ]
     },
     "execution_count": 143,
     "metadata": {},
     "output_type": "execute_result"
    }
   ],
   "source": [
    "pm=[]\n",
    "for i in soup.find_all('h3'):\n",
    "    pm.append(i.text)\n",
    "pm"
   ]
  },
  {
   "cell_type": "code",
   "execution_count": 144,
   "id": "68f86ecd",
   "metadata": {},
   "outputs": [
    {
     "data": {
      "text/plain": [
       "['Term of Office: 25 July, 2017 to 25 July, 2022 ',\n",
       " 'Term of Office: 25 July, 2012 to 25 July, 2017 ',\n",
       " 'Term of Office: 25 July, 2007 to 25 July, 2012 ',\n",
       " 'Term of Office: 25 July, 2002 to 25 July, 2007 ',\n",
       " 'Term of Office: 25 July, 1997 to 25 July, 2002 ',\n",
       " 'Term of Office: 25 July, 1992 to 25 July, 1997 ',\n",
       " 'Term of Office: 25 July, 1987 to 25 July, 1992 ',\n",
       " 'Term of Office: 25 July, 1982 to 25 July, 1987 ',\n",
       " 'Term of Office: 25 July, 1977 to 25 July, 1982 ',\n",
       " 'Term of Office: 24 August, 1974 to 11 February, 1977',\n",
       " 'Term of Office: 3 May, 1969 to 20 July, 1969 and 24 August, 1969 to 24 August, 1974',\n",
       " 'Term of Office: 13 May, 1967 to 3 May, 1969',\n",
       " 'Term of Office: 13 May, 1962 to 13 May, 1967',\n",
       " 'Term of Office: 26 January, 1950 to 13 May, 1962']"
      ]
     },
     "execution_count": 144,
     "metadata": {},
     "output_type": "execute_result"
    }
   ],
   "source": [
    "too=[]\n",
    "for i in soup.find_all('div',class_='presidentListing'):\n",
    "    too.append(i.text.split('\\n')[2])\n",
    "too"
   ]
  },
  {
   "cell_type": "code",
   "execution_count": 145,
   "id": "8a4d6059",
   "metadata": {},
   "outputs": [
    {
     "data": {
      "text/plain": [
       "(14, 14)"
      ]
     },
     "execution_count": 145,
     "metadata": {},
     "output_type": "execute_result"
    }
   ],
   "source": [
    "len(too), len(pm)"
   ]
  },
  {
   "cell_type": "code",
   "execution_count": 146,
   "id": "3b0e6c1a",
   "metadata": {},
   "outputs": [
    {
     "data": {
      "text/html": [
       "<div>\n",
       "<style scoped>\n",
       "    .dataframe tbody tr th:only-of-type {\n",
       "        vertical-align: middle;\n",
       "    }\n",
       "\n",
       "    .dataframe tbody tr th {\n",
       "        vertical-align: top;\n",
       "    }\n",
       "\n",
       "    .dataframe thead th {\n",
       "        text-align: right;\n",
       "    }\n",
       "</style>\n",
       "<table border=\"1\" class=\"dataframe\">\n",
       "  <thead>\n",
       "    <tr style=\"text-align: right;\">\n",
       "      <th></th>\n",
       "      <th>Name</th>\n",
       "      <th>Term Of Office</th>\n",
       "    </tr>\n",
       "  </thead>\n",
       "  <tbody>\n",
       "    <tr>\n",
       "      <th>0</th>\n",
       "      <td>Shri Ram Nath Kovind (birth - 1945)</td>\n",
       "      <td>Term of Office: 25 July, 2017 to 25 July, 2022</td>\n",
       "    </tr>\n",
       "    <tr>\n",
       "      <th>1</th>\n",
       "      <td>Shri Pranab Mukherjee (1935-2020)</td>\n",
       "      <td>Term of Office: 25 July, 2012 to 25 July, 2017</td>\n",
       "    </tr>\n",
       "    <tr>\n",
       "      <th>2</th>\n",
       "      <td>Smt Pratibha Devisingh Patil (birth - 1934)</td>\n",
       "      <td>Term of Office: 25 July, 2007 to 25 July, 2012</td>\n",
       "    </tr>\n",
       "    <tr>\n",
       "      <th>3</th>\n",
       "      <td>DR. A.P.J. Abdul Kalam (1931-2015)</td>\n",
       "      <td>Term of Office: 25 July, 2002 to 25 July, 2007</td>\n",
       "    </tr>\n",
       "    <tr>\n",
       "      <th>4</th>\n",
       "      <td>Shri K. R. Narayanan (1920 - 2005)</td>\n",
       "      <td>Term of Office: 25 July, 1997 to 25 July, 2002</td>\n",
       "    </tr>\n",
       "    <tr>\n",
       "      <th>5</th>\n",
       "      <td>Dr Shankar Dayal Sharma (1918-1999)</td>\n",
       "      <td>Term of Office: 25 July, 1992 to 25 July, 1997</td>\n",
       "    </tr>\n",
       "    <tr>\n",
       "      <th>6</th>\n",
       "      <td>Shri R Venkataraman (1910-2009)</td>\n",
       "      <td>Term of Office: 25 July, 1987 to 25 July, 1992</td>\n",
       "    </tr>\n",
       "    <tr>\n",
       "      <th>7</th>\n",
       "      <td>Giani Zail Singh (1916-1994)</td>\n",
       "      <td>Term of Office: 25 July, 1982 to 25 July, 1987</td>\n",
       "    </tr>\n",
       "    <tr>\n",
       "      <th>8</th>\n",
       "      <td>Shri Neelam Sanjiva Reddy (1913-1996)</td>\n",
       "      <td>Term of Office: 25 July, 1977 to 25 July, 1982</td>\n",
       "    </tr>\n",
       "    <tr>\n",
       "      <th>9</th>\n",
       "      <td>Dr. Fakhruddin Ali Ahmed (1905-1977)</td>\n",
       "      <td>Term of Office: 24 August, 1974 to 11 February...</td>\n",
       "    </tr>\n",
       "    <tr>\n",
       "      <th>10</th>\n",
       "      <td>Shri Varahagiri Venkata Giri (1894-1980)</td>\n",
       "      <td>Term of Office: 3 May, 1969 to 20 July, 1969 a...</td>\n",
       "    </tr>\n",
       "    <tr>\n",
       "      <th>11</th>\n",
       "      <td>Dr. Zakir Husain (1897-1969)</td>\n",
       "      <td>Term of Office: 13 May, 1967 to 3 May, 1969</td>\n",
       "    </tr>\n",
       "    <tr>\n",
       "      <th>12</th>\n",
       "      <td>Dr. Sarvepalli Radhakrishnan (1888-1975)</td>\n",
       "      <td>Term of Office: 13 May, 1962 to 13 May, 1967</td>\n",
       "    </tr>\n",
       "    <tr>\n",
       "      <th>13</th>\n",
       "      <td>Dr. Rajendra Prasad (1884-1963)</td>\n",
       "      <td>Term of Office: 26 January, 1950 to 13 May, 1962</td>\n",
       "    </tr>\n",
       "  </tbody>\n",
       "</table>\n",
       "</div>"
      ],
      "text/plain": [
       "                                           Name  \\\n",
       "0           Shri Ram Nath Kovind (birth - 1945)   \n",
       "1             Shri Pranab Mukherjee (1935-2020)   \n",
       "2   Smt Pratibha Devisingh Patil (birth - 1934)   \n",
       "3            DR. A.P.J. Abdul Kalam (1931-2015)   \n",
       "4            Shri K. R. Narayanan (1920 - 2005)   \n",
       "5           Dr Shankar Dayal Sharma (1918-1999)   \n",
       "6               Shri R Venkataraman (1910-2009)   \n",
       "7                  Giani Zail Singh (1916-1994)   \n",
       "8         Shri Neelam Sanjiva Reddy (1913-1996)   \n",
       "9          Dr. Fakhruddin Ali Ahmed (1905-1977)   \n",
       "10     Shri Varahagiri Venkata Giri (1894-1980)   \n",
       "11                 Dr. Zakir Husain (1897-1969)   \n",
       "12     Dr. Sarvepalli Radhakrishnan (1888-1975)   \n",
       "13             Dr. Rajendra Prasad (1884-1963)    \n",
       "\n",
       "                                       Term Of Office  \n",
       "0     Term of Office: 25 July, 2017 to 25 July, 2022   \n",
       "1     Term of Office: 25 July, 2012 to 25 July, 2017   \n",
       "2     Term of Office: 25 July, 2007 to 25 July, 2012   \n",
       "3     Term of Office: 25 July, 2002 to 25 July, 2007   \n",
       "4     Term of Office: 25 July, 1997 to 25 July, 2002   \n",
       "5     Term of Office: 25 July, 1992 to 25 July, 1997   \n",
       "6     Term of Office: 25 July, 1987 to 25 July, 1992   \n",
       "7     Term of Office: 25 July, 1982 to 25 July, 1987   \n",
       "8     Term of Office: 25 July, 1977 to 25 July, 1982   \n",
       "9   Term of Office: 24 August, 1974 to 11 February...  \n",
       "10  Term of Office: 3 May, 1969 to 20 July, 1969 a...  \n",
       "11        Term of Office: 13 May, 1967 to 3 May, 1969  \n",
       "12       Term of Office: 13 May, 1962 to 13 May, 1967  \n",
       "13   Term of Office: 26 January, 1950 to 13 May, 1962  "
      ]
     },
     "execution_count": 146,
     "metadata": {},
     "output_type": "execute_result"
    }
   ],
   "source": [
    "pm=pd.DataFrame({'Name':pm,'Term Of Office':too})\n",
    "pm"
   ]
  },
  {
   "cell_type": "code",
   "execution_count": 147,
   "id": "9664ed09",
   "metadata": {},
   "outputs": [
    {
     "data": {
      "text/plain": [
       "<Response [200]>"
      ]
     },
     "execution_count": 147,
     "metadata": {},
     "output_type": "execute_result"
    }
   ],
   "source": [
    "odir=requests.get('https://www.icc-cricket.com/rankings/mens/team-rankings/odi')\n",
    "odir"
   ]
  },
  {
   "cell_type": "code",
   "execution_count": 148,
   "id": "376b37ff",
   "metadata": {},
   "outputs": [],
   "source": [
    "odi=BeautifulSoup(odir.content)"
   ]
  },
  {
   "cell_type": "code",
   "execution_count": 149,
   "id": "3e4055aa",
   "metadata": {},
   "outputs": [
    {
     "data": {
      "text/plain": [
       "['Australia']"
      ]
     },
     "execution_count": 149,
     "metadata": {},
     "output_type": "execute_result"
    }
   ],
   "source": [
    "t=odi.find('span',class_='u-hide-phablet')\n",
    "t.text.split('\\n')"
   ]
  },
  {
   "cell_type": "code",
   "execution_count": 150,
   "id": "62134886",
   "metadata": {},
   "outputs": [
    {
     "data": {
      "text/plain": [
       "['Australia',\n",
       " 'Pakistan',\n",
       " 'India',\n",
       " 'New Zealand',\n",
       " 'England',\n",
       " 'South Africa',\n",
       " 'Bangladesh',\n",
       " 'Afghanistan',\n",
       " 'Sri Lanka',\n",
       " 'West Indies']"
      ]
     },
     "execution_count": 150,
     "metadata": {},
     "output_type": "execute_result"
    }
   ],
   "source": [
    "teams=[]\n",
    "for i in odi.find_all('span',class_=\"u-hide-phablet\"):\n",
    "    teams.append(i.text)\n",
    "teams\n",
    "t10=teams[:10]\n",
    "t10"
   ]
  },
  {
   "cell_type": "code",
   "execution_count": 151,
   "id": "c71c7bb9",
   "metadata": {},
   "outputs": [
    {
     "data": {
      "text/plain": [
       "'23'"
      ]
     },
     "execution_count": 151,
     "metadata": {},
     "output_type": "execute_result"
    }
   ],
   "source": [
    "australia=odi.find('td',class_='rankings-block__banner--matches')\n",
    "australia.text"
   ]
  },
  {
   "cell_type": "code",
   "execution_count": 152,
   "id": "fa1e5e66",
   "metadata": {},
   "outputs": [
    {
     "data": {
      "text/plain": [
       "['20', '33', '27', '24', '19', '25', '10', '21', '25']"
      ]
     },
     "execution_count": 152,
     "metadata": {},
     "output_type": "execute_result"
    }
   ],
   "source": [
    "matches=[]\n",
    "for i in odi.find_all('tr',class_='table-body'):\n",
    "    matches.append(i.text.split('\\n')[7])\n",
    "\n",
    "matches9=matches[:9]\n",
    "matches9"
   ]
  },
  {
   "cell_type": "code",
   "execution_count": 153,
   "id": "fec710bd",
   "metadata": {},
   "outputs": [
    {
     "data": {
      "text/plain": [
       "['23', '20', '33', '27', '24', '19', '25', '10', '21', '25']"
      ]
     },
     "execution_count": 153,
     "metadata": {},
     "output_type": "execute_result"
    }
   ],
   "source": [
    "m10=[australia.text]+matches9\n",
    "m10"
   ]
  },
  {
   "cell_type": "code",
   "execution_count": 154,
   "id": "da666a83",
   "metadata": {},
   "outputs": [
    {
     "data": {
      "text/plain": [
       "'2,714'"
      ]
     },
     "execution_count": 154,
     "metadata": {},
     "output_type": "execute_result"
    }
   ],
   "source": [
    "australiap=odi.find('td',class_='rankings-block__banner--points')\n",
    "australiap.text"
   ]
  },
  {
   "cell_type": "code",
   "execution_count": 155,
   "id": "a04a8c3a",
   "metadata": {},
   "outputs": [],
   "source": [
    "points=[]\n",
    "for i in odi.find_all('tr',class_='table-body'):\n",
    "    points.append(i.text.split('\\n')[8])\n",
    "points9=points[:9]"
   ]
  },
  {
   "cell_type": "code",
   "execution_count": 156,
   "id": "fe6c2f21",
   "metadata": {},
   "outputs": [
    {
     "name": "stdout",
     "output_type": "stream",
     "text": [
      "['2,714', '2,316', '3,807', '2,806', '2,426', '1,910', '2,451', '878', '1,682', '1,797']"
     ]
    }
   ],
   "source": [
    "p10=[australiap.text]+points[:9]\n",
    "print(p10,end='')"
   ]
  },
  {
   "cell_type": "code",
   "execution_count": 157,
   "id": "62559b1c",
   "metadata": {},
   "outputs": [
    {
     "data": {
      "text/plain": [
       "'                            118'"
      ]
     },
     "execution_count": 157,
     "metadata": {},
     "output_type": "execute_result"
    }
   ],
   "source": [
    "australiar=odi.find('td',class_='rankings-block__banner--rating')\n",
    "r1=australiar.text.split('\\n')[1]\n",
    "r1"
   ]
  },
  {
   "cell_type": "code",
   "execution_count": 158,
   "id": "9a3053e9",
   "metadata": {},
   "outputs": [
    {
     "name": "stdout",
     "output_type": "stream",
     "text": [
      "['116', '115', '104', '101', '101', '98', '88', '80', '72', '51', '46', '46', '37', '35', '29', '26', '20', '18', '4']"
     ]
    }
   ],
   "source": [
    "ratings=[]\n",
    "for i in odi.find_all('tr',class_='table-body'):\n",
    "    ratings.append(i.text.split('\\n')[9])\n",
    "print(ratings,end='')"
   ]
  },
  {
   "cell_type": "code",
   "execution_count": 159,
   "id": "c212cd85",
   "metadata": {},
   "outputs": [
    {
     "data": {
      "text/plain": [
       "['                            118',\n",
       " '116',\n",
       " '115',\n",
       " '104',\n",
       " '101',\n",
       " '101',\n",
       " '98',\n",
       " '88',\n",
       " '80',\n",
       " '72']"
      ]
     },
     "execution_count": 159,
     "metadata": {},
     "output_type": "execute_result"
    }
   ],
   "source": [
    "r10=[r1]+ratings[:9]\n",
    "r10"
   ]
  },
  {
   "cell_type": "code",
   "execution_count": 160,
   "id": "c6309ba7",
   "metadata": {},
   "outputs": [
    {
     "data": {
      "text/html": [
       "<div>\n",
       "<style scoped>\n",
       "    .dataframe tbody tr th:only-of-type {\n",
       "        vertical-align: middle;\n",
       "    }\n",
       "\n",
       "    .dataframe tbody tr th {\n",
       "        vertical-align: top;\n",
       "    }\n",
       "\n",
       "    .dataframe thead th {\n",
       "        text-align: right;\n",
       "    }\n",
       "</style>\n",
       "<table border=\"1\" class=\"dataframe\">\n",
       "  <thead>\n",
       "    <tr style=\"text-align: right;\">\n",
       "      <th></th>\n",
       "      <th>Teams</th>\n",
       "      <th>Matches</th>\n",
       "      <th>Points</th>\n",
       "      <th>Ratings</th>\n",
       "    </tr>\n",
       "  </thead>\n",
       "  <tbody>\n",
       "    <tr>\n",
       "      <th>0</th>\n",
       "      <td>Australia</td>\n",
       "      <td>23</td>\n",
       "      <td>2,714</td>\n",
       "      <td>118</td>\n",
       "    </tr>\n",
       "    <tr>\n",
       "      <th>1</th>\n",
       "      <td>Pakistan</td>\n",
       "      <td>20</td>\n",
       "      <td>2,316</td>\n",
       "      <td>116</td>\n",
       "    </tr>\n",
       "    <tr>\n",
       "      <th>2</th>\n",
       "      <td>India</td>\n",
       "      <td>33</td>\n",
       "      <td>3,807</td>\n",
       "      <td>115</td>\n",
       "    </tr>\n",
       "    <tr>\n",
       "      <th>3</th>\n",
       "      <td>New Zealand</td>\n",
       "      <td>27</td>\n",
       "      <td>2,806</td>\n",
       "      <td>104</td>\n",
       "    </tr>\n",
       "    <tr>\n",
       "      <th>4</th>\n",
       "      <td>England</td>\n",
       "      <td>24</td>\n",
       "      <td>2,426</td>\n",
       "      <td>101</td>\n",
       "    </tr>\n",
       "    <tr>\n",
       "      <th>5</th>\n",
       "      <td>South Africa</td>\n",
       "      <td>19</td>\n",
       "      <td>1,910</td>\n",
       "      <td>101</td>\n",
       "    </tr>\n",
       "    <tr>\n",
       "      <th>6</th>\n",
       "      <td>Bangladesh</td>\n",
       "      <td>25</td>\n",
       "      <td>2,451</td>\n",
       "      <td>98</td>\n",
       "    </tr>\n",
       "    <tr>\n",
       "      <th>7</th>\n",
       "      <td>Afghanistan</td>\n",
       "      <td>10</td>\n",
       "      <td>878</td>\n",
       "      <td>88</td>\n",
       "    </tr>\n",
       "    <tr>\n",
       "      <th>8</th>\n",
       "      <td>Sri Lanka</td>\n",
       "      <td>21</td>\n",
       "      <td>1,682</td>\n",
       "      <td>80</td>\n",
       "    </tr>\n",
       "    <tr>\n",
       "      <th>9</th>\n",
       "      <td>West Indies</td>\n",
       "      <td>25</td>\n",
       "      <td>1,797</td>\n",
       "      <td>72</td>\n",
       "    </tr>\n",
       "  </tbody>\n",
       "</table>\n",
       "</div>"
      ],
      "text/plain": [
       "          Teams Matches Points                          Ratings\n",
       "0     Australia      23  2,714                              118\n",
       "1      Pakistan      20  2,316                              116\n",
       "2         India      33  3,807                              115\n",
       "3   New Zealand      27  2,806                              104\n",
       "4       England      24  2,426                              101\n",
       "5  South Africa      19  1,910                              101\n",
       "6    Bangladesh      25  2,451                               98\n",
       "7   Afghanistan      10    878                               88\n",
       "8     Sri Lanka      21  1,682                               80\n",
       "9   West Indies      25  1,797                               72"
      ]
     },
     "execution_count": 160,
     "metadata": {},
     "output_type": "execute_result"
    }
   ],
   "source": [
    "ODI_top_10_teams=pd.DataFrame({'Teams':t10, 'Matches':m10, \"Points\":p10,\"Ratings\":r10})\n",
    "ODI_top_10_teams"
   ]
  },
  {
   "cell_type": "code",
   "execution_count": 161,
   "id": "cdaa766d",
   "metadata": {},
   "outputs": [],
   "source": [
    "players=requests.get('https://www.icc-cricket.com/rankings/mens/player-rankings/odi')"
   ]
  },
  {
   "cell_type": "code",
   "execution_count": 162,
   "id": "d888d071",
   "metadata": {},
   "outputs": [],
   "source": [
    "pl=BeautifulSoup(players.content)\n"
   ]
  },
  {
   "cell_type": "code",
   "execution_count": 163,
   "id": "f95be1c6",
   "metadata": {},
   "outputs": [
    {
     "data": {
      "text/plain": [
       "'Babar Azam'"
      ]
     },
     "execution_count": 163,
     "metadata": {},
     "output_type": "execute_result"
    }
   ],
   "source": [
    "pl1=pl.find('div',class_='rankings-block__banner--name')\n",
    "pl1.text"
   ]
  },
  {
   "cell_type": "code",
   "execution_count": 164,
   "id": "fb7247af",
   "metadata": {},
   "outputs": [
    {
     "data": {
      "text/plain": [
       "['Babar Azam',\n",
       " 'Rassie van der Dussen',\n",
       " 'Fakhar Zaman',\n",
       " 'Imam-ul-Haq',\n",
       " 'Shubman Gill',\n",
       " 'David Warner',\n",
       " 'Harry Tector',\n",
       " 'Virat Kohli',\n",
       " 'Quinton de Kock',\n",
       " 'Rohit Sharma']"
      ]
     },
     "execution_count": 164,
     "metadata": {},
     "output_type": "execute_result"
    }
   ],
   "source": [
    "plsa=[]\n",
    "for i in pl.find_all('td',class_='table-body__cell name'):\n",
    "        plsa.append(i.text.split('\\n')[1])\n",
    "pl10=[pl1.text]+plsa[:9]\n",
    "pl10"
   ]
  },
  {
   "cell_type": "code",
   "execution_count": 165,
   "id": "3fbc0458",
   "metadata": {},
   "outputs": [
    {
     "data": {
      "text/plain": [
       "'PAK'"
      ]
     },
     "execution_count": 165,
     "metadata": {},
     "output_type": "execute_result"
    }
   ],
   "source": [
    "pt0=pl.find('div',class_='rankings-block__banner--nationality')\n",
    "pt1=pt0.text.split('\\n')[2]\n",
    "pt1"
   ]
  },
  {
   "cell_type": "code",
   "execution_count": 166,
   "id": "dcafb2c4",
   "metadata": {},
   "outputs": [
    {
     "data": {
      "text/plain": [
       "['PAK', 'SA', 'PAK', 'PAK', 'IND', 'AUS', 'IRE', 'IND', 'SA', 'IND']"
      ]
     },
     "execution_count": 166,
     "metadata": {},
     "output_type": "execute_result"
    }
   ],
   "source": [
    "ptf=[]\n",
    "for i in pl.find_all('span',class_='table-body__logo-text'):\n",
    "    ptf.append(i.text)\n",
    "pt10=[pt1]+ptf[:9]\n",
    "pt10"
   ]
  },
  {
   "cell_type": "code",
   "execution_count": 167,
   "id": "ee6f1c5b",
   "metadata": {},
   "outputs": [
    {
     "data": {
      "text/plain": [
       "['886']"
      ]
     },
     "execution_count": 167,
     "metadata": {},
     "output_type": "execute_result"
    }
   ],
   "source": [
    "pr0=pl.find('div',class_='rankings-block__banner--rating')\n",
    "pr1=pr0.text.split('\\n')\n",
    "pr1"
   ]
  },
  {
   "cell_type": "code",
   "execution_count": 168,
   "id": "0fc25790",
   "metadata": {},
   "outputs": [
    {
     "data": {
      "text/plain": [
       "['886', '777', '755', '745', '738', '726', '722', '719', '718', '707']"
      ]
     },
     "execution_count": 168,
     "metadata": {},
     "output_type": "execute_result"
    }
   ],
   "source": [
    "prf=[]\n",
    "for i in pl.find_all('td',class_='table-body__cell u-text-right rating'):\n",
    "    prf.append(i.text)\n",
    "pr10=pr1+prf[:9]\n",
    "pr10"
   ]
  },
  {
   "cell_type": "code",
   "execution_count": 169,
   "id": "86497f06",
   "metadata": {},
   "outputs": [
    {
     "data": {
      "text/html": [
       "<div>\n",
       "<style scoped>\n",
       "    .dataframe tbody tr th:only-of-type {\n",
       "        vertical-align: middle;\n",
       "    }\n",
       "\n",
       "    .dataframe tbody tr th {\n",
       "        vertical-align: top;\n",
       "    }\n",
       "\n",
       "    .dataframe thead th {\n",
       "        text-align: right;\n",
       "    }\n",
       "</style>\n",
       "<table border=\"1\" class=\"dataframe\">\n",
       "  <thead>\n",
       "    <tr style=\"text-align: right;\">\n",
       "      <th></th>\n",
       "      <th>NAME</th>\n",
       "      <th>TEAM</th>\n",
       "      <th>RATINGS</th>\n",
       "    </tr>\n",
       "  </thead>\n",
       "  <tbody>\n",
       "    <tr>\n",
       "      <th>0</th>\n",
       "      <td>Babar Azam</td>\n",
       "      <td>PAK</td>\n",
       "      <td>886</td>\n",
       "    </tr>\n",
       "    <tr>\n",
       "      <th>1</th>\n",
       "      <td>Rassie van der Dussen</td>\n",
       "      <td>SA</td>\n",
       "      <td>777</td>\n",
       "    </tr>\n",
       "    <tr>\n",
       "      <th>2</th>\n",
       "      <td>Fakhar Zaman</td>\n",
       "      <td>PAK</td>\n",
       "      <td>755</td>\n",
       "    </tr>\n",
       "    <tr>\n",
       "      <th>3</th>\n",
       "      <td>Imam-ul-Haq</td>\n",
       "      <td>PAK</td>\n",
       "      <td>745</td>\n",
       "    </tr>\n",
       "    <tr>\n",
       "      <th>4</th>\n",
       "      <td>Shubman Gill</td>\n",
       "      <td>IND</td>\n",
       "      <td>738</td>\n",
       "    </tr>\n",
       "    <tr>\n",
       "      <th>5</th>\n",
       "      <td>David Warner</td>\n",
       "      <td>AUS</td>\n",
       "      <td>726</td>\n",
       "    </tr>\n",
       "    <tr>\n",
       "      <th>6</th>\n",
       "      <td>Harry Tector</td>\n",
       "      <td>IRE</td>\n",
       "      <td>722</td>\n",
       "    </tr>\n",
       "    <tr>\n",
       "      <th>7</th>\n",
       "      <td>Virat Kohli</td>\n",
       "      <td>IND</td>\n",
       "      <td>719</td>\n",
       "    </tr>\n",
       "    <tr>\n",
       "      <th>8</th>\n",
       "      <td>Quinton de Kock</td>\n",
       "      <td>SA</td>\n",
       "      <td>718</td>\n",
       "    </tr>\n",
       "    <tr>\n",
       "      <th>9</th>\n",
       "      <td>Rohit Sharma</td>\n",
       "      <td>IND</td>\n",
       "      <td>707</td>\n",
       "    </tr>\n",
       "  </tbody>\n",
       "</table>\n",
       "</div>"
      ],
      "text/plain": [
       "                    NAME TEAM RATINGS\n",
       "0             Babar Azam  PAK     886\n",
       "1  Rassie van der Dussen   SA     777\n",
       "2           Fakhar Zaman  PAK     755\n",
       "3            Imam-ul-Haq  PAK     745\n",
       "4           Shubman Gill  IND     738\n",
       "5           David Warner  AUS     726\n",
       "6           Harry Tector  IRE     722\n",
       "7            Virat Kohli  IND     719\n",
       "8        Quinton de Kock   SA     718\n",
       "9           Rohit Sharma  IND     707"
      ]
     },
     "execution_count": 169,
     "metadata": {},
     "output_type": "execute_result"
    }
   ],
   "source": [
    "ODI_top_10_batsmen=pd.DataFrame({'NAME':pl10,'TEAM':pt10,'RATINGS':pr10})\n",
    "ODI_top_10_batsmen"
   ]
  },
  {
   "cell_type": "code",
   "execution_count": 170,
   "id": "912bd80c",
   "metadata": {},
   "outputs": [],
   "source": [
    "bowl=requests.get('https://www.icc-cricket.com/rankings/mens/player-rankings/odi/bowling')"
   ]
  },
  {
   "cell_type": "code",
   "execution_count": 171,
   "id": "6580fe01",
   "metadata": {},
   "outputs": [],
   "source": [
    "b=BeautifulSoup(bowl.content)"
   ]
  },
  {
   "cell_type": "code",
   "execution_count": 172,
   "id": "f950f584",
   "metadata": {},
   "outputs": [
    {
     "data": {
      "text/plain": [
       "'Josh Hazlewood'"
      ]
     },
     "execution_count": 172,
     "metadata": {},
     "output_type": "execute_result"
    }
   ],
   "source": [
    "b1=b.find('div',class_='rankings-block__banner--name-large')\n",
    "b1.text"
   ]
  },
  {
   "cell_type": "code",
   "execution_count": 173,
   "id": "6f1a6a6f",
   "metadata": {},
   "outputs": [
    {
     "data": {
      "text/plain": [
       "['Josh Hazlewood',\n",
       " 'Mohammed Siraj',\n",
       " 'Mitchell Starc',\n",
       " 'Matt Henry',\n",
       " 'Trent Boult',\n",
       " 'Rashid Khan',\n",
       " 'Adam Zampa',\n",
       " 'Mujeeb Ur Rahman',\n",
       " 'Mohammad Nabi',\n",
       " 'Shaheen Afridi']"
      ]
     },
     "execution_count": 173,
     "metadata": {},
     "output_type": "execute_result"
    }
   ],
   "source": [
    "ball=[]\n",
    "for i in b.find_all('td',class_='table-body__cell rankings-table__name name'):\n",
    "    ball.append(i.text.split('\\n')[1])\n",
    "\n",
    "ball10=[b1.text]+ball[:9]\n",
    "ball10"
   ]
  },
  {
   "cell_type": "code",
   "execution_count": 174,
   "id": "2cfcf368",
   "metadata": {},
   "outputs": [],
   "source": [
    "bc0=b.find('div',class_='rankings-block__banner--nationality')\n",
    "bc1=bc0.text.split('\\n')[2]"
   ]
  },
  {
   "cell_type": "code",
   "execution_count": 175,
   "id": "2655f5f8",
   "metadata": {},
   "outputs": [
    {
     "data": {
      "text/plain": [
       "['AUS', 'IND', 'AUS', 'NZ', 'NZ', 'AFG', 'AUS', 'AFG', 'AFG', 'PAK']"
      ]
     },
     "execution_count": 175,
     "metadata": {},
     "output_type": "execute_result"
    }
   ],
   "source": [
    "bc=[]\n",
    "for i in b.find_all('span',class_='table-body__logo-text'):\n",
    "    bc.append(i.text)\n",
    "\n",
    "bc10=[bc1]+bc[:9]\n",
    "bc10"
   ]
  },
  {
   "cell_type": "code",
   "execution_count": 176,
   "id": "8c89bd4f",
   "metadata": {},
   "outputs": [
    {
     "data": {
      "text/plain": [
       "'705'"
      ]
     },
     "execution_count": 176,
     "metadata": {},
     "output_type": "execute_result"
    }
   ],
   "source": [
    "br1=b.find('div',class_='rankings-block__banner--rating')\n",
    "br1.text"
   ]
  },
  {
   "cell_type": "code",
   "execution_count": 177,
   "id": "aef7aaf3",
   "metadata": {},
   "outputs": [
    {
     "data": {
      "text/plain": [
       "['705', '691', '686', '667', '660', '659', '652', '637', '631', '630']"
      ]
     },
     "execution_count": 177,
     "metadata": {},
     "output_type": "execute_result"
    }
   ],
   "source": [
    "br=[]\n",
    "for i in b.find_all('td',class_='table-body__cell rating'):\n",
    "    br.append(i.text)\n",
    "\n",
    "br10=[br1.text]+br[:9]\n",
    "br10"
   ]
  },
  {
   "cell_type": "code",
   "execution_count": 178,
   "id": "5d14f78b",
   "metadata": {},
   "outputs": [
    {
     "data": {
      "text/html": [
       "<div>\n",
       "<style scoped>\n",
       "    .dataframe tbody tr th:only-of-type {\n",
       "        vertical-align: middle;\n",
       "    }\n",
       "\n",
       "    .dataframe tbody tr th {\n",
       "        vertical-align: top;\n",
       "    }\n",
       "\n",
       "    .dataframe thead th {\n",
       "        text-align: right;\n",
       "    }\n",
       "</style>\n",
       "<table border=\"1\" class=\"dataframe\">\n",
       "  <thead>\n",
       "    <tr style=\"text-align: right;\">\n",
       "      <th></th>\n",
       "      <th>NAME</th>\n",
       "      <th>TEAM</th>\n",
       "      <th>RATINGS</th>\n",
       "    </tr>\n",
       "  </thead>\n",
       "  <tbody>\n",
       "    <tr>\n",
       "      <th>0</th>\n",
       "      <td>Josh Hazlewood</td>\n",
       "      <td>AUS</td>\n",
       "      <td>705</td>\n",
       "    </tr>\n",
       "    <tr>\n",
       "      <th>1</th>\n",
       "      <td>Mohammed Siraj</td>\n",
       "      <td>IND</td>\n",
       "      <td>691</td>\n",
       "    </tr>\n",
       "    <tr>\n",
       "      <th>2</th>\n",
       "      <td>Mitchell Starc</td>\n",
       "      <td>AUS</td>\n",
       "      <td>686</td>\n",
       "    </tr>\n",
       "    <tr>\n",
       "      <th>3</th>\n",
       "      <td>Matt Henry</td>\n",
       "      <td>NZ</td>\n",
       "      <td>667</td>\n",
       "    </tr>\n",
       "    <tr>\n",
       "      <th>4</th>\n",
       "      <td>Trent Boult</td>\n",
       "      <td>NZ</td>\n",
       "      <td>660</td>\n",
       "    </tr>\n",
       "    <tr>\n",
       "      <th>5</th>\n",
       "      <td>Rashid Khan</td>\n",
       "      <td>AFG</td>\n",
       "      <td>659</td>\n",
       "    </tr>\n",
       "    <tr>\n",
       "      <th>6</th>\n",
       "      <td>Adam Zampa</td>\n",
       "      <td>AUS</td>\n",
       "      <td>652</td>\n",
       "    </tr>\n",
       "    <tr>\n",
       "      <th>7</th>\n",
       "      <td>Mujeeb Ur Rahman</td>\n",
       "      <td>AFG</td>\n",
       "      <td>637</td>\n",
       "    </tr>\n",
       "    <tr>\n",
       "      <th>8</th>\n",
       "      <td>Mohammad Nabi</td>\n",
       "      <td>AFG</td>\n",
       "      <td>631</td>\n",
       "    </tr>\n",
       "    <tr>\n",
       "      <th>9</th>\n",
       "      <td>Shaheen Afridi</td>\n",
       "      <td>PAK</td>\n",
       "      <td>630</td>\n",
       "    </tr>\n",
       "  </tbody>\n",
       "</table>\n",
       "</div>"
      ],
      "text/plain": [
       "               NAME TEAM RATINGS\n",
       "0    Josh Hazlewood  AUS     705\n",
       "1    Mohammed Siraj  IND     691\n",
       "2    Mitchell Starc  AUS     686\n",
       "3        Matt Henry   NZ     667\n",
       "4       Trent Boult   NZ     660\n",
       "5       Rashid Khan  AFG     659\n",
       "6        Adam Zampa  AUS     652\n",
       "7  Mujeeb Ur Rahman  AFG     637\n",
       "8     Mohammad Nabi  AFG     631\n",
       "9    Shaheen Afridi  PAK     630"
      ]
     },
     "execution_count": 178,
     "metadata": {},
     "output_type": "execute_result"
    }
   ],
   "source": [
    "ODI_top_10_bowlers=pd.DataFrame({'NAME':ball10,\"TEAM\":bc10,\"RATINGS\":br10})\n",
    "ODI_top_10_bowlers"
   ]
  },
  {
   "cell_type": "code",
   "execution_count": 179,
   "id": "f228a8e8",
   "metadata": {},
   "outputs": [
    {
     "data": {
      "text/plain": [
       "<Response [200]>"
      ]
     },
     "execution_count": 179,
     "metadata": {},
     "output_type": "execute_result"
    }
   ],
   "source": [
    "wot=requests.get('https://www.icc-cricket.com/rankings/womens/team-rankings/odi')\n",
    "wot"
   ]
  },
  {
   "cell_type": "code",
   "execution_count": 180,
   "id": "a8997c55",
   "metadata": {},
   "outputs": [],
   "source": [
    "wwt=BeautifulSoup(wot.content) "
   ]
  },
  {
   "cell_type": "code",
   "execution_count": 181,
   "id": "9ab62f00",
   "metadata": {},
   "outputs": [
    {
     "data": {
      "text/plain": [
       "['Australia']"
      ]
     },
     "execution_count": 181,
     "metadata": {},
     "output_type": "execute_result"
    }
   ],
   "source": [
    "wt=wwt.find('span',class_='u-hide-phablet')\n",
    "wt.text.split('\\n')"
   ]
  },
  {
   "cell_type": "code",
   "execution_count": 182,
   "id": "3fd45791",
   "metadata": {},
   "outputs": [
    {
     "data": {
      "text/plain": [
       "['Australia',\n",
       " 'Australia',\n",
       " 'England',\n",
       " 'South Africa',\n",
       " 'India',\n",
       " 'New Zealand',\n",
       " 'West Indies',\n",
       " 'Thailand',\n",
       " 'Bangladesh',\n",
       " 'Pakistan']"
      ]
     },
     "execution_count": 182,
     "metadata": {},
     "output_type": "execute_result"
    }
   ],
   "source": [
    "wteams=[]\n",
    "for i in wwt.find_all('span',class_=\"u-hide-phablet\"):\n",
    "    wteams.append(i.text)\n",
    "\n",
    "wt10=wt.text.split('\\n')+wteams[:9]\n",
    "wt10"
   ]
  },
  {
   "cell_type": "code",
   "execution_count": 183,
   "id": "fb2eba19",
   "metadata": {},
   "outputs": [
    {
     "data": {
      "text/plain": [
       "'21'"
      ]
     },
     "execution_count": 183,
     "metadata": {},
     "output_type": "execute_result"
    }
   ],
   "source": [
    "waustralia=wwt.find('td',class_='rankings-block__banner--matches')\n",
    "waustralia.text"
   ]
  },
  {
   "cell_type": "code",
   "execution_count": 184,
   "id": "f8170270",
   "metadata": {},
   "outputs": [
    {
     "data": {
      "text/plain": [
       "['21', '28', '26', '27', '25', '27', '11', '14', '27', '9']"
      ]
     },
     "execution_count": 184,
     "metadata": {},
     "output_type": "execute_result"
    }
   ],
   "source": [
    "wmatches=[]\n",
    "for i in wwt.find_all('tr',class_='table-body'):\n",
    "    wmatches.append(i.text.split('\\n')[7])\n",
    "\n",
    "wm10=[waustralia.text]+wmatches[:9]\n",
    "wm10"
   ]
  },
  {
   "cell_type": "code",
   "execution_count": 185,
   "id": "49db341f",
   "metadata": {},
   "outputs": [
    {
     "data": {
      "text/plain": [
       "'3,603'"
      ]
     },
     "execution_count": 185,
     "metadata": {},
     "output_type": "execute_result"
    }
   ],
   "source": [
    "waustraliap=wwt.find('td',class_='rankings-block__banner--points')\n",
    "waustraliap.text"
   ]
  },
  {
   "cell_type": "code",
   "execution_count": 186,
   "id": "004402b8",
   "metadata": {},
   "outputs": [
    {
     "name": "stdout",
     "output_type": "stream",
     "text": [
      "['3,603', '3,342', '3,098', '2,820', '2,553', '2,535', '821', '977', '1,678', '479'] "
     ]
    }
   ],
   "source": [
    "wpoints=[]\n",
    "for i in wwt.find_all('tr',class_='table-body'):\n",
    "    wpoints.append(i.text.split('\\n')[8])\n",
    "wp10=[waustraliap.text]+wpoints[:9]\n",
    "print(wp10,end=' ')"
   ]
  },
  {
   "cell_type": "code",
   "execution_count": 187,
   "id": "3d84c770",
   "metadata": {},
   "outputs": [
    {
     "data": {
      "text/plain": [
       "'                            172'"
      ]
     },
     "execution_count": 187,
     "metadata": {},
     "output_type": "execute_result"
    }
   ],
   "source": [
    "waustraliar=wwt.find('td',class_='rankings-block__banner--rating')\n",
    "wr1=waustraliar.text.split('\\n')[1]\n",
    "wr1"
   ]
  },
  {
   "cell_type": "code",
   "execution_count": 188,
   "id": "dc5087b5",
   "metadata": {},
   "outputs": [
    {
     "data": {
      "text/plain": [
       "['                            172',\n",
       " '119',\n",
       " '119',\n",
       " '104',\n",
       " '102',\n",
       " '94',\n",
       " '75',\n",
       " '70',\n",
       " '62',\n",
       " '53']"
      ]
     },
     "execution_count": 188,
     "metadata": {},
     "output_type": "execute_result"
    }
   ],
   "source": [
    "wratings=[]\n",
    "for i in wwt.find_all('tr',class_='table-body'):\n",
    "    wratings.append(i.text.split('\\n')[9])\n",
    "\n",
    "wr10=[wr1]+wratings[:9]\n",
    "wr10"
   ]
  },
  {
   "cell_type": "code",
   "execution_count": 189,
   "id": "5e07b377",
   "metadata": {},
   "outputs": [
    {
     "data": {
      "text/html": [
       "<div>\n",
       "<style scoped>\n",
       "    .dataframe tbody tr th:only-of-type {\n",
       "        vertical-align: middle;\n",
       "    }\n",
       "\n",
       "    .dataframe tbody tr th {\n",
       "        vertical-align: top;\n",
       "    }\n",
       "\n",
       "    .dataframe thead th {\n",
       "        text-align: right;\n",
       "    }\n",
       "</style>\n",
       "<table border=\"1\" class=\"dataframe\">\n",
       "  <thead>\n",
       "    <tr style=\"text-align: right;\">\n",
       "      <th></th>\n",
       "      <th>Teams</th>\n",
       "      <th>Matches</th>\n",
       "      <th>Points</th>\n",
       "      <th>Ratings</th>\n",
       "    </tr>\n",
       "  </thead>\n",
       "  <tbody>\n",
       "    <tr>\n",
       "      <th>0</th>\n",
       "      <td>Australia</td>\n",
       "      <td>21</td>\n",
       "      <td>3,603</td>\n",
       "      <td>172</td>\n",
       "    </tr>\n",
       "    <tr>\n",
       "      <th>1</th>\n",
       "      <td>Australia</td>\n",
       "      <td>28</td>\n",
       "      <td>3,342</td>\n",
       "      <td>119</td>\n",
       "    </tr>\n",
       "    <tr>\n",
       "      <th>2</th>\n",
       "      <td>England</td>\n",
       "      <td>26</td>\n",
       "      <td>3,098</td>\n",
       "      <td>119</td>\n",
       "    </tr>\n",
       "    <tr>\n",
       "      <th>3</th>\n",
       "      <td>South Africa</td>\n",
       "      <td>27</td>\n",
       "      <td>2,820</td>\n",
       "      <td>104</td>\n",
       "    </tr>\n",
       "    <tr>\n",
       "      <th>4</th>\n",
       "      <td>India</td>\n",
       "      <td>25</td>\n",
       "      <td>2,553</td>\n",
       "      <td>102</td>\n",
       "    </tr>\n",
       "    <tr>\n",
       "      <th>5</th>\n",
       "      <td>New Zealand</td>\n",
       "      <td>27</td>\n",
       "      <td>2,535</td>\n",
       "      <td>94</td>\n",
       "    </tr>\n",
       "    <tr>\n",
       "      <th>6</th>\n",
       "      <td>West Indies</td>\n",
       "      <td>11</td>\n",
       "      <td>821</td>\n",
       "      <td>75</td>\n",
       "    </tr>\n",
       "    <tr>\n",
       "      <th>7</th>\n",
       "      <td>Thailand</td>\n",
       "      <td>14</td>\n",
       "      <td>977</td>\n",
       "      <td>70</td>\n",
       "    </tr>\n",
       "    <tr>\n",
       "      <th>8</th>\n",
       "      <td>Bangladesh</td>\n",
       "      <td>27</td>\n",
       "      <td>1,678</td>\n",
       "      <td>62</td>\n",
       "    </tr>\n",
       "    <tr>\n",
       "      <th>9</th>\n",
       "      <td>Pakistan</td>\n",
       "      <td>9</td>\n",
       "      <td>479</td>\n",
       "      <td>53</td>\n",
       "    </tr>\n",
       "  </tbody>\n",
       "</table>\n",
       "</div>"
      ],
      "text/plain": [
       "          Teams Matches Points                          Ratings\n",
       "0     Australia      21  3,603                              172\n",
       "1     Australia      28  3,342                              119\n",
       "2       England      26  3,098                              119\n",
       "3  South Africa      27  2,820                              104\n",
       "4         India      25  2,553                              102\n",
       "5   New Zealand      27  2,535                               94\n",
       "6   West Indies      11    821                               75\n",
       "7      Thailand      14    977                               70\n",
       "8    Bangladesh      27  1,678                               62\n",
       "9      Pakistan       9    479                               53"
      ]
     },
     "execution_count": 189,
     "metadata": {},
     "output_type": "execute_result"
    }
   ],
   "source": [
    "ODI_top_10_teams_women=pd.DataFrame({'Teams':wt10, 'Matches':wm10, \"Points\":wp10,\"Ratings\":wr10})\n",
    "ODI_top_10_teams_women"
   ]
  },
  {
   "cell_type": "code",
   "execution_count": 190,
   "id": "9c160248",
   "metadata": {},
   "outputs": [
    {
     "data": {
      "text/plain": [
       "<Response [200]>"
      ]
     },
     "execution_count": 190,
     "metadata": {},
     "output_type": "execute_result"
    }
   ],
   "source": [
    "wplayers=requests.get('https://www.icc-cricket.com/rankings/womens/player-rankings/odi/batting')\n",
    "wplayers"
   ]
  },
  {
   "cell_type": "code",
   "execution_count": 191,
   "id": "c697e305",
   "metadata": {},
   "outputs": [],
   "source": [
    "wbat=BeautifulSoup(wplayers.content)"
   ]
  },
  {
   "cell_type": "code",
   "execution_count": 192,
   "id": "41127902",
   "metadata": {},
   "outputs": [
    {
     "data": {
      "text/plain": [
       "'Beth Mooney'"
      ]
     },
     "execution_count": 192,
     "metadata": {},
     "output_type": "execute_result"
    }
   ],
   "source": [
    "wpl1=wbat.find('div',class_='rankings-block__banner--name-large')\n",
    "wpl1.text"
   ]
  },
  {
   "cell_type": "code",
   "execution_count": 193,
   "id": "81fb28db",
   "metadata": {},
   "outputs": [],
   "source": [
    "wplsa=[]\n",
    "for i in wbat.find_all('td',class_='table-body__cell rankings-table__name name'):\n",
    "        wplsa.append(i.text.split('\\n')[1])\n",
    "\n",
    "wpl10=[wpl1.text]+wplsa[:9]"
   ]
  },
  {
   "cell_type": "code",
   "execution_count": 194,
   "id": "94f2730a",
   "metadata": {},
   "outputs": [],
   "source": [
    "wpt0=wbat.find('div',class_='rankings-block__banner--nationality')\n",
    "wpt1=wpt0.text.split('\\n')[2]"
   ]
  },
  {
   "cell_type": "code",
   "execution_count": 195,
   "id": "2375d9b6",
   "metadata": {},
   "outputs": [],
   "source": [
    "wptf=[]\n",
    "for i in wbat.find_all('span',class_='table-body__logo-text'):\n",
    "    wptf.append(i.text)\n",
    "wpt10=[wpt1]+wptf[:9]"
   ]
  },
  {
   "cell_type": "code",
   "execution_count": 196,
   "id": "1b92636d",
   "metadata": {},
   "outputs": [
    {
     "data": {
      "text/plain": [
       "['754']"
      ]
     },
     "execution_count": 196,
     "metadata": {},
     "output_type": "execute_result"
    }
   ],
   "source": [
    "wpr0=wbat.find('div',class_='rankings-block__banner--rating')\n",
    "wpr1=wpr0.text.split('\\n')\n",
    "wpr1"
   ]
  },
  {
   "cell_type": "code",
   "execution_count": 197,
   "id": "d793af12",
   "metadata": {},
   "outputs": [
    {
     "data": {
      "text/plain": [
       "['754', '732', '731', '717', '716', '714', '673', '626', '595', '588']"
      ]
     },
     "execution_count": 197,
     "metadata": {},
     "output_type": "execute_result"
    }
   ],
   "source": [
    "wprf=[]\n",
    "for i in wbat.find_all('td',class_='table-body__cell rating'):\n",
    "    wprf.append(i.text)\n",
    "wpr9=wprf[:9]\n",
    "wpr9\n",
    "wpr10=wpr1+wpr9\n",
    "wpr10"
   ]
  },
  {
   "cell_type": "code",
   "execution_count": 198,
   "id": "1683212e",
   "metadata": {},
   "outputs": [
    {
     "data": {
      "text/html": [
       "<div>\n",
       "<style scoped>\n",
       "    .dataframe tbody tr th:only-of-type {\n",
       "        vertical-align: middle;\n",
       "    }\n",
       "\n",
       "    .dataframe tbody tr th {\n",
       "        vertical-align: top;\n",
       "    }\n",
       "\n",
       "    .dataframe thead th {\n",
       "        text-align: right;\n",
       "    }\n",
       "</style>\n",
       "<table border=\"1\" class=\"dataframe\">\n",
       "  <thead>\n",
       "    <tr style=\"text-align: right;\">\n",
       "      <th></th>\n",
       "      <th>NAME</th>\n",
       "      <th>TEAM</th>\n",
       "      <th>RATINGS</th>\n",
       "    </tr>\n",
       "  </thead>\n",
       "  <tbody>\n",
       "    <tr>\n",
       "      <th>0</th>\n",
       "      <td>Beth Mooney</td>\n",
       "      <td>AUS</td>\n",
       "      <td>754</td>\n",
       "    </tr>\n",
       "    <tr>\n",
       "      <th>1</th>\n",
       "      <td>Laura Wolvaardt</td>\n",
       "      <td>SA</td>\n",
       "      <td>732</td>\n",
       "    </tr>\n",
       "    <tr>\n",
       "      <th>2</th>\n",
       "      <td>Natalie Sciver</td>\n",
       "      <td>ENG</td>\n",
       "      <td>731</td>\n",
       "    </tr>\n",
       "    <tr>\n",
       "      <th>3</th>\n",
       "      <td>Meg Lanning</td>\n",
       "      <td>AUS</td>\n",
       "      <td>717</td>\n",
       "    </tr>\n",
       "    <tr>\n",
       "      <th>4</th>\n",
       "      <td>Harmanpreet Kaur</td>\n",
       "      <td>IND</td>\n",
       "      <td>716</td>\n",
       "    </tr>\n",
       "    <tr>\n",
       "      <th>5</th>\n",
       "      <td>Smriti Mandhana</td>\n",
       "      <td>IND</td>\n",
       "      <td>714</td>\n",
       "    </tr>\n",
       "    <tr>\n",
       "      <th>6</th>\n",
       "      <td>Chamari Athapaththu</td>\n",
       "      <td>SL</td>\n",
       "      <td>673</td>\n",
       "    </tr>\n",
       "    <tr>\n",
       "      <th>7</th>\n",
       "      <td>Ellyse Perry</td>\n",
       "      <td>AUS</td>\n",
       "      <td>626</td>\n",
       "    </tr>\n",
       "    <tr>\n",
       "      <th>8</th>\n",
       "      <td>Tammy Beaumont</td>\n",
       "      <td>ENG</td>\n",
       "      <td>595</td>\n",
       "    </tr>\n",
       "    <tr>\n",
       "      <th>9</th>\n",
       "      <td>Stafanie Taylor</td>\n",
       "      <td>WI</td>\n",
       "      <td>588</td>\n",
       "    </tr>\n",
       "  </tbody>\n",
       "</table>\n",
       "</div>"
      ],
      "text/plain": [
       "                  NAME TEAM RATINGS\n",
       "0          Beth Mooney  AUS     754\n",
       "1      Laura Wolvaardt   SA     732\n",
       "2       Natalie Sciver  ENG     731\n",
       "3          Meg Lanning  AUS     717\n",
       "4     Harmanpreet Kaur  IND     716\n",
       "5      Smriti Mandhana  IND     714\n",
       "6  Chamari Athapaththu   SL     673\n",
       "7         Ellyse Perry  AUS     626\n",
       "8       Tammy Beaumont  ENG     595\n",
       "9      Stafanie Taylor   WI     588"
      ]
     },
     "execution_count": 198,
     "metadata": {},
     "output_type": "execute_result"
    }
   ],
   "source": [
    "ODI_top_10_Wbatsmen=pd.DataFrame({'NAME':wpl10,'TEAM':wpt10,'RATINGS':wpr10})\n",
    "ODI_top_10_Wbatsmen"
   ]
  },
  {
   "cell_type": "code",
   "execution_count": 199,
   "id": "d03c79a7",
   "metadata": {},
   "outputs": [
    {
     "data": {
      "text/plain": [
       "<Response [200]>"
      ]
     },
     "execution_count": 199,
     "metadata": {},
     "output_type": "execute_result"
    }
   ],
   "source": [
    "wall0=requests.get('https://www.icc-cricket.com/rankings/womens/player-rankings/odi/all-rounder')\n",
    "wall0"
   ]
  },
  {
   "cell_type": "code",
   "execution_count": 200,
   "id": "df05f14b",
   "metadata": {},
   "outputs": [],
   "source": [
    "wall=BeautifulSoup(wall0.content)"
   ]
  },
  {
   "cell_type": "code",
   "execution_count": 201,
   "id": "24561bef",
   "metadata": {},
   "outputs": [
    {
     "data": {
      "text/plain": [
       "'Hayley Matthews'"
      ]
     },
     "execution_count": 201,
     "metadata": {},
     "output_type": "execute_result"
    }
   ],
   "source": [
    "wa1=wall.find('div',class_='rankings-block__banner--name-large')\n",
    "wa1.text"
   ]
  },
  {
   "cell_type": "code",
   "execution_count": 202,
   "id": "9230d803",
   "metadata": {},
   "outputs": [
    {
     "data": {
      "text/plain": [
       "['Hayley Matthews',\n",
       " 'Natalie Sciver',\n",
       " 'Ellyse Perry',\n",
       " 'Marizanne Kapp',\n",
       " 'Amelia Kerr',\n",
       " 'Deepti Sharma',\n",
       " 'Ashleigh Gardner',\n",
       " 'Jess Jonassen',\n",
       " 'Nida Dar',\n",
       " 'Sophie Ecclestone']"
      ]
     },
     "execution_count": 202,
     "metadata": {},
     "output_type": "execute_result"
    }
   ],
   "source": [
    "wa=[]\n",
    "for i in wall.find_all('td',class_='table-body__cell rankings-table__name name'):\n",
    "    wa.append(i.text.split('\\n')[1])\n",
    "wa9=wa[:9]\n",
    "wa9\n",
    "wa10=[wa1.text]+wa9\n",
    "wa10"
   ]
  },
  {
   "cell_type": "code",
   "execution_count": 203,
   "id": "e2547937",
   "metadata": {},
   "outputs": [
    {
     "data": {
      "text/plain": [
       "'WI'"
      ]
     },
     "execution_count": 203,
     "metadata": {},
     "output_type": "execute_result"
    }
   ],
   "source": [
    "wac0=wall.find('div',class_='rankings-block__banner--nationality')\n",
    "wac1=wac0.text.split('\\n')[2]\n",
    "wac1"
   ]
  },
  {
   "cell_type": "code",
   "execution_count": 204,
   "id": "b7ffcd3f",
   "metadata": {},
   "outputs": [
    {
     "data": {
      "text/plain": [
       "['WI', 'ENG', 'AUS', 'SA', 'NZ', 'IND', 'AUS', 'AUS', 'PAK', 'ENG']"
      ]
     },
     "execution_count": 204,
     "metadata": {},
     "output_type": "execute_result"
    }
   ],
   "source": [
    "wac=[]\n",
    "for i in wall.find_all('span',class_='table-body__logo-text'):\n",
    "    wac.append(i.text)\n",
    "wac10=[wac1]+wac[:9]\n",
    "wac10"
   ]
  },
  {
   "cell_type": "code",
   "execution_count": 205,
   "id": "3c45b768",
   "metadata": {},
   "outputs": [
    {
     "data": {
      "text/plain": [
       "'373'"
      ]
     },
     "execution_count": 205,
     "metadata": {},
     "output_type": "execute_result"
    }
   ],
   "source": [
    "war1=wall.find('div',class_='rankings-block__banner--rating')\n",
    "war1.text"
   ]
  },
  {
   "cell_type": "code",
   "execution_count": 206,
   "id": "55f17cd7",
   "metadata": {},
   "outputs": [
    {
     "data": {
      "text/plain": [
       "['373', '371', '366', '349', '336', '322', '292', '250', '232', '205']"
      ]
     },
     "execution_count": 206,
     "metadata": {},
     "output_type": "execute_result"
    }
   ],
   "source": [
    "war=[]\n",
    "for i in wall.find_all('td',class_='table-body__cell rating'):\n",
    "    war.append(i.text)\n",
    "war10=[war1.text]+war[:9]\n",
    "war10"
   ]
  },
  {
   "cell_type": "code",
   "execution_count": 207,
   "id": "4fd4785d",
   "metadata": {},
   "outputs": [
    {
     "data": {
      "text/html": [
       "<div>\n",
       "<style scoped>\n",
       "    .dataframe tbody tr th:only-of-type {\n",
       "        vertical-align: middle;\n",
       "    }\n",
       "\n",
       "    .dataframe tbody tr th {\n",
       "        vertical-align: top;\n",
       "    }\n",
       "\n",
       "    .dataframe thead th {\n",
       "        text-align: right;\n",
       "    }\n",
       "</style>\n",
       "<table border=\"1\" class=\"dataframe\">\n",
       "  <thead>\n",
       "    <tr style=\"text-align: right;\">\n",
       "      <th></th>\n",
       "      <th>NAME</th>\n",
       "      <th>TEAM</th>\n",
       "      <th>RATINGS</th>\n",
       "    </tr>\n",
       "  </thead>\n",
       "  <tbody>\n",
       "    <tr>\n",
       "      <th>0</th>\n",
       "      <td>Hayley Matthews</td>\n",
       "      <td>WI</td>\n",
       "      <td>373</td>\n",
       "    </tr>\n",
       "    <tr>\n",
       "      <th>1</th>\n",
       "      <td>Natalie Sciver</td>\n",
       "      <td>ENG</td>\n",
       "      <td>371</td>\n",
       "    </tr>\n",
       "    <tr>\n",
       "      <th>2</th>\n",
       "      <td>Ellyse Perry</td>\n",
       "      <td>AUS</td>\n",
       "      <td>366</td>\n",
       "    </tr>\n",
       "    <tr>\n",
       "      <th>3</th>\n",
       "      <td>Marizanne Kapp</td>\n",
       "      <td>SA</td>\n",
       "      <td>349</td>\n",
       "    </tr>\n",
       "    <tr>\n",
       "      <th>4</th>\n",
       "      <td>Amelia Kerr</td>\n",
       "      <td>NZ</td>\n",
       "      <td>336</td>\n",
       "    </tr>\n",
       "    <tr>\n",
       "      <th>5</th>\n",
       "      <td>Deepti Sharma</td>\n",
       "      <td>IND</td>\n",
       "      <td>322</td>\n",
       "    </tr>\n",
       "    <tr>\n",
       "      <th>6</th>\n",
       "      <td>Ashleigh Gardner</td>\n",
       "      <td>AUS</td>\n",
       "      <td>292</td>\n",
       "    </tr>\n",
       "    <tr>\n",
       "      <th>7</th>\n",
       "      <td>Jess Jonassen</td>\n",
       "      <td>AUS</td>\n",
       "      <td>250</td>\n",
       "    </tr>\n",
       "    <tr>\n",
       "      <th>8</th>\n",
       "      <td>Nida Dar</td>\n",
       "      <td>PAK</td>\n",
       "      <td>232</td>\n",
       "    </tr>\n",
       "    <tr>\n",
       "      <th>9</th>\n",
       "      <td>Sophie Ecclestone</td>\n",
       "      <td>ENG</td>\n",
       "      <td>205</td>\n",
       "    </tr>\n",
       "  </tbody>\n",
       "</table>\n",
       "</div>"
      ],
      "text/plain": [
       "                NAME TEAM RATINGS\n",
       "0    Hayley Matthews   WI     373\n",
       "1     Natalie Sciver  ENG     371\n",
       "2       Ellyse Perry  AUS     366\n",
       "3     Marizanne Kapp   SA     349\n",
       "4        Amelia Kerr   NZ     336\n",
       "5      Deepti Sharma  IND     322\n",
       "6   Ashleigh Gardner  AUS     292\n",
       "7      Jess Jonassen  AUS     250\n",
       "8           Nida Dar  PAK     232\n",
       "9  Sophie Ecclestone  ENG     205"
      ]
     },
     "execution_count": 207,
     "metadata": {},
     "output_type": "execute_result"
    }
   ],
   "source": [
    "ODI_top_10_Women_AllRounder=pd.DataFrame({'NAME':wa10,\"TEAM\":wac10,\"RATINGS\":war10})\n",
    "ODI_top_10_Women_AllRounder"
   ]
  },
  {
   "cell_type": "code",
   "execution_count": 208,
   "id": "13d8a9bf",
   "metadata": {},
   "outputs": [
    {
     "data": {
      "text/plain": [
       "<Response [200]>"
      ]
     },
     "execution_count": 208,
     "metadata": {},
     "output_type": "execute_result"
    }
   ],
   "source": [
    "cnbcr=requests.get('https://www.cnbc.com/world/?region=world')\n",
    "cnbcr"
   ]
  },
  {
   "cell_type": "code",
   "execution_count": 209,
   "id": "4c9e8d9a",
   "metadata": {},
   "outputs": [],
   "source": [
    "cnbc=BeautifulSoup(cnbcr.content)"
   ]
  },
  {
   "cell_type": "code",
   "execution_count": 210,
   "id": "82ad892c",
   "metadata": {},
   "outputs": [
    {
     "name": "stdout",
     "output_type": "stream",
     "text": [
      "[\"A.I. poses existential risk of people being 'harmed or killed,' ex-Google CEO Eric Schmidt says\", \"Jim Cramer's top 10 things to watch in the stock market Wednesday\", 'Financial coach: Why an HSA is at least 17% better than a 401(k)', \"Wednesday's top analyst calls: Tesla, Amazon, Alphabet, Netflix, Apple & more\", 'Citigroup to spin off its Mexico business after efforts to sell unit collapse', \"Airbnb CEO: Here's 'the best piece of advice I ever got'\", 'Meta has started its latest round of layoffs, focusing on business groups', 'SoftBank hits back at S&P after it cuts credit rating further into junk', 'Abercrombie & Fitch surges 18% after reporting surprise profit', 'Bank of America boosts price target on Eli Lilly to $500 on obesity drug demand', \"Stocks making the biggest moves premarket: Moderna, Kohl's, Intuit & more\", 'Without a hint of irony, Putin rages against countries that meddle in other states', 'Top EU regulator defends mega $1.3 billion privacy fine on Meta', 'Psychology expert: 7 toxic signs of a passive-aggressive co-worker—and how to cope', \"First Astranis internet satellite working ‘perfectly' over Alaska\", 'Chinese Tesla rival shares dive 11% after it forecasts a plunge in car deliveries', \"The U.S. isn't the only country with a debt ceiling. Here's how Denmark avoids the drama\", 'Password sharing crackdown can lead to big gains for Netflix, Oppenheimer says', 'France bans short-haul flights as it looks to cut transport emissions', \"Kohl's shares spike as retailer reports a surprise profit\", 'Mortgage demand drops again as rates cross back over 7%', 'Buy this beat-down regional bank with capital strength, Jefferies says', \"Goldman Sachs backs Japan's biggest taxi app with $1 billion valuation\", '5 things to know before the stock market opens Wednesday', 'Jefferies says this housing cycle bellwether can rally more than 20%', 'The AI-driven rally in big tech stocks is forcing us to consider some trimming', \"Greek stocks have climbed 40% over the last year — as the country shakes off 'problem child of Europe' label\", 'Treasury yields steady as investors watch debt ceiling talks, economic reports', \"Europe is producing more startup 'mafias' than ever despite tech rout\", \"Russia says it'll react 'extremely harshly' to any further border attacks; Kyiv fights back in Bakhmut\"]"
     ]
    }
   ],
   "source": [
    "head=[]\n",
    "for i in cnbc.find_all('a',class_='LatestNews-headline'):\n",
    "    head.append(i.text)\n",
    "print(head,end='')"
   ]
  },
  {
   "cell_type": "code",
   "execution_count": 211,
   "id": "71ff0077",
   "metadata": {},
   "outputs": [
    {
     "name": "stdout",
     "output_type": "stream",
     "text": [
      "['37 Min Ago', '46 Min Ago', '58 Min Ago', '1 Hour Ago', '1 Hour Ago', '1 Hour Ago', '1 Hour Ago', '2 Hours Ago', '2 Hours Ago', '2 Hours Ago', '2 Hours Ago', '2 Hours Ago', '2 Hours Ago', '2 Hours Ago', '2 Hours Ago', '2 Hours Ago', '2 Hours Ago', '2 Hours Ago', '2 Hours Ago', '3 Hours Ago', '3 Hours Ago', '3 Hours Ago', '4 Hours Ago', '4 Hours Ago', '4 Hours Ago', '4 Hours Ago', '5 Hours Ago', '6 Hours Ago', '6 Hours Ago', '7 Hours Ago']"
     ]
    }
   ],
   "source": [
    "time=[]\n",
    "for i in cnbc.find_all('time',class_='LatestNews-timestamp'):\n",
    "    time.append(i.text)\n",
    "print(time,end='')"
   ]
  },
  {
   "cell_type": "code",
   "execution_count": 212,
   "id": "29979414",
   "metadata": {},
   "outputs": [
    {
     "name": "stdout",
     "output_type": "stream",
     "text": [
      "['https://www.cnbc.com/2023/05/24/ai-poses-existential-risk-former-google-ceo-eric-schmidt-says.html', 'https://www.cnbc.com/2023/05/24/jim-cramers-top-10-things-to-watch-in-the-stock-market-wednesday.html', 'https://www.cnbc.com/2023/05/24/financial-coach-why-an-hsa-is-at-least-17percent-better-than-a-401k.html', 'https://www.cnbc.com/2023/05/24/wednesdays-biggest-wall-street-analyst-calls.html', 'https://www.cnbc.com/2023/05/24/citigroup-to-spin-off-its-mexico-business-through-ipo.html', 'https://www.cnbc.com/2023/05/24/airbnb-ceo-brian-chesky-heres-the-best-piece-of-advice-i-ever-got.html', 'https://www.cnbc.com/2023/05/24/meta-layoffs-latest-round-of-cuts-focuses-on-business-groups.html', 'https://www.cnbc.com/2023/05/24/softbank-hits-back-at-sp-after-it-cuts-credit-rating-further-into-junk.html', 'https://www.cnbc.com/2023/05/24/abercrombie-fitch-anf-q1-earnings-report-2023.html', 'https://www.cnbc.com/2023/05/24/bank-of-america-boosts-price-target-on-eli-lilly-to-500-on-obesity-drug-demand.html', 'https://www.cnbc.com/2023/05/24/stocks-making-the-biggest-moves-premarket-moderna-kohls-intuit-analog-devices-more.html', 'https://www.cnbc.com/2023/05/24/having-invaded-ukraine-putin-rages-against-countries-that-meddle.html', 'https://www.cnbc.com/2023/05/24/irish-data-regulator-defends-1point3-billion-meta-fine.html', 'https://www.cnbc.com/2023/05/24/psychology-expert-shares-toxic-signs-of-passive-aggressive-co-worker-and-how-to-cope.html', 'https://www.cnbc.com/2023/05/24/astranis-first-internet-satellite-over-alaska-working-perfectly.html', 'https://www.cnbc.com/2023/05/24/xpeng-xpev-q1-2023-earnings-report-deliveries-forecast-to-fall.html', 'https://www.cnbc.com/2023/05/24/the-us-isnt-the-only-country-with-a-debt-ceiling-heres-how-denmark-avoids-the-drama.html', 'https://www.cnbc.com/2023/05/24/password-sharing-crackdown-in-us-can-lead-to-big-gains-for-netflix-oppenheimer-says.html', 'https://www.cnbc.com/2023/05/24/france-bans-domestic-short-haul-flights.html', 'https://www.cnbc.com/2023/05/24/kohls-kss-earnings-q12023.html', 'https://www.cnbc.com/2023/05/24/mortgage-demand-drops-again-as-rates-cross-back-over-7percent.html', 'https://www.cnbc.com/2023/05/24/buy-this-beat-down-regional-bank-with-capital-strength-jefferies-says.html', 'https://www.cnbc.com/2023/05/24/goldman-sachs-backs-japans-go-inc-taxi-app-valuing-it-at-1-billion.html', 'https://www.cnbc.com/2023/05/24/5-things-to-know-before-the-stock-market-opens-wednesday-may-24.html', 'https://www.cnbc.com/2023/05/24/jefferies-says-this-housing-cycle-bellwether-can-rally-more-than-20percent.html', 'https://www.cnbc.com/2023/05/24/the-ai-driven-rally-in-big-tech-stocks-is-forcing-us-to-consider-some-trimming.html', 'https://www.cnbc.com/2023/05/24/greek-stocks-have-soared-as-it-shakes-off-problem-child-of-europe-tag.html', 'https://www.cnbc.com/2023/05/24/us-treasurys-investors-watch-debt-ceiling-talks-economic-reports.html', 'https://www.cnbc.com/2023/05/24/europe-and-israel-produce-more-startup-mafias-despite-tech-rout-accel.html', 'https://www.cnbc.com/2023/05/24/ukraine-war-live-updates-latest-news-on-russia-and-the-war-in-ukraine.html']"
     ]
    }
   ],
   "source": [
    "links=[]\n",
    "for i in cnbc.find_all('a',class_='LatestNews-headline'):\n",
    "    links.append(i.get('href'))\n",
    "print(links,end='')"
   ]
  },
  {
   "cell_type": "code",
   "execution_count": 213,
   "id": "9dc715e7",
   "metadata": {},
   "outputs": [
    {
     "data": {
      "text/plain": [
       "(30, 30, 30)"
      ]
     },
     "execution_count": 213,
     "metadata": {},
     "output_type": "execute_result"
    }
   ],
   "source": [
    "len(time),len(head),len(links)"
   ]
  },
  {
   "cell_type": "code",
   "execution_count": 214,
   "id": "a9acb080",
   "metadata": {},
   "outputs": [
    {
     "data": {
      "text/html": [
       "<div>\n",
       "<style scoped>\n",
       "    .dataframe tbody tr th:only-of-type {\n",
       "        vertical-align: middle;\n",
       "    }\n",
       "\n",
       "    .dataframe tbody tr th {\n",
       "        vertical-align: top;\n",
       "    }\n",
       "\n",
       "    .dataframe thead th {\n",
       "        text-align: right;\n",
       "    }\n",
       "</style>\n",
       "<table border=\"1\" class=\"dataframe\">\n",
       "  <thead>\n",
       "    <tr style=\"text-align: right;\">\n",
       "      <th></th>\n",
       "      <th>Headings</th>\n",
       "      <th>Time</th>\n",
       "      <th>Links</th>\n",
       "    </tr>\n",
       "  </thead>\n",
       "  <tbody>\n",
       "    <tr>\n",
       "      <th>0</th>\n",
       "      <td>A.I. poses existential risk of people being 'h...</td>\n",
       "      <td>37 Min Ago</td>\n",
       "      <td>https://www.cnbc.com/2023/05/24/ai-poses-exist...</td>\n",
       "    </tr>\n",
       "    <tr>\n",
       "      <th>1</th>\n",
       "      <td>Jim Cramer's top 10 things to watch in the sto...</td>\n",
       "      <td>46 Min Ago</td>\n",
       "      <td>https://www.cnbc.com/2023/05/24/jim-cramers-to...</td>\n",
       "    </tr>\n",
       "    <tr>\n",
       "      <th>2</th>\n",
       "      <td>Financial coach: Why an HSA is at least 17% be...</td>\n",
       "      <td>58 Min Ago</td>\n",
       "      <td>https://www.cnbc.com/2023/05/24/financial-coac...</td>\n",
       "    </tr>\n",
       "    <tr>\n",
       "      <th>3</th>\n",
       "      <td>Wednesday's top analyst calls: Tesla, Amazon, ...</td>\n",
       "      <td>1 Hour Ago</td>\n",
       "      <td>https://www.cnbc.com/2023/05/24/wednesdays-big...</td>\n",
       "    </tr>\n",
       "    <tr>\n",
       "      <th>4</th>\n",
       "      <td>Citigroup to spin off its Mexico business afte...</td>\n",
       "      <td>1 Hour Ago</td>\n",
       "      <td>https://www.cnbc.com/2023/05/24/citigroup-to-s...</td>\n",
       "    </tr>\n",
       "    <tr>\n",
       "      <th>5</th>\n",
       "      <td>Airbnb CEO: Here's 'the best piece of advice I...</td>\n",
       "      <td>1 Hour Ago</td>\n",
       "      <td>https://www.cnbc.com/2023/05/24/airbnb-ceo-bri...</td>\n",
       "    </tr>\n",
       "    <tr>\n",
       "      <th>6</th>\n",
       "      <td>Meta has started its latest round of layoffs, ...</td>\n",
       "      <td>1 Hour Ago</td>\n",
       "      <td>https://www.cnbc.com/2023/05/24/meta-layoffs-l...</td>\n",
       "    </tr>\n",
       "    <tr>\n",
       "      <th>7</th>\n",
       "      <td>SoftBank hits back at S&amp;P after it cuts credit...</td>\n",
       "      <td>2 Hours Ago</td>\n",
       "      <td>https://www.cnbc.com/2023/05/24/softbank-hits-...</td>\n",
       "    </tr>\n",
       "    <tr>\n",
       "      <th>8</th>\n",
       "      <td>Abercrombie &amp; Fitch surges 18% after reporting...</td>\n",
       "      <td>2 Hours Ago</td>\n",
       "      <td>https://www.cnbc.com/2023/05/24/abercrombie-fi...</td>\n",
       "    </tr>\n",
       "    <tr>\n",
       "      <th>9</th>\n",
       "      <td>Bank of America boosts price target on Eli Lil...</td>\n",
       "      <td>2 Hours Ago</td>\n",
       "      <td>https://www.cnbc.com/2023/05/24/bank-of-americ...</td>\n",
       "    </tr>\n",
       "    <tr>\n",
       "      <th>10</th>\n",
       "      <td>Stocks making the biggest moves premarket: Mod...</td>\n",
       "      <td>2 Hours Ago</td>\n",
       "      <td>https://www.cnbc.com/2023/05/24/stocks-making-...</td>\n",
       "    </tr>\n",
       "    <tr>\n",
       "      <th>11</th>\n",
       "      <td>Without a hint of irony, Putin rages against c...</td>\n",
       "      <td>2 Hours Ago</td>\n",
       "      <td>https://www.cnbc.com/2023/05/24/having-invaded...</td>\n",
       "    </tr>\n",
       "    <tr>\n",
       "      <th>12</th>\n",
       "      <td>Top EU regulator defends mega $1.3 billion pri...</td>\n",
       "      <td>2 Hours Ago</td>\n",
       "      <td>https://www.cnbc.com/2023/05/24/irish-data-reg...</td>\n",
       "    </tr>\n",
       "    <tr>\n",
       "      <th>13</th>\n",
       "      <td>Psychology expert: 7 toxic signs of a passive-...</td>\n",
       "      <td>2 Hours Ago</td>\n",
       "      <td>https://www.cnbc.com/2023/05/24/psychology-exp...</td>\n",
       "    </tr>\n",
       "    <tr>\n",
       "      <th>14</th>\n",
       "      <td>First Astranis internet satellite working ‘per...</td>\n",
       "      <td>2 Hours Ago</td>\n",
       "      <td>https://www.cnbc.com/2023/05/24/astranis-first...</td>\n",
       "    </tr>\n",
       "    <tr>\n",
       "      <th>15</th>\n",
       "      <td>Chinese Tesla rival shares dive 11% after it f...</td>\n",
       "      <td>2 Hours Ago</td>\n",
       "      <td>https://www.cnbc.com/2023/05/24/xpeng-xpev-q1-...</td>\n",
       "    </tr>\n",
       "    <tr>\n",
       "      <th>16</th>\n",
       "      <td>The U.S. isn't the only country with a debt ce...</td>\n",
       "      <td>2 Hours Ago</td>\n",
       "      <td>https://www.cnbc.com/2023/05/24/the-us-isnt-th...</td>\n",
       "    </tr>\n",
       "    <tr>\n",
       "      <th>17</th>\n",
       "      <td>Password sharing crackdown can lead to big gai...</td>\n",
       "      <td>2 Hours Ago</td>\n",
       "      <td>https://www.cnbc.com/2023/05/24/password-shari...</td>\n",
       "    </tr>\n",
       "    <tr>\n",
       "      <th>18</th>\n",
       "      <td>France bans short-haul flights as it looks to ...</td>\n",
       "      <td>2 Hours Ago</td>\n",
       "      <td>https://www.cnbc.com/2023/05/24/france-bans-do...</td>\n",
       "    </tr>\n",
       "    <tr>\n",
       "      <th>19</th>\n",
       "      <td>Kohl's shares spike as retailer reports a surp...</td>\n",
       "      <td>3 Hours Ago</td>\n",
       "      <td>https://www.cnbc.com/2023/05/24/kohls-kss-earn...</td>\n",
       "    </tr>\n",
       "    <tr>\n",
       "      <th>20</th>\n",
       "      <td>Mortgage demand drops again as rates cross bac...</td>\n",
       "      <td>3 Hours Ago</td>\n",
       "      <td>https://www.cnbc.com/2023/05/24/mortgage-deman...</td>\n",
       "    </tr>\n",
       "    <tr>\n",
       "      <th>21</th>\n",
       "      <td>Buy this beat-down regional bank with capital ...</td>\n",
       "      <td>3 Hours Ago</td>\n",
       "      <td>https://www.cnbc.com/2023/05/24/buy-this-beat-...</td>\n",
       "    </tr>\n",
       "    <tr>\n",
       "      <th>22</th>\n",
       "      <td>Goldman Sachs backs Japan's biggest taxi app w...</td>\n",
       "      <td>4 Hours Ago</td>\n",
       "      <td>https://www.cnbc.com/2023/05/24/goldman-sachs-...</td>\n",
       "    </tr>\n",
       "    <tr>\n",
       "      <th>23</th>\n",
       "      <td>5 things to know before the stock market opens...</td>\n",
       "      <td>4 Hours Ago</td>\n",
       "      <td>https://www.cnbc.com/2023/05/24/5-things-to-kn...</td>\n",
       "    </tr>\n",
       "    <tr>\n",
       "      <th>24</th>\n",
       "      <td>Jefferies says this housing cycle bellwether c...</td>\n",
       "      <td>4 Hours Ago</td>\n",
       "      <td>https://www.cnbc.com/2023/05/24/jefferies-says...</td>\n",
       "    </tr>\n",
       "    <tr>\n",
       "      <th>25</th>\n",
       "      <td>The AI-driven rally in big tech stocks is forc...</td>\n",
       "      <td>4 Hours Ago</td>\n",
       "      <td>https://www.cnbc.com/2023/05/24/the-ai-driven-...</td>\n",
       "    </tr>\n",
       "    <tr>\n",
       "      <th>26</th>\n",
       "      <td>Greek stocks have climbed 40% over the last ye...</td>\n",
       "      <td>5 Hours Ago</td>\n",
       "      <td>https://www.cnbc.com/2023/05/24/greek-stocks-h...</td>\n",
       "    </tr>\n",
       "    <tr>\n",
       "      <th>27</th>\n",
       "      <td>Treasury yields steady as investors watch debt...</td>\n",
       "      <td>6 Hours Ago</td>\n",
       "      <td>https://www.cnbc.com/2023/05/24/us-treasurys-i...</td>\n",
       "    </tr>\n",
       "    <tr>\n",
       "      <th>28</th>\n",
       "      <td>Europe is producing more startup 'mafias' than...</td>\n",
       "      <td>6 Hours Ago</td>\n",
       "      <td>https://www.cnbc.com/2023/05/24/europe-and-isr...</td>\n",
       "    </tr>\n",
       "    <tr>\n",
       "      <th>29</th>\n",
       "      <td>Russia says it'll react 'extremely harshly' to...</td>\n",
       "      <td>7 Hours Ago</td>\n",
       "      <td>https://www.cnbc.com/2023/05/24/ukraine-war-li...</td>\n",
       "    </tr>\n",
       "  </tbody>\n",
       "</table>\n",
       "</div>"
      ],
      "text/plain": [
       "                                             Headings         Time  \\\n",
       "0   A.I. poses existential risk of people being 'h...   37 Min Ago   \n",
       "1   Jim Cramer's top 10 things to watch in the sto...   46 Min Ago   \n",
       "2   Financial coach: Why an HSA is at least 17% be...   58 Min Ago   \n",
       "3   Wednesday's top analyst calls: Tesla, Amazon, ...   1 Hour Ago   \n",
       "4   Citigroup to spin off its Mexico business afte...   1 Hour Ago   \n",
       "5   Airbnb CEO: Here's 'the best piece of advice I...   1 Hour Ago   \n",
       "6   Meta has started its latest round of layoffs, ...   1 Hour Ago   \n",
       "7   SoftBank hits back at S&P after it cuts credit...  2 Hours Ago   \n",
       "8   Abercrombie & Fitch surges 18% after reporting...  2 Hours Ago   \n",
       "9   Bank of America boosts price target on Eli Lil...  2 Hours Ago   \n",
       "10  Stocks making the biggest moves premarket: Mod...  2 Hours Ago   \n",
       "11  Without a hint of irony, Putin rages against c...  2 Hours Ago   \n",
       "12  Top EU regulator defends mega $1.3 billion pri...  2 Hours Ago   \n",
       "13  Psychology expert: 7 toxic signs of a passive-...  2 Hours Ago   \n",
       "14  First Astranis internet satellite working ‘per...  2 Hours Ago   \n",
       "15  Chinese Tesla rival shares dive 11% after it f...  2 Hours Ago   \n",
       "16  The U.S. isn't the only country with a debt ce...  2 Hours Ago   \n",
       "17  Password sharing crackdown can lead to big gai...  2 Hours Ago   \n",
       "18  France bans short-haul flights as it looks to ...  2 Hours Ago   \n",
       "19  Kohl's shares spike as retailer reports a surp...  3 Hours Ago   \n",
       "20  Mortgage demand drops again as rates cross bac...  3 Hours Ago   \n",
       "21  Buy this beat-down regional bank with capital ...  3 Hours Ago   \n",
       "22  Goldman Sachs backs Japan's biggest taxi app w...  4 Hours Ago   \n",
       "23  5 things to know before the stock market opens...  4 Hours Ago   \n",
       "24  Jefferies says this housing cycle bellwether c...  4 Hours Ago   \n",
       "25  The AI-driven rally in big tech stocks is forc...  4 Hours Ago   \n",
       "26  Greek stocks have climbed 40% over the last ye...  5 Hours Ago   \n",
       "27  Treasury yields steady as investors watch debt...  6 Hours Ago   \n",
       "28  Europe is producing more startup 'mafias' than...  6 Hours Ago   \n",
       "29  Russia says it'll react 'extremely harshly' to...  7 Hours Ago   \n",
       "\n",
       "                                                Links  \n",
       "0   https://www.cnbc.com/2023/05/24/ai-poses-exist...  \n",
       "1   https://www.cnbc.com/2023/05/24/jim-cramers-to...  \n",
       "2   https://www.cnbc.com/2023/05/24/financial-coac...  \n",
       "3   https://www.cnbc.com/2023/05/24/wednesdays-big...  \n",
       "4   https://www.cnbc.com/2023/05/24/citigroup-to-s...  \n",
       "5   https://www.cnbc.com/2023/05/24/airbnb-ceo-bri...  \n",
       "6   https://www.cnbc.com/2023/05/24/meta-layoffs-l...  \n",
       "7   https://www.cnbc.com/2023/05/24/softbank-hits-...  \n",
       "8   https://www.cnbc.com/2023/05/24/abercrombie-fi...  \n",
       "9   https://www.cnbc.com/2023/05/24/bank-of-americ...  \n",
       "10  https://www.cnbc.com/2023/05/24/stocks-making-...  \n",
       "11  https://www.cnbc.com/2023/05/24/having-invaded...  \n",
       "12  https://www.cnbc.com/2023/05/24/irish-data-reg...  \n",
       "13  https://www.cnbc.com/2023/05/24/psychology-exp...  \n",
       "14  https://www.cnbc.com/2023/05/24/astranis-first...  \n",
       "15  https://www.cnbc.com/2023/05/24/xpeng-xpev-q1-...  \n",
       "16  https://www.cnbc.com/2023/05/24/the-us-isnt-th...  \n",
       "17  https://www.cnbc.com/2023/05/24/password-shari...  \n",
       "18  https://www.cnbc.com/2023/05/24/france-bans-do...  \n",
       "19  https://www.cnbc.com/2023/05/24/kohls-kss-earn...  \n",
       "20  https://www.cnbc.com/2023/05/24/mortgage-deman...  \n",
       "21  https://www.cnbc.com/2023/05/24/buy-this-beat-...  \n",
       "22  https://www.cnbc.com/2023/05/24/goldman-sachs-...  \n",
       "23  https://www.cnbc.com/2023/05/24/5-things-to-kn...  \n",
       "24  https://www.cnbc.com/2023/05/24/jefferies-says...  \n",
       "25  https://www.cnbc.com/2023/05/24/the-ai-driven-...  \n",
       "26  https://www.cnbc.com/2023/05/24/greek-stocks-h...  \n",
       "27  https://www.cnbc.com/2023/05/24/us-treasurys-i...  \n",
       "28  https://www.cnbc.com/2023/05/24/europe-and-isr...  \n",
       "29  https://www.cnbc.com/2023/05/24/ukraine-war-li...  "
      ]
     },
     "execution_count": 214,
     "metadata": {},
     "output_type": "execute_result"
    }
   ],
   "source": [
    "News_Details=pd.DataFrame({'Headings':head,'Time':time,\"Links\":links})\n",
    "News_Details"
   ]
  },
  {
   "cell_type": "code",
   "execution_count": 215,
   "id": "3d93262f",
   "metadata": {},
   "outputs": [
    {
     "data": {
      "text/plain": [
       "<Response [200]>"
      ]
     },
     "execution_count": 215,
     "metadata": {},
     "output_type": "execute_result"
    }
   ],
   "source": [
    "mdar=requests.get('https://www.journals.elsevier.com/artificial-intelligence/most-downloaded-articles')\n",
    "mdar"
   ]
  },
  {
   "cell_type": "code",
   "execution_count": 216,
   "id": "22d082f8",
   "metadata": {},
   "outputs": [],
   "source": [
    "mda=BeautifulSoup(mdar.content)"
   ]
  },
  {
   "cell_type": "code",
   "execution_count": 217,
   "id": "54a243a2",
   "metadata": {},
   "outputs": [
    {
     "data": {
      "text/plain": [
       "['Reward is enough',\n",
       " 'Explanation in artificial intelligence: Insights from the social sciences',\n",
       " 'Creativity and artificial intelligence',\n",
       " 'Conflict-based search for optimal multi-agent pathfinding',\n",
       " 'Knowledge graphs as tools for explainable machine learning: A survey',\n",
       " 'Law and logic: A review from an argumentation perspective',\n",
       " 'Between MDPs and semi-MDPs: A framework for temporal abstraction in reinforcement learning',\n",
       " 'Explaining individual predictions when features are dependent: More accurate approximations to Shapley values',\n",
       " 'Multiple object tracking: A literature review',\n",
       " 'A survey of inverse reinforcement learning: Challenges, methods and progress',\n",
       " 'Evaluating XAI: A comparison of rule-based and example-based explanations',\n",
       " 'Explainable AI tools for legal reasoning about cases: A study on the European Court of Human Rights',\n",
       " 'Hard choices in artificial intelligence',\n",
       " 'Assessing the communication gap between AI models and healthcare professionals: Explainability, utility and trust in AI-driven clinical decision-making',\n",
       " 'Explaining black-box classifiers using post-hoc explanations-by-example: The effect of explanations and error-rates in XAI user studies',\n",
       " 'The Hanabi challenge: A new frontier for AI research',\n",
       " 'Wrappers for feature subset selection',\n",
       " 'Artificial cognition for social human–robot interaction: An implementation',\n",
       " 'A review of possible effects of cognitive biases on interpretation of rule-based machine learning models',\n",
       " 'The multifaceted impact of Ada Lovelace in the digital age',\n",
       " 'Robot ethics: Mapping the issues for a mechanized world',\n",
       " 'Reward (Mis)design for autonomous driving',\n",
       " 'Planning and acting in partially observable stochastic domains',\n",
       " 'What do we want from Explainable Artificial Intelligence (XAI)? – A stakeholder perspective on XAI and a conceptual model guiding interdisciplinary XAI research']"
      ]
     },
     "execution_count": 217,
     "metadata": {},
     "output_type": "execute_result"
    }
   ],
   "source": [
    "pt=[]\n",
    "for i in mda.find_all('h2',class_='sc-1qrq3sd-1 gRGSUS sc-1nmom32-0 sc-1nmom32-1 btcbYu goSKRg'):\n",
    "     pt.append(i.text)\n",
    "pt"
   ]
  },
  {
   "cell_type": "code",
   "execution_count": 218,
   "id": "dbce2500",
   "metadata": {},
   "outputs": [],
   "source": [
    "a=[]\n",
    "for i in mda.find_all('span',class_='sc-1w3fpd7-0 dnCnAO'):\n",
    "     a.append(i.text)\n"
   ]
  },
  {
   "cell_type": "code",
   "execution_count": 219,
   "id": "cc3e4833",
   "metadata": {},
   "outputs": [],
   "source": [
    "pda=[]\n",
    "for i in mda.find_all('span',class_='sc-1thf9ly-2 dvggWt'):\n",
    "     pda.append(i.text)"
   ]
  },
  {
   "cell_type": "code",
   "execution_count": 220,
   "id": "8461e5e2",
   "metadata": {},
   "outputs": [],
   "source": [
    "l=[]\n",
    "for i in mda.find_all('a',class_='sc-5smygv-0 fIXTHm'):\n",
    "     l.append(i.get('href'))"
   ]
  },
  {
   "cell_type": "code",
   "execution_count": 221,
   "id": "7a0e0ae7",
   "metadata": {},
   "outputs": [
    {
     "data": {
      "text/plain": [
       "(24, 24, 24, 24)"
      ]
     },
     "execution_count": 221,
     "metadata": {},
     "output_type": "execute_result"
    }
   ],
   "source": [
    "len(pda),len(a),len(pt),len(l)"
   ]
  },
  {
   "cell_type": "code",
   "execution_count": 222,
   "id": "6a6abf11",
   "metadata": {},
   "outputs": [
    {
     "data": {
      "text/html": [
       "<div>\n",
       "<style scoped>\n",
       "    .dataframe tbody tr th:only-of-type {\n",
       "        vertical-align: middle;\n",
       "    }\n",
       "\n",
       "    .dataframe tbody tr th {\n",
       "        vertical-align: top;\n",
       "    }\n",
       "\n",
       "    .dataframe thead th {\n",
       "        text-align: right;\n",
       "    }\n",
       "</style>\n",
       "<table border=\"1\" class=\"dataframe\">\n",
       "  <thead>\n",
       "    <tr style=\"text-align: right;\">\n",
       "      <th></th>\n",
       "      <th>Paper Title</th>\n",
       "      <th>Author</th>\n",
       "      <th>Published Date</th>\n",
       "      <th>Links</th>\n",
       "    </tr>\n",
       "  </thead>\n",
       "  <tbody>\n",
       "    <tr>\n",
       "      <th>0</th>\n",
       "      <td>Reward is enough</td>\n",
       "      <td>David Silver, Satinder Singh, Doina Precup, Ri...</td>\n",
       "      <td>October 2021</td>\n",
       "      <td>https://www.sciencedirect.com/science/article/...</td>\n",
       "    </tr>\n",
       "    <tr>\n",
       "      <th>1</th>\n",
       "      <td>Explanation in artificial intelligence: Insigh...</td>\n",
       "      <td>Tim Miller</td>\n",
       "      <td>February 2019</td>\n",
       "      <td>https://www.sciencedirect.com/science/article/...</td>\n",
       "    </tr>\n",
       "    <tr>\n",
       "      <th>2</th>\n",
       "      <td>Creativity and artificial intelligence</td>\n",
       "      <td>Margaret A. Boden</td>\n",
       "      <td>August 1998</td>\n",
       "      <td>https://www.sciencedirect.com/science/article/...</td>\n",
       "    </tr>\n",
       "    <tr>\n",
       "      <th>3</th>\n",
       "      <td>Conflict-based search for optimal multi-agent ...</td>\n",
       "      <td>Guni Sharon, Roni Stern, Ariel Felner, Nathan ...</td>\n",
       "      <td>February 2015</td>\n",
       "      <td>https://www.sciencedirect.com/science/article/...</td>\n",
       "    </tr>\n",
       "    <tr>\n",
       "      <th>4</th>\n",
       "      <td>Knowledge graphs as tools for explainable mach...</td>\n",
       "      <td>Ilaria Tiddi, Stefan Schlobach</td>\n",
       "      <td>January 2022</td>\n",
       "      <td>https://www.sciencedirect.com/science/article/...</td>\n",
       "    </tr>\n",
       "    <tr>\n",
       "      <th>5</th>\n",
       "      <td>Law and logic: A review from an argumentation ...</td>\n",
       "      <td>Henry Prakken, Giovanni Sartor</td>\n",
       "      <td>October 2015</td>\n",
       "      <td>https://www.sciencedirect.com/science/article/...</td>\n",
       "    </tr>\n",
       "    <tr>\n",
       "      <th>6</th>\n",
       "      <td>Between MDPs and semi-MDPs: A framework for te...</td>\n",
       "      <td>Richard S. Sutton, Doina Precup, Satinder Singh</td>\n",
       "      <td>August 1999</td>\n",
       "      <td>https://www.sciencedirect.com/science/article/...</td>\n",
       "    </tr>\n",
       "    <tr>\n",
       "      <th>7</th>\n",
       "      <td>Explaining individual predictions when feature...</td>\n",
       "      <td>Kjersti Aas, Martin Jullum, Anders Løland</td>\n",
       "      <td>September 2021</td>\n",
       "      <td>https://www.sciencedirect.com/science/article/...</td>\n",
       "    </tr>\n",
       "    <tr>\n",
       "      <th>8</th>\n",
       "      <td>Multiple object tracking: A literature review</td>\n",
       "      <td>Wenhan Luo, Junliang Xing and 4 more</td>\n",
       "      <td>April 2021</td>\n",
       "      <td>https://www.sciencedirect.com/science/article/...</td>\n",
       "    </tr>\n",
       "    <tr>\n",
       "      <th>9</th>\n",
       "      <td>A survey of inverse reinforcement learning: Ch...</td>\n",
       "      <td>Saurabh Arora, Prashant Doshi</td>\n",
       "      <td>August 2021</td>\n",
       "      <td>https://www.sciencedirect.com/science/article/...</td>\n",
       "    </tr>\n",
       "    <tr>\n",
       "      <th>10</th>\n",
       "      <td>Evaluating XAI: A comparison of rule-based and...</td>\n",
       "      <td>Jasper van der Waa, Elisabeth Nieuwburg, Anita...</td>\n",
       "      <td>February 2021</td>\n",
       "      <td>https://www.sciencedirect.com/science/article/...</td>\n",
       "    </tr>\n",
       "    <tr>\n",
       "      <th>11</th>\n",
       "      <td>Explainable AI tools for legal reasoning about...</td>\n",
       "      <td>Joe Collenette, Katie Atkinson, Trevor Bench-C...</td>\n",
       "      <td>April 2023</td>\n",
       "      <td>https://www.sciencedirect.com/science/article/...</td>\n",
       "    </tr>\n",
       "    <tr>\n",
       "      <th>12</th>\n",
       "      <td>Hard choices in artificial intelligence</td>\n",
       "      <td>Roel Dobbe, Thomas Krendl Gilbert, Yonatan Mintz</td>\n",
       "      <td>November 2021</td>\n",
       "      <td>https://www.sciencedirect.com/science/article/...</td>\n",
       "    </tr>\n",
       "    <tr>\n",
       "      <th>13</th>\n",
       "      <td>Assessing the communication gap between AI mod...</td>\n",
       "      <td>Oskar Wysocki, Jessica Katharine Davies and 5 ...</td>\n",
       "      <td>March 2023</td>\n",
       "      <td>https://www.sciencedirect.com/science/article/...</td>\n",
       "    </tr>\n",
       "    <tr>\n",
       "      <th>14</th>\n",
       "      <td>Explaining black-box classifiers using post-ho...</td>\n",
       "      <td>Eoin M. Kenny, Courtney Ford, Molly Quinn, Mar...</td>\n",
       "      <td>May 2021</td>\n",
       "      <td>https://www.sciencedirect.com/science/article/...</td>\n",
       "    </tr>\n",
       "    <tr>\n",
       "      <th>15</th>\n",
       "      <td>The Hanabi challenge: A new frontier for AI re...</td>\n",
       "      <td>Nolan Bard, Jakob N. Foerster and 13 more</td>\n",
       "      <td>March 2020</td>\n",
       "      <td>https://www.sciencedirect.com/science/article/...</td>\n",
       "    </tr>\n",
       "    <tr>\n",
       "      <th>16</th>\n",
       "      <td>Wrappers for feature subset selection</td>\n",
       "      <td>Ron Kohavi, George H. John</td>\n",
       "      <td>December 1997</td>\n",
       "      <td>https://www.sciencedirect.com/science/article/...</td>\n",
       "    </tr>\n",
       "    <tr>\n",
       "      <th>17</th>\n",
       "      <td>Artificial cognition for social human–robot in...</td>\n",
       "      <td>Séverin Lemaignan, Mathieu Warnier and 3 more</td>\n",
       "      <td>June 2017</td>\n",
       "      <td>https://www.sciencedirect.com/science/article/...</td>\n",
       "    </tr>\n",
       "    <tr>\n",
       "      <th>18</th>\n",
       "      <td>A review of possible effects of cognitive bias...</td>\n",
       "      <td>Tomáš Kliegr, Štěpán Bahník, Johannes Fürnkranz</td>\n",
       "      <td>June 2021</td>\n",
       "      <td>https://www.sciencedirect.com/science/article/...</td>\n",
       "    </tr>\n",
       "    <tr>\n",
       "      <th>19</th>\n",
       "      <td>The multifaceted impact of Ada Lovelace in the...</td>\n",
       "      <td>Luigia Carlucci Aiello</td>\n",
       "      <td>June 2016</td>\n",
       "      <td>https://www.sciencedirect.com/science/article/...</td>\n",
       "    </tr>\n",
       "    <tr>\n",
       "      <th>20</th>\n",
       "      <td>Robot ethics: Mapping the issues for a mechani...</td>\n",
       "      <td>Patrick Lin, Keith Abney, George Bekey</td>\n",
       "      <td>April 2011</td>\n",
       "      <td>https://www.sciencedirect.com/science/article/...</td>\n",
       "    </tr>\n",
       "    <tr>\n",
       "      <th>21</th>\n",
       "      <td>Reward (Mis)design for autonomous driving</td>\n",
       "      <td>W. Bradley Knox, Alessandro Allievi and 3 more</td>\n",
       "      <td>March 2023</td>\n",
       "      <td>https://www.sciencedirect.com/science/article/...</td>\n",
       "    </tr>\n",
       "    <tr>\n",
       "      <th>22</th>\n",
       "      <td>Planning and acting in partially observable st...</td>\n",
       "      <td>Leslie Pack Kaelbling, Michael L. Littman, Ant...</td>\n",
       "      <td>May 1998</td>\n",
       "      <td>https://www.sciencedirect.com/science/article/...</td>\n",
       "    </tr>\n",
       "    <tr>\n",
       "      <th>23</th>\n",
       "      <td>What do we want from Explainable Artificial In...</td>\n",
       "      <td>Markus Langer, Daniel Oster and 6 more</td>\n",
       "      <td>July 2021</td>\n",
       "      <td>https://www.sciencedirect.com/science/article/...</td>\n",
       "    </tr>\n",
       "  </tbody>\n",
       "</table>\n",
       "</div>"
      ],
      "text/plain": [
       "                                          Paper Title  \\\n",
       "0                                    Reward is enough   \n",
       "1   Explanation in artificial intelligence: Insigh...   \n",
       "2              Creativity and artificial intelligence   \n",
       "3   Conflict-based search for optimal multi-agent ...   \n",
       "4   Knowledge graphs as tools for explainable mach...   \n",
       "5   Law and logic: A review from an argumentation ...   \n",
       "6   Between MDPs and semi-MDPs: A framework for te...   \n",
       "7   Explaining individual predictions when feature...   \n",
       "8       Multiple object tracking: A literature review   \n",
       "9   A survey of inverse reinforcement learning: Ch...   \n",
       "10  Evaluating XAI: A comparison of rule-based and...   \n",
       "11  Explainable AI tools for legal reasoning about...   \n",
       "12            Hard choices in artificial intelligence   \n",
       "13  Assessing the communication gap between AI mod...   \n",
       "14  Explaining black-box classifiers using post-ho...   \n",
       "15  The Hanabi challenge: A new frontier for AI re...   \n",
       "16              Wrappers for feature subset selection   \n",
       "17  Artificial cognition for social human–robot in...   \n",
       "18  A review of possible effects of cognitive bias...   \n",
       "19  The multifaceted impact of Ada Lovelace in the...   \n",
       "20  Robot ethics: Mapping the issues for a mechani...   \n",
       "21          Reward (Mis)design for autonomous driving   \n",
       "22  Planning and acting in partially observable st...   \n",
       "23  What do we want from Explainable Artificial In...   \n",
       "\n",
       "                                               Author  Published Date  \\\n",
       "0   David Silver, Satinder Singh, Doina Precup, Ri...    October 2021   \n",
       "1                                         Tim Miller    February 2019   \n",
       "2                                  Margaret A. Boden      August 1998   \n",
       "3   Guni Sharon, Roni Stern, Ariel Felner, Nathan ...   February 2015   \n",
       "4                     Ilaria Tiddi, Stefan Schlobach     January 2022   \n",
       "5                     Henry Prakken, Giovanni Sartor     October 2015   \n",
       "6    Richard S. Sutton, Doina Precup, Satinder Singh      August 1999   \n",
       "7          Kjersti Aas, Martin Jullum, Anders Løland   September 2021   \n",
       "8                Wenhan Luo, Junliang Xing and 4 more      April 2021   \n",
       "9                      Saurabh Arora, Prashant Doshi      August 2021   \n",
       "10  Jasper van der Waa, Elisabeth Nieuwburg, Anita...   February 2021   \n",
       "11  Joe Collenette, Katie Atkinson, Trevor Bench-C...      April 2023   \n",
       "12  Roel Dobbe, Thomas Krendl Gilbert, Yonatan Mintz    November 2021   \n",
       "13  Oskar Wysocki, Jessica Katharine Davies and 5 ...      March 2023   \n",
       "14  Eoin M. Kenny, Courtney Ford, Molly Quinn, Mar...        May 2021   \n",
       "15          Nolan Bard, Jakob N. Foerster and 13 more      March 2020   \n",
       "16                        Ron Kohavi, George H. John    December 1997   \n",
       "17      Séverin Lemaignan, Mathieu Warnier and 3 more       June 2017   \n",
       "18   Tomáš Kliegr, Štěpán Bahník, Johannes Fürnkranz        June 2021   \n",
       "19                            Luigia Carlucci Aiello        June 2016   \n",
       "20            Patrick Lin, Keith Abney, George Bekey       April 2011   \n",
       "21     W. Bradley Knox, Alessandro Allievi and 3 more      March 2023   \n",
       "22  Leslie Pack Kaelbling, Michael L. Littman, Ant...        May 1998   \n",
       "23             Markus Langer, Daniel Oster and 6 more       July 2021   \n",
       "\n",
       "                                                Links  \n",
       "0   https://www.sciencedirect.com/science/article/...  \n",
       "1   https://www.sciencedirect.com/science/article/...  \n",
       "2   https://www.sciencedirect.com/science/article/...  \n",
       "3   https://www.sciencedirect.com/science/article/...  \n",
       "4   https://www.sciencedirect.com/science/article/...  \n",
       "5   https://www.sciencedirect.com/science/article/...  \n",
       "6   https://www.sciencedirect.com/science/article/...  \n",
       "7   https://www.sciencedirect.com/science/article/...  \n",
       "8   https://www.sciencedirect.com/science/article/...  \n",
       "9   https://www.sciencedirect.com/science/article/...  \n",
       "10  https://www.sciencedirect.com/science/article/...  \n",
       "11  https://www.sciencedirect.com/science/article/...  \n",
       "12  https://www.sciencedirect.com/science/article/...  \n",
       "13  https://www.sciencedirect.com/science/article/...  \n",
       "14  https://www.sciencedirect.com/science/article/...  \n",
       "15  https://www.sciencedirect.com/science/article/...  \n",
       "16  https://www.sciencedirect.com/science/article/...  \n",
       "17  https://www.sciencedirect.com/science/article/...  \n",
       "18  https://www.sciencedirect.com/science/article/...  \n",
       "19  https://www.sciencedirect.com/science/article/...  \n",
       "20  https://www.sciencedirect.com/science/article/...  \n",
       "21  https://www.sciencedirect.com/science/article/...  \n",
       "22  https://www.sciencedirect.com/science/article/...  \n",
       "23  https://www.sciencedirect.com/science/article/...  "
      ]
     },
     "execution_count": 222,
     "metadata": {},
     "output_type": "execute_result"
    }
   ],
   "source": [
    "Most_Downloaded_Articles=pd.DataFrame({'Paper Title':pt,\"Author\":a,\"Published Date\":pda,\"Links\":l,})\n",
    "Most_Downloaded_Articles"
   ]
  },
  {
   "cell_type": "code",
   "execution_count": 223,
   "id": "2363274a",
   "metadata": {},
   "outputs": [
    {
     "data": {
      "text/plain": [
       "<Response [200]>"
      ]
     },
     "execution_count": 223,
     "metadata": {},
     "output_type": "execute_result"
    }
   ],
   "source": [
    "resr=requests.get('https://www.dineout.co.in/delhi-restaurants/buffet-special')\n",
    "resr"
   ]
  },
  {
   "cell_type": "code",
   "execution_count": 224,
   "id": "0b18fc1d",
   "metadata": {},
   "outputs": [],
   "source": [
    "res=BeautifulSoup(resr.content)"
   ]
  },
  {
   "cell_type": "code",
   "execution_count": 225,
   "id": "429c6c6d",
   "metadata": {},
   "outputs": [
    {
     "data": {
      "text/plain": [
       "['Castle Barbeque',\n",
       " 'Jungle Jamboree',\n",
       " 'Cafe Knosh',\n",
       " \"Castle's Barbeque\",\n",
       " 'The Barbeque Company',\n",
       " 'India Grill',\n",
       " 'Delhi Barbeque',\n",
       " 'The Monarch - Bar Be Que Village',\n",
       " 'Indian Grill Room']"
      ]
     },
     "execution_count": 225,
     "metadata": {},
     "output_type": "execute_result"
    }
   ],
   "source": [
    "rn=[]\n",
    "for i in res.find_all('a',class_='restnt-name ellipsis'):\n",
    "    rn.append(i.text)\n",
    "rn"
   ]
  },
  {
   "cell_type": "code",
   "execution_count": 226,
   "id": "ee0fd73d",
   "metadata": {},
   "outputs": [
    {
     "data": {
      "text/plain": [
       "[' Chinese, North Indian',\n",
       " ' North Indian, Asian, Italian',\n",
       " ' Italian, Continental',\n",
       " ' Chinese, North Indian',\n",
       " ' North Indian, Chinese',\n",
       " ' North Indian, Italian',\n",
       " ' North Indian',\n",
       " ' North Indian',\n",
       " ' North Indian, Mughlai']"
      ]
     },
     "execution_count": 226,
     "metadata": {},
     "output_type": "execute_result"
    }
   ],
   "source": [
    "rc=[]\n",
    "for i in res.find_all('span',class_='double-line-ellipsis'):\n",
    "    rc.append(i.text.split('|')[1])\n",
    "rc"
   ]
  },
  {
   "cell_type": "code",
   "execution_count": 227,
   "id": "5148e0d4",
   "metadata": {},
   "outputs": [
    {
     "data": {
      "text/plain": [
       "['Connaught Place, Central Delhi',\n",
       " '3CS Mall,Lajpat Nagar - 3, South Delhi',\n",
       " 'The Leela Ambience Convention Hotel,Shahdara, East Delhi',\n",
       " 'Pacific Mall,Tagore Garden, West Delhi',\n",
       " 'Gardens Galleria,Sector 38A, Noida',\n",
       " 'Hilton Garden Inn,Saket, South Delhi',\n",
       " 'Taurus Sarovar Portico,Mahipalpur, South Delhi',\n",
       " 'Indirapuram Habitat Centre,Indirapuram, Ghaziabad',\n",
       " 'Suncity Business Tower,Golf Course Road, Gurgaon']"
      ]
     },
     "execution_count": 227,
     "metadata": {},
     "output_type": "execute_result"
    }
   ],
   "source": [
    "rl=[]\n",
    "for i in res.find_all('div',class_='restnt-loc ellipsis'):\n",
    "    rl.append(i.text)\n",
    "rl"
   ]
  },
  {
   "cell_type": "code",
   "execution_count": 228,
   "id": "9e95c686",
   "metadata": {},
   "outputs": [
    {
     "data": {
      "text/plain": [
       "['4', '3.9', '4.3', '3.9', '3.9', '3.9', '3.7', '3.8', '4.3']"
      ]
     },
     "execution_count": 228,
     "metadata": {},
     "output_type": "execute_result"
    }
   ],
   "source": [
    "rr=[]\n",
    "for i in res.find_all('div',class_='restnt-rating rating-4'):\n",
    "    rr.append(i.text)\n",
    "rr"
   ]
  },
  {
   "cell_type": "code",
   "execution_count": 229,
   "id": "d21e82f0",
   "metadata": {},
   "outputs": [],
   "source": [
    "ri=[]\n",
    "for i in res.find_all('img',class_='no-img'):\n",
    "    ri.append(i.get('data-src'))"
   ]
  },
  {
   "cell_type": "code",
   "execution_count": 230,
   "id": "7a02647d",
   "metadata": {},
   "outputs": [
    {
     "data": {
      "text/html": [
       "<div>\n",
       "<style scoped>\n",
       "    .dataframe tbody tr th:only-of-type {\n",
       "        vertical-align: middle;\n",
       "    }\n",
       "\n",
       "    .dataframe tbody tr th {\n",
       "        vertical-align: top;\n",
       "    }\n",
       "\n",
       "    .dataframe thead th {\n",
       "        text-align: right;\n",
       "    }\n",
       "</style>\n",
       "<table border=\"1\" class=\"dataframe\">\n",
       "  <thead>\n",
       "    <tr style=\"text-align: right;\">\n",
       "      <th></th>\n",
       "      <th>Name</th>\n",
       "      <th>Cuisine</th>\n",
       "      <th>Location</th>\n",
       "      <th>Ratings</th>\n",
       "      <th>Images (Link)</th>\n",
       "    </tr>\n",
       "  </thead>\n",
       "  <tbody>\n",
       "    <tr>\n",
       "      <th>0</th>\n",
       "      <td>Castle Barbeque</td>\n",
       "      <td>Chinese, North Indian</td>\n",
       "      <td>Connaught Place, Central Delhi</td>\n",
       "      <td>4</td>\n",
       "      <td>https://im1.dineout.co.in/images/uploads/resta...</td>\n",
       "    </tr>\n",
       "    <tr>\n",
       "      <th>1</th>\n",
       "      <td>Jungle Jamboree</td>\n",
       "      <td>North Indian, Asian, Italian</td>\n",
       "      <td>3CS Mall,Lajpat Nagar - 3, South Delhi</td>\n",
       "      <td>3.9</td>\n",
       "      <td>https://im1.dineout.co.in/images/uploads/resta...</td>\n",
       "    </tr>\n",
       "    <tr>\n",
       "      <th>2</th>\n",
       "      <td>Cafe Knosh</td>\n",
       "      <td>Italian, Continental</td>\n",
       "      <td>The Leela Ambience Convention Hotel,Shahdara, ...</td>\n",
       "      <td>4.3</td>\n",
       "      <td>https://im1.dineout.co.in/images/uploads/resta...</td>\n",
       "    </tr>\n",
       "    <tr>\n",
       "      <th>3</th>\n",
       "      <td>Castle's Barbeque</td>\n",
       "      <td>Chinese, North Indian</td>\n",
       "      <td>Pacific Mall,Tagore Garden, West Delhi</td>\n",
       "      <td>3.9</td>\n",
       "      <td>https://im1.dineout.co.in/images/uploads/resta...</td>\n",
       "    </tr>\n",
       "    <tr>\n",
       "      <th>4</th>\n",
       "      <td>The Barbeque Company</td>\n",
       "      <td>North Indian, Chinese</td>\n",
       "      <td>Gardens Galleria,Sector 38A, Noida</td>\n",
       "      <td>3.9</td>\n",
       "      <td>https://im1.dineout.co.in/images/uploads/resta...</td>\n",
       "    </tr>\n",
       "    <tr>\n",
       "      <th>5</th>\n",
       "      <td>India Grill</td>\n",
       "      <td>North Indian, Italian</td>\n",
       "      <td>Hilton Garden Inn,Saket, South Delhi</td>\n",
       "      <td>3.9</td>\n",
       "      <td>https://im1.dineout.co.in/images/uploads/resta...</td>\n",
       "    </tr>\n",
       "    <tr>\n",
       "      <th>6</th>\n",
       "      <td>Delhi Barbeque</td>\n",
       "      <td>North Indian</td>\n",
       "      <td>Taurus Sarovar Portico,Mahipalpur, South Delhi</td>\n",
       "      <td>3.7</td>\n",
       "      <td>https://im1.dineout.co.in/images/uploads/resta...</td>\n",
       "    </tr>\n",
       "    <tr>\n",
       "      <th>7</th>\n",
       "      <td>The Monarch - Bar Be Que Village</td>\n",
       "      <td>North Indian</td>\n",
       "      <td>Indirapuram Habitat Centre,Indirapuram, Ghaziabad</td>\n",
       "      <td>3.8</td>\n",
       "      <td>https://im1.dineout.co.in/images/uploads/resta...</td>\n",
       "    </tr>\n",
       "    <tr>\n",
       "      <th>8</th>\n",
       "      <td>Indian Grill Room</td>\n",
       "      <td>North Indian, Mughlai</td>\n",
       "      <td>Suncity Business Tower,Golf Course Road, Gurgaon</td>\n",
       "      <td>4.3</td>\n",
       "      <td>https://im1.dineout.co.in/images/uploads/resta...</td>\n",
       "    </tr>\n",
       "  </tbody>\n",
       "</table>\n",
       "</div>"
      ],
      "text/plain": [
       "                               Name                        Cuisine  \\\n",
       "0                   Castle Barbeque          Chinese, North Indian   \n",
       "1                   Jungle Jamboree   North Indian, Asian, Italian   \n",
       "2                        Cafe Knosh           Italian, Continental   \n",
       "3                 Castle's Barbeque          Chinese, North Indian   \n",
       "4              The Barbeque Company          North Indian, Chinese   \n",
       "5                       India Grill          North Indian, Italian   \n",
       "6                    Delhi Barbeque                   North Indian   \n",
       "7  The Monarch - Bar Be Que Village                   North Indian   \n",
       "8                 Indian Grill Room          North Indian, Mughlai   \n",
       "\n",
       "                                            Location Ratings  \\\n",
       "0                     Connaught Place, Central Delhi       4   \n",
       "1             3CS Mall,Lajpat Nagar - 3, South Delhi     3.9   \n",
       "2  The Leela Ambience Convention Hotel,Shahdara, ...     4.3   \n",
       "3             Pacific Mall,Tagore Garden, West Delhi     3.9   \n",
       "4                 Gardens Galleria,Sector 38A, Noida     3.9   \n",
       "5               Hilton Garden Inn,Saket, South Delhi     3.9   \n",
       "6     Taurus Sarovar Portico,Mahipalpur, South Delhi     3.7   \n",
       "7  Indirapuram Habitat Centre,Indirapuram, Ghaziabad     3.8   \n",
       "8   Suncity Business Tower,Golf Course Road, Gurgaon     4.3   \n",
       "\n",
       "                                       Images (Link)  \n",
       "0  https://im1.dineout.co.in/images/uploads/resta...  \n",
       "1  https://im1.dineout.co.in/images/uploads/resta...  \n",
       "2  https://im1.dineout.co.in/images/uploads/resta...  \n",
       "3  https://im1.dineout.co.in/images/uploads/resta...  \n",
       "4  https://im1.dineout.co.in/images/uploads/resta...  \n",
       "5  https://im1.dineout.co.in/images/uploads/resta...  \n",
       "6  https://im1.dineout.co.in/images/uploads/resta...  \n",
       "7  https://im1.dineout.co.in/images/uploads/resta...  \n",
       "8  https://im1.dineout.co.in/images/uploads/resta...  "
      ]
     },
     "execution_count": 230,
     "metadata": {},
     "output_type": "execute_result"
    }
   ],
   "source": [
    "Best_Buffet_Restaurants=pd.DataFrame({\"Name\":rn,'Cuisine':rc,\"Location\":rl,\"Ratings\":rr,\"Images (Link)\":ri})\n",
    "Best_Buffet_Restaurants"
   ]
  },
  {
   "cell_type": "code",
   "execution_count": null,
   "id": "af94a54e",
   "metadata": {},
   "outputs": [],
   "source": []
  }
 ],
 "metadata": {
  "kernelspec": {
   "display_name": "Python 3 (ipykernel)",
   "language": "python",
   "name": "python3"
  },
  "language_info": {
   "codemirror_mode": {
    "name": "ipython",
    "version": 3
   },
   "file_extension": ".py",
   "mimetype": "text/x-python",
   "name": "python",
   "nbconvert_exporter": "python",
   "pygments_lexer": "ipython3",
   "version": "3.9.13"
  }
 },
 "nbformat": 4,
 "nbformat_minor": 5
}
