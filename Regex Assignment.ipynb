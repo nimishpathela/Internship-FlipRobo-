{
 "cells": [
  {
   "cell_type": "code",
   "execution_count": 2,
   "id": "ac9efced",
   "metadata": {},
   "outputs": [],
   "source": [
    "import regex as re\n",
    "import numpy as np\n",
    "import pandas as pd"
   ]
  },
  {
   "cell_type": "markdown",
   "id": "97a76fa4",
   "metadata": {},
   "source": [
    "# Q1 "
   ]
  },
  {
   "cell_type": "markdown",
   "id": "0ff19c2f",
   "metadata": {},
   "source": [
    "Write a Python program to check that a string contains only a certain set of characters (in this case a-z, A-Z and 0-9)."
   ]
  },
  {
   "cell_type": "code",
   "execution_count": 30,
   "id": "3854dc03",
   "metadata": {},
   "outputs": [
    {
     "name": "stdout",
     "output_type": "stream",
     "text": [
      "str:Nimish##\n",
      "no\n"
     ]
    }
   ],
   "source": [
    "string=input(\"str:\")\n",
    "pattern=\"[A-Za-z0-9]\"\n",
    "result=re.sub(pattern, '', string)\n",
    "if len(result)==0:\n",
    "    print(\"yes\")\n",
    "else:\n",
    "    print(\"no\")\n"
   ]
  },
  {
   "cell_type": "markdown",
   "id": "21889734",
   "metadata": {},
   "source": [
    "# Q2 "
   ]
  },
  {
   "cell_type": "markdown",
   "id": "3fdde726",
   "metadata": {},
   "source": [
    "Create a function in python that matches a string that has an a followed by zero or more b's"
   ]
  },
  {
   "cell_type": "code",
   "execution_count": 40,
   "id": "fe646a4b",
   "metadata": {},
   "outputs": [
    {
     "name": "stdout",
     "output_type": "stream",
     "text": [
      "str:fhnjabfwhlajacoiafabb\n",
      "<regex.Match object; span=(4, 6), match='ab'>\n"
     ]
    }
   ],
   "source": [
    "string=input(\"str:\")\n",
    "result=re.search('ab*',string)\n",
    "print(result)"
   ]
  },
  {
   "cell_type": "markdown",
   "id": "24111818",
   "metadata": {},
   "source": [
    "# Q3 "
   ]
  },
  {
   "cell_type": "markdown",
   "id": "ab6a55cf",
   "metadata": {},
   "source": [
    "Create a function in python that matches a string that has an a followed by one or more b's"
   ]
  },
  {
   "cell_type": "code",
   "execution_count": 43,
   "id": "56dcb362",
   "metadata": {},
   "outputs": [
    {
     "name": "stdout",
     "output_type": "stream",
     "text": [
      "str:djoajaabbdie\n",
      "<regex.Match object; span=(6, 9), match='abb'>\n"
     ]
    }
   ],
   "source": [
    "string=input(\"str:\")\n",
    "result=re.search('ab+',string)\n",
    "print(result)"
   ]
  },
  {
   "cell_type": "markdown",
   "id": "3b62a9d1",
   "metadata": {},
   "source": [
    "# Q4 "
   ]
  },
  {
   "cell_type": "markdown",
   "id": "e91b6dd6",
   "metadata": {},
   "source": [
    "Create a function in Python and use RegEx that matches a string that has an a followed by zero or one 'b'."
   ]
  },
  {
   "cell_type": "code",
   "execution_count": 45,
   "id": "97b95cf1",
   "metadata": {},
   "outputs": [
    {
     "name": "stdout",
     "output_type": "stream",
     "text": [
      "str:abbbboiqjinaabboijenab\n",
      "<regex.Match object; span=(0, 2), match='ab'>\n"
     ]
    }
   ],
   "source": [
    "string=input(\"str:\")\n",
    "result=re.search('ab?',string)\n",
    "print(result)"
   ]
  },
  {
   "cell_type": "code",
   "execution_count": 46,
   "id": "e4969eef",
   "metadata": {},
   "outputs": [
    {
     "name": "stdout",
     "output_type": "stream",
     "text": [
      "Found a match!\n",
      "Found a match!\n",
      "Found a match!\n",
      "Found a match!\n"
     ]
    }
   ],
   "source": [
    "def text_match(text):\n",
    "        patterns = 'ab?'\n",
    "        if re.search(patterns,  text):\n",
    "                return 'Found a match!'\n",
    "        else:\n",
    "                return('Not matched!')\n",
    "\n",
    "print(text_match(\"ab\"))\n",
    "print(text_match(\"abc\"))\n",
    "print(text_match(\"abbc\"))\n",
    "print(text_match(\"aabbc\"))"
   ]
  },
  {
   "cell_type": "markdown",
   "id": "cc613fb0",
   "metadata": {},
   "source": [
    "# Q5 "
   ]
  },
  {
   "cell_type": "markdown",
   "id": "52ee590f",
   "metadata": {},
   "source": [
    "Write a Python program that matches a string that has an a followed by three 'b'."
   ]
  },
  {
   "cell_type": "code",
   "execution_count": 48,
   "id": "ed782720",
   "metadata": {},
   "outputs": [
    {
     "name": "stdout",
     "output_type": "stream",
     "text": [
      "str:abboqiejqeabbb\n",
      "<regex.Match object; span=(10, 14), match='abbb'>\n"
     ]
    }
   ],
   "source": [
    "string=input(\"str:\")\n",
    "result=re.search('ab{3}',string)\n",
    "print(result)"
   ]
  },
  {
   "cell_type": "markdown",
   "id": "849382df",
   "metadata": {},
   "source": [
    "# Q6"
   ]
  },
  {
   "cell_type": "markdown",
   "id": "3742f767",
   "metadata": {},
   "source": [
    "Write a regular expression in Python to split a string into uppercase letters."
   ]
  },
  {
   "cell_type": "code",
   "execution_count": 64,
   "id": "c5696e01",
   "metadata": {},
   "outputs": [
    {
     "name": "stdout",
     "output_type": "stream",
     "text": [
      "str:DataTrainedEducation\n",
      "['Data', 'Trained', 'Education']\n"
     ]
    }
   ],
   "source": [
    "string=input(\"str:\")\n",
    "result=re.findall('[A-Z][a-z]*',string)\n",
    "print(result)"
   ]
  },
  {
   "cell_type": "markdown",
   "id": "46b65e6a",
   "metadata": {},
   "source": [
    "# Q7"
   ]
  },
  {
   "cell_type": "markdown",
   "id": "2d7f0762",
   "metadata": {},
   "source": [
    "Write a Python program that matches a string that has an a followed by two to three 'b'."
   ]
  },
  {
   "cell_type": "code",
   "execution_count": 67,
   "id": "142afd10",
   "metadata": {},
   "outputs": [
    {
     "name": "stdout",
     "output_type": "stream",
     "text": [
      "str:abaofdabblkanfabbb\n",
      "<regex.Match object; span=(6, 9), match='abb'>\n"
     ]
    }
   ],
   "source": [
    "string=input(\"str:\")\n",
    "result=re.search('ab{2,3}',string)\n",
    "print(result)"
   ]
  },
  {
   "cell_type": "markdown",
   "id": "f87895b6",
   "metadata": {},
   "source": [
    "# Q8"
   ]
  },
  {
   "cell_type": "markdown",
   "id": "8a0a9b71",
   "metadata": {},
   "source": [
    "Write a Python program to find sequences of lowercase letters joined with a underscore."
   ]
  },
  {
   "cell_type": "code",
   "execution_count": 69,
   "id": "68816460",
   "metadata": {},
   "outputs": [
    {
     "name": "stdout",
     "output_type": "stream",
     "text": [
      "str:ajnfak_ankalm_amk\n",
      "<regex.Match object; span=(5, 7), match='k_'>\n",
      "<regex.Match object; span=(12, 14), match='m_'>\n"
     ]
    }
   ],
   "source": [
    "string=input(\"str:\")\n",
    "result=re.finditer('[a-z]_',string)\n",
    "for i in result:\n",
    "    print(i)"
   ]
  },
  {
   "cell_type": "markdown",
   "id": "2c604a3b",
   "metadata": {},
   "source": [
    "# Q9"
   ]
  },
  {
   "cell_type": "markdown",
   "id": "8106dfe1",
   "metadata": {},
   "source": [
    "Write a Python program that matches a string that has an 'a' followed by anything, ending in 'b'."
   ]
  },
  {
   "cell_type": "code",
   "execution_count": 77,
   "id": "50f290e2",
   "metadata": {},
   "outputs": [
    {
     "name": "stdout",
     "output_type": "stream",
     "text": [
      "str:abaoijeb\n",
      "abaoijeb\n"
     ]
    }
   ],
   "source": [
    "string=input(\"str:\")\n",
    "result=re.finditer('a.*b$',string)\n",
    "for i in result:\n",
    "    print(i.group())"
   ]
  },
  {
   "cell_type": "markdown",
   "id": "f391eb85",
   "metadata": {},
   "source": [
    "# Q10"
   ]
  },
  {
   "cell_type": "markdown",
   "id": "7a84fd53",
   "metadata": {},
   "source": [
    "Write a Python program that matches a word at the beginning of a string."
   ]
  },
  {
   "cell_type": "code",
   "execution_count": 79,
   "id": "69e7a941",
   "metadata": {},
   "outputs": [
    {
     "name": "stdout",
     "output_type": "stream",
     "text": [
      "str:@datascientist\n",
      "None\n"
     ]
    }
   ],
   "source": [
    "string=input(\"str:\")\n",
    "result=re.search('^\\w+',string)\n",
    "print(result)"
   ]
  },
  {
   "cell_type": "markdown",
   "id": "45c75076",
   "metadata": {},
   "source": [
    "# Q11"
   ]
  },
  {
   "cell_type": "markdown",
   "id": "752f8fbe",
   "metadata": {},
   "source": [
    "Write a Python program to match a string that contains only upper and lowercase letters, numbers, and underscores."
   ]
  },
  {
   "cell_type": "code",
   "execution_count": 83,
   "id": "51c06715",
   "metadata": {},
   "outputs": [
    {
     "name": "stdout",
     "output_type": "stream",
     "text": [
      "str:\\\\abcdef\n",
      "<regex.Match object; span=(0, 0), match=''>\n"
     ]
    }
   ],
   "source": [
    "string=input(\"str:\")\n",
    "result=re.search('[a-zA-Z,0-9_]*',string)\n",
    "print(result)"
   ]
  },
  {
   "cell_type": "markdown",
   "id": "b31c714d",
   "metadata": {},
   "source": [
    "# Q12"
   ]
  },
  {
   "cell_type": "markdown",
   "id": "a6c336b5",
   "metadata": {},
   "source": [
    "Write a Python program where a string will start with a specific number. "
   ]
  },
  {
   "cell_type": "code",
   "execution_count": 88,
   "id": "44c81d83",
   "metadata": {},
   "outputs": [
    {
     "name": "stdout",
     "output_type": "stream",
     "text": [
      "str:4biajbc?\n",
      "None\n"
     ]
    }
   ],
   "source": [
    "string=input(\"str:\")\n",
    "result=re.search('^8',string)\n",
    "print(result)"
   ]
  },
  {
   "cell_type": "markdown",
   "id": "4a4e4682",
   "metadata": {},
   "source": [
    "# Q13"
   ]
  },
  {
   "cell_type": "markdown",
   "id": "9bdab19e",
   "metadata": {},
   "source": [
    "Write a Python program to remove leading zeros from an IP address"
   ]
  },
  {
   "cell_type": "code",
   "execution_count": 105,
   "id": "10cd2cb3",
   "metadata": {},
   "outputs": [
    {
     "name": "stdout",
     "output_type": "stream",
     "text": [
      "698.41.9.164\n"
     ]
    }
   ],
   "source": [
    "IP_address=\"698.041.09.164\"\n",
    "result=re.sub('(.0)', '.', IP_address)\n",
    "print(result)"
   ]
  },
  {
   "cell_type": "markdown",
   "id": "adcac282",
   "metadata": {},
   "source": [
    "# Q14 "
   ]
  },
  {
   "cell_type": "markdown",
   "id": "394e2093",
   "metadata": {},
   "source": [
    "Write a regular expression in python to match a date string in the form of Month name followed by day number and year stored in a text file."
   ]
  },
  {
   "cell_type": "code",
   "execution_count": 93,
   "id": "37859b4c",
   "metadata": {},
   "outputs": [
    {
     "name": "stdout",
     "output_type": "stream",
     "text": [
      "enter any text:On August 15th 1947 that India was declared independent from British colonialism, and the reins of control were handed over to the leaders of the Country’.\n",
      "<regex.Match object; span=(3, 19), match='August 15th 1947'>\n"
     ]
    }
   ],
   "source": [
    "text=input(\"enter any text:\")\n",
    "result=re.search('[A-Za-z]+\\s\\d+(?:st|nd|rd|th)\\s\\d{4}' ,text)\n",
    "print(result)"
   ]
  },
  {
   "cell_type": "markdown",
   "id": "62a91a63",
   "metadata": {},
   "source": [
    "# Q15 "
   ]
  },
  {
   "cell_type": "markdown",
   "id": "c4b55cb3",
   "metadata": {},
   "source": [
    "Write a Python program to search some literals strings in a string. Go to the editor\n",
    "Sample text : 'The quick brown fox jumps over the lazy dog.'\n",
    "Searched words : 'fox', 'dog', 'horse'\n"
   ]
  },
  {
   "cell_type": "code",
   "execution_count": 126,
   "id": "7c3beddf",
   "metadata": {},
   "outputs": [
    {
     "name": "stdout",
     "output_type": "stream",
     "text": [
      "<regex.Match object; span=(16, 19), match='fox'>\n",
      "<regex.Match object; span=(40, 43), match='dog'>\n",
      "None\n"
     ]
    }
   ],
   "source": [
    "text='The quick brown fox jumps over the lazy dog.'\n",
    "pattern=['fox','dog','horse']\n",
    "for i in pattern:\n",
    "    result=re.search(i,text)\n",
    "    print(result)"
   ]
  },
  {
   "cell_type": "markdown",
   "id": "d1028692",
   "metadata": {},
   "source": [
    "# Q16"
   ]
  },
  {
   "cell_type": "markdown",
   "id": "c64a36df",
   "metadata": {},
   "source": [
    "Write a Python program to search a literals string in a string and also find the location within the original string where the pattern occurs.\n",
    "Sample text : 'The quick brown fox jumps over the lazy dog.'\n",
    "Searched words : 'fox'"
   ]
  },
  {
   "cell_type": "code",
   "execution_count": 108,
   "id": "c46c496b",
   "metadata": {},
   "outputs": [
    {
     "name": "stdout",
     "output_type": "stream",
     "text": [
      "<regex.Match object; span=(16, 19), match='fox'>\n"
     ]
    }
   ],
   "source": [
    "text='The quick brown fox jumps over the lazy dog.'\n",
    "pattern=('fox')\n",
    "result=re.search(pattern,text)\n",
    "print(result)"
   ]
  },
  {
   "cell_type": "markdown",
   "id": "a722bc9d",
   "metadata": {},
   "source": [
    "# Q17"
   ]
  },
  {
   "cell_type": "markdown",
   "id": "ff65ced6",
   "metadata": {},
   "source": [
    "Write a Python program to find the substrings within a string.\n",
    "Sample text : 'Python exercises, PHP exercises, C# exercises'. \n",
    "Pattern : 'exercises'.\n"
   ]
  },
  {
   "cell_type": "code",
   "execution_count": 112,
   "id": "815b99f7",
   "metadata": {},
   "outputs": [
    {
     "name": "stdout",
     "output_type": "stream",
     "text": [
      "<regex.Match object; span=(7, 16), match='exercises'>\n",
      "<regex.Match object; span=(22, 31), match='exercises'>\n",
      "<regex.Match object; span=(36, 45), match='exercises'>\n"
     ]
    }
   ],
   "source": [
    "text = 'Python exercises, PHP exercises, C# exercises'\n",
    "pattern = 'exercises'\n",
    "for match in re.finditer(pattern, text):\n",
    "    print(match)"
   ]
  },
  {
   "cell_type": "markdown",
   "id": "09f26c3c",
   "metadata": {},
   "source": [
    "# Q18"
   ]
  },
  {
   "cell_type": "markdown",
   "id": "2bce378a",
   "metadata": {},
   "source": [
    "Write a Python program to find the occurrence and position of the substrings within a string."
   ]
  },
  {
   "cell_type": "code",
   "execution_count": 136,
   "id": "9f31c47d",
   "metadata": {},
   "outputs": [
    {
     "name": "stdout",
     "output_type": "stream",
     "text": [
      "Found exercises at 7:16\n",
      "Found exercises at 22:31\n",
      "Found exercises at 36:45\n"
     ]
    }
   ],
   "source": [
    "text = 'Python exercises, PHP exercises, C# exercises'\n",
    "pattern = 'exercises'\n",
    "for i in re.finditer(pattern, text):\n",
    "    s = i.start()\n",
    "    e = i.end()\n",
    "    print('Found %s at %d:%d' % (text[s:e], s, e))"
   ]
  },
  {
   "cell_type": "markdown",
   "id": "8c651f5d",
   "metadata": {},
   "source": [
    "# Q19 "
   ]
  },
  {
   "cell_type": "markdown",
   "id": "31cd156b",
   "metadata": {},
   "source": [
    "Write a Python program to convert a date of yyyy-mm-dd format to dd-mm-yyyy format."
   ]
  },
  {
   "cell_type": "code",
   "execution_count": 143,
   "id": "227ea9de",
   "metadata": {},
   "outputs": [
    {
     "name": "stdout",
     "output_type": "stream",
     "text": [
      "Enter any date(YYYY-MM-DD): 1999-9-19\n",
      "New date in DD-MM-YYYY Format: 19-9-1999\n"
     ]
    }
   ],
   "source": [
    "date=input('Enter any date(YYYY-MM-DD): ')\n",
    "changed_date_format=re.sub('(\\d{4})-(\\d{1,2})-(\\d{1,2})', '\\\\3-\\\\2-\\\\1',date)\n",
    "print(\"New date in DD-MM-YYYY Format:\",changed_date_format)"
   ]
  },
  {
   "cell_type": "markdown",
   "id": "69ebcef2",
   "metadata": {},
   "source": [
    "# Q20"
   ]
  },
  {
   "cell_type": "markdown",
   "id": "35cc9c07",
   "metadata": {},
   "source": [
    "Write a Python program to find all words starting with 'a' or 'e' in a given string."
   ]
  },
  {
   "cell_type": "markdown",
   "id": "a1960c88",
   "metadata": {},
   "source": [
    "an apple a day keeps the doctor away. elephant is the largest land animal."
   ]
  },
  {
   "cell_type": "code",
   "execution_count": 92,
   "id": "ee57724b",
   "metadata": {},
   "outputs": [
    {
     "name": "stdout",
     "output_type": "stream",
     "text": [
      "enter any string value: an apple a day keeps the doctor away. elephant is the largest land animal.\n",
      "['an', 'apple', 'away', 'elephant', 'animal']\n"
     ]
    }
   ],
   "source": [
    "string=input('enter any string value: ')\n",
    "find=re.findall(r'\\b[ae]\\w+\\b',string)\n",
    "\n",
    "print(find)"
   ]
  },
  {
   "cell_type": "markdown",
   "id": "b11bd267",
   "metadata": {},
   "source": [
    "# Q21 "
   ]
  },
  {
   "cell_type": "markdown",
   "id": "80bb9670",
   "metadata": {},
   "source": [
    "Write a Python program to separate and print the numbers and their position of a given string."
   ]
  },
  {
   "cell_type": "code",
   "execution_count": 38,
   "id": "ea8a9c22",
   "metadata": {},
   "outputs": [
    {
     "name": "stdout",
     "output_type": "stream",
     "text": [
      "enter any string: 1 dozen is equal to 12 units\n",
      "number=  1\n",
      "position=  0\n",
      "number=  12\n",
      "position=  20\n"
     ]
    }
   ],
   "source": [
    "string= input('enter any string: ' )\n",
    "result=re.finditer('\\d+',string)\n",
    "for i in result:\n",
    "    print('number= ',i.group(0))\n",
    "    print('position= ',i.start())"
   ]
  },
  {
   "cell_type": "markdown",
   "id": "1c7dfd0e",
   "metadata": {},
   "source": [
    "# Q22 "
   ]
  },
  {
   "cell_type": "markdown",
   "id": "a8a1f780",
   "metadata": {},
   "source": [
    "Write a regular expression in python program to extract maximum numeric value from a string"
   ]
  },
  {
   "cell_type": "code",
   "execution_count": 52,
   "id": "cc8035fa",
   "metadata": {},
   "outputs": [
    {
     "name": "stdout",
     "output_type": "stream",
     "text": [
      "enter any string: 123 123 322 1 34 522 4 53\n",
      "522\n"
     ]
    }
   ],
   "source": [
    "string=input('enter any string: ')\n",
    "result=re.findall('\\d+',string)\n",
    "numbers=map(int,result)\n",
    "print(max(numbers))"
   ]
  },
  {
   "cell_type": "markdown",
   "id": "246053ce",
   "metadata": {},
   "source": [
    "# Q23"
   ]
  },
  {
   "cell_type": "markdown",
   "id": "6f5a7131",
   "metadata": {},
   "source": [
    "Write a Regex in Python to put spaces between words starting with capital letters"
   ]
  },
  {
   "cell_type": "code",
   "execution_count": 65,
   "id": "cd9c6c04",
   "metadata": {},
   "outputs": [
    {
     "name": "stdout",
     "output_type": "stream",
     "text": [
      "enter any string: HowAreYou\n",
      " \u0001ow \u0001re \u0001ou\n"
     ]
    }
   ],
   "source": [
    "string=input('enter any string: ')\n",
    "result=re.sub('[A-Z]',' \\1',string)\n",
    "print(result)"
   ]
  },
  {
   "cell_type": "markdown",
   "id": "4d7f0195",
   "metadata": {},
   "source": [
    "# Q24"
   ]
  },
  {
   "cell_type": "markdown",
   "id": "ace0337b",
   "metadata": {},
   "source": [
    "Python regex to find sequences of one upper case letter followed by lower case letters"
   ]
  },
  {
   "cell_type": "code",
   "execution_count": 69,
   "id": "5371e24e",
   "metadata": {},
   "outputs": [
    {
     "name": "stdout",
     "output_type": "stream",
     "text": [
      "enter any string: i Have Two banAnas\n",
      "['Ha', 'Tw', 'An']\n"
     ]
    }
   ],
   "source": [
    "string=input('enter any string: ')\n",
    "result=re.findall('[A-Z][a-z]',string)\n",
    "print(result)"
   ]
  },
  {
   "cell_type": "markdown",
   "id": "dde1311f",
   "metadata": {},
   "source": [
    "# Q25"
   ]
  },
  {
   "cell_type": "markdown",
   "id": "3a6b199c",
   "metadata": {},
   "source": [
    "Write a Python program to remove duplicate words from Sentence using Regular Expression"
   ]
  },
  {
   "cell_type": "code",
   "execution_count": null,
   "id": "0d001845",
   "metadata": {},
   "outputs": [],
   "source": []
  },
  {
   "cell_type": "markdown",
   "id": "5a450097",
   "metadata": {},
   "source": [
    "# Q26"
   ]
  },
  {
   "cell_type": "markdown",
   "id": "c324d8dc",
   "metadata": {},
   "source": [
    " Write a python program using RegEx to accept string ending with alphanumeric character"
   ]
  },
  {
   "cell_type": "code",
   "execution_count": 80,
   "id": "f9f5976f",
   "metadata": {},
   "outputs": [
    {
     "data": {
      "text/plain": [
       "(True, False, True)"
      ]
     },
     "execution_count": 80,
     "metadata": {},
     "output_type": "execute_result"
    }
   ],
   "source": [
    "def endswithalphanum(string):\n",
    "    pattern = r'^.*[a-zA-Z0-9]$'\n",
    "    match = re.match(pattern, string)\n",
    "    if match:\n",
    "        return True\n",
    "    else:\n",
    "        return False\n",
    "\n",
    "i='nimish887'\n",
    "j='nimish889*'\n",
    "k='nimish887087'\n",
    "endswithalphanum(i), endswithalphanum(j),endswithalphanum(k)"
   ]
  },
  {
   "cell_type": "markdown",
   "id": "806311c5",
   "metadata": {},
   "source": [
    "# Q27"
   ]
  },
  {
   "cell_type": "markdown",
   "id": "bbc77962",
   "metadata": {},
   "source": [
    "Write a python program using RegEx to extract the hashtags."
   ]
  },
  {
   "cell_type": "code",
   "execution_count": 82,
   "id": "e087b713",
   "metadata": {},
   "outputs": [
    {
     "name": "stdout",
     "output_type": "stream",
     "text": [
      "enter any string: my #name is #nimish\n",
      "['#name', '#nimish']\n"
     ]
    }
   ],
   "source": [
    "string=input('enter any string: ')\n",
    "result=re.findall('#\\w+',string)\n",
    "print(result)"
   ]
  },
  {
   "cell_type": "markdown",
   "id": "518bb6ad",
   "metadata": {},
   "source": [
    "# Q28 "
   ]
  },
  {
   "cell_type": "markdown",
   "id": "0e325e74",
   "metadata": {},
   "source": [
    "Write a python program using RegEx to remove <U+..> like symbols\n",
    "Check the below sample text, there are strange symbols something of the sort <U+..> all over the place. You need to come up with a general Regex expression that will cover all such symbols.\n",
    "\n",
    "Sample Text: \"@Jags123456 Bharat band on 28??<ed><U+00A0><U+00BD><ed><U+00B8><U+0082>Those who  are protesting #demonetization  are all different party leaders\"\n",
    "\n",
    "Output: @Jags123456 Bharat band on 28??<ed><ed>Those who  are protesting #demonetization  are all different party leaders\n"
   ]
  },
  {
   "cell_type": "code",
   "execution_count": 85,
   "id": "7d014529",
   "metadata": {},
   "outputs": [
    {
     "name": "stdout",
     "output_type": "stream",
     "text": [
      "enter any string: @Jags123456 Bharat band on 28??<U+00A0><U+00BD><U+00B8><U+0082>Those who are protesting #demonetization are all different party leaders\"\n",
      "@Jags123456 Bharat band on 28??Those who are protesting #demonetization are all different party leaders\"\n"
     ]
    }
   ],
   "source": [
    "string=input('enter any string: ')\n",
    "result=re.sub('<U\\+\\w+\\>','',string)\n",
    "print(result)"
   ]
  },
  {
   "cell_type": "markdown",
   "id": "6bf136ff",
   "metadata": {},
   "source": [
    "# Q29\n"
   ]
  },
  {
   "cell_type": "markdown",
   "id": "05c5c032",
   "metadata": {},
   "source": [
    "Write a python program to extract dates from the text stored in the text file.\n",
    "Sample Text: Ron was born on 12-09-1992 and he was admitted to school 15-12-1999.\n",
    "Store this sample text in the file and then extract dates.\n"
   ]
  },
  {
   "cell_type": "code",
   "execution_count": 86,
   "id": "d1ac53cd",
   "metadata": {},
   "outputs": [
    {
     "name": "stdout",
     "output_type": "stream",
     "text": [
      "['12-09-1992', '15-12-1999']\n"
     ]
    }
   ],
   "source": [
    "def extract_dates_from_txt(file_path):\n",
    "    with open(file_path, 'r') as file:\n",
    "        text = file.read()\n",
    "        pattern = r'\\b\\d{2}-\\d{2}-\\d{4}\\b'\n",
    "        dates = re.findall(pattern, text)\n",
    "        return dates\n",
    "\n",
    "# Example usage:\n",
    "file_path = 'regextextfile.txt'\n",
    "dates = extract_dates_from_txt(file_path)\n",
    "print(dates)"
   ]
  },
  {
   "cell_type": "markdown",
   "id": "e5708eae",
   "metadata": {},
   "source": [
    "# Q30\n"
   ]
  },
  {
   "cell_type": "markdown",
   "id": "9a597200",
   "metadata": {},
   "source": [
    "Write a Python program to replace all occurrences of a space, comma, or dot with a colon.\n",
    "\n",
    "Sample Text- 'Python Exercises, PHP exercises.'\n",
    "\n",
    "Output: Python:Exercises::PHP:exercises:\n",
    "\n"
   ]
  },
  {
   "cell_type": "code",
   "execution_count": 87,
   "id": "93034271",
   "metadata": {},
   "outputs": [
    {
     "name": "stdout",
     "output_type": "stream",
     "text": [
      "enter any string: Python Exercises, PHP exercises.'\n",
      "Python:Exercises::PHP:exercises:'\n"
     ]
    }
   ],
   "source": [
    "string=input('enter any string: ')\n",
    "result=re.sub('[ ,.]',':',string)\n",
    "print(result)"
   ]
  },
  {
   "cell_type": "code",
   "execution_count": null,
   "id": "45a66198",
   "metadata": {},
   "outputs": [],
   "source": []
  }
 ],
 "metadata": {
  "kernelspec": {
   "display_name": "Python 3 (ipykernel)",
   "language": "python",
   "name": "python3"
  },
  "language_info": {
   "codemirror_mode": {
    "name": "ipython",
    "version": 3
   },
   "file_extension": ".py",
   "mimetype": "text/x-python",
   "name": "python",
   "nbconvert_exporter": "python",
   "pygments_lexer": "ipython3",
   "version": "3.11.3"
  }
 },
 "nbformat": 4,
 "nbformat_minor": 5
}
