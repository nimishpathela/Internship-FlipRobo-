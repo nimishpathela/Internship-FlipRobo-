{
 "cells": [
  {
   "cell_type": "code",
   "execution_count": 2,
   "id": "d9e8c53c",
   "metadata": {},
   "outputs": [
    {
     "name": "stdout",
     "output_type": "stream",
     "text": [
      "Collecting selenium\n",
      "  Downloading selenium-4.9.1-py3-none-any.whl (6.6 MB)\n",
      "     ---------------------------------------- 6.6/6.6 MB 3.5 MB/s eta 0:00:00\n",
      "Requirement already satisfied: certifi>=2021.10.8 in c:\\users\\bkasri\\anaconda3\\lib\\site-packages (from selenium) (2022.9.14)\n",
      "Collecting trio-websocket~=0.9\n",
      "  Downloading trio_websocket-0.10.2-py3-none-any.whl (17 kB)\n",
      "Requirement already satisfied: urllib3[socks]<3,>=1.26 in c:\\users\\bkasri\\anaconda3\\lib\\site-packages (from selenium) (1.26.11)\n",
      "Collecting trio~=0.17\n",
      "  Downloading trio-0.22.0-py3-none-any.whl (384 kB)\n",
      "     -------------------------------------- 384.9/384.9 kB 3.0 MB/s eta 0:00:00\n",
      "Requirement already satisfied: idna in c:\\users\\bkasri\\anaconda3\\lib\\site-packages (from trio~=0.17->selenium) (3.3)\n",
      "Requirement already satisfied: sniffio in c:\\users\\bkasri\\anaconda3\\lib\\site-packages (from trio~=0.17->selenium) (1.2.0)\n",
      "Requirement already satisfied: cffi>=1.14 in c:\\users\\bkasri\\anaconda3\\lib\\site-packages (from trio~=0.17->selenium) (1.15.1)\n",
      "Collecting outcome\n",
      "  Downloading outcome-1.2.0-py2.py3-none-any.whl (9.7 kB)\n",
      "Requirement already satisfied: attrs>=19.2.0 in c:\\users\\bkasri\\anaconda3\\lib\\site-packages (from trio~=0.17->selenium) (21.4.0)\n",
      "Collecting exceptiongroup>=1.0.0rc9\n",
      "  Downloading exceptiongroup-1.1.1-py3-none-any.whl (14 kB)\n",
      "Requirement already satisfied: sortedcontainers in c:\\users\\bkasri\\anaconda3\\lib\\site-packages (from trio~=0.17->selenium) (2.4.0)\n",
      "Collecting async-generator>=1.9\n",
      "  Downloading async_generator-1.10-py3-none-any.whl (18 kB)\n",
      "Collecting wsproto>=0.14\n",
      "  Downloading wsproto-1.2.0-py3-none-any.whl (24 kB)\n",
      "Requirement already satisfied: PySocks!=1.5.7,<2.0,>=1.5.6 in c:\\users\\bkasri\\anaconda3\\lib\\site-packages (from urllib3[socks]<3,>=1.26->selenium) (1.7.1)\n",
      "Requirement already satisfied: pycparser in c:\\users\\bkasri\\anaconda3\\lib\\site-packages (from cffi>=1.14->trio~=0.17->selenium) (2.21)\n",
      "Collecting h11<1,>=0.9.0\n",
      "  Downloading h11-0.14.0-py3-none-any.whl (58 kB)\n",
      "     -------------------------------------- 58.3/58.3 kB 774.5 kB/s eta 0:00:00\n",
      "Installing collected packages: outcome, h11, exceptiongroup, async-generator, wsproto, trio, trio-websocket, selenium\n",
      "Successfully installed async-generator-1.10 exceptiongroup-1.1.1 h11-0.14.0 outcome-1.2.0 selenium-4.9.1 trio-0.22.0 trio-websocket-0.10.2 wsproto-1.2.0\n"
     ]
    }
   ],
   "source": [
    "!pip install selenium"
   ]
  },
  {
   "cell_type": "code",
   "execution_count": 2,
   "id": "a9de2e88",
   "metadata": {},
   "outputs": [],
   "source": [
    "import selenium\n",
    "import pandas as pd\n",
    "from selenium import webdriver\n",
    "from selenium.webdriver.common.by import By\n",
    "import time\n",
    "import warnings\n",
    "warnings.filterwarnings('ignore')"
   ]
  },
  {
   "cell_type": "markdown",
   "id": "dc291fc0",
   "metadata": {},
   "source": [
    "## Q1) "
   ]
  },
  {
   "cell_type": "raw",
   "id": "9696e86f",
   "metadata": {},
   "source": [
    "Write a python program to scrape data for “Data Analyst” Job position in “Bangalore” location. You\n",
    "have to scrape the job-title, job-location, company_name, experience_required. You have to scrape first 10\n",
    "jobs data.\n",
    "This task will be done in following steps:\n",
    "1. First get the webpage https://www.naukri.com/\n",
    "2. Enter “Data Analyst” in “Skill, Designations, Companies” field and enter “Bangalore” in “enter the\n",
    "location” field.\n",
    "3. Then click the search button.\n",
    "4. Then scrape the data for the first 10 jobs results you get.\n",
    "5. Finally create a dataframe of the scraped data."
   ]
  },
  {
   "cell_type": "code",
   "execution_count": 7,
   "id": "3f90a6ca",
   "metadata": {},
   "outputs": [],
   "source": [
    "naukri=webdriver.Chrome(r'chromedriver.exe')\n",
    "                        "
   ]
  },
  {
   "cell_type": "code",
   "execution_count": 8,
   "id": "9c252ec4",
   "metadata": {},
   "outputs": [],
   "source": [
    "naukri.get('https://www.naukri.com/')"
   ]
  },
  {
   "cell_type": "code",
   "execution_count": 11,
   "id": "c37c3234",
   "metadata": {},
   "outputs": [],
   "source": [
    "designation=naukri.find_element(By.CLASS_NAME,'suggestor-input')\n",
    "designation.send_keys('Data Analyst')"
   ]
  },
  {
   "cell_type": "code",
   "execution_count": 13,
   "id": "ff305bdd",
   "metadata": {},
   "outputs": [],
   "source": [
    "location=naukri.find_element(By.XPATH,'/html/body/div[1]/div[6]/div/div/div[5]/div/div/div/div[1]/div/input ')\n",
    "location.send_keys('Bangalore')"
   ]
  },
  {
   "cell_type": "code",
   "execution_count": 15,
   "id": "996be01e",
   "metadata": {},
   "outputs": [],
   "source": [
    "search=naukri.find_element(By.CLASS_NAME,'qsbSubmit')\n",
    "search.click()"
   ]
  },
  {
   "cell_type": "code",
   "execution_count": 22,
   "id": "09e4951e",
   "metadata": {},
   "outputs": [],
   "source": [
    "Job_Title=[]\n",
    "Job_Location=[]\n",
    "Company_Name=[]\n",
    "Experience_Required=[]"
   ]
  },
  {
   "cell_type": "code",
   "execution_count": 35,
   "id": "d30bb435",
   "metadata": {},
   "outputs": [
    {
     "data": {
      "text/plain": [
       "['Tech Data Analyst',\n",
       " 'Data Analyst',\n",
       " 'Data Analyst',\n",
       " 'Data Analyst',\n",
       " 'Data Analyst',\n",
       " 'Knowledge Data Analyst',\n",
       " 'Data Analyst',\n",
       " 'Data Analyst',\n",
       " 'Data Analyst',\n",
       " 'Data Analyst']"
      ]
     },
     "execution_count": 35,
     "metadata": {},
     "output_type": "execute_result"
    }
   ],
   "source": [
    "a=naukri.find_elements(By.XPATH,'//a[@class=\"title ellipsis\"]')\n",
    "for i in a[:10]:\n",
    "    Job_Title.append(i.text)\n",
    "Job_Title\n"
   ]
  },
  {
   "cell_type": "code",
   "execution_count": 29,
   "id": "2b0e6ebb",
   "metadata": {},
   "outputs": [],
   "source": [
    "b=naukri.find_elements(By.XPATH,'//span[@class=\"ellipsis fleft locWdth\"]')\n",
    "for i in b[:10]:\n",
    "    Job_Location.append(i.text)"
   ]
  },
  {
   "cell_type": "code",
   "execution_count": 31,
   "id": "106540a3",
   "metadata": {},
   "outputs": [],
   "source": [
    "c=naukri.find_elements(By.XPATH,'//a[@class=\"subTitle ellipsis fleft\"]')\n",
    "for i in c[:10]:\n",
    "    Company_Name.append(i.text)"
   ]
  },
  {
   "cell_type": "code",
   "execution_count": 23,
   "id": "92b3848b",
   "metadata": {},
   "outputs": [],
   "source": [
    "d=naukri.find_elements(By.XPATH,'//span[@class=\"ellipsis fleft expwdth\"]')\n",
    "for i in d[:10]:\n",
    "    Experience_Required.append(i.text)\n"
   ]
  },
  {
   "cell_type": "code",
   "execution_count": 36,
   "id": "bc2811d2",
   "metadata": {},
   "outputs": [
    {
     "data": {
      "text/html": [
       "<div>\n",
       "<style scoped>\n",
       "    .dataframe tbody tr th:only-of-type {\n",
       "        vertical-align: middle;\n",
       "    }\n",
       "\n",
       "    .dataframe tbody tr th {\n",
       "        vertical-align: top;\n",
       "    }\n",
       "\n",
       "    .dataframe thead th {\n",
       "        text-align: right;\n",
       "    }\n",
       "</style>\n",
       "<table border=\"1\" class=\"dataframe\">\n",
       "  <thead>\n",
       "    <tr style=\"text-align: right;\">\n",
       "      <th></th>\n",
       "      <th>Job Title</th>\n",
       "      <th>Location</th>\n",
       "      <th>Company</th>\n",
       "      <th>Experience Required</th>\n",
       "    </tr>\n",
       "  </thead>\n",
       "  <tbody>\n",
       "    <tr>\n",
       "      <th>0</th>\n",
       "      <td>Tech Data Analyst</td>\n",
       "      <td>Hybrid - Bangalore/ Bengaluru, Karnataka, Gurg...</td>\n",
       "      <td>Wipro</td>\n",
       "      <td>3-6 Yrs</td>\n",
       "    </tr>\n",
       "    <tr>\n",
       "      <th>1</th>\n",
       "      <td>Data Analyst</td>\n",
       "      <td>Bangalore/ Bengaluru, Karnataka</td>\n",
       "      <td>Teamlease Services Limited</td>\n",
       "      <td>3-8 Yrs</td>\n",
       "    </tr>\n",
       "    <tr>\n",
       "      <th>2</th>\n",
       "      <td>Data Analyst</td>\n",
       "      <td>Bangalore/Bengaluru</td>\n",
       "      <td>Brillio</td>\n",
       "      <td>0-2 Yrs</td>\n",
       "    </tr>\n",
       "    <tr>\n",
       "      <th>3</th>\n",
       "      <td>Data Analyst</td>\n",
       "      <td>Hybrid - Bangalore/Bengaluru</td>\n",
       "      <td>HARMAN</td>\n",
       "      <td>3-5 Yrs</td>\n",
       "    </tr>\n",
       "    <tr>\n",
       "      <th>4</th>\n",
       "      <td>Data Analyst</td>\n",
       "      <td>Hybrid - Bangalore/Bengaluru, Delhi / NCR</td>\n",
       "      <td>Aon</td>\n",
       "      <td>6-9 Yrs</td>\n",
       "    </tr>\n",
       "    <tr>\n",
       "      <th>5</th>\n",
       "      <td>Knowledge Data Analyst</td>\n",
       "      <td>Bangalore/Bengaluru</td>\n",
       "      <td>SAP</td>\n",
       "      <td>4-6 Yrs</td>\n",
       "    </tr>\n",
       "    <tr>\n",
       "      <th>6</th>\n",
       "      <td>Data Analyst</td>\n",
       "      <td>Hybrid - Bangalore/Bengaluru, Delhi / NCR</td>\n",
       "      <td>Aon</td>\n",
       "      <td>6-9 Yrs</td>\n",
       "    </tr>\n",
       "    <tr>\n",
       "      <th>7</th>\n",
       "      <td>Data Analyst</td>\n",
       "      <td>Bangalore/Bengaluru</td>\n",
       "      <td>Koch Industries</td>\n",
       "      <td>7-9 Yrs</td>\n",
       "    </tr>\n",
       "    <tr>\n",
       "      <th>8</th>\n",
       "      <td>Data Analyst</td>\n",
       "      <td>Bangalore/Bengaluru</td>\n",
       "      <td>Aventus Technology India</td>\n",
       "      <td>2-7 Yrs</td>\n",
       "    </tr>\n",
       "    <tr>\n",
       "      <th>9</th>\n",
       "      <td>Data Analyst</td>\n",
       "      <td>Bangalore/Bengaluru</td>\n",
       "      <td>Zoom Start India</td>\n",
       "      <td>1-4 Yrs</td>\n",
       "    </tr>\n",
       "  </tbody>\n",
       "</table>\n",
       "</div>"
      ],
      "text/plain": [
       "                Job Title                                           Location  \\\n",
       "0       Tech Data Analyst  Hybrid - Bangalore/ Bengaluru, Karnataka, Gurg...   \n",
       "1            Data Analyst                    Bangalore/ Bengaluru, Karnataka   \n",
       "2            Data Analyst                                Bangalore/Bengaluru   \n",
       "3            Data Analyst                       Hybrid - Bangalore/Bengaluru   \n",
       "4            Data Analyst          Hybrid - Bangalore/Bengaluru, Delhi / NCR   \n",
       "5  Knowledge Data Analyst                                Bangalore/Bengaluru   \n",
       "6            Data Analyst          Hybrid - Bangalore/Bengaluru, Delhi / NCR   \n",
       "7            Data Analyst                                Bangalore/Bengaluru   \n",
       "8            Data Analyst                                Bangalore/Bengaluru   \n",
       "9            Data Analyst                                Bangalore/Bengaluru   \n",
       "\n",
       "                      Company Experience Required  \n",
       "0                       Wipro             3-6 Yrs  \n",
       "1  Teamlease Services Limited             3-8 Yrs  \n",
       "2                     Brillio             0-2 Yrs  \n",
       "3                      HARMAN             3-5 Yrs  \n",
       "4                         Aon             6-9 Yrs  \n",
       "5                         SAP             4-6 Yrs  \n",
       "6                         Aon             6-9 Yrs  \n",
       "7             Koch Industries             7-9 Yrs  \n",
       "8    Aventus Technology India             2-7 Yrs  \n",
       "9            Zoom Start India             1-4 Yrs  "
      ]
     },
     "execution_count": 36,
     "metadata": {},
     "output_type": "execute_result"
    }
   ],
   "source": [
    "Data_Analyst_Jobs=pd.DataFrame({'Job Title':Job_Title,'Location':Job_Location,'Company':Company_Name,'Experience Required':Experience_Required})\n",
    "Data_Analyst_Jobs"
   ]
  },
  {
   "cell_type": "markdown",
   "id": "5cf09995",
   "metadata": {},
   "source": [
    "## Q2)"
   ]
  },
  {
   "cell_type": "raw",
   "id": "0bf0a99d",
   "metadata": {},
   "source": [
    "Write a python program to scrape data for “Data Scientist” Job position in “Bangalore” location. You\n",
    "have to scrape the job-title, job-location, company_name. You have to scrape first 10 jobs data.\n",
    "This task will be done in following steps:\n",
    "1. First get the webpage https://www.naukri.com/\n",
    "2. Enter “Data Scientist” in “Skill, Designations, Companies” field and enter “Bangalore” in “enter the\n",
    "location” field.\n",
    "3. Then click the search button.\n",
    "4. Then scrape the data for the first 10 jobs results youget.\n",
    "5. Finally create a dataframe of the scraped data."
   ]
  },
  {
   "cell_type": "code",
   "execution_count": 55,
   "id": "320af1cd",
   "metadata": {},
   "outputs": [],
   "source": [
    "naukri2=webdriver.Chrome(r'chromedriver.exe')"
   ]
  },
  {
   "cell_type": "code",
   "execution_count": 56,
   "id": "a84ed4fa",
   "metadata": {},
   "outputs": [],
   "source": [
    "naukri2.get('https://www.naukri.com/')"
   ]
  },
  {
   "cell_type": "code",
   "execution_count": 57,
   "id": "dd5acb44",
   "metadata": {},
   "outputs": [],
   "source": [
    "designation=naukri2.find_element(By.XPATH,'/html/body/div[1]/div[7]/div/div/div[1]/div/div/div/div[1]/div/input')\n",
    "designation.send_keys('Data Scientist')"
   ]
  },
  {
   "cell_type": "code",
   "execution_count": 58,
   "id": "d824189f",
   "metadata": {},
   "outputs": [],
   "source": [
    "location=naukri2.find_element(By.XPATH,'/html/body/div[1]/div[7]/div/div/div[5]/div/div/div/div[1]/div/input ')\n",
    "location.send_keys('Bangalore')"
   ]
  },
  {
   "cell_type": "code",
   "execution_count": 59,
   "id": "19306fd2",
   "metadata": {},
   "outputs": [],
   "source": [
    "search=naukri2.find_element(By.CLASS_NAME,'qsbSubmit')\n",
    "search.click()"
   ]
  },
  {
   "cell_type": "code",
   "execution_count": 83,
   "id": "1b45de01",
   "metadata": {},
   "outputs": [
    {
     "data": {
      "text/plain": [
       "['Permanent Opportunity - Data Scientist(Snaplogic&Snowflake), Pan India',\n",
       " 'Analystics & Modeling Specialist',\n",
       " 'Hiring For Data Scientist',\n",
       " 'Data Scientist_NLP',\n",
       " 'Machine Learning (AI) Architect',\n",
       " 'Director/Senior Director - Data Science',\n",
       " 'Manager/Senior Manager - Data Science',\n",
       " 'Data Scientist',\n",
       " 'Data Scientist',\n",
       " 'Data Scientist']"
      ]
     },
     "execution_count": 83,
     "metadata": {},
     "output_type": "execute_result"
    }
   ],
   "source": [
    "tit=[]\n",
    "a=naukri2.find_elements(By.XPATH,'//a[@class=\"title ellipsis\"]')\n",
    "for i in a[:10]:\n",
    "    tit.append(i.text)\n",
    "tit\n"
   ]
  },
  {
   "cell_type": "code",
   "execution_count": 84,
   "id": "581da769",
   "metadata": {},
   "outputs": [
    {
     "data": {
      "text/plain": [
       "10"
      ]
     },
     "execution_count": 84,
     "metadata": {},
     "output_type": "execute_result"
    }
   ],
   "source": [
    "loca=[]\n",
    "b=naukri2.find_elements(By.XPATH,'//span[@class=\"ellipsis fleft locWdth\"]')\n",
    "for i in b[:10]:\n",
    "    loca.append(i.text)\n",
    "len(loca)"
   ]
  },
  {
   "cell_type": "code",
   "execution_count": 85,
   "id": "8b6b33c9",
   "metadata": {},
   "outputs": [],
   "source": [
    "company=[]\n",
    "c=naukri2.find_elements(By.XPATH,'//a[@class=\"subTitle ellipsis fleft\"]')\n",
    "for i in c[:10]:\n",
    "    company.append(i.text)"
   ]
  },
  {
   "cell_type": "code",
   "execution_count": 86,
   "id": "e0de7933",
   "metadata": {},
   "outputs": [
    {
     "data": {
      "text/html": [
       "<div>\n",
       "<style scoped>\n",
       "    .dataframe tbody tr th:only-of-type {\n",
       "        vertical-align: middle;\n",
       "    }\n",
       "\n",
       "    .dataframe tbody tr th {\n",
       "        vertical-align: top;\n",
       "    }\n",
       "\n",
       "    .dataframe thead th {\n",
       "        text-align: right;\n",
       "    }\n",
       "</style>\n",
       "<table border=\"1\" class=\"dataframe\">\n",
       "  <thead>\n",
       "    <tr style=\"text-align: right;\">\n",
       "      <th></th>\n",
       "      <th>Job Title</th>\n",
       "      <th>Location</th>\n",
       "      <th>Company</th>\n",
       "    </tr>\n",
       "  </thead>\n",
       "  <tbody>\n",
       "    <tr>\n",
       "      <th>0</th>\n",
       "      <td>Permanent Opportunity - Data Scientist(Snaplog...</td>\n",
       "      <td>Hybrid - Bangalore/Bengaluru, Kolkata, Hyderab...</td>\n",
       "      <td>Deloitte</td>\n",
       "    </tr>\n",
       "    <tr>\n",
       "      <th>1</th>\n",
       "      <td>Analystics &amp; Modeling Specialist</td>\n",
       "      <td>Bangalore/Bengaluru, Kolkata, Mumbai, Hyderaba...</td>\n",
       "      <td>Accenture</td>\n",
       "    </tr>\n",
       "    <tr>\n",
       "      <th>2</th>\n",
       "      <td>Hiring For Data Scientist</td>\n",
       "      <td>Hybrid - Bangalore/ Bengaluru, Karnataka, Hyde...</td>\n",
       "      <td>Tata Consultancy Services (TCS)</td>\n",
       "    </tr>\n",
       "    <tr>\n",
       "      <th>3</th>\n",
       "      <td>Data Scientist_NLP</td>\n",
       "      <td>Bangalore/Bengaluru, Mumbai, Pune, Chennai, Gu...</td>\n",
       "      <td>Fractal Analytics</td>\n",
       "    </tr>\n",
       "    <tr>\n",
       "      <th>4</th>\n",
       "      <td>Machine Learning (AI) Architect</td>\n",
       "      <td>Bangalore/Bengaluru, Kolkata, Mumbai, New Delh...</td>\n",
       "      <td>Persistent</td>\n",
       "    </tr>\n",
       "    <tr>\n",
       "      <th>5</th>\n",
       "      <td>Director/Senior Director - Data Science</td>\n",
       "      <td>Bangalore/Bengaluru, Noida, Hyderabad/Secunder...</td>\n",
       "      <td>Axtria India</td>\n",
       "    </tr>\n",
       "    <tr>\n",
       "      <th>6</th>\n",
       "      <td>Manager/Senior Manager - Data Science</td>\n",
       "      <td>Bangalore/Bengaluru, Noida, Hyderabad/Secunder...</td>\n",
       "      <td>Axtria India</td>\n",
       "    </tr>\n",
       "    <tr>\n",
       "      <th>7</th>\n",
       "      <td>Data Scientist</td>\n",
       "      <td>Bangalore/Bengaluru, Hyderabad/Secunderabad, C...</td>\n",
       "      <td>Cognizant</td>\n",
       "    </tr>\n",
       "    <tr>\n",
       "      <th>8</th>\n",
       "      <td>Data Scientist</td>\n",
       "      <td>Hybrid - Bangalore/Bengaluru, Pune, Delhi / NC...</td>\n",
       "      <td>Infogain</td>\n",
       "    </tr>\n",
       "    <tr>\n",
       "      <th>9</th>\n",
       "      <td>Data Scientist</td>\n",
       "      <td>Remote</td>\n",
       "      <td>Intel</td>\n",
       "    </tr>\n",
       "  </tbody>\n",
       "</table>\n",
       "</div>"
      ],
      "text/plain": [
       "                                           Job Title  \\\n",
       "0  Permanent Opportunity - Data Scientist(Snaplog...   \n",
       "1                   Analystics & Modeling Specialist   \n",
       "2                          Hiring For Data Scientist   \n",
       "3                                 Data Scientist_NLP   \n",
       "4                    Machine Learning (AI) Architect   \n",
       "5            Director/Senior Director - Data Science   \n",
       "6              Manager/Senior Manager - Data Science   \n",
       "7                                     Data Scientist   \n",
       "8                                     Data Scientist   \n",
       "9                                     Data Scientist   \n",
       "\n",
       "                                            Location  \\\n",
       "0  Hybrid - Bangalore/Bengaluru, Kolkata, Hyderab...   \n",
       "1  Bangalore/Bengaluru, Kolkata, Mumbai, Hyderaba...   \n",
       "2  Hybrid - Bangalore/ Bengaluru, Karnataka, Hyde...   \n",
       "3  Bangalore/Bengaluru, Mumbai, Pune, Chennai, Gu...   \n",
       "4  Bangalore/Bengaluru, Kolkata, Mumbai, New Delh...   \n",
       "5  Bangalore/Bengaluru, Noida, Hyderabad/Secunder...   \n",
       "6  Bangalore/Bengaluru, Noida, Hyderabad/Secunder...   \n",
       "7  Bangalore/Bengaluru, Hyderabad/Secunderabad, C...   \n",
       "8  Hybrid - Bangalore/Bengaluru, Pune, Delhi / NC...   \n",
       "9                                             Remote   \n",
       "\n",
       "                           Company  \n",
       "0                         Deloitte  \n",
       "1                        Accenture  \n",
       "2  Tata Consultancy Services (TCS)  \n",
       "3                Fractal Analytics  \n",
       "4                       Persistent  \n",
       "5                     Axtria India  \n",
       "6                     Axtria India  \n",
       "7                        Cognizant  \n",
       "8                         Infogain  \n",
       "9                            Intel  "
      ]
     },
     "execution_count": 86,
     "metadata": {},
     "output_type": "execute_result"
    }
   ],
   "source": [
    "Data_Scientist_Jobs=pd.DataFrame({'Job Title':tit,'Location':loca,'Company':company})\n",
    "Data_Scientist_Jobs"
   ]
  },
  {
   "cell_type": "markdown",
   "id": "461c28d4",
   "metadata": {},
   "source": [
    "## Q3)"
   ]
  },
  {
   "cell_type": "raw",
   "id": "82cb6273",
   "metadata": {},
   "source": [
    "You have to use the location and salary filter.\n",
    "You have to scrape data for “Data Scientist” designation for first 10 job results.\n",
    "You have to scrape the job-title, job-location, company name, experience required.\n",
    "The location filter to be used is “Delhi/NCR”. The salary filter to be used is “3-6” lakhs\n",
    "The task will be done as shown in the below steps:\n",
    "1. first get thewebpage https://www.naukri.com/\n",
    "2. Enter “Data Scientist” in “Skill, Designations, and Companies” field.\n",
    "3. Then click the searchbutton.\n",
    "4. Then apply the location filter and salary filter by checking the respective boxes\n",
    "5. Then scrape the data for the first 10 jobs results youget.\n",
    "6. Finally create a dataframe of the scraped data."
   ]
  },
  {
   "cell_type": "code",
   "execution_count": 91,
   "id": "b46a4e0f",
   "metadata": {},
   "outputs": [],
   "source": [
    "naukri3=webdriver.Chrome(r'chromedriver.exe')"
   ]
  },
  {
   "cell_type": "code",
   "execution_count": 92,
   "id": "5641e727",
   "metadata": {},
   "outputs": [],
   "source": [
    "naukri3.get('https://www.naukri.com/')"
   ]
  },
  {
   "cell_type": "code",
   "execution_count": 93,
   "id": "d41a95a9",
   "metadata": {},
   "outputs": [],
   "source": [
    "designation=naukri3.find_element(By.XPATH,'/html/body/div[1]/div[7]/div/div/div[1]/div/div/div/div[1]/div/input')\n",
    "designation.send_keys('Data Scientist')"
   ]
  },
  {
   "cell_type": "code",
   "execution_count": 94,
   "id": "608efdec",
   "metadata": {},
   "outputs": [],
   "source": [
    "search=naukri3.find_element(By.CLASS_NAME,'qsbSubmit')\n",
    "search.click()"
   ]
  },
  {
   "cell_type": "code",
   "execution_count": 96,
   "id": "be011692",
   "metadata": {},
   "outputs": [],
   "source": [
    "new_delhi=naukri3.find_element(By.XPATH,'/html/body/div[1]/div[4]/div/div/section[1]/div[2]/div[5]/div[2]/div[2]/label/p/span[1]')\n",
    "new_delhi.click()"
   ]
  },
  {
   "cell_type": "code",
   "execution_count": 98,
   "id": "ebf222a7",
   "metadata": {},
   "outputs": [],
   "source": [
    "salary=naukri3.find_element(By.XPATH,'/html/body/div[1]/div[4]/div/div/section[1]/div[2]/div[6]/div[2]/div[2]/label/p/span[1]')\n",
    "salary.click()"
   ]
  },
  {
   "cell_type": "code",
   "execution_count": 129,
   "id": "5617e03c",
   "metadata": {},
   "outputs": [],
   "source": [
    "t=[]\n",
    "w=naukri3.find_elements(By.XPATH,'//a[@class=\"title ellipsis\"]')\n",
    "for i in w[:10]:\n",
    "    t.append(i.text)\n"
   ]
  },
  {
   "cell_type": "code",
   "execution_count": 130,
   "id": "4d2717eb",
   "metadata": {},
   "outputs": [],
   "source": [
    "l=[]\n",
    "x=naukri3.find_elements(By.XPATH,'//span[@class=\"ellipsis fleft locWdth\"]')\n",
    "for i in x[:10]:\n",
    "    l.append(i.text)"
   ]
  },
  {
   "cell_type": "code",
   "execution_count": 131,
   "id": "491b0ab9",
   "metadata": {},
   "outputs": [],
   "source": [
    "c=[]\n",
    "y=naukri3.find_elements(By.XPATH,'//a[@class=\"subTitle ellipsis fleft\"]')\n",
    "for i in y[:10]:\n",
    "    c.append(i.text)"
   ]
  },
  {
   "cell_type": "code",
   "execution_count": 132,
   "id": "29b1ee0a",
   "metadata": {},
   "outputs": [],
   "source": [
    "er=[]\n",
    "z=naukri3.find_elements(By.XPATH,'//span[@class=\"ellipsis fleft expwdth\"]')\n",
    "for i in z[:10]:\n",
    "    er.append(i.text)"
   ]
  },
  {
   "cell_type": "code",
   "execution_count": 133,
   "id": "f2c1b82e",
   "metadata": {},
   "outputs": [
    {
     "data": {
      "text/plain": [
       "(10, 10, 10, 10)"
      ]
     },
     "execution_count": 133,
     "metadata": {},
     "output_type": "execute_result"
    }
   ],
   "source": [
    "len(l),len(t),len(c),len(er)"
   ]
  },
  {
   "cell_type": "code",
   "execution_count": 134,
   "id": "224748d4",
   "metadata": {},
   "outputs": [
    {
     "data": {
      "text/html": [
       "<div>\n",
       "<style scoped>\n",
       "    .dataframe tbody tr th:only-of-type {\n",
       "        vertical-align: middle;\n",
       "    }\n",
       "\n",
       "    .dataframe tbody tr th {\n",
       "        vertical-align: top;\n",
       "    }\n",
       "\n",
       "    .dataframe thead th {\n",
       "        text-align: right;\n",
       "    }\n",
       "</style>\n",
       "<table border=\"1\" class=\"dataframe\">\n",
       "  <thead>\n",
       "    <tr style=\"text-align: right;\">\n",
       "      <th></th>\n",
       "      <th>Job Title</th>\n",
       "      <th>Location</th>\n",
       "      <th>Company</th>\n",
       "      <th>Experience Required</th>\n",
       "    </tr>\n",
       "  </thead>\n",
       "  <tbody>\n",
       "    <tr>\n",
       "      <th>0</th>\n",
       "      <td>Junior Data Scientist</td>\n",
       "      <td>Kolkata, Mumbai, New Delhi, Hyderabad/Secunder...</td>\n",
       "      <td>Analytos</td>\n",
       "      <td>0-2 Yrs</td>\n",
       "    </tr>\n",
       "    <tr>\n",
       "      <th>1</th>\n",
       "      <td>Data Scientist</td>\n",
       "      <td>Gurgaon/Gurugram, Bangalore/Bengaluru</td>\n",
       "      <td>Blackbuck</td>\n",
       "      <td>3-7 Yrs</td>\n",
       "    </tr>\n",
       "    <tr>\n",
       "      <th>2</th>\n",
       "      <td>Data Scientist</td>\n",
       "      <td>Kolkata, Mumbai, New Delhi, Hyderabad/Secunder...</td>\n",
       "      <td>Analytos</td>\n",
       "      <td>2-4 Yrs</td>\n",
       "    </tr>\n",
       "    <tr>\n",
       "      <th>3</th>\n",
       "      <td>Data Scientist</td>\n",
       "      <td>Delhi / NCR</td>\n",
       "      <td>Tata Consultancy Services (TCS)</td>\n",
       "      <td>7-12 Yrs</td>\n",
       "    </tr>\n",
       "    <tr>\n",
       "      <th>4</th>\n",
       "      <td>Lead Assistant Manager</td>\n",
       "      <td>Gurgaon/Gurugram</td>\n",
       "      <td>EXL</td>\n",
       "      <td>2-6 Yrs</td>\n",
       "    </tr>\n",
       "    <tr>\n",
       "      <th>5</th>\n",
       "      <td>Intern</td>\n",
       "      <td>Gurgaon/Gurugram</td>\n",
       "      <td>Tower Research Capital</td>\n",
       "      <td>0-1 Yrs</td>\n",
       "    </tr>\n",
       "    <tr>\n",
       "      <th>6</th>\n",
       "      <td>Data Scientist</td>\n",
       "      <td>Noida</td>\n",
       "      <td>Innovaccer</td>\n",
       "      <td>2-4 Yrs</td>\n",
       "    </tr>\n",
       "    <tr>\n",
       "      <th>7</th>\n",
       "      <td>Junior Data Scientist</td>\n",
       "      <td>Gurgaon/Gurugram, United States (USA), Bulgaria</td>\n",
       "      <td>Adidas</td>\n",
       "      <td>1-6 Yrs</td>\n",
       "    </tr>\n",
       "    <tr>\n",
       "      <th>8</th>\n",
       "      <td>MLOps - Data Scientist</td>\n",
       "      <td>Noida</td>\n",
       "      <td>Paytm</td>\n",
       "      <td>3-8 Yrs</td>\n",
       "    </tr>\n",
       "    <tr>\n",
       "      <th>9</th>\n",
       "      <td>Data Scientist</td>\n",
       "      <td>Kolkata, Pune, Gurgaon/Gurugram</td>\n",
       "      <td>Gforce Consulting Solutions</td>\n",
       "      <td>3-8 Yrs</td>\n",
       "    </tr>\n",
       "  </tbody>\n",
       "</table>\n",
       "</div>"
      ],
      "text/plain": [
       "                Job Title                                           Location  \\\n",
       "0   Junior Data Scientist  Kolkata, Mumbai, New Delhi, Hyderabad/Secunder...   \n",
       "1          Data Scientist              Gurgaon/Gurugram, Bangalore/Bengaluru   \n",
       "2          Data Scientist  Kolkata, Mumbai, New Delhi, Hyderabad/Secunder...   \n",
       "3          Data Scientist                                        Delhi / NCR   \n",
       "4  Lead Assistant Manager                                   Gurgaon/Gurugram   \n",
       "5                  Intern                                   Gurgaon/Gurugram   \n",
       "6          Data Scientist                                              Noida   \n",
       "7   Junior Data Scientist    Gurgaon/Gurugram, United States (USA), Bulgaria   \n",
       "8  MLOps - Data Scientist                                              Noida   \n",
       "9          Data Scientist                    Kolkata, Pune, Gurgaon/Gurugram   \n",
       "\n",
       "                           Company Experience Required  \n",
       "0                         Analytos             0-2 Yrs  \n",
       "1                        Blackbuck             3-7 Yrs  \n",
       "2                         Analytos             2-4 Yrs  \n",
       "3  Tata Consultancy Services (TCS)            7-12 Yrs  \n",
       "4                              EXL             2-6 Yrs  \n",
       "5           Tower Research Capital             0-1 Yrs  \n",
       "6                       Innovaccer             2-4 Yrs  \n",
       "7                           Adidas             1-6 Yrs  \n",
       "8                            Paytm             3-8 Yrs  \n",
       "9      Gforce Consulting Solutions             3-8 Yrs  "
      ]
     },
     "execution_count": 134,
     "metadata": {},
     "output_type": "execute_result"
    }
   ],
   "source": [
    "Data_Scientist_Jobs_New_delhi=pd.DataFrame({'Job Title':t,'Location':l,'Company':c,'Experience Required':er})\n",
    "Data_Scientist_Jobs_New_delhi"
   ]
  },
  {
   "cell_type": "markdown",
   "id": "0a0f3282",
   "metadata": {},
   "source": [
    "## Q4)"
   ]
  },
  {
   "cell_type": "raw",
   "id": "9d6ce01e",
   "metadata": {},
   "source": [
    "Scrape data of first 100 sunglasses listings on flipkart.com. You have to scrape four attributes:\n",
    "1. Brand\n",
    "2. Product Description\n",
    "3. Price\n",
    "To scrape the data you have to go through following steps:\n",
    "1. Go to Flipkart webpage by url : https://www.flipkart.com/\n",
    "2. Enter “sunglasses” in the search field where “search for products, brands and more” is written and\n",
    "click the search icon\n",
    "3. After that you will reach to the page having a lot of sunglasses. From this page you can scrap the\n",
    "required data as usual.\n",
    "4. After scraping data from the first page, go to the “Next” Button at the bottom other page , then\n",
    "click on it.\n",
    "5. Now scrape data from this page as usual\n",
    "6. Repeat this until you get data for 100 sunglasses."
   ]
  },
  {
   "cell_type": "code",
   "execution_count": 10,
   "id": "c8eede1f",
   "metadata": {},
   "outputs": [],
   "source": [
    "fk=webdriver.Chrome(r'chromedriver.exe')"
   ]
  },
  {
   "cell_type": "code",
   "execution_count": 11,
   "id": "0d8bbd9d",
   "metadata": {},
   "outputs": [],
   "source": [
    "fk.get('https://www.flipkart.com/')"
   ]
  },
  {
   "cell_type": "code",
   "execution_count": 12,
   "id": "a1e25414",
   "metadata": {},
   "outputs": [],
   "source": [
    "search=fk.find_element(By.XPATH,'/html/body/div[1]/div/div[1]/div[1]/div[2]/div[2]/form/div/div/input')\n",
    "search.send_keys('sunglasses')"
   ]
  },
  {
   "cell_type": "code",
   "execution_count": 15,
   "id": "09b1070a",
   "metadata": {},
   "outputs": [],
   "source": [
    "search=fk.find_element(By.XPATH,'/html/body/div[1]/div/div[1]/div[1]/div[2]/div[2]/form/div/button')\n",
    "search.click()"
   ]
  },
  {
   "cell_type": "code",
   "execution_count": 16,
   "id": "3ff6ca25",
   "metadata": {},
   "outputs": [],
   "source": [
    "b=[]\n",
    "pds=[]\n",
    "pr=[]"
   ]
  },
  {
   "cell_type": "code",
   "execution_count": 18,
   "id": "e5c3ac22",
   "metadata": {},
   "outputs": [
    {
     "data": {
      "text/plain": [
       "(120, 111, 120)"
      ]
     },
     "execution_count": 18,
     "metadata": {},
     "output_type": "execute_result"
    }
   ],
   "source": [
    "for page in range(0,3):\n",
    "    brand=fk.find_elements(By.XPATH,'//div[@class=\"_2B099V\"]')\n",
    "    for i in brand:\n",
    "        b.append(i.text)\n",
    "        \n",
    "for page in range(0,3):\n",
    "    pdes=fk.find_elements(By.XPATH,'//a[@class=\"IRpwTa\"]')\n",
    "    for i in pdes:\n",
    "        pds.append(i.text)\n",
    "        \n",
    "for page in range(0,3):\n",
    "    price=fk.find_elements(By.XPATH,'//div[@class=\"_30jeq3\"]')\n",
    "    for i in price:\n",
    "        pr.append(i.text)\n",
    "        \n",
    "len(b),len(pds),len(pr)"
   ]
  },
  {
   "cell_type": "code",
   "execution_count": 35,
   "id": "1d4e7641",
   "metadata": {},
   "outputs": [
    {
     "data": {
      "text/html": [
       "<div>\n",
       "<style scoped>\n",
       "    .dataframe tbody tr th:only-of-type {\n",
       "        vertical-align: middle;\n",
       "    }\n",
       "\n",
       "    .dataframe tbody tr th {\n",
       "        vertical-align: top;\n",
       "    }\n",
       "\n",
       "    .dataframe thead th {\n",
       "        text-align: right;\n",
       "    }\n",
       "</style>\n",
       "<table border=\"1\" class=\"dataframe\">\n",
       "  <thead>\n",
       "    <tr style=\"text-align: right;\">\n",
       "      <th></th>\n",
       "      <th>Brand</th>\n",
       "      <th>Product Description</th>\n",
       "      <th>Price</th>\n",
       "    </tr>\n",
       "  </thead>\n",
       "  <tbody>\n",
       "    <tr>\n",
       "      <th>0</th>\n",
       "      <td>VINCENT CHASE\\nby Lenskart Polarized, UV Prote...</td>\n",
       "      <td>by Lenskart Polarized, UV Protection Retro Squ...</td>\n",
       "      <td>₹1,018</td>\n",
       "    </tr>\n",
       "    <tr>\n",
       "      <th>1</th>\n",
       "      <td>VINCENT CHASE\\nPolarized, UV Protection Round ...</td>\n",
       "      <td>Polarized, UV Protection Round Sunglasses (51)</td>\n",
       "      <td>₹965</td>\n",
       "    </tr>\n",
       "    <tr>\n",
       "      <th>2</th>\n",
       "      <td>SRPM\\nUV Protection Wayfarer Sunglasses (50)\\n...</td>\n",
       "      <td>UV Protection Wayfarer Sunglasses (50)</td>\n",
       "      <td>₹149</td>\n",
       "    </tr>\n",
       "    <tr>\n",
       "      <th>3</th>\n",
       "      <td>SRPM\\nUV Protection Wayfarer Sunglasses (50)\\n...</td>\n",
       "      <td>UV Protection Wayfarer Sunglasses (50)</td>\n",
       "      <td>₹179</td>\n",
       "    </tr>\n",
       "    <tr>\n",
       "      <th>4</th>\n",
       "      <td>Elligator\\nUV Protection Cat-eye, Retro Square...</td>\n",
       "      <td>UV Protection Cat-eye, Retro Square, Oval, Rou...</td>\n",
       "      <td>₹149</td>\n",
       "    </tr>\n",
       "    <tr>\n",
       "      <th>...</th>\n",
       "      <td>...</td>\n",
       "      <td>...</td>\n",
       "      <td>...</td>\n",
       "    </tr>\n",
       "    <tr>\n",
       "      <th>95</th>\n",
       "      <td>VINCENT CHASE\\nPolarized, UV Protection Round ...</td>\n",
       "      <td>Mirrored, Night Vision, UV Protection Wayfarer...</td>\n",
       "      <td>₹781</td>\n",
       "    </tr>\n",
       "    <tr>\n",
       "      <th>96</th>\n",
       "      <td>Fastrack\\nUV Protection Wayfarer Sunglasses (F...</td>\n",
       "      <td>UV Protection, Polarized Wayfarer Sunglasses (...</td>\n",
       "      <td>₹579</td>\n",
       "    </tr>\n",
       "    <tr>\n",
       "      <th>97</th>\n",
       "      <td>Fastrack\\nGradient, UV Protection Wayfarer Sun...</td>\n",
       "      <td>UV Protection Sports Sunglasses (65)</td>\n",
       "      <td>₹539</td>\n",
       "    </tr>\n",
       "    <tr>\n",
       "      <th>98</th>\n",
       "      <td>Fastrack\\nUV Protection Shield Sunglasses (Fre...</td>\n",
       "      <td>UV Protection Round Sunglasses (53)</td>\n",
       "      <td>₹599</td>\n",
       "    </tr>\n",
       "    <tr>\n",
       "      <th>99</th>\n",
       "      <td>VINCENT CHASE\\nby Lenskart UV Protection Round...</td>\n",
       "      <td>by Lenskart Polarized, UV Protection Aviator S...</td>\n",
       "      <td>₹873</td>\n",
       "    </tr>\n",
       "  </tbody>\n",
       "</table>\n",
       "<p>100 rows × 3 columns</p>\n",
       "</div>"
      ],
      "text/plain": [
       "                                                Brand  \\\n",
       "0   VINCENT CHASE\\nby Lenskart Polarized, UV Prote...   \n",
       "1   VINCENT CHASE\\nPolarized, UV Protection Round ...   \n",
       "2   SRPM\\nUV Protection Wayfarer Sunglasses (50)\\n...   \n",
       "3   SRPM\\nUV Protection Wayfarer Sunglasses (50)\\n...   \n",
       "4   Elligator\\nUV Protection Cat-eye, Retro Square...   \n",
       "..                                                ...   \n",
       "95  VINCENT CHASE\\nPolarized, UV Protection Round ...   \n",
       "96  Fastrack\\nUV Protection Wayfarer Sunglasses (F...   \n",
       "97  Fastrack\\nGradient, UV Protection Wayfarer Sun...   \n",
       "98  Fastrack\\nUV Protection Shield Sunglasses (Fre...   \n",
       "99  VINCENT CHASE\\nby Lenskart UV Protection Round...   \n",
       "\n",
       "                                  Product Description   Price  \n",
       "0   by Lenskart Polarized, UV Protection Retro Squ...  ₹1,018  \n",
       "1      Polarized, UV Protection Round Sunglasses (51)    ₹965  \n",
       "2              UV Protection Wayfarer Sunglasses (50)    ₹149  \n",
       "3              UV Protection Wayfarer Sunglasses (50)    ₹179  \n",
       "4   UV Protection Cat-eye, Retro Square, Oval, Rou...    ₹149  \n",
       "..                                                ...     ...  \n",
       "95  Mirrored, Night Vision, UV Protection Wayfarer...    ₹781  \n",
       "96  UV Protection, Polarized Wayfarer Sunglasses (...    ₹579  \n",
       "97               UV Protection Sports Sunglasses (65)    ₹539  \n",
       "98                UV Protection Round Sunglasses (53)    ₹599  \n",
       "99  by Lenskart Polarized, UV Protection Aviator S...    ₹873  \n",
       "\n",
       "[100 rows x 3 columns]"
      ]
     },
     "execution_count": 35,
     "metadata": {},
     "output_type": "execute_result"
    }
   ],
   "source": [
    "Sunglasses=pd.DataFrame({'Brand':b[:100],'Product Description':pds[:100],'Price':pr[:100]})\n",
    "Sunglasses"
   ]
  },
  {
   "cell_type": "markdown",
   "id": "d13f20ec",
   "metadata": {},
   "source": [
    "## Q5)"
   ]
  },
  {
   "cell_type": "raw",
   "id": "558e8423",
   "metadata": {},
   "source": [
    "Scrape 100 reviews data from flipkart.com for iphone11 phone. You have to go the link:\n",
    "https://www.flipkart.com/apple-iphone-11-black-64-gb/productreviews/\n",
    "itm4e5041ba101fd?pid=MOBFWQ6BXGJCEYNY&lid=LSTMOBFWQ6BXGJCEYNYZXSHRJ&market\n",
    "place=FLIPKART\n",
    "As shown in the above page you have to scrape the tick marked attributes. These are:\n",
    "1. Rating\n",
    "2. Review summary\n",
    "3. Full review\n",
    "4. You have to scrape this data for first 100reviews."
   ]
  },
  {
   "cell_type": "code",
   "execution_count": 147,
   "id": "22b69116",
   "metadata": {},
   "outputs": [],
   "source": [
    "fk2=webdriver.Chrome(r'chromedriver.exe')"
   ]
  },
  {
   "cell_type": "code",
   "execution_count": 153,
   "id": "580336fc",
   "metadata": {},
   "outputs": [],
   "source": [
    "fk2.get('https://www.flipkart.com/apple-iphone-11-black-64-gb/p/itm4e5041ba101fd?pid=MOBFWQ6BXGJCEYNY&lid=LSTMOBFWQ6BXGJCEYNYZXSHRJ&marketplace=FLIPKART&q=iphone+11&store=tyy%2F4io&srno=s_1_4&otracker=search&otracker1=search&fm=organic&iid=575ce9d8-41ee-4ede-af79-76d5d63eb703.MOBFWQ6BXGJCEYNY.SEARCH&ppt=hp&ppn=homepage&ssid=81ipfavcfk0000001681245517408&qH=f6cdfdaa9f3c23f3')"
   ]
  },
  {
   "cell_type": "code",
   "execution_count": 155,
   "id": "139a53f6",
   "metadata": {},
   "outputs": [],
   "source": [
    "allreviews=fk2.find_element(By.XPATH,'/html/body/div[1]/div/div[3]/div[1]/div[2]/div[9]/div[7]/div/a/div')\n",
    "allreviews.click()"
   ]
  },
  {
   "cell_type": "code",
   "execution_count": 170,
   "id": "b57965d3",
   "metadata": {},
   "outputs": [
    {
     "data": {
      "text/plain": [
       "100"
      ]
     },
     "execution_count": 170,
     "metadata": {},
     "output_type": "execute_result"
    }
   ],
   "source": [
    "r=[]\n",
    "for page in range(0,10):\n",
    "    ratings=fk2.find_elements(By.XPATH,'//div[@class=\"_3LWZlK _1BLPMq\"]')\n",
    "    for i in ratings:\n",
    "        r.append(i.text)\n",
    "len(r)"
   ]
  },
  {
   "cell_type": "code",
   "execution_count": 171,
   "id": "37dc1cf6",
   "metadata": {},
   "outputs": [
    {
     "data": {
      "text/plain": [
       "100"
      ]
     },
     "execution_count": 171,
     "metadata": {},
     "output_type": "execute_result"
    }
   ],
   "source": [
    "rs=[]\n",
    "for page in range(0,10):\n",
    "    rev_sum=fk2.find_elements(By.XPATH,'//p[@class=\"_2-N8zT\"]')\n",
    "    for i in rev_sum:\n",
    "        rs.append(i.text)\n",
    "len(rs)"
   ]
  },
  {
   "cell_type": "code",
   "execution_count": 172,
   "id": "74110bc4",
   "metadata": {},
   "outputs": [
    {
     "data": {
      "text/plain": [
       "100"
      ]
     },
     "execution_count": 172,
     "metadata": {},
     "output_type": "execute_result"
    }
   ],
   "source": [
    "fr=[]\n",
    "for page in range(0,10):\n",
    "    frev=fk2.find_elements(By.XPATH,'//div[@class=\"t-ZTKy\"]')\n",
    "    for i in frev:\n",
    "        fr.append(i.text)\n",
    "len(fr)"
   ]
  },
  {
   "cell_type": "code",
   "execution_count": 173,
   "id": "97372a44",
   "metadata": {},
   "outputs": [
    {
     "data": {
      "text/html": [
       "<div>\n",
       "<style scoped>\n",
       "    .dataframe tbody tr th:only-of-type {\n",
       "        vertical-align: middle;\n",
       "    }\n",
       "\n",
       "    .dataframe tbody tr th {\n",
       "        vertical-align: top;\n",
       "    }\n",
       "\n",
       "    .dataframe thead th {\n",
       "        text-align: right;\n",
       "    }\n",
       "</style>\n",
       "<table border=\"1\" class=\"dataframe\">\n",
       "  <thead>\n",
       "    <tr style=\"text-align: right;\">\n",
       "      <th></th>\n",
       "      <th>Ratings</th>\n",
       "      <th>Review Summary</th>\n",
       "      <th>Full Review</th>\n",
       "    </tr>\n",
       "  </thead>\n",
       "  <tbody>\n",
       "    <tr>\n",
       "      <th>0</th>\n",
       "      <td>5</td>\n",
       "      <td>Simply awesome</td>\n",
       "      <td>Really satisfied with the Product I received.....</td>\n",
       "    </tr>\n",
       "    <tr>\n",
       "      <th>1</th>\n",
       "      <td>5</td>\n",
       "      <td>Perfect product!</td>\n",
       "      <td>Amazing phone with great cameras and better ba...</td>\n",
       "    </tr>\n",
       "    <tr>\n",
       "      <th>2</th>\n",
       "      <td>5</td>\n",
       "      <td>Highly recommended</td>\n",
       "      <td>It's my first time to use iOS phone and I am l...</td>\n",
       "    </tr>\n",
       "    <tr>\n",
       "      <th>3</th>\n",
       "      <td>5</td>\n",
       "      <td>Best in the market!</td>\n",
       "      <td>Great iPhone very snappy experience as apple k...</td>\n",
       "    </tr>\n",
       "    <tr>\n",
       "      <th>4</th>\n",
       "      <td>4</td>\n",
       "      <td>Value-for-money</td>\n",
       "      <td>I'm Really happy with the product\\nDelivery wa...</td>\n",
       "    </tr>\n",
       "    <tr>\n",
       "      <th>...</th>\n",
       "      <td>...</td>\n",
       "      <td>...</td>\n",
       "      <td>...</td>\n",
       "    </tr>\n",
       "    <tr>\n",
       "      <th>95</th>\n",
       "      <td>5</td>\n",
       "      <td>Worth every penny</td>\n",
       "      <td>Previously I was using one plus 3t it was a gr...</td>\n",
       "    </tr>\n",
       "    <tr>\n",
       "      <th>96</th>\n",
       "      <td>4</td>\n",
       "      <td>Pretty good</td>\n",
       "      <td>I was using Iphone 6s and also Oneplus 6t. Bot...</td>\n",
       "    </tr>\n",
       "    <tr>\n",
       "      <th>97</th>\n",
       "      <td>5</td>\n",
       "      <td>Perfect product!</td>\n",
       "      <td>Value for money\\n5 star rating\\nExcellent came...</td>\n",
       "    </tr>\n",
       "    <tr>\n",
       "      <th>98</th>\n",
       "      <td>5</td>\n",
       "      <td>Highly recommended</td>\n",
       "      <td>What a camera .....just awesome ..you can feel...</td>\n",
       "    </tr>\n",
       "    <tr>\n",
       "      <th>99</th>\n",
       "      <td>5</td>\n",
       "      <td>Great product</td>\n",
       "      <td>Amazing Powerful and Durable Gadget.\\n\\nI’m am...</td>\n",
       "    </tr>\n",
       "  </tbody>\n",
       "</table>\n",
       "<p>100 rows × 3 columns</p>\n",
       "</div>"
      ],
      "text/plain": [
       "   Ratings       Review Summary  \\\n",
       "0        5       Simply awesome   \n",
       "1        5     Perfect product!   \n",
       "2        5   Highly recommended   \n",
       "3        5  Best in the market!   \n",
       "4        4      Value-for-money   \n",
       "..     ...                  ...   \n",
       "95       5    Worth every penny   \n",
       "96       4          Pretty good   \n",
       "97       5     Perfect product!   \n",
       "98       5   Highly recommended   \n",
       "99       5        Great product   \n",
       "\n",
       "                                          Full Review  \n",
       "0   Really satisfied with the Product I received.....  \n",
       "1   Amazing phone with great cameras and better ba...  \n",
       "2   It's my first time to use iOS phone and I am l...  \n",
       "3   Great iPhone very snappy experience as apple k...  \n",
       "4   I'm Really happy with the product\\nDelivery wa...  \n",
       "..                                                ...  \n",
       "95  Previously I was using one plus 3t it was a gr...  \n",
       "96  I was using Iphone 6s and also Oneplus 6t. Bot...  \n",
       "97  Value for money\\n5 star rating\\nExcellent came...  \n",
       "98  What a camera .....just awesome ..you can feel...  \n",
       "99  Amazing Powerful and Durable Gadget.\\n\\nI’m am...  \n",
       "\n",
       "[100 rows x 3 columns]"
      ]
     },
     "execution_count": 173,
     "metadata": {},
     "output_type": "execute_result"
    }
   ],
   "source": [
    "Iphone_100_reveiws=pd.DataFrame({'Ratings':r,'Review Summary':rs,'Full Review':fr})\n",
    "Iphone_100_reveiws"
   ]
  },
  {
   "cell_type": "markdown",
   "id": "b2f7ef3a",
   "metadata": {},
   "source": [
    "## Q6)\n"
   ]
  },
  {
   "cell_type": "raw",
   "id": "c3e8475d",
   "metadata": {},
   "source": [
    "Scrape data for first 100 sneakers you find when you visit flipkart.com and search for “sneakers” in the\n",
    "search field.\n",
    "You have to scrape 3 attributes of each sneaker:\n",
    "1. Brand\n",
    "2. Product Description\n",
    "3. Price\n",
    "As shown in the below image, you have to scrape the above attributes."
   ]
  },
  {
   "cell_type": "code",
   "execution_count": 174,
   "id": "e806b03b",
   "metadata": {},
   "outputs": [],
   "source": [
    "fks=webdriver.Chrome(r'chromedriver.exe')"
   ]
  },
  {
   "cell_type": "code",
   "execution_count": 175,
   "id": "4108f77a",
   "metadata": {},
   "outputs": [],
   "source": [
    "fks.get('https://www.flipkart.com/')"
   ]
  },
  {
   "cell_type": "code",
   "execution_count": 180,
   "id": "9e4db92b",
   "metadata": {},
   "outputs": [],
   "source": [
    "search=fks.find_element(By.XPATH,'/html/body/div[1]/div/div[1]/div[1]/div[2]/div[2]/form/div/div/input')\n",
    "search.send_keys('sneakers')\n",
    "search1=fks.find_element(By.XPATH,'/html/body/div[1]/div/div[1]/div[1]/div[2]/div[2]/form/div/button')\n",
    "search1.click()"
   ]
  },
  {
   "cell_type": "code",
   "execution_count": 191,
   "id": "2a6bc3b6",
   "metadata": {},
   "outputs": [
    {
     "data": {
      "text/plain": [
       "120"
      ]
     },
     "execution_count": 191,
     "metadata": {},
     "output_type": "execute_result"
    }
   ],
   "source": [
    "b=[]\n",
    "for page in range(0,3):\n",
    "    brand=fks.find_elements(By.XPATH,'//div[@class=\"_2WkVRV\"]')\n",
    "    for i in brand:\n",
    "        b.append(i.text)\n",
    "len(b)"
   ]
  },
  {
   "cell_type": "code",
   "execution_count": 194,
   "id": "44b3e6f4",
   "metadata": {},
   "outputs": [
    {
     "data": {
      "text/plain": [
       "117"
      ]
     },
     "execution_count": 194,
     "metadata": {},
     "output_type": "execute_result"
    }
   ],
   "source": [
    "pds=[]\n",
    "for page in range(0,3):\n",
    "    des=fks.find_elements(By.XPATH,'//a[@class=\"IRpwTa\"]')\n",
    "    for i in des:\n",
    "        pds.append(i.text)\n",
    "len(pds)"
   ]
  },
  {
   "cell_type": "code",
   "execution_count": 197,
   "id": "2eedf532",
   "metadata": {},
   "outputs": [
    {
     "data": {
      "text/plain": [
       "120"
      ]
     },
     "execution_count": 197,
     "metadata": {},
     "output_type": "execute_result"
    }
   ],
   "source": [
    "p=[]\n",
    "for page in range(0,3):\n",
    "    pr=fks.find_elements(By.XPATH,'//div[@class=\"_30jeq3\"]')\n",
    "    for i in pr:\n",
    "        p.append(i.text)\n",
    "len(p)"
   ]
  },
  {
   "cell_type": "code",
   "execution_count": 198,
   "id": "badbded1",
   "metadata": {},
   "outputs": [
    {
     "data": {
      "text/html": [
       "<div>\n",
       "<style scoped>\n",
       "    .dataframe tbody tr th:only-of-type {\n",
       "        vertical-align: middle;\n",
       "    }\n",
       "\n",
       "    .dataframe tbody tr th {\n",
       "        vertical-align: top;\n",
       "    }\n",
       "\n",
       "    .dataframe thead th {\n",
       "        text-align: right;\n",
       "    }\n",
       "</style>\n",
       "<table border=\"1\" class=\"dataframe\">\n",
       "  <thead>\n",
       "    <tr style=\"text-align: right;\">\n",
       "      <th></th>\n",
       "      <th>Brand Name</th>\n",
       "      <th>Product Description</th>\n",
       "      <th>Price</th>\n",
       "    </tr>\n",
       "  </thead>\n",
       "  <tbody>\n",
       "    <tr>\n",
       "      <th>0</th>\n",
       "      <td>RapidBox</td>\n",
       "      <td>Sneakers For Men</td>\n",
       "      <td>₹579</td>\n",
       "    </tr>\n",
       "    <tr>\n",
       "      <th>1</th>\n",
       "      <td>K- FOOTLANCE</td>\n",
       "      <td>Sneakers For Men</td>\n",
       "      <td>₹399</td>\n",
       "    </tr>\n",
       "    <tr>\n",
       "      <th>2</th>\n",
       "      <td>aadi</td>\n",
       "      <td>Synthetic Leather |Lightweight|Comfort|Summer|...</td>\n",
       "      <td>₹249</td>\n",
       "    </tr>\n",
       "    <tr>\n",
       "      <th>3</th>\n",
       "      <td>aadi</td>\n",
       "      <td>Synthetic| Lightweight| Premiun| Comfort| Summ...</td>\n",
       "      <td>₹249</td>\n",
       "    </tr>\n",
       "    <tr>\n",
       "      <th>4</th>\n",
       "      <td>World Wear Footwear</td>\n",
       "      <td>Latest Exclusive Affordable Collection of Tren...</td>\n",
       "      <td>₹249</td>\n",
       "    </tr>\n",
       "    <tr>\n",
       "      <th>...</th>\n",
       "      <td>...</td>\n",
       "      <td>...</td>\n",
       "      <td>...</td>\n",
       "    </tr>\n",
       "    <tr>\n",
       "      <th>95</th>\n",
       "      <td>PUMA</td>\n",
       "      <td>Mesh |Lightweight|Comfort|Summer|Trendy|Walkin...</td>\n",
       "      <td>₹1,159</td>\n",
       "    </tr>\n",
       "    <tr>\n",
       "      <th>96</th>\n",
       "      <td>aadi</td>\n",
       "      <td>Combo Pack Of 2 Casual Shoes Sneakers For Men</td>\n",
       "      <td>₹299</td>\n",
       "    </tr>\n",
       "    <tr>\n",
       "      <th>97</th>\n",
       "      <td>aadi</td>\n",
       "      <td>Combo Pack of 2 Casual Shoe Sneakers For Men</td>\n",
       "      <td>₹299</td>\n",
       "    </tr>\n",
       "    <tr>\n",
       "      <th>98</th>\n",
       "      <td>BIRDE</td>\n",
       "      <td>Sneaker for Mens | Casual Shoes | Men Shoes Sn...</td>\n",
       "      <td>₹588</td>\n",
       "    </tr>\n",
       "    <tr>\n",
       "      <th>99</th>\n",
       "      <td>BIRDE</td>\n",
       "      <td>Sneakers For Men</td>\n",
       "      <td>₹499</td>\n",
       "    </tr>\n",
       "  </tbody>\n",
       "</table>\n",
       "<p>100 rows × 3 columns</p>\n",
       "</div>"
      ],
      "text/plain": [
       "             Brand Name                                Product Description  \\\n",
       "0              RapidBox                                   Sneakers For Men   \n",
       "1          K- FOOTLANCE                                   Sneakers For Men   \n",
       "2                  aadi  Synthetic Leather |Lightweight|Comfort|Summer|...   \n",
       "3                  aadi  Synthetic| Lightweight| Premiun| Comfort| Summ...   \n",
       "4   World Wear Footwear  Latest Exclusive Affordable Collection of Tren...   \n",
       "..                  ...                                                ...   \n",
       "95                 PUMA  Mesh |Lightweight|Comfort|Summer|Trendy|Walkin...   \n",
       "96                 aadi      Combo Pack Of 2 Casual Shoes Sneakers For Men   \n",
       "97                 aadi       Combo Pack of 2 Casual Shoe Sneakers For Men   \n",
       "98                BIRDE  Sneaker for Mens | Casual Shoes | Men Shoes Sn...   \n",
       "99                BIRDE                                   Sneakers For Men   \n",
       "\n",
       "     Price  \n",
       "0     ₹579  \n",
       "1     ₹399  \n",
       "2     ₹249  \n",
       "3     ₹249  \n",
       "4     ₹249  \n",
       "..     ...  \n",
       "95  ₹1,159  \n",
       "96    ₹299  \n",
       "97    ₹299  \n",
       "98    ₹588  \n",
       "99    ₹499  \n",
       "\n",
       "[100 rows x 3 columns]"
      ]
     },
     "execution_count": 198,
     "metadata": {},
     "output_type": "execute_result"
    }
   ],
   "source": [
    "Sneakers=pd.DataFrame({'Brand Name':b[:100],'Product Description':pds[:100],'Price':p[:100]})\n",
    "Sneakers"
   ]
  },
  {
   "cell_type": "markdown",
   "id": "9c7c272e",
   "metadata": {},
   "source": [
    "## Q7) "
   ]
  },
  {
   "cell_type": "raw",
   "id": "b9842b7e",
   "metadata": {},
   "source": [
    "Go to webpage https://www.amazon.in/ Enter “Laptop” in the search field and then click the search icon. Then\n",
    "set CPU Type filter to “Intel Core i7” as shown in the below image:\n",
    "After setting the filters scrape first 10 laptops data. You have to scrape 3 attributes for each laptop:\n",
    "1. Title\n",
    "2. Ratings\n",
    "3. Price"
   ]
  },
  {
   "cell_type": "code",
   "execution_count": 199,
   "id": "b87336cc",
   "metadata": {},
   "outputs": [],
   "source": [
    "fkl=webdriver.Chrome(r'chromedriver.exe')"
   ]
  },
  {
   "cell_type": "code",
   "execution_count": 200,
   "id": "4d961a0b",
   "metadata": {},
   "outputs": [],
   "source": [
    "fkl.get('https://www.flipkart.com/')"
   ]
  },
  {
   "cell_type": "code",
   "execution_count": 201,
   "id": "c5a032c0",
   "metadata": {},
   "outputs": [],
   "source": [
    "search=fkl.find_element(By.XPATH,'/html/body/div[1]/div/div[1]/div[1]/div[2]/div[2]/form/div/div/input')\n",
    "search.send_keys('laptop')\n",
    "search1=fkl.find_element(By.XPATH,'/html/body/div[1]/div/div[1]/div[1]/div[2]/div[2]/form/div/button')\n",
    "search1.click()"
   ]
  },
  {
   "cell_type": "code",
   "execution_count": 204,
   "id": "4a97d1d3",
   "metadata": {},
   "outputs": [],
   "source": [
    "i7=fkl.find_element(By.XPATH,'/html/body/div[1]/div/div[3]/div[1]/div[1]/div/div[1]/div/section[4]/div[2]/div[1]/div[4]/div/label/div[2]')\n",
    "i7.click()"
   ]
  },
  {
   "cell_type": "code",
   "execution_count": 213,
   "id": "664d40f5",
   "metadata": {},
   "outputs": [],
   "source": [
    "t=[]\n",
    "tit=fkl.find_elements(By.XPATH,'//div[@class=\"_4rR01T\"]')\n",
    "for i in tit:\n",
    "    t.append(i.text)"
   ]
  },
  {
   "cell_type": "code",
   "execution_count": 214,
   "id": "c16f0f9d",
   "metadata": {},
   "outputs": [],
   "source": [
    "r=[]\n",
    "rat=fkl.find_elements(By.XPATH,'//div[@class=\"_3LWZlK\"]')\n",
    "for i in rat:\n",
    "    r.append(i.text)\n"
   ]
  },
  {
   "cell_type": "code",
   "execution_count": 215,
   "id": "910799a7",
   "metadata": {},
   "outputs": [],
   "source": [
    "p=[]\n",
    "pri=fkl.find_elements(By.XPATH,'//div[@class=\"_30jeq3 _1_WHN1\"]')\n",
    "for i in pri:\n",
    "    p.append(i.text)"
   ]
  },
  {
   "cell_type": "code",
   "execution_count": 216,
   "id": "a024609f",
   "metadata": {},
   "outputs": [
    {
     "data": {
      "text/html": [
       "<div>\n",
       "<style scoped>\n",
       "    .dataframe tbody tr th:only-of-type {\n",
       "        vertical-align: middle;\n",
       "    }\n",
       "\n",
       "    .dataframe tbody tr th {\n",
       "        vertical-align: top;\n",
       "    }\n",
       "\n",
       "    .dataframe thead th {\n",
       "        text-align: right;\n",
       "    }\n",
       "</style>\n",
       "<table border=\"1\" class=\"dataframe\">\n",
       "  <thead>\n",
       "    <tr style=\"text-align: right;\">\n",
       "      <th></th>\n",
       "      <th>Laptop Name</th>\n",
       "      <th>Ratings</th>\n",
       "      <th>Price</th>\n",
       "    </tr>\n",
       "  </thead>\n",
       "  <tbody>\n",
       "    <tr>\n",
       "      <th>0</th>\n",
       "      <td>acer Predator Helios Neo 16 Core i7 13th Gen -...</td>\n",
       "      <td>4.2</td>\n",
       "      <td>₹1,24,990</td>\n",
       "    </tr>\n",
       "    <tr>\n",
       "      <th>1</th>\n",
       "      <td>SAMSUNG Galaxy Book3 Core i7 Core i7 13th Gen ...</td>\n",
       "      <td>4.3</td>\n",
       "      <td>₹84,990</td>\n",
       "    </tr>\n",
       "    <tr>\n",
       "      <th>2</th>\n",
       "      <td>MSI Core i7 11th Gen - (16 GB/1 TB HDD/256 GB ...</td>\n",
       "      <td>4.2</td>\n",
       "      <td>₹69,990</td>\n",
       "    </tr>\n",
       "    <tr>\n",
       "      <th>3</th>\n",
       "      <td>ASUS Vivobook 15 Core i7 11th Gen - (16 GB/512...</td>\n",
       "      <td>4.5</td>\n",
       "      <td>₹56,990</td>\n",
       "    </tr>\n",
       "    <tr>\n",
       "      <th>4</th>\n",
       "      <td>HP Pavilion Core i7 12th Gen - (16 GB/1 TB SSD...</td>\n",
       "      <td>4.4</td>\n",
       "      <td>₹84,999</td>\n",
       "    </tr>\n",
       "    <tr>\n",
       "      <th>5</th>\n",
       "      <td>MSI Core i7 11th Gen - (16 GB/1 TB HDD/256 GB ...</td>\n",
       "      <td>4</td>\n",
       "      <td>₹63,990</td>\n",
       "    </tr>\n",
       "    <tr>\n",
       "      <th>6</th>\n",
       "      <td>HP Pavilion Plus Creator OLED Eyesafe (2023) I...</td>\n",
       "      <td>4</td>\n",
       "      <td>₹93,990</td>\n",
       "    </tr>\n",
       "    <tr>\n",
       "      <th>7</th>\n",
       "      <td>MSI Core i7 12th Gen - (16 GB/1 TB SSD/Windows...</td>\n",
       "      <td>4.1</td>\n",
       "      <td>₹1,59,990</td>\n",
       "    </tr>\n",
       "    <tr>\n",
       "      <th>8</th>\n",
       "      <td>MSI Core i7 12th Gen - (16 GB/512 GB SSD/Windo...</td>\n",
       "      <td>4.4</td>\n",
       "      <td>₹83,990</td>\n",
       "    </tr>\n",
       "    <tr>\n",
       "      <th>9</th>\n",
       "      <td>Lenovo IdeaPad 5 Core i7 12th Gen - (16 GB/512...</td>\n",
       "      <td>4.3</td>\n",
       "      <td>₹79,990</td>\n",
       "    </tr>\n",
       "  </tbody>\n",
       "</table>\n",
       "</div>"
      ],
      "text/plain": [
       "                                         Laptop Name Ratings      Price\n",
       "0  acer Predator Helios Neo 16 Core i7 13th Gen -...     4.2  ₹1,24,990\n",
       "1  SAMSUNG Galaxy Book3 Core i7 Core i7 13th Gen ...     4.3    ₹84,990\n",
       "2  MSI Core i7 11th Gen - (16 GB/1 TB HDD/256 GB ...     4.2    ₹69,990\n",
       "3  ASUS Vivobook 15 Core i7 11th Gen - (16 GB/512...     4.5    ₹56,990\n",
       "4  HP Pavilion Core i7 12th Gen - (16 GB/1 TB SSD...     4.4    ₹84,999\n",
       "5  MSI Core i7 11th Gen - (16 GB/1 TB HDD/256 GB ...       4    ₹63,990\n",
       "6  HP Pavilion Plus Creator OLED Eyesafe (2023) I...       4    ₹93,990\n",
       "7  MSI Core i7 12th Gen - (16 GB/1 TB SSD/Windows...     4.1  ₹1,59,990\n",
       "8  MSI Core i7 12th Gen - (16 GB/512 GB SSD/Windo...     4.4    ₹83,990\n",
       "9  Lenovo IdeaPad 5 Core i7 12th Gen - (16 GB/512...     4.3    ₹79,990"
      ]
     },
     "execution_count": 216,
     "metadata": {},
     "output_type": "execute_result"
    }
   ],
   "source": [
    "TOP_10_LAPTOPS=pd.DataFrame({'Laptop Name':t[:10],'Ratings':r[:10],'Price':p[:10]})\n",
    "TOP_10_LAPTOPS"
   ]
  },
  {
   "cell_type": "markdown",
   "id": "29cc2b27",
   "metadata": {},
   "source": [
    "## Q8)"
   ]
  },
  {
   "cell_type": "raw",
   "id": "b7abaf64",
   "metadata": {},
   "source": [
    "Write a python program to scrape data for Top 1000 Quotes of All Time.\n",
    "The above task will be done in following steps:\n",
    "1. First get the webpage https://www.azquotes.com/\n",
    "2. Click on Top Quotes\n",
    "3. Than scrap a) Quote b) Author c) Type Of Quotes"
   ]
  },
  {
   "cell_type": "code",
   "execution_count": 217,
   "id": "91cc8745",
   "metadata": {},
   "outputs": [],
   "source": [
    "quotes=webdriver.Chrome(r'chromedriver.exe')"
   ]
  },
  {
   "cell_type": "code",
   "execution_count": 218,
   "id": "25358790",
   "metadata": {},
   "outputs": [],
   "source": [
    "quotes.get('https://www.azquotes.com/')"
   ]
  },
  {
   "cell_type": "code",
   "execution_count": 219,
   "id": "9468257f",
   "metadata": {},
   "outputs": [],
   "source": [
    "tq=quotes.find_element(By.XPATH,'/html/body/div[1]/div[1]/div[1]/div/div[3]/ul/li[5]/a')\n",
    "tq.click()"
   ]
  },
  {
   "cell_type": "code",
   "execution_count": 222,
   "id": "0a2eac08",
   "metadata": {},
   "outputs": [],
   "source": [
    "q=[]\n",
    "for page in range(0,10):\n",
    "    qs=quotes.find_elements(By.XPATH,'//a[@class=\"title\"]')\n",
    "    for i in qs:\n",
    "        q.append(i.text)\n"
   ]
  },
  {
   "cell_type": "code",
   "execution_count": 223,
   "id": "07425278",
   "metadata": {},
   "outputs": [],
   "source": [
    "a=[]\n",
    "for page in range(0,10):\n",
    "    aut=quotes.find_elements(By.XPATH,'//div[@class=\"author\"]')\n",
    "    for i in aut:\n",
    "        a.append(i.text)"
   ]
  },
  {
   "cell_type": "code",
   "execution_count": 224,
   "id": "242ed5ad",
   "metadata": {},
   "outputs": [],
   "source": [
    "toq=[]\n",
    "for page in range(0,10):\n",
    "    type=quotes.find_elements(By.XPATH,'//div[@class=\"tags\"]')\n",
    "    for i in type:\n",
    "        toq.append(i.text)"
   ]
  },
  {
   "cell_type": "code",
   "execution_count": 225,
   "id": "2064c599",
   "metadata": {},
   "outputs": [
    {
     "data": {
      "text/plain": [
       "(1000, 1000, 1000)"
      ]
     },
     "execution_count": 225,
     "metadata": {},
     "output_type": "execute_result"
    }
   ],
   "source": [
    "len(q),len(a),len(toq)"
   ]
  },
  {
   "cell_type": "code",
   "execution_count": 226,
   "id": "36a5c474",
   "metadata": {},
   "outputs": [
    {
     "data": {
      "text/html": [
       "<div>\n",
       "<style scoped>\n",
       "    .dataframe tbody tr th:only-of-type {\n",
       "        vertical-align: middle;\n",
       "    }\n",
       "\n",
       "    .dataframe tbody tr th {\n",
       "        vertical-align: top;\n",
       "    }\n",
       "\n",
       "    .dataframe thead th {\n",
       "        text-align: right;\n",
       "    }\n",
       "</style>\n",
       "<table border=\"1\" class=\"dataframe\">\n",
       "  <thead>\n",
       "    <tr style=\"text-align: right;\">\n",
       "      <th></th>\n",
       "      <th>Author</th>\n",
       "      <th>Quote</th>\n",
       "      <th>Type Of Quote</th>\n",
       "    </tr>\n",
       "  </thead>\n",
       "  <tbody>\n",
       "    <tr>\n",
       "      <th>0</th>\n",
       "      <td>Michael Porter</td>\n",
       "      <td>The essence of strategy is choosing what not t...</td>\n",
       "      <td>The essence of strategy is choosing what not t...</td>\n",
       "    </tr>\n",
       "    <tr>\n",
       "      <th>1</th>\n",
       "      <td>Golda Meir</td>\n",
       "      <td>One cannot and must not try to erase the past ...</td>\n",
       "      <td>One cannot and must not try to erase the past ...</td>\n",
       "    </tr>\n",
       "    <tr>\n",
       "      <th>2</th>\n",
       "      <td>Theodore Roosevelt</td>\n",
       "      <td>Patriotism means to stand by the country. It d...</td>\n",
       "      <td>Patriotism means to stand by the country. It d...</td>\n",
       "    </tr>\n",
       "    <tr>\n",
       "      <th>3</th>\n",
       "      <td>Nelson Mandela</td>\n",
       "      <td>Death is something inevitable. When a man has ...</td>\n",
       "      <td>Death is something inevitable. When a man has ...</td>\n",
       "    </tr>\n",
       "    <tr>\n",
       "      <th>4</th>\n",
       "      <td>Erma Bombeck</td>\n",
       "      <td>You have to love a nation that celebrates its ...</td>\n",
       "      <td>You have to love a nation that celebrates its ...</td>\n",
       "    </tr>\n",
       "    <tr>\n",
       "      <th>...</th>\n",
       "      <td>...</td>\n",
       "      <td>...</td>\n",
       "      <td>...</td>\n",
       "    </tr>\n",
       "    <tr>\n",
       "      <th>995</th>\n",
       "      <td>Hunter S. Thompson</td>\n",
       "      <td>When the going gets weird, the weird turn pro.</td>\n",
       "      <td>When the going gets weird, the weird turn pro.</td>\n",
       "    </tr>\n",
       "    <tr>\n",
       "      <th>996</th>\n",
       "      <td>Corrie Ten Boom</td>\n",
       "      <td>When a train goes through a tunnel and it gets...</td>\n",
       "      <td>When a train goes through a tunnel and it gets...</td>\n",
       "    </tr>\n",
       "    <tr>\n",
       "      <th>997</th>\n",
       "      <td>Dalai Lama</td>\n",
       "      <td>If you think you are too small to make a diffe...</td>\n",
       "      <td>If you think you are too small to make a diffe...</td>\n",
       "    </tr>\n",
       "    <tr>\n",
       "      <th>998</th>\n",
       "      <td>Mother Teresa</td>\n",
       "      <td>God doesn't require us to succeed, he only req...</td>\n",
       "      <td>God doesn't require us to succeed, he only req...</td>\n",
       "    </tr>\n",
       "    <tr>\n",
       "      <th>999</th>\n",
       "      <td>Norman Vincent Peale</td>\n",
       "      <td>Change your thoughts and you change your world.</td>\n",
       "      <td>Change your thoughts and you change your world.</td>\n",
       "    </tr>\n",
       "  </tbody>\n",
       "</table>\n",
       "<p>1000 rows × 3 columns</p>\n",
       "</div>"
      ],
      "text/plain": [
       "                   Author                                              Quote  \\\n",
       "0          Michael Porter  The essence of strategy is choosing what not t...   \n",
       "1              Golda Meir  One cannot and must not try to erase the past ...   \n",
       "2      Theodore Roosevelt  Patriotism means to stand by the country. It d...   \n",
       "3          Nelson Mandela  Death is something inevitable. When a man has ...   \n",
       "4            Erma Bombeck  You have to love a nation that celebrates its ...   \n",
       "..                    ...                                                ...   \n",
       "995    Hunter S. Thompson     When the going gets weird, the weird turn pro.   \n",
       "996       Corrie Ten Boom  When a train goes through a tunnel and it gets...   \n",
       "997            Dalai Lama  If you think you are too small to make a diffe...   \n",
       "998         Mother Teresa  God doesn't require us to succeed, he only req...   \n",
       "999  Norman Vincent Peale    Change your thoughts and you change your world.   \n",
       "\n",
       "                                         Type Of Quote  \n",
       "0    The essence of strategy is choosing what not t...  \n",
       "1    One cannot and must not try to erase the past ...  \n",
       "2    Patriotism means to stand by the country. It d...  \n",
       "3    Death is something inevitable. When a man has ...  \n",
       "4    You have to love a nation that celebrates its ...  \n",
       "..                                                 ...  \n",
       "995     When the going gets weird, the weird turn pro.  \n",
       "996  When a train goes through a tunnel and it gets...  \n",
       "997  If you think you are too small to make a diffe...  \n",
       "998  God doesn't require us to succeed, he only req...  \n",
       "999    Change your thoughts and you change your world.  \n",
       "\n",
       "[1000 rows x 3 columns]"
      ]
     },
     "execution_count": 226,
     "metadata": {},
     "output_type": "execute_result"
    }
   ],
   "source": [
    "Top_1000_quotes=pd.DataFrame({'Author':a,'Quote':q,'Type Of Quote':q})\n",
    "Top_1000_quotes"
   ]
  },
  {
   "cell_type": "markdown",
   "id": "169b5b54",
   "metadata": {},
   "source": [
    "## Q9)"
   ]
  },
  {
   "cell_type": "raw",
   "id": "d7e39412",
   "metadata": {},
   "source": [
    "Write a python program to display list of respected former Prime Ministers of India(i.e. Name, Born-Dead,\n",
    "Term of office, Remarks) from https://www.jagranjosh.com/.\n",
    "This task will be done in following steps:\n",
    "1. First get the webpagehttps://www.jagranjosh.com/\n",
    "2. Then You have to click on the GK option\n",
    "3. Then click on the List of all Prime Ministers of India\n",
    "4. Then scrap the mentioned data and make theDataFrame."
   ]
  },
  {
   "cell_type": "code",
   "execution_count": 166,
   "id": "f6f16721",
   "metadata": {},
   "outputs": [],
   "source": [
    "pm=webdriver.Chrome(r'chromedriver.exe')"
   ]
  },
  {
   "cell_type": "code",
   "execution_count": 167,
   "id": "2694f0e8",
   "metadata": {},
   "outputs": [],
   "source": [
    "pm.get('https://www.jagranjosh.com/')"
   ]
  },
  {
   "cell_type": "code",
   "execution_count": 168,
   "id": "22e54919",
   "metadata": {},
   "outputs": [],
   "source": [
    "gk=pm.find_element(By.XPATH,'/html/body/div[1]/div[1]/div/div[1]/div/div[5]/div/div[1]/header/div[3]/ul/li[3]/a')\n",
    "gk.click()"
   ]
  },
  {
   "cell_type": "code",
   "execution_count": 170,
   "id": "d388b97b",
   "metadata": {},
   "outputs": [],
   "source": [
    "pms=pm.find_element(By.XPATH,'/html/body/div[1]/div/div/div[2]/div/div[10]/div/div/ul/li[2]/a')\n",
    "pms.click()"
   ]
  },
  {
   "cell_type": "code",
   "execution_count": 175,
   "id": "d51b1454",
   "metadata": {},
   "outputs": [
    {
     "data": {
      "text/plain": [
       "(19, 19, 19, 19)"
      ]
     },
     "execution_count": 175,
     "metadata": {},
     "output_type": "execute_result"
    }
   ],
   "source": [
    "n=[]\n",
    "bd=[]\n",
    "too=[]\n",
    "r=[]\n",
    "table=pm.find_elements(By.TAG_NAME,'tr')\n",
    "for i in table[1:-1]:\n",
    "    n.append(i.text.split('\\n')[1:2])\n",
    "    bd.append(i.text.split('\\n')[2:3])\n",
    "    too.append(i.text.split('\\n')[3:4])\n",
    "\n",
    "for i in table[1:-3]:\n",
    "    r.append(i.text.split('\\n')[5:6])\n",
    "for i in table[-3:-1]:\n",
    "    r.append(i.text.split('\\n')[4:5])\n",
    " \n",
    "    \n",
    "len(n),len(bd),len(too),len(r)"
   ]
  },
  {
   "cell_type": "code",
   "execution_count": 176,
   "id": "bc1abd6d",
   "metadata": {},
   "outputs": [
    {
     "data": {
      "text/html": [
       "<div>\n",
       "<style scoped>\n",
       "    .dataframe tbody tr th:only-of-type {\n",
       "        vertical-align: middle;\n",
       "    }\n",
       "\n",
       "    .dataframe tbody tr th {\n",
       "        vertical-align: top;\n",
       "    }\n",
       "\n",
       "    .dataframe thead th {\n",
       "        text-align: right;\n",
       "    }\n",
       "</style>\n",
       "<table border=\"1\" class=\"dataframe\">\n",
       "  <thead>\n",
       "    <tr style=\"text-align: right;\">\n",
       "      <th></th>\n",
       "      <th>Name</th>\n",
       "      <th>Born-Dead</th>\n",
       "      <th>Term of Office</th>\n",
       "      <th>Remarks</th>\n",
       "    </tr>\n",
       "  </thead>\n",
       "  <tbody>\n",
       "    <tr>\n",
       "      <th>0</th>\n",
       "      <td>[Jawahar Lal Nehru]</td>\n",
       "      <td>[(1889–1964)]</td>\n",
       "      <td>[15 August 1947 to 27 May 1964]</td>\n",
       "      <td>[The first prime minister of India and the lon...</td>\n",
       "    </tr>\n",
       "    <tr>\n",
       "      <th>1</th>\n",
       "      <td>[Gulzarilal Nanda (Acting)]</td>\n",
       "      <td>[(1898-1998)]</td>\n",
       "      <td>[27 May 1964 to 9 June 1964,]</td>\n",
       "      <td>[First acting PM of India]</td>\n",
       "    </tr>\n",
       "    <tr>\n",
       "      <th>2</th>\n",
       "      <td>[Lal Bahadur Shastri]</td>\n",
       "      <td>[(1904–1966)]</td>\n",
       "      <td>[9 June 1964 to 11 January 1966]</td>\n",
       "      <td>[He has given the slogan of 'Jai Jawan Jai Kis...</td>\n",
       "    </tr>\n",
       "    <tr>\n",
       "      <th>3</th>\n",
       "      <td>[Gulzari Lal Nanda  (Acting)]</td>\n",
       "      <td>[(1898-1998)]</td>\n",
       "      <td>[11 January 1966 to 24 January 1966]</td>\n",
       "      <td>[-]</td>\n",
       "    </tr>\n",
       "    <tr>\n",
       "      <th>4</th>\n",
       "      <td>[Indira Gandhi]</td>\n",
       "      <td>[(1917–1984)]</td>\n",
       "      <td>[24 January 1966 to 24 March 1977]</td>\n",
       "      <td>[First female Prime Minister of India]</td>\n",
       "    </tr>\n",
       "    <tr>\n",
       "      <th>5</th>\n",
       "      <td>[Morarji Desai]</td>\n",
       "      <td>[(1896–1995)]</td>\n",
       "      <td>[24 March 1977 to  28 July 1979 ]</td>\n",
       "      <td>[Oldest to become PM (81 years old) and first ...</td>\n",
       "    </tr>\n",
       "    <tr>\n",
       "      <th>6</th>\n",
       "      <td>[Charan Singh]</td>\n",
       "      <td>[(1902–1987)]</td>\n",
       "      <td>[28 July 1979 to 14 January 1980]</td>\n",
       "      <td>[Only PM who did not face the Parliament]</td>\n",
       "    </tr>\n",
       "    <tr>\n",
       "      <th>7</th>\n",
       "      <td>[Indira Gandhi]</td>\n",
       "      <td>[(1917–1984)]</td>\n",
       "      <td>[14 January 1980 to 31 October 1984]</td>\n",
       "      <td>[The first lady who served as PM for the secon...</td>\n",
       "    </tr>\n",
       "    <tr>\n",
       "      <th>8</th>\n",
       "      <td>[Rajiv Gandhi]</td>\n",
       "      <td>[(1944–1991)]</td>\n",
       "      <td>[31 October 1984 to 2 December 1989]</td>\n",
       "      <td>[Youngest to become PM (40 years old)]</td>\n",
       "    </tr>\n",
       "    <tr>\n",
       "      <th>9</th>\n",
       "      <td>[V. P. Singh]</td>\n",
       "      <td>[(1931–2008)]</td>\n",
       "      <td>[2 December 1989 to 10 November 1990]</td>\n",
       "      <td>[First PM to step down after a vote of no conf...</td>\n",
       "    </tr>\n",
       "    <tr>\n",
       "      <th>10</th>\n",
       "      <td>[Chandra Shekhar]</td>\n",
       "      <td>[(1927–2007)]</td>\n",
       "      <td>[10 November 1990 to 21 June 1991]</td>\n",
       "      <td>[He belongs to  Samajwadi Janata Party]</td>\n",
       "    </tr>\n",
       "    <tr>\n",
       "      <th>11</th>\n",
       "      <td>[P. V. Narasimha Rao]</td>\n",
       "      <td>[(1921–2004)]</td>\n",
       "      <td>[21 June 1991 to 16 May 1996]</td>\n",
       "      <td>[First PM from South India]</td>\n",
       "    </tr>\n",
       "    <tr>\n",
       "      <th>12</th>\n",
       "      <td>[Atal Bihari Vajpayee]</td>\n",
       "      <td>[(1924- 2018)]</td>\n",
       "      <td>[16 May 1996 to 1 June 1996]</td>\n",
       "      <td>[PM for shortest tenure]</td>\n",
       "    </tr>\n",
       "    <tr>\n",
       "      <th>13</th>\n",
       "      <td>[H. D. Deve Gowda]</td>\n",
       "      <td>[(born 1933)]</td>\n",
       "      <td>[1 June 1996 to 21 April 1997]</td>\n",
       "      <td>[He belongs to  Janata Dal]</td>\n",
       "    </tr>\n",
       "    <tr>\n",
       "      <th>14</th>\n",
       "      <td>[Inder Kumar Gujral]</td>\n",
       "      <td>[(1919–2012)]</td>\n",
       "      <td>[21 April 1997 to 19 March 1998 ]</td>\n",
       "      <td>[------]</td>\n",
       "    </tr>\n",
       "    <tr>\n",
       "      <th>15</th>\n",
       "      <td>[Atal Bihari Vajpayee]</td>\n",
       "      <td>[(1924-2018)]</td>\n",
       "      <td>[19 March 1998 to 22 May 2004 ]</td>\n",
       "      <td>[ The first non-congress PM who completed a fu...</td>\n",
       "    </tr>\n",
       "    <tr>\n",
       "      <th>16</th>\n",
       "      <td>[Manmohan Singh]</td>\n",
       "      <td>[(born 1932)]</td>\n",
       "      <td>[22 May 2004 to 26 May 2014   ]</td>\n",
       "      <td>[ First Sikh PM]</td>\n",
       "    </tr>\n",
       "    <tr>\n",
       "      <th>17</th>\n",
       "      <td>[Narendra Modi]</td>\n",
       "      <td>[(born 1950)]</td>\n",
       "      <td>[26 May 2014 - 2019]</td>\n",
       "      <td>[4th Prime Minister of India who served two co...</td>\n",
       "    </tr>\n",
       "    <tr>\n",
       "      <th>18</th>\n",
       "      <td>[Narendra Modi]</td>\n",
       "      <td>[(born 1950)]</td>\n",
       "      <td>[30 May 2019- Incumbent]</td>\n",
       "      <td>[First non-congress PM with two consecutive te...</td>\n",
       "    </tr>\n",
       "  </tbody>\n",
       "</table>\n",
       "</div>"
      ],
      "text/plain": [
       "                             Name       Born-Dead  \\\n",
       "0             [Jawahar Lal Nehru]   [(1889–1964)]   \n",
       "1     [Gulzarilal Nanda (Acting)]   [(1898-1998)]   \n",
       "2           [Lal Bahadur Shastri]   [(1904–1966)]   \n",
       "3   [Gulzari Lal Nanda  (Acting)]   [(1898-1998)]   \n",
       "4                 [Indira Gandhi]   [(1917–1984)]   \n",
       "5                 [Morarji Desai]   [(1896–1995)]   \n",
       "6                  [Charan Singh]   [(1902–1987)]   \n",
       "7                 [Indira Gandhi]   [(1917–1984)]   \n",
       "8                  [Rajiv Gandhi]   [(1944–1991)]   \n",
       "9                   [V. P. Singh]   [(1931–2008)]   \n",
       "10              [Chandra Shekhar]   [(1927–2007)]   \n",
       "11          [P. V. Narasimha Rao]   [(1921–2004)]   \n",
       "12         [Atal Bihari Vajpayee]  [(1924- 2018)]   \n",
       "13             [H. D. Deve Gowda]   [(born 1933)]   \n",
       "14           [Inder Kumar Gujral]   [(1919–2012)]   \n",
       "15         [Atal Bihari Vajpayee]   [(1924-2018)]   \n",
       "16               [Manmohan Singh]   [(born 1932)]   \n",
       "17                [Narendra Modi]   [(born 1950)]   \n",
       "18                [Narendra Modi]   [(born 1950)]   \n",
       "\n",
       "                           Term of Office  \\\n",
       "0         [15 August 1947 to 27 May 1964]   \n",
       "1           [27 May 1964 to 9 June 1964,]   \n",
       "2        [9 June 1964 to 11 January 1966]   \n",
       "3    [11 January 1966 to 24 January 1966]   \n",
       "4      [24 January 1966 to 24 March 1977]   \n",
       "5       [24 March 1977 to  28 July 1979 ]   \n",
       "6       [28 July 1979 to 14 January 1980]   \n",
       "7    [14 January 1980 to 31 October 1984]   \n",
       "8    [31 October 1984 to 2 December 1989]   \n",
       "9   [2 December 1989 to 10 November 1990]   \n",
       "10     [10 November 1990 to 21 June 1991]   \n",
       "11          [21 June 1991 to 16 May 1996]   \n",
       "12           [16 May 1996 to 1 June 1996]   \n",
       "13         [1 June 1996 to 21 April 1997]   \n",
       "14      [21 April 1997 to 19 March 1998 ]   \n",
       "15        [19 March 1998 to 22 May 2004 ]   \n",
       "16        [22 May 2004 to 26 May 2014   ]   \n",
       "17                   [26 May 2014 - 2019]   \n",
       "18               [30 May 2019- Incumbent]   \n",
       "\n",
       "                                              Remarks  \n",
       "0   [The first prime minister of India and the lon...  \n",
       "1                          [First acting PM of India]  \n",
       "2   [He has given the slogan of 'Jai Jawan Jai Kis...  \n",
       "3                                                 [-]  \n",
       "4              [First female Prime Minister of India]  \n",
       "5   [Oldest to become PM (81 years old) and first ...  \n",
       "6           [Only PM who did not face the Parliament]  \n",
       "7   [The first lady who served as PM for the secon...  \n",
       "8              [Youngest to become PM (40 years old)]  \n",
       "9   [First PM to step down after a vote of no conf...  \n",
       "10            [He belongs to  Samajwadi Janata Party]  \n",
       "11                        [First PM from South India]  \n",
       "12                           [PM for shortest tenure]  \n",
       "13                        [He belongs to  Janata Dal]  \n",
       "14                                           [------]  \n",
       "15  [ The first non-congress PM who completed a fu...  \n",
       "16                                   [ First Sikh PM]  \n",
       "17  [4th Prime Minister of India who served two co...  \n",
       "18  [First non-congress PM with two consecutive te...  "
      ]
     },
     "execution_count": 176,
     "metadata": {},
     "output_type": "execute_result"
    }
   ],
   "source": [
    "Prime_Ministers=pd.DataFrame({'Name':n,'Born-Dead':bd,'Term of Office':too,'Remarks':r})\n",
    "Prime_Ministers"
   ]
  },
  {
   "cell_type": "markdown",
   "id": "bc72c993",
   "metadata": {},
   "source": [
    "## Q10) "
   ]
  },
  {
   "cell_type": "raw",
   "id": "0ddf6d6b",
   "metadata": {},
   "source": [
    "Write a python program to display list of 50 Most expensive cars in the world (i.e.\n",
    "Car name and Price) from https://www.motor1.com/\n",
    "This task will be done in following steps:\n",
    "1. First get the webpage https://www.motor1.com/\n",
    "2. Then You have to type in the search bar ’50 most expensive cars’\n",
    "3. Then click on 50 most expensive cars in the world..\n",
    "4. Then scrap the mentioned data and make the dataframe."
   ]
  },
  {
   "cell_type": "code",
   "execution_count": 95,
   "id": "0665c3b4",
   "metadata": {},
   "outputs": [],
   "source": [
    "motor=webdriver.Chrome(r'chromedriver.exe')\n",
    "motor.get('https://www.motor1.com/')"
   ]
  },
  {
   "cell_type": "code",
   "execution_count": 97,
   "id": "3903c5ec",
   "metadata": {},
   "outputs": [],
   "source": [
    "search=motor.find_element(By.XPATH,'/html/body/div[3]/div[2]/div/div/div[3]/div/div/div/form/input')\n",
    "search.send_keys('50 most expensive cars')\n",
    "searchbutton=motor.find_element(By.XPATH,'/html/body/div[3]/div[2]/div/div/div[3]/div/div/div/form/button[1]')\n",
    "searchbutton.click()"
   ]
  },
  {
   "cell_type": "code",
   "execution_count": 98,
   "id": "d42e13c8",
   "metadata": {},
   "outputs": [],
   "source": [
    "link=motor.find_element(By.XPATH,'/html/body/div[3]/div[9]/div/div[1]/div/div/div[2]/div/div[1]/h3/a')\n",
    "link.click()"
   ]
  },
  {
   "cell_type": "code",
   "execution_count": 119,
   "id": "592bf1ce",
   "metadata": {},
   "outputs": [],
   "source": [
    "n=[]\n",
    "names=motor.find_elements(By.XPATH,'//h3[@class=\"subheader\"]')\n",
    "for i in names[:50]:\n",
    "    n.append(i.text)\n",
    "    \n",
    "p=[]\n",
    "prices=motor.find_elements(By.TAG_NAME,\"strong\")\n",
    "for i in prices:\n",
    "    if len(i.text)>=1:\n",
    "        p.append(i.text.split(':')[-1])\n",
    "    "
   ]
  },
  {
   "cell_type": "code",
   "execution_count": 120,
   "id": "f0519eb5",
   "metadata": {},
   "outputs": [
    {
     "data": {
      "text/plain": [
       "(50, 50)"
      ]
     },
     "execution_count": 120,
     "metadata": {},
     "output_type": "execute_result"
    }
   ],
   "source": [
    "len(n),len(p)"
   ]
  },
  {
   "cell_type": "code",
   "execution_count": 121,
   "id": "bd72fada",
   "metadata": {},
   "outputs": [
    {
     "data": {
      "text/html": [
       "<div>\n",
       "<style scoped>\n",
       "    .dataframe tbody tr th:only-of-type {\n",
       "        vertical-align: middle;\n",
       "    }\n",
       "\n",
       "    .dataframe tbody tr th {\n",
       "        vertical-align: top;\n",
       "    }\n",
       "\n",
       "    .dataframe thead th {\n",
       "        text-align: right;\n",
       "    }\n",
       "</style>\n",
       "<table border=\"1\" class=\"dataframe\">\n",
       "  <thead>\n",
       "    <tr style=\"text-align: right;\">\n",
       "      <th></th>\n",
       "      <th>Name</th>\n",
       "      <th>Price</th>\n",
       "    </tr>\n",
       "  </thead>\n",
       "  <tbody>\n",
       "    <tr>\n",
       "      <th>0</th>\n",
       "      <td>De Tomaso P72</td>\n",
       "      <td>$1.3 Million</td>\n",
       "    </tr>\n",
       "    <tr>\n",
       "      <th>1</th>\n",
       "      <td>Ferrari LaFerrari</td>\n",
       "      <td>$1.4 Million</td>\n",
       "    </tr>\n",
       "    <tr>\n",
       "      <th>2</th>\n",
       "      <td>Pagani Huayra</td>\n",
       "      <td>$1.4 Million</td>\n",
       "    </tr>\n",
       "    <tr>\n",
       "      <th>3</th>\n",
       "      <td>McLaren Elva</td>\n",
       "      <td>$1.7 Million</td>\n",
       "    </tr>\n",
       "    <tr>\n",
       "      <th>4</th>\n",
       "      <td>Czinger 21C</td>\n",
       "      <td>$1.7 Million</td>\n",
       "    </tr>\n",
       "    <tr>\n",
       "      <th>5</th>\n",
       "      <td>Ferrari Monza</td>\n",
       "      <td>$1.7 Million</td>\n",
       "    </tr>\n",
       "    <tr>\n",
       "      <th>6</th>\n",
       "      <td>Gordon Murray T.33</td>\n",
       "      <td>$1.7 Million</td>\n",
       "    </tr>\n",
       "    <tr>\n",
       "      <th>7</th>\n",
       "      <td>Koenigsegg Gemera</td>\n",
       "      <td>$1.7 Million</td>\n",
       "    </tr>\n",
       "    <tr>\n",
       "      <th>8</th>\n",
       "      <td>Zenvo TSR-S</td>\n",
       "      <td>$1.7 Million</td>\n",
       "    </tr>\n",
       "    <tr>\n",
       "      <th>9</th>\n",
       "      <td>Hennessey Venom F5</td>\n",
       "      <td>$1.8 Million</td>\n",
       "    </tr>\n",
       "    <tr>\n",
       "      <th>10</th>\n",
       "      <td>Bentley Bacalar</td>\n",
       "      <td>$1.9 Million</td>\n",
       "    </tr>\n",
       "    <tr>\n",
       "      <th>11</th>\n",
       "      <td>Hispano Suiza Carmen Boulogne</td>\n",
       "      <td>$1.9 Million</td>\n",
       "    </tr>\n",
       "    <tr>\n",
       "      <th>12</th>\n",
       "      <td>Bentley Mulliner Batur</td>\n",
       "      <td>$2.0 Million</td>\n",
       "    </tr>\n",
       "    <tr>\n",
       "      <th>13</th>\n",
       "      <td>Deus Vayanne</td>\n",
       "      <td>$2.0 Million</td>\n",
       "    </tr>\n",
       "    <tr>\n",
       "      <th>14</th>\n",
       "      <td>SSC Tuatara</td>\n",
       "      <td>$2.0 Million*</td>\n",
       "    </tr>\n",
       "    <tr>\n",
       "      <th>15</th>\n",
       "      <td>Lotus Evija</td>\n",
       "      <td>$2.1 Million</td>\n",
       "    </tr>\n",
       "    <tr>\n",
       "      <th>16</th>\n",
       "      <td>Aston Martin Vulcan</td>\n",
       "      <td>$2.3 Million</td>\n",
       "    </tr>\n",
       "    <tr>\n",
       "      <th>17</th>\n",
       "      <td>Delage D12</td>\n",
       "      <td>$2.3 Million</td>\n",
       "    </tr>\n",
       "    <tr>\n",
       "      <th>18</th>\n",
       "      <td>McLaren Speedtail</td>\n",
       "      <td>$2.3 Million</td>\n",
       "    </tr>\n",
       "    <tr>\n",
       "      <th>19</th>\n",
       "      <td>Rimac Nevera</td>\n",
       "      <td>$2.4 Million</td>\n",
       "    </tr>\n",
       "    <tr>\n",
       "      <th>20</th>\n",
       "      <td>Pagani Utopia</td>\n",
       "      <td>$2.5 Million</td>\n",
       "    </tr>\n",
       "    <tr>\n",
       "      <th>21</th>\n",
       "      <td>Pininfarina Battista</td>\n",
       "      <td>$2.5 Million</td>\n",
       "    </tr>\n",
       "    <tr>\n",
       "      <th>22</th>\n",
       "      <td>Ferrari FXX K Evo</td>\n",
       "      <td>$2.6 Million</td>\n",
       "    </tr>\n",
       "    <tr>\n",
       "      <th>23</th>\n",
       "      <td>Gordon Murray T.50</td>\n",
       "      <td>$2.6 Million</td>\n",
       "    </tr>\n",
       "    <tr>\n",
       "      <th>24</th>\n",
       "      <td>Lamborghini Countach</td>\n",
       "      <td>$2.6 Million</td>\n",
       "    </tr>\n",
       "    <tr>\n",
       "      <th>25</th>\n",
       "      <td>Mercedes-AMG Project One</td>\n",
       "      <td>$2.7 Million</td>\n",
       "    </tr>\n",
       "    <tr>\n",
       "      <th>26</th>\n",
       "      <td>Aston Martin Victor</td>\n",
       "      <td>$3.0 Million</td>\n",
       "    </tr>\n",
       "    <tr>\n",
       "      <th>27</th>\n",
       "      <td>Hennessey Venom F5 Roadster</td>\n",
       "      <td>$3.0 Million</td>\n",
       "    </tr>\n",
       "    <tr>\n",
       "      <th>28</th>\n",
       "      <td>Koenigsegg Jesko</td>\n",
       "      <td>$3.0 Million</td>\n",
       "    </tr>\n",
       "    <tr>\n",
       "      <th>29</th>\n",
       "      <td>Aston Martin Valkyrie</td>\n",
       "      <td>$3.2 Million</td>\n",
       "    </tr>\n",
       "    <tr>\n",
       "      <th>30</th>\n",
       "      <td>W Motors Lykan Hypersport</td>\n",
       "      <td>$3.4 Million</td>\n",
       "    </tr>\n",
       "    <tr>\n",
       "      <th>31</th>\n",
       "      <td>McLaren Solus</td>\n",
       "      <td>$3.5 Million</td>\n",
       "    </tr>\n",
       "    <tr>\n",
       "      <th>32</th>\n",
       "      <td>Pagani Huayra Roadster BC</td>\n",
       "      <td>$3.5 Million</td>\n",
       "    </tr>\n",
       "    <tr>\n",
       "      <th>33</th>\n",
       "      <td>Bugatti Chiron Pur Sport</td>\n",
       "      <td>$3.6 Million</td>\n",
       "    </tr>\n",
       "    <tr>\n",
       "      <th>34</th>\n",
       "      <td>Lamborghini Sian</td>\n",
       "      <td>$3.6 million</td>\n",
       "    </tr>\n",
       "    <tr>\n",
       "      <th>35</th>\n",
       "      <td>Koenigsegg CC850</td>\n",
       "      <td>$3.7 Million</td>\n",
       "    </tr>\n",
       "    <tr>\n",
       "      <th>36</th>\n",
       "      <td>Bugatti Chiron Super Sport 300+</td>\n",
       "      <td>$3.9 Million</td>\n",
       "    </tr>\n",
       "    <tr>\n",
       "      <th>37</th>\n",
       "      <td>Lamborghini Veneno</td>\n",
       "      <td>$4.5 Million</td>\n",
       "    </tr>\n",
       "    <tr>\n",
       "      <th>38</th>\n",
       "      <td>Bugatti Bolide</td>\n",
       "      <td>$4.7 Million</td>\n",
       "    </tr>\n",
       "    <tr>\n",
       "      <th>39</th>\n",
       "      <td>Bugatti Mistral</td>\n",
       "      <td>$5.0 Million</td>\n",
       "    </tr>\n",
       "    <tr>\n",
       "      <th>40</th>\n",
       "      <td>Pagani Huayra Imola</td>\n",
       "      <td>$5.4 Million</td>\n",
       "    </tr>\n",
       "    <tr>\n",
       "      <th>41</th>\n",
       "      <td>Bugatti Divo</td>\n",
       "      <td>$5.8 Million</td>\n",
       "    </tr>\n",
       "    <tr>\n",
       "      <th>42</th>\n",
       "      <td>SP Automotive Chaos</td>\n",
       "      <td>$6.4 Million</td>\n",
       "    </tr>\n",
       "    <tr>\n",
       "      <th>43</th>\n",
       "      <td>Pagani Codalunga</td>\n",
       "      <td>$7.4 Million</td>\n",
       "    </tr>\n",
       "    <tr>\n",
       "      <th>44</th>\n",
       "      <td>Mercedes-Maybach Exelero</td>\n",
       "      <td>$8.0 Million</td>\n",
       "    </tr>\n",
       "    <tr>\n",
       "      <th>45</th>\n",
       "      <td>Bugatti Centodieci</td>\n",
       "      <td>$9.0 Million</td>\n",
       "    </tr>\n",
       "    <tr>\n",
       "      <th>46</th>\n",
       "      <td>Bugatti Chiron Profilée</td>\n",
       "      <td>$10.8 Million</td>\n",
       "    </tr>\n",
       "    <tr>\n",
       "      <th>47</th>\n",
       "      <td>Rolls-Royce Sweptail</td>\n",
       "      <td>$12.8 Million</td>\n",
       "    </tr>\n",
       "    <tr>\n",
       "      <th>48</th>\n",
       "      <td>Bugatti La Voiture Noire</td>\n",
       "      <td>$13.4 Million</td>\n",
       "    </tr>\n",
       "    <tr>\n",
       "      <th>49</th>\n",
       "      <td>Rolls-Royce Boat Tail*</td>\n",
       "      <td>$28.0 Million (est.)</td>\n",
       "    </tr>\n",
       "  </tbody>\n",
       "</table>\n",
       "</div>"
      ],
      "text/plain": [
       "                               Name                  Price\n",
       "0                     De Tomaso P72           $1.3 Million\n",
       "1                 Ferrari LaFerrari           $1.4 Million\n",
       "2                     Pagani Huayra           $1.4 Million\n",
       "3                      McLaren Elva           $1.7 Million\n",
       "4                       Czinger 21C           $1.7 Million\n",
       "5                     Ferrari Monza           $1.7 Million\n",
       "6                Gordon Murray T.33           $1.7 Million\n",
       "7                 Koenigsegg Gemera           $1.7 Million\n",
       "8                       Zenvo TSR-S           $1.7 Million\n",
       "9                Hennessey Venom F5           $1.8 Million\n",
       "10                  Bentley Bacalar           $1.9 Million\n",
       "11    Hispano Suiza Carmen Boulogne           $1.9 Million\n",
       "12           Bentley Mulliner Batur           $2.0 Million\n",
       "13                     Deus Vayanne           $2.0 Million\n",
       "14                      SSC Tuatara          $2.0 Million*\n",
       "15                      Lotus Evija           $2.1 Million\n",
       "16              Aston Martin Vulcan           $2.3 Million\n",
       "17                       Delage D12           $2.3 Million\n",
       "18                McLaren Speedtail           $2.3 Million\n",
       "19                     Rimac Nevera           $2.4 Million\n",
       "20                    Pagani Utopia           $2.5 Million\n",
       "21             Pininfarina Battista           $2.5 Million\n",
       "22                Ferrari FXX K Evo           $2.6 Million\n",
       "23               Gordon Murray T.50           $2.6 Million\n",
       "24             Lamborghini Countach           $2.6 Million\n",
       "25         Mercedes-AMG Project One           $2.7 Million\n",
       "26              Aston Martin Victor           $3.0 Million\n",
       "27      Hennessey Venom F5 Roadster           $3.0 Million\n",
       "28                 Koenigsegg Jesko           $3.0 Million\n",
       "29            Aston Martin Valkyrie           $3.2 Million\n",
       "30        W Motors Lykan Hypersport           $3.4 Million\n",
       "31                    McLaren Solus           $3.5 Million\n",
       "32        Pagani Huayra Roadster BC           $3.5 Million\n",
       "33         Bugatti Chiron Pur Sport           $3.6 Million\n",
       "34                 Lamborghini Sian           $3.6 million\n",
       "35                 Koenigsegg CC850           $3.7 Million\n",
       "36  Bugatti Chiron Super Sport 300+           $3.9 Million\n",
       "37               Lamborghini Veneno           $4.5 Million\n",
       "38                   Bugatti Bolide           $4.7 Million\n",
       "39                  Bugatti Mistral           $5.0 Million\n",
       "40              Pagani Huayra Imola           $5.4 Million\n",
       "41                     Bugatti Divo           $5.8 Million\n",
       "42              SP Automotive Chaos           $6.4 Million\n",
       "43                 Pagani Codalunga           $7.4 Million\n",
       "44         Mercedes-Maybach Exelero           $8.0 Million\n",
       "45               Bugatti Centodieci           $9.0 Million\n",
       "46          Bugatti Chiron Profilée          $10.8 Million\n",
       "47             Rolls-Royce Sweptail          $12.8 Million\n",
       "48         Bugatti La Voiture Noire          $13.4 Million\n",
       "49           Rolls-Royce Boat Tail*   $28.0 Million (est.)"
      ]
     },
     "execution_count": 121,
     "metadata": {},
     "output_type": "execute_result"
    }
   ],
   "source": [
    "Most_Expensive_Cars=pd.DataFrame({'Name':n,'Price':p})\n",
    "Most_Expensive_Cars"
   ]
  },
  {
   "cell_type": "code",
   "execution_count": null,
   "id": "16514c06",
   "metadata": {},
   "outputs": [],
   "source": []
  }
 ],
 "metadata": {
  "kernelspec": {
   "display_name": "Python 3 (ipykernel)",
   "language": "python",
   "name": "python3"
  },
  "language_info": {
   "codemirror_mode": {
    "name": "ipython",
    "version": 3
   },
   "file_extension": ".py",
   "mimetype": "text/x-python",
   "name": "python",
   "nbconvert_exporter": "python",
   "pygments_lexer": "ipython3",
   "version": "3.9.13"
  }
 },
 "nbformat": 4,
 "nbformat_minor": 5
}
